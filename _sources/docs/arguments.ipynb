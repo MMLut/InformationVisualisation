{
 "cells": [
  {
   "cell_type": "markdown",
   "metadata": {},
   "source": [
    "# Why Guns are the main problem in America\n",
    "\n",
    "To explain the perspective that guns should be banned in America, we have substantiated 3 arguments with 3 visualizations to go with them. While it may not be possible to completely abolish the Second Amendment in the entirety of the United States, the government should nationally enforce heavy restrictions on the Second Amendment.\n",
    "\n",
    "The first visualization as a line-dot chart supports our argument that having less restrictions and more freedom on rights to own and use a gun indeed leads to more gun violence in states where thus gun usage is more allowed. "
   ]
  },
  {
   "cell_type": "code",
   "execution_count": 4,
   "metadata": {},
   "outputs": [
    {
     "name": "stderr",
     "output_type": "stream",
     "text": [
      "/tmp/ipykernel_19684/876258089.py:38: SettingWithCopyWarning:\n",
      "\n",
      "\n",
      "A value is trying to be set on a copy of a slice from a DataFrame.\n",
      "Try using .loc[row_indexer,col_indexer] = value instead\n",
      "\n",
      "See the caveats in the documentation: https://pandas.pydata.org/pandas-docs/stable/user_guide/indexing.html#returning-a-view-versus-a-copy\n",
      "\n"
     ]
    },
    {
     "data": {
      "application/vnd.plotly.v1+json": {
       "config": {
        "plotlyServerURL": "https://plot.ly"
       },
       "data": [
        {
         "mode": "markers",
         "name": "Data Points",
         "text": [
          "Alabama",
          "Alaska",
          "Arizona",
          "Arkansas",
          "California",
          "Colorado",
          "Connecticut",
          "Delaware",
          "Florida",
          "Georgia",
          "Hawaii",
          "Idaho",
          "Illinois",
          "Indiana",
          "Iowa",
          "Kansas",
          "Kentucky",
          "Louisiana",
          "Maine",
          "Maryland",
          "Massachusetts",
          "Michigan",
          "Minnesota",
          "Mississippi",
          "Missouri",
          "Montana",
          "Nebraska",
          "Nevada",
          "New Hampshire",
          "New Jersey",
          "New Mexico",
          "New York",
          "North Carolina",
          "North Dakota",
          "Ohio",
          "Oklahoma",
          "Oregon",
          "Pennsylvania",
          "Rhode Island",
          "South Carolina",
          "South Dakota",
          "Tennessee",
          "Texas",
          "Utah",
          "Vermont",
          "Virginia",
          "Washington",
          "West Virginia",
          "Wisconsin",
          "Wyoming"
         ],
         "type": "scatter",
         "x": [
          10,
          4,
          11,
          11,
          106,
          30,
          89,
          40,
          21,
          6,
          78,
          4,
          64,
          12,
          24,
          7,
          7,
          12,
          12,
          64,
          100,
          21,
          41,
          5,
          6,
          4,
          22,
          21,
          9,
          75,
          10,
          75,
          30,
          13,
          16,
          9,
          35,
          36,
          43,
          12,
          5,
          22,
          18,
          13,
          6,
          13,
          43,
          21,
          23,
          9
         ],
         "y": [
          11.16015103951473,
          9.328105988914425,
          4.102777850337478,
          7.196773446571454,
          3.6154835892234405,
          3.546045580050197,
          2.4906969669747574,
          5.852702119409755,
          4.53166159859944,
          6.320644974751041,
          0.5616427488761879,
          2.7361931403055806,
          7.5046005783942,
          6.112875217142244,
          2.260030876478172,
          5.225669865555891,
          6.1317063572992465,
          11.754479120276798,
          2.4726287490296803,
          7.968302094268998,
          1.8659466056463254,
          3.6999476793306485,
          2.0660303293252347,
          10.841523033217223,
          9.972701979966168,
          3.8955535581606147,
          2.4530949968866573,
          6.734222138418569,
          1.7052358897290676,
          3.094921234254588,
          5.975760403559833,
          1.7713505940813816,
          5.41475831333395,
          1.986907603498017,
          6.003610743032596,
          6.333756940424021,
          2.3892123442637785,
          4.965732147156775,
          1.0419893281347539,
          7.866538890176744,
          2.1767323352442753,
          7.378369809559058,
          4.131432130023979,
          2.2573057701250097,
          1.4415130120574555,
          4.548898711621916,
          3.098326607270399,
          4.457887819729621,
          3.609555893368538,
          1.5545894070277806
         ]
        },
        {
         "mode": "lines",
         "name": "Trend Line",
         "type": "scatter",
         "x": [
          10,
          4,
          11,
          11,
          106,
          30,
          89,
          40,
          21,
          6,
          78,
          4,
          64,
          12,
          24,
          7,
          7,
          12,
          12,
          64,
          100,
          21,
          41,
          5,
          6,
          4,
          22,
          21,
          9,
          75,
          10,
          75,
          30,
          13,
          16,
          9,
          35,
          36,
          43,
          12,
          5,
          22,
          18,
          13,
          6,
          13,
          43,
          21,
          23,
          9
         ],
         "y": [
          5.279881726564599,
          5.476108741617351,
          5.247177224055807,
          5.247177224055807,
          2.140249485720578,
          4.625791676388761,
          2.69622602837004,
          4.298746651300843,
          4.920132198967889,
          5.410699736599767,
          3.055975555966751,
          5.476108741617351,
          3.5138385910898373,
          5.214472721547016,
          4.822018691441513,
          5.377995234090975,
          5.377995234090975,
          5.214472721547016,
          5.214472721547016,
          3.5138385910898373,
          2.3364765007733292,
          4.920132198967889,
          4.266042148792051,
          5.443404239108559,
          5.410699736599767,
          5.476108741617351,
          4.887427696459097,
          4.920132198967889,
          5.312586229073392,
          3.1540890634931267,
          5.279881726564599,
          3.1540890634931267,
          4.625791676388761,
          5.181768219038224,
          5.083654711511848,
          5.312586229073392,
          4.462269163844802,
          4.429564661336011,
          4.200633143774467,
          5.214472721547016,
          5.443404239108559,
          4.887427696459097,
          5.018245706494264,
          5.181768219038224,
          5.410699736599767,
          5.181768219038224,
          4.200633143774467,
          4.920132198967889,
          4.854723193950305,
          5.312586229073392
         ]
        }
       ],
       "layout": {
        "annotations": [
         {
          "font": {
           "size": 12
          },
          "showarrow": false,
          "text": "y = 5.61 + -0.03x",
          "x": 0.5,
          "xref": "paper",
          "y": 1.1,
          "yref": "paper"
         }
        ],
        "autosize": true,
        "showlegend": true,
        "template": {
         "data": {
          "bar": [
           {
            "error_x": {
             "color": "#2a3f5f"
            },
            "error_y": {
             "color": "#2a3f5f"
            },
            "marker": {
             "line": {
              "color": "#E5ECF6",
              "width": 0.5
             },
             "pattern": {
              "fillmode": "overlay",
              "size": 10,
              "solidity": 0.2
             }
            },
            "type": "bar"
           }
          ],
          "barpolar": [
           {
            "marker": {
             "line": {
              "color": "#E5ECF6",
              "width": 0.5
             },
             "pattern": {
              "fillmode": "overlay",
              "size": 10,
              "solidity": 0.2
             }
            },
            "type": "barpolar"
           }
          ],
          "carpet": [
           {
            "aaxis": {
             "endlinecolor": "#2a3f5f",
             "gridcolor": "white",
             "linecolor": "white",
             "minorgridcolor": "white",
             "startlinecolor": "#2a3f5f"
            },
            "baxis": {
             "endlinecolor": "#2a3f5f",
             "gridcolor": "white",
             "linecolor": "white",
             "minorgridcolor": "white",
             "startlinecolor": "#2a3f5f"
            },
            "type": "carpet"
           }
          ],
          "choropleth": [
           {
            "colorbar": {
             "outlinewidth": 0,
             "ticks": ""
            },
            "type": "choropleth"
           }
          ],
          "contour": [
           {
            "colorbar": {
             "outlinewidth": 0,
             "ticks": ""
            },
            "colorscale": [
             [
              0,
              "#0d0887"
             ],
             [
              0.1111111111111111,
              "#46039f"
             ],
             [
              0.2222222222222222,
              "#7201a8"
             ],
             [
              0.3333333333333333,
              "#9c179e"
             ],
             [
              0.4444444444444444,
              "#bd3786"
             ],
             [
              0.5555555555555556,
              "#d8576b"
             ],
             [
              0.6666666666666666,
              "#ed7953"
             ],
             [
              0.7777777777777778,
              "#fb9f3a"
             ],
             [
              0.8888888888888888,
              "#fdca26"
             ],
             [
              1,
              "#f0f921"
             ]
            ],
            "type": "contour"
           }
          ],
          "contourcarpet": [
           {
            "colorbar": {
             "outlinewidth": 0,
             "ticks": ""
            },
            "type": "contourcarpet"
           }
          ],
          "heatmap": [
           {
            "colorbar": {
             "outlinewidth": 0,
             "ticks": ""
            },
            "colorscale": [
             [
              0,
              "#0d0887"
             ],
             [
              0.1111111111111111,
              "#46039f"
             ],
             [
              0.2222222222222222,
              "#7201a8"
             ],
             [
              0.3333333333333333,
              "#9c179e"
             ],
             [
              0.4444444444444444,
              "#bd3786"
             ],
             [
              0.5555555555555556,
              "#d8576b"
             ],
             [
              0.6666666666666666,
              "#ed7953"
             ],
             [
              0.7777777777777778,
              "#fb9f3a"
             ],
             [
              0.8888888888888888,
              "#fdca26"
             ],
             [
              1,
              "#f0f921"
             ]
            ],
            "type": "heatmap"
           }
          ],
          "heatmapgl": [
           {
            "colorbar": {
             "outlinewidth": 0,
             "ticks": ""
            },
            "colorscale": [
             [
              0,
              "#0d0887"
             ],
             [
              0.1111111111111111,
              "#46039f"
             ],
             [
              0.2222222222222222,
              "#7201a8"
             ],
             [
              0.3333333333333333,
              "#9c179e"
             ],
             [
              0.4444444444444444,
              "#bd3786"
             ],
             [
              0.5555555555555556,
              "#d8576b"
             ],
             [
              0.6666666666666666,
              "#ed7953"
             ],
             [
              0.7777777777777778,
              "#fb9f3a"
             ],
             [
              0.8888888888888888,
              "#fdca26"
             ],
             [
              1,
              "#f0f921"
             ]
            ],
            "type": "heatmapgl"
           }
          ],
          "histogram": [
           {
            "marker": {
             "pattern": {
              "fillmode": "overlay",
              "size": 10,
              "solidity": 0.2
             }
            },
            "type": "histogram"
           }
          ],
          "histogram2d": [
           {
            "colorbar": {
             "outlinewidth": 0,
             "ticks": ""
            },
            "colorscale": [
             [
              0,
              "#0d0887"
             ],
             [
              0.1111111111111111,
              "#46039f"
             ],
             [
              0.2222222222222222,
              "#7201a8"
             ],
             [
              0.3333333333333333,
              "#9c179e"
             ],
             [
              0.4444444444444444,
              "#bd3786"
             ],
             [
              0.5555555555555556,
              "#d8576b"
             ],
             [
              0.6666666666666666,
              "#ed7953"
             ],
             [
              0.7777777777777778,
              "#fb9f3a"
             ],
             [
              0.8888888888888888,
              "#fdca26"
             ],
             [
              1,
              "#f0f921"
             ]
            ],
            "type": "histogram2d"
           }
          ],
          "histogram2dcontour": [
           {
            "colorbar": {
             "outlinewidth": 0,
             "ticks": ""
            },
            "colorscale": [
             [
              0,
              "#0d0887"
             ],
             [
              0.1111111111111111,
              "#46039f"
             ],
             [
              0.2222222222222222,
              "#7201a8"
             ],
             [
              0.3333333333333333,
              "#9c179e"
             ],
             [
              0.4444444444444444,
              "#bd3786"
             ],
             [
              0.5555555555555556,
              "#d8576b"
             ],
             [
              0.6666666666666666,
              "#ed7953"
             ],
             [
              0.7777777777777778,
              "#fb9f3a"
             ],
             [
              0.8888888888888888,
              "#fdca26"
             ],
             [
              1,
              "#f0f921"
             ]
            ],
            "type": "histogram2dcontour"
           }
          ],
          "mesh3d": [
           {
            "colorbar": {
             "outlinewidth": 0,
             "ticks": ""
            },
            "type": "mesh3d"
           }
          ],
          "parcoords": [
           {
            "line": {
             "colorbar": {
              "outlinewidth": 0,
              "ticks": ""
             }
            },
            "type": "parcoords"
           }
          ],
          "pie": [
           {
            "automargin": true,
            "type": "pie"
           }
          ],
          "scatter": [
           {
            "fillpattern": {
             "fillmode": "overlay",
             "size": 10,
             "solidity": 0.2
            },
            "type": "scatter"
           }
          ],
          "scatter3d": [
           {
            "line": {
             "colorbar": {
              "outlinewidth": 0,
              "ticks": ""
             }
            },
            "marker": {
             "colorbar": {
              "outlinewidth": 0,
              "ticks": ""
             }
            },
            "type": "scatter3d"
           }
          ],
          "scattercarpet": [
           {
            "marker": {
             "colorbar": {
              "outlinewidth": 0,
              "ticks": ""
             }
            },
            "type": "scattercarpet"
           }
          ],
          "scattergeo": [
           {
            "marker": {
             "colorbar": {
              "outlinewidth": 0,
              "ticks": ""
             }
            },
            "type": "scattergeo"
           }
          ],
          "scattergl": [
           {
            "marker": {
             "colorbar": {
              "outlinewidth": 0,
              "ticks": ""
             }
            },
            "type": "scattergl"
           }
          ],
          "scattermapbox": [
           {
            "marker": {
             "colorbar": {
              "outlinewidth": 0,
              "ticks": ""
             }
            },
            "type": "scattermapbox"
           }
          ],
          "scatterpolar": [
           {
            "marker": {
             "colorbar": {
              "outlinewidth": 0,
              "ticks": ""
             }
            },
            "type": "scatterpolar"
           }
          ],
          "scatterpolargl": [
           {
            "marker": {
             "colorbar": {
              "outlinewidth": 0,
              "ticks": ""
             }
            },
            "type": "scatterpolargl"
           }
          ],
          "scatterternary": [
           {
            "marker": {
             "colorbar": {
              "outlinewidth": 0,
              "ticks": ""
             }
            },
            "type": "scatterternary"
           }
          ],
          "surface": [
           {
            "colorbar": {
             "outlinewidth": 0,
             "ticks": ""
            },
            "colorscale": [
             [
              0,
              "#0d0887"
             ],
             [
              0.1111111111111111,
              "#46039f"
             ],
             [
              0.2222222222222222,
              "#7201a8"
             ],
             [
              0.3333333333333333,
              "#9c179e"
             ],
             [
              0.4444444444444444,
              "#bd3786"
             ],
             [
              0.5555555555555556,
              "#d8576b"
             ],
             [
              0.6666666666666666,
              "#ed7953"
             ],
             [
              0.7777777777777778,
              "#fb9f3a"
             ],
             [
              0.8888888888888888,
              "#fdca26"
             ],
             [
              1,
              "#f0f921"
             ]
            ],
            "type": "surface"
           }
          ],
          "table": [
           {
            "cells": {
             "fill": {
              "color": "#EBF0F8"
             },
             "line": {
              "color": "white"
             }
            },
            "header": {
             "fill": {
              "color": "#C8D4E3"
             },
             "line": {
              "color": "white"
             }
            },
            "type": "table"
           }
          ]
         },
         "layout": {
          "annotationdefaults": {
           "arrowcolor": "#2a3f5f",
           "arrowhead": 0,
           "arrowwidth": 1
          },
          "autotypenumbers": "strict",
          "coloraxis": {
           "colorbar": {
            "outlinewidth": 0,
            "ticks": ""
           }
          },
          "colorscale": {
           "diverging": [
            [
             0,
             "#8e0152"
            ],
            [
             0.1,
             "#c51b7d"
            ],
            [
             0.2,
             "#de77ae"
            ],
            [
             0.3,
             "#f1b6da"
            ],
            [
             0.4,
             "#fde0ef"
            ],
            [
             0.5,
             "#f7f7f7"
            ],
            [
             0.6,
             "#e6f5d0"
            ],
            [
             0.7,
             "#b8e186"
            ],
            [
             0.8,
             "#7fbc41"
            ],
            [
             0.9,
             "#4d9221"
            ],
            [
             1,
             "#276419"
            ]
           ],
           "sequential": [
            [
             0,
             "#0d0887"
            ],
            [
             0.1111111111111111,
             "#46039f"
            ],
            [
             0.2222222222222222,
             "#7201a8"
            ],
            [
             0.3333333333333333,
             "#9c179e"
            ],
            [
             0.4444444444444444,
             "#bd3786"
            ],
            [
             0.5555555555555556,
             "#d8576b"
            ],
            [
             0.6666666666666666,
             "#ed7953"
            ],
            [
             0.7777777777777778,
             "#fb9f3a"
            ],
            [
             0.8888888888888888,
             "#fdca26"
            ],
            [
             1,
             "#f0f921"
            ]
           ],
           "sequentialminus": [
            [
             0,
             "#0d0887"
            ],
            [
             0.1111111111111111,
             "#46039f"
            ],
            [
             0.2222222222222222,
             "#7201a8"
            ],
            [
             0.3333333333333333,
             "#9c179e"
            ],
            [
             0.4444444444444444,
             "#bd3786"
            ],
            [
             0.5555555555555556,
             "#d8576b"
            ],
            [
             0.6666666666666666,
             "#ed7953"
            ],
            [
             0.7777777777777778,
             "#fb9f3a"
            ],
            [
             0.8888888888888888,
             "#fdca26"
            ],
            [
             1,
             "#f0f921"
            ]
           ]
          },
          "colorway": [
           "#636efa",
           "#EF553B",
           "#00cc96",
           "#ab63fa",
           "#FFA15A",
           "#19d3f3",
           "#FF6692",
           "#B6E880",
           "#FF97FF",
           "#FECB52"
          ],
          "font": {
           "color": "#2a3f5f"
          },
          "geo": {
           "bgcolor": "white",
           "lakecolor": "white",
           "landcolor": "#E5ECF6",
           "showlakes": true,
           "showland": true,
           "subunitcolor": "white"
          },
          "hoverlabel": {
           "align": "left"
          },
          "hovermode": "closest",
          "mapbox": {
           "style": "light"
          },
          "paper_bgcolor": "white",
          "plot_bgcolor": "#E5ECF6",
          "polar": {
           "angularaxis": {
            "gridcolor": "white",
            "linecolor": "white",
            "ticks": ""
           },
           "bgcolor": "#E5ECF6",
           "radialaxis": {
            "gridcolor": "white",
            "linecolor": "white",
            "ticks": ""
           }
          },
          "scene": {
           "xaxis": {
            "backgroundcolor": "#E5ECF6",
            "gridcolor": "white",
            "gridwidth": 2,
            "linecolor": "white",
            "showbackground": true,
            "ticks": "",
            "zerolinecolor": "white"
           },
           "yaxis": {
            "backgroundcolor": "#E5ECF6",
            "gridcolor": "white",
            "gridwidth": 2,
            "linecolor": "white",
            "showbackground": true,
            "ticks": "",
            "zerolinecolor": "white"
           },
           "zaxis": {
            "backgroundcolor": "#E5ECF6",
            "gridcolor": "white",
            "gridwidth": 2,
            "linecolor": "white",
            "showbackground": true,
            "ticks": "",
            "zerolinecolor": "white"
           }
          },
          "shapedefaults": {
           "line": {
            "color": "#2a3f5f"
           }
          },
          "ternary": {
           "aaxis": {
            "gridcolor": "white",
            "linecolor": "white",
            "ticks": ""
           },
           "baxis": {
            "gridcolor": "white",
            "linecolor": "white",
            "ticks": ""
           },
           "bgcolor": "#E5ECF6",
           "caxis": {
            "gridcolor": "white",
            "linecolor": "white",
            "ticks": ""
           }
          },
          "title": {
           "x": 0.05
          },
          "xaxis": {
           "automargin": true,
           "gridcolor": "white",
           "linecolor": "white",
           "ticks": "",
           "title": {
            "standoff": 15
           },
           "zerolinecolor": "white",
           "zerolinewidth": 2
          },
          "yaxis": {
           "automargin": true,
           "gridcolor": "white",
           "linecolor": "white",
           "ticks": "",
           "title": {
            "standoff": 15
           },
           "zerolinecolor": "white",
           "zerolinewidth": 2
          }
         }
        },
        "title": {
         "text": "Correlation between Strict Gun Laws and Gun Deaths per State (2017)"
        },
        "xaxis": {
         "autorange": true,
         "range": [
          -2.065278559369726,
          112.06527855936973
         ],
         "title": {
          "text": "Gun Law Strictness (higher is stricter)"
         },
         "type": "linear"
        },
        "yaxis": {
         "autorange": true,
         "range": [
          -0.36203792255007605,
          12.678159791703063
         ],
         "title": {
          "text": "Gun Deaths per 100.000 People"
         },
         "type": "linear"
        }
       }
      },
      "image/png": "[encoded data removed]",
      "text/html": [
       "<div>                            <div id=\"8933552e-4672-4f22-be7f-ee8b601922f8\" class=\"plotly-graph-div\" style=\"height:525px; width:100%;\"></div>            <script type=\"text/javascript\">                require([\"plotly\"], function(Plotly) {                    window.PLOTLYENV=window.PLOTLYENV || {};                                    if (document.getElementById(\"8933552e-4672-4f22-be7f-ee8b601922f8\")) {                    Plotly.newPlot(                        \"8933552e-4672-4f22-be7f-ee8b601922f8\",                        [{\"mode\":\"markers\",\"name\":\"Data Points\",\"text\":[\"Alabama\",\"Alaska\",\"Arizona\",\"Arkansas\",\"California\",\"Colorado\",\"Connecticut\",\"Delaware\",\"Florida\",\"Georgia\",\"Hawaii\",\"Idaho\",\"Illinois\",\"Indiana\",\"Iowa\",\"Kansas\",\"Kentucky\",\"Louisiana\",\"Maine\",\"Maryland\",\"Massachusetts\",\"Michigan\",\"Minnesota\",\"Mississippi\",\"Missouri\",\"Montana\",\"Nebraska\",\"Nevada\",\"New Hampshire\",\"New Jersey\",\"New Mexico\",\"New York\",\"North Carolina\",\"North Dakota\",\"Ohio\",\"Oklahoma\",\"Oregon\",\"Pennsylvania\",\"Rhode Island\",\"South Carolina\",\"South Dakota\",\"Tennessee\",\"Texas\",\"Utah\",\"Vermont\",\"Virginia\",\"Washington\",\"West Virginia\",\"Wisconsin\",\"Wyoming\"],\"x\":[10.0,4.0,11.0,11.0,106.0,30.0,89.0,40.0,21.0,6.0,78.0,4.0,64.0,12.0,24.0,7.0,7.0,12.0,12.0,64.0,100.0,21.0,41.0,5.0,6.0,4.0,22.0,21.0,9.0,75.0,10.0,75.0,30.0,13.0,16.0,9.0,35.0,36.0,43.0,12.0,5.0,22.0,18.0,13.0,6.0,13.0,43.0,21.0,23.0,9.0],\"y\":[11.16015103951473,9.328105988914425,4.102777850337478,7.196773446571454,3.6154835892234405,3.546045580050197,2.4906969669747574,5.852702119409755,4.53166159859944,6.320644974751041,0.5616427488761879,2.7361931403055806,7.5046005783942,6.112875217142244,2.260030876478172,5.225669865555891,6.1317063572992465,11.754479120276798,2.4726287490296803,7.968302094268998,1.8659466056463254,3.6999476793306485,2.0660303293252347,10.841523033217223,9.972701979966168,3.8955535581606147,2.4530949968866573,6.734222138418569,1.7052358897290676,3.094921234254588,5.975760403559833,1.7713505940813816,5.41475831333395,1.986907603498017,6.003610743032596,6.333756940424021,2.3892123442637785,4.965732147156775,1.0419893281347539,7.866538890176744,2.1767323352442753,7.378369809559058,4.131432130023979,2.2573057701250097,1.4415130120574555,4.548898711621916,3.098326607270399,4.457887819729621,3.609555893368538,1.5545894070277806],\"type\":\"scatter\"},{\"mode\":\"lines\",\"name\":\"Trend Line\",\"x\":[10.0,4.0,11.0,11.0,106.0,30.0,89.0,40.0,21.0,6.0,78.0,4.0,64.0,12.0,24.0,7.0,7.0,12.0,12.0,64.0,100.0,21.0,41.0,5.0,6.0,4.0,22.0,21.0,9.0,75.0,10.0,75.0,30.0,13.0,16.0,9.0,35.0,36.0,43.0,12.0,5.0,22.0,18.0,13.0,6.0,13.0,43.0,21.0,23.0,9.0],\"y\":[5.279881726564599,5.476108741617351,5.247177224055807,5.247177224055807,2.140249485720578,4.625791676388761,2.69622602837004,4.298746651300843,4.920132198967889,5.410699736599767,3.055975555966751,5.476108741617351,3.5138385910898373,5.214472721547016,4.822018691441513,5.377995234090975,5.377995234090975,5.214472721547016,5.214472721547016,3.5138385910898373,2.3364765007733292,4.920132198967889,4.266042148792051,5.443404239108559,5.410699736599767,5.476108741617351,4.887427696459097,4.920132198967889,5.312586229073392,3.1540890634931267,5.279881726564599,3.1540890634931267,4.625791676388761,5.181768219038224,5.083654711511848,5.312586229073392,4.462269163844802,4.429564661336011,4.200633143774467,5.214472721547016,5.443404239108559,4.887427696459097,5.018245706494264,5.181768219038224,5.410699736599767,5.181768219038224,4.200633143774467,4.920132198967889,4.854723193950305,5.312586229073392],\"type\":\"scatter\"}],                        {\"template\":{\"data\":{\"histogram2dcontour\":[{\"type\":\"histogram2dcontour\",\"colorbar\":{\"outlinewidth\":0,\"ticks\":\"\"},\"colorscale\":[[0.0,\"#0d0887\"],[0.1111111111111111,\"#46039f\"],[0.2222222222222222,\"#7201a8\"],[0.3333333333333333,\"#9c179e\"],[0.4444444444444444,\"#bd3786\"],[0.5555555555555556,\"#d8576b\"],[0.6666666666666666,\"#ed7953\"],[0.7777777777777778,\"#fb9f3a\"],[0.8888888888888888,\"#fdca26\"],[1.0,\"#f0f921\"]]}],\"choropleth\":[{\"type\":\"choropleth\",\"colorbar\":{\"outlinewidth\":0,\"ticks\":\"\"}}],\"histogram2d\":[{\"type\":\"histogram2d\",\"colorbar\":{\"outlinewidth\":0,\"ticks\":\"\"},\"colorscale\":[[0.0,\"#0d0887\"],[0.1111111111111111,\"#46039f\"],[0.2222222222222222,\"#7201a8\"],[0.3333333333333333,\"#9c179e\"],[0.4444444444444444,\"#bd3786\"],[0.5555555555555556,\"#d8576b\"],[0.6666666666666666,\"#ed7953\"],[0.7777777777777778,\"#fb9f3a\"],[0.8888888888888888,\"#fdca26\"],[1.0,\"#f0f921\"]]}],\"heatmap\":[{\"type\":\"heatmap\",\"colorbar\":{\"outlinewidth\":0,\"ticks\":\"\"},\"colorscale\":[[0.0,\"#0d0887\"],[0.1111111111111111,\"#46039f\"],[0.2222222222222222,\"#7201a8\"],[0.3333333333333333,\"#9c179e\"],[0.4444444444444444,\"#bd3786\"],[0.5555555555555556,\"#d8576b\"],[0.6666666666666666,\"#ed7953\"],[0.7777777777777778,\"#fb9f3a\"],[0.8888888888888888,\"#fdca26\"],[1.0,\"#f0f921\"]]}],\"heatmapgl\":[{\"type\":\"heatmapgl\",\"colorbar\":{\"outlinewidth\":0,\"ticks\":\"\"},\"colorscale\":[[0.0,\"#0d0887\"],[0.1111111111111111,\"#46039f\"],[0.2222222222222222,\"#7201a8\"],[0.3333333333333333,\"#9c179e\"],[0.4444444444444444,\"#bd3786\"],[0.5555555555555556,\"#d8576b\"],[0.6666666666666666,\"#ed7953\"],[0.7777777777777778,\"#fb9f3a\"],[0.8888888888888888,\"#fdca26\"],[1.0,\"#f0f921\"]]}],\"contourcarpet\":[{\"type\":\"contourcarpet\",\"colorbar\":{\"outlinewidth\":0,\"ticks\":\"\"}}],\"contour\":[{\"type\":\"contour\",\"colorbar\":{\"outlinewidth\":0,\"ticks\":\"\"},\"colorscale\":[[0.0,\"#0d0887\"],[0.1111111111111111,\"#46039f\"],[0.2222222222222222,\"#7201a8\"],[0.3333333333333333,\"#9c179e\"],[0.4444444444444444,\"#bd3786\"],[0.5555555555555556,\"#d8576b\"],[0.6666666666666666,\"#ed7953\"],[0.7777777777777778,\"#fb9f3a\"],[0.8888888888888888,\"#fdca26\"],[1.0,\"#f0f921\"]]}],\"surface\":[{\"type\":\"surface\",\"colorbar\":{\"outlinewidth\":0,\"ticks\":\"\"},\"colorscale\":[[0.0,\"#0d0887\"],[0.1111111111111111,\"#46039f\"],[0.2222222222222222,\"#7201a8\"],[0.3333333333333333,\"#9c179e\"],[0.4444444444444444,\"#bd3786\"],[0.5555555555555556,\"#d8576b\"],[0.6666666666666666,\"#ed7953\"],[0.7777777777777778,\"#fb9f3a\"],[0.8888888888888888,\"#fdca26\"],[1.0,\"#f0f921\"]]}],\"mesh3d\":[{\"type\":\"mesh3d\",\"colorbar\":{\"outlinewidth\":0,\"ticks\":\"\"}}],\"scatter\":[{\"fillpattern\":{\"fillmode\":\"overlay\",\"size\":10,\"solidity\":0.2},\"type\":\"scatter\"}],\"parcoords\":[{\"type\":\"parcoords\",\"line\":{\"colorbar\":{\"outlinewidth\":0,\"ticks\":\"\"}}}],\"scatterpolargl\":[{\"type\":\"scatterpolargl\",\"marker\":{\"colorbar\":{\"outlinewidth\":0,\"ticks\":\"\"}}}],\"bar\":[{\"error_x\":{\"color\":\"#2a3f5f\"},\"error_y\":{\"color\":\"#2a3f5f\"},\"marker\":{\"line\":{\"color\":\"#E5ECF6\",\"width\":0.5},\"pattern\":{\"fillmode\":\"overlay\",\"size\":10,\"solidity\":0.2}},\"type\":\"bar\"}],\"scattergeo\":[{\"type\":\"scattergeo\",\"marker\":{\"colorbar\":{\"outlinewidth\":0,\"ticks\":\"\"}}}],\"scatterpolar\":[{\"type\":\"scatterpolar\",\"marker\":{\"colorbar\":{\"outlinewidth\":0,\"ticks\":\"\"}}}],\"histogram\":[{\"marker\":{\"pattern\":{\"fillmode\":\"overlay\",\"size\":10,\"solidity\":0.2}},\"type\":\"histogram\"}],\"scattergl\":[{\"type\":\"scattergl\",\"marker\":{\"colorbar\":{\"outlinewidth\":0,\"ticks\":\"\"}}}],\"scatter3d\":[{\"type\":\"scatter3d\",\"line\":{\"colorbar\":{\"outlinewidth\":0,\"ticks\":\"\"}},\"marker\":{\"colorbar\":{\"outlinewidth\":0,\"ticks\":\"\"}}}],\"scattermapbox\":[{\"type\":\"scattermapbox\",\"marker\":{\"colorbar\":{\"outlinewidth\":0,\"ticks\":\"\"}}}],\"scatterternary\":[{\"type\":\"scatterternary\",\"marker\":{\"colorbar\":{\"outlinewidth\":0,\"ticks\":\"\"}}}],\"scattercarpet\":[{\"type\":\"scattercarpet\",\"marker\":{\"colorbar\":{\"outlinewidth\":0,\"ticks\":\"\"}}}],\"carpet\":[{\"aaxis\":{\"endlinecolor\":\"#2a3f5f\",\"gridcolor\":\"white\",\"linecolor\":\"white\",\"minorgridcolor\":\"white\",\"startlinecolor\":\"#2a3f5f\"},\"baxis\":{\"endlinecolor\":\"#2a3f5f\",\"gridcolor\":\"white\",\"linecolor\":\"white\",\"minorgridcolor\":\"white\",\"startlinecolor\":\"#2a3f5f\"},\"type\":\"carpet\"}],\"table\":[{\"cells\":{\"fill\":{\"color\":\"#EBF0F8\"},\"line\":{\"color\":\"white\"}},\"header\":{\"fill\":{\"color\":\"#C8D4E3\"},\"line\":{\"color\":\"white\"}},\"type\":\"table\"}],\"barpolar\":[{\"marker\":{\"line\":{\"color\":\"#E5ECF6\",\"width\":0.5},\"pattern\":{\"fillmode\":\"overlay\",\"size\":10,\"solidity\":0.2}},\"type\":\"barpolar\"}],\"pie\":[{\"automargin\":true,\"type\":\"pie\"}]},\"layout\":{\"autotypenumbers\":\"strict\",\"colorway\":[\"#636efa\",\"#EF553B\",\"#00cc96\",\"#ab63fa\",\"#FFA15A\",\"#19d3f3\",\"#FF6692\",\"#B6E880\",\"#FF97FF\",\"#FECB52\"],\"font\":{\"color\":\"#2a3f5f\"},\"hovermode\":\"closest\",\"hoverlabel\":{\"align\":\"left\"},\"paper_bgcolor\":\"white\",\"plot_bgcolor\":\"#E5ECF6\",\"polar\":{\"bgcolor\":\"#E5ECF6\",\"angularaxis\":{\"gridcolor\":\"white\",\"linecolor\":\"white\",\"ticks\":\"\"},\"radialaxis\":{\"gridcolor\":\"white\",\"linecolor\":\"white\",\"ticks\":\"\"}},\"ternary\":{\"bgcolor\":\"#E5ECF6\",\"aaxis\":{\"gridcolor\":\"white\",\"linecolor\":\"white\",\"ticks\":\"\"},\"baxis\":{\"gridcolor\":\"white\",\"linecolor\":\"white\",\"ticks\":\"\"},\"caxis\":{\"gridcolor\":\"white\",\"linecolor\":\"white\",\"ticks\":\"\"}},\"coloraxis\":{\"colorbar\":{\"outlinewidth\":0,\"ticks\":\"\"}},\"colorscale\":{\"sequential\":[[0.0,\"#0d0887\"],[0.1111111111111111,\"#46039f\"],[0.2222222222222222,\"#7201a8\"],[0.3333333333333333,\"#9c179e\"],[0.4444444444444444,\"#bd3786\"],[0.5555555555555556,\"#d8576b\"],[0.6666666666666666,\"#ed7953\"],[0.7777777777777778,\"#fb9f3a\"],[0.8888888888888888,\"#fdca26\"],[1.0,\"#f0f921\"]],\"sequentialminus\":[[0.0,\"#0d0887\"],[0.1111111111111111,\"#46039f\"],[0.2222222222222222,\"#7201a8\"],[0.3333333333333333,\"#9c179e\"],[0.4444444444444444,\"#bd3786\"],[0.5555555555555556,\"#d8576b\"],[0.6666666666666666,\"#ed7953\"],[0.7777777777777778,\"#fb9f3a\"],[0.8888888888888888,\"#fdca26\"],[1.0,\"#f0f921\"]],\"diverging\":[[0,\"#8e0152\"],[0.1,\"#c51b7d\"],[0.2,\"#de77ae\"],[0.3,\"#f1b6da\"],[0.4,\"#fde0ef\"],[0.5,\"#f7f7f7\"],[0.6,\"#e6f5d0\"],[0.7,\"#b8e186\"],[0.8,\"#7fbc41\"],[0.9,\"#4d9221\"],[1,\"#276419\"]]},\"xaxis\":{\"gridcolor\":\"white\",\"linecolor\":\"white\",\"ticks\":\"\",\"title\":{\"standoff\":15},\"zerolinecolor\":\"white\",\"automargin\":true,\"zerolinewidth\":2},\"yaxis\":{\"gridcolor\":\"white\",\"linecolor\":\"white\",\"ticks\":\"\",\"title\":{\"standoff\":15},\"zerolinecolor\":\"white\",\"automargin\":true,\"zerolinewidth\":2},\"scene\":{\"xaxis\":{\"backgroundcolor\":\"#E5ECF6\",\"gridcolor\":\"white\",\"linecolor\":\"white\",\"showbackground\":true,\"ticks\":\"\",\"zerolinecolor\":\"white\",\"gridwidth\":2},\"yaxis\":{\"backgroundcolor\":\"#E5ECF6\",\"gridcolor\":\"white\",\"linecolor\":\"white\",\"showbackground\":true,\"ticks\":\"\",\"zerolinecolor\":\"white\",\"gridwidth\":2},\"zaxis\":{\"backgroundcolor\":\"#E5ECF6\",\"gridcolor\":\"white\",\"linecolor\":\"white\",\"showbackground\":true,\"ticks\":\"\",\"zerolinecolor\":\"white\",\"gridwidth\":2}},\"shapedefaults\":{\"line\":{\"color\":\"#2a3f5f\"}},\"annotationdefaults\":{\"arrowcolor\":\"#2a3f5f\",\"arrowhead\":0,\"arrowwidth\":1},\"geo\":{\"bgcolor\":\"white\",\"landcolor\":\"#E5ECF6\",\"subunitcolor\":\"white\",\"showland\":true,\"showlakes\":true,\"lakecolor\":\"white\"},\"title\":{\"x\":0.05},\"mapbox\":{\"style\":\"light\"}}},\"annotations\":[{\"font\":{\"size\":12},\"showarrow\":false,\"text\":\"y = 5.61 + -0.03x\",\"x\":0.5,\"xref\":\"paper\",\"y\":1.1,\"yref\":\"paper\"}],\"title\":{\"text\":\"Correlation between Strict Gun Laws and Gun Deaths per State (2017)\"},\"xaxis\":{\"title\":{\"text\":\"Gun Law Strictness (higher is stricter)\"}},\"yaxis\":{\"title\":{\"text\":\"Gun Deaths per 100.000 People\"}},\"showlegend\":true},                        {\"responsive\": true}                    ).then(function(){\n",
       "                            \n",
       "var gd = document.getElementById('8933552e-4672-4f22-be7f-ee8b601922f8');\n",
       "var x = new MutationObserver(function (mutations, observer) {{\n",
       "        var display = window.getComputedStyle(gd).display;\n",
       "        if (!display || display === 'none') {{\n",
       "            console.log([gd, 'removed!']);\n",
       "            Plotly.purge(gd);\n",
       "            observer.disconnect();\n",
       "        }}\n",
       "}});\n",
       "\n",
       "// Listen for the removal of the full notebook cells\n",
       "var notebookContainer = gd.closest('#notebook-container');\n",
       "if (notebookContainer) {{\n",
       "    x.observe(notebookContainer, {childList: true});\n",
       "}}\n",
       "\n",
       "// Listen for the clearing of the current output cell\n",
       "var outputEl = gd.closest('.output');\n",
       "if (outputEl) {{\n",
       "    x.observe(outputEl, {childList: true});\n",
       "}}\n",
       "\n",
       "                        })                };                });            </script>        </div>"
      ]
     },
     "metadata": {},
     "output_type": "display_data"
    }
   ],
   "source": [
    "import pandas as pd\n",
    "import plotly.graph_objects as go\n",
    "import statsmodels.api as sm\n",
    "\n",
    "# Load the datasets\n",
    "df_guns = pd.read_csv('gun-violence-data_01-2013_03-2018.csv')\n",
    "df_laws = pd.read_csv('raw_data.csv')\n",
    "df_statepop = pd.read_csv('nst-est2019-alldata.csv')\n",
    "\n",
    "# Map FIPS codes to state names\n",
    "fips_to_state = {\n",
    "    1: 'Alabama', 2: 'Alaska', 4: 'Arizona', 5: 'Arkansas', 6: 'California', 8: 'Colorado',\n",
    "    9: 'Connecticut', 10: 'Delaware', 11: 'District of Columbia', 12: 'Florida', 13: 'Georgia',\n",
    "    15: 'Hawaii', 16: 'Idaho', 17: 'Illinois', 18: 'Indiana', 19: 'Iowa', 20: 'Kansas',\n",
    "    21: 'Kentucky', 22: 'Louisiana', 23: 'Maine', 24: 'Maryland', 25: 'Massachusetts',\n",
    "    26: 'Michigan', 27: 'Minnesota', 28: 'Mississippi', 29: 'Missouri', 30: 'Montana',\n",
    "    31: 'Nebraska', 32: 'Nevada', 33: 'New Hampshire', 34: 'New Jersey', 35: 'New Mexico',\n",
    "    36: 'New York', 37: 'North Carolina', 38: 'North Dakota', 39: 'Ohio', 40: 'Oklahoma',\n",
    "    41: 'Oregon', 42: 'Pennsylvania', 44: 'Rhode Island', 45: 'South Carolina', 46: 'South Dakota',\n",
    "    47: 'Tennessee', 48: 'Texas', 49: 'Utah', 50: 'Vermont', 51: 'Virginia', 53: 'Washington',\n",
    "    54: 'West Virginia', 55: 'Wisconsin', 56: 'Wyoming', 72: 'Puerto Rico'\n",
    "}\n",
    "\n",
    "# Replace FIPS codes with state names in population dataset\n",
    "df_statepop['state'] = df_statepop['STATE'].astype(int).map(fips_to_state)\n",
    "\n",
    "# Filter gun deaths to only include 2017 data\n",
    "df_guns['date'] = pd.to_datetime(df_guns['date'])\n",
    "df_guns_2017 = df_guns[df_guns['date'].dt.year == 2017]\n",
    "\n",
    "# Filter necessary columns\n",
    "df_guns_2017 = df_guns_2017[['state', 'n_killed']]\n",
    "df_laws_2017 = df_laws[df_laws['year'] == 2017]\n",
    "df_statepop = df_statepop[['state', 'POPESTIMATE2017']]\n",
    "\n",
    "# Ensure state columns are strings for merging\n",
    "df_guns_2017['state'] = df_guns_2017['state'].astype(str)\n",
    "df_laws_2017['state'] = df_laws_2017['state'].astype(str)\n",
    "df_statepop['state'] = df_statepop['state'].astype(str)\n",
    "\n",
    "# Calculate total gun deaths per state\n",
    "df_gun_deaths_2017 = df_guns_2017.groupby('state').sum().reset_index()\n",
    "\n",
    "# Rename columns for consistency\n",
    "df_statepop = df_statepop.rename(columns={'POPESTIMATE2017': 'population'})\n",
    "\n",
    "# Merge gun deaths with population data\n",
    "df_merged_2017 = pd.merge(df_gun_deaths_2017, df_statepop, on='state', how='left')\n",
    "\n",
    "# Calculate gun deaths per capita\n",
    "df_merged_2017['deaths_per_capita'] = df_merged_2017['n_killed'] / df_merged_2017['population'] * 100000  # per 100,000 people\n",
    "\n",
    "# Merge with gun law strictness\n",
    "df_final_2017 = pd.merge(df_merged_2017, df_laws_2017[['state', 'lawtotal']], on='state', how='left')\n",
    "\n",
    "# Remove rows with NaNs if any\n",
    "df_final_2017.dropna(subset=['lawtotal', 'deaths_per_capita'], inplace=True)\n",
    "\n",
    "# Fit a regression line\n",
    "X = df_final_2017['lawtotal']\n",
    "y = df_final_2017['deaths_per_capita']\n",
    "X = sm.add_constant(X)  # Adds a constant term to the predictor\n",
    "model = sm.OLS(y, X).fit()\n",
    "df_final_2017['trend'] = model.predict(X)\n",
    "\n",
    "# Extract the coefficient and intercept\n",
    "intercept = model.params['const']\n",
    "coefficient = model.params['lawtotal']\n",
    "\n",
    "# Create scatter plot with trend line\n",
    "fig = go.Figure()\n",
    "\n",
    "# Scatter plot\n",
    "fig.add_trace(go.Scatter(\n",
    "    x=df_final_2017['lawtotal'],\n",
    "    y=df_final_2017['deaths_per_capita'],\n",
    "    mode='markers',\n",
    "    text=df_final_2017['state'],\n",
    "    name='Data Points'\n",
    "))\n",
    "\n",
    "# Trend line\n",
    "fig.add_trace(go.Scatter(\n",
    "    x=df_final_2017['lawtotal'],\n",
    "    y=df_final_2017['trend'],\n",
    "    mode='lines',\n",
    "    name='Trend Line'\n",
    "))\n",
    "\n",
    "# Add annotation for the coefficient and intercept\n",
    "annotation_text = f\"y = {intercept:.2f} + {coefficient:.2f}x\"\n",
    "\n",
    "fig.add_annotation(\n",
    "    xref=\"paper\", yref=\"paper\",\n",
    "    x=0.5, y=1.1,\n",
    "    text=annotation_text,\n",
    "    showarrow=False,\n",
    "    font=dict(size=12)\n",
    ")\n",
    "\n",
    "fig.update_layout(\n",
    "    title='Correlation between Strict Gun Laws and Gun Deaths per State (2017)',\n",
    "    xaxis_title='Gun Law Strictness (higher is stricter)',\n",
    "    yaxis_title='Gun Deaths per 100.000 People',\n",
    "    showlegend=True\n",
    ")\n",
    "\n",
    "fig.show()"
   ]
  },
  {
   "cell_type": "markdown",
   "metadata": {},
   "source": [
    "*Figure 1: This chart shows the correlation between the gun law strictness and the gun death per 100,000 per people. Every dot on the chart represents a state. The trend line shows that states with stricter gun laws , which is the case for 6 states, have relatively lower gun deaths with respect to gun deaths of states with none to a few restrictions.*\n",
    "\n",
    "The chart supports our argument, because it shows that citizens of the few states with heavy restrictions, respect those restrictions put on the Second Amendment, because they have less gun deaths. Although the Second Amendment can't be fully abolished, restrictions will make the lives of the citizens of those states safer in comparison to the other states. \n",
    "\n",
    "Second of all, America is known for mass school shootings. Kids and college students in multiple states have to live with a fear of dying when they choose to attend school. Students should not be vulnerable, because they are of importance to society and are responsible for the future of America. Our second visualization will be represented as a stacked bar chart.\n"
   ]
  },
  {
   "cell_type": "code",
   "execution_count": 5,
   "metadata": {},
   "outputs": [
    {
     "data": {
      "application/vnd.plotly.v1+json": {
       "config": {
        "plotlyServerURL": "https://plot.ly"
       },
       "data": [
        {
         "alignmentgroup": "True",
         "hovertemplate": "=Killed<br>state=%{x}<br>Number=%{y}<extra></extra>",
         "legendgroup": "Killed",
         "marker": {
          "color": "#636efa",
          "pattern": {
           "shape": ""
          }
         },
         "name": "Killed",
         "offsetgroup": "Killed",
         "orientation": "v",
         "showlegend": true,
         "textposition": "auto",
         "type": "bar",
         "x": [
          "Alabama",
          "Alaska",
          "Arizona",
          "Arkansas",
          "California",
          "Colorado",
          "Connecticut",
          "Delaware",
          "Florida",
          "Georgia",
          "Hawaii",
          "Illinois",
          "Indiana",
          "Iowa",
          "Kansas",
          "Kentucky",
          "Louisiana",
          "Maryland",
          "Massachusetts",
          "Michigan",
          "Minnesota",
          "Mississippi",
          "Missouri",
          "Nebraska",
          "Nevada",
          "New Jersey",
          "New Mexico",
          "New York",
          "North Carolina",
          "Ohio",
          "Oklahoma",
          "Oregon",
          "Pennsylvania",
          "South Carolina",
          "South Dakota",
          "Tennessee",
          "Texas",
          "Utah",
          "Virginia",
          "Washington",
          "Wisconsin"
         ],
         "xaxis": "x",
         "y": [
          3,
          0,
          1,
          0,
          7,
          1,
          26,
          0,
          22,
          2,
          0,
          2,
          1,
          1,
          0,
          3,
          0,
          2,
          0,
          2,
          0,
          1,
          2,
          1,
          2,
          1,
          2,
          0,
          3,
          3,
          0,
          1,
          2,
          1,
          0,
          1,
          13,
          0,
          1,
          6,
          1
         ],
         "yaxis": "y"
        },
        {
         "alignmentgroup": "True",
         "hovertemplate": "=Injured<br>state=%{x}<br>Number=%{y}<extra></extra>",
         "legendgroup": "Injured",
         "marker": {
          "color": "#EF553B",
          "pattern": {
           "shape": ""
          }
         },
         "name": "Injured",
         "offsetgroup": "Injured",
         "orientation": "v",
         "showlegend": true,
         "textposition": "auto",
         "type": "bar",
         "x": [
          "Alabama",
          "Alaska",
          "Arizona",
          "Arkansas",
          "California",
          "Colorado",
          "Connecticut",
          "Delaware",
          "Florida",
          "Georgia",
          "Hawaii",
          "Illinois",
          "Indiana",
          "Iowa",
          "Kansas",
          "Kentucky",
          "Louisiana",
          "Maryland",
          "Massachusetts",
          "Michigan",
          "Minnesota",
          "Mississippi",
          "Missouri",
          "Nebraska",
          "Nevada",
          "New Jersey",
          "New Mexico",
          "New York",
          "North Carolina",
          "Ohio",
          "Oklahoma",
          "Oregon",
          "Pennsylvania",
          "South Carolina",
          "South Dakota",
          "Tennessee",
          "Texas",
          "Utah",
          "Virginia",
          "Washington",
          "Wisconsin"
         ],
         "xaxis": "x",
         "y": [
          6,
          1,
          0,
          3,
          22,
          3,
          2,
          1,
          29,
          8,
          1,
          15,
          4,
          1,
          2,
          18,
          4,
          9,
          1,
          10,
          2,
          1,
          4,
          2,
          2,
          0,
          2,
          3,
          7,
          15,
          3,
          1,
          4,
          6,
          1,
          5,
          31,
          2,
          2,
          7,
          2
         ],
         "yaxis": "y"
        },
        {
         "alignmentgroup": "True",
         "hovertemplate": "=Victims<br>state=%{x}<br>Number=%{y}<extra></extra>",
         "legendgroup": "Victims",
         "marker": {
          "color": "#00cc96",
          "pattern": {
           "shape": ""
          }
         },
         "name": "Victims",
         "offsetgroup": "Victims",
         "orientation": "v",
         "showlegend": true,
         "textposition": "auto",
         "type": "bar",
         "x": [
          "Alabama",
          "Alaska",
          "Arizona",
          "Arkansas",
          "California",
          "Colorado",
          "Connecticut",
          "Delaware",
          "Florida",
          "Georgia",
          "Hawaii",
          "Illinois",
          "Indiana",
          "Iowa",
          "Kansas",
          "Kentucky",
          "Louisiana",
          "Maryland",
          "Massachusetts",
          "Michigan",
          "Minnesota",
          "Mississippi",
          "Missouri",
          "Nebraska",
          "Nevada",
          "New Jersey",
          "New Mexico",
          "New York",
          "North Carolina",
          "Ohio",
          "Oklahoma",
          "Oregon",
          "Pennsylvania",
          "South Carolina",
          "South Dakota",
          "Tennessee",
          "Texas",
          "Utah",
          "Virginia",
          "Washington",
          "Wisconsin"
         ],
         "xaxis": "x",
         "y": [
          9,
          1,
          1,
          3,
          29,
          4,
          28,
          1,
          51,
          10,
          1,
          17,
          5,
          2,
          2,
          21,
          4,
          11,
          1,
          12,
          2,
          2,
          6,
          3,
          4,
          1,
          4,
          3,
          10,
          18,
          3,
          2,
          6,
          7,
          1,
          6,
          44,
          2,
          3,
          13,
          3
         ],
         "yaxis": "y"
        }
       ],
       "layout": {
        "autosize": true,
        "barmode": "relative",
        "legend": {
         "title": {
          "text": ""
         },
         "tracegroupgap": 0
        },
        "template": {
         "data": {
          "bar": [
           {
            "error_x": {
             "color": "#2a3f5f"
            },
            "error_y": {
             "color": "#2a3f5f"
            },
            "marker": {
             "line": {
              "color": "#E5ECF6",
              "width": 0.5
             },
             "pattern": {
              "fillmode": "overlay",
              "size": 10,
              "solidity": 0.2
             }
            },
            "type": "bar"
           }
          ],
          "barpolar": [
           {
            "marker": {
             "line": {
              "color": "#E5ECF6",
              "width": 0.5
             },
             "pattern": {
              "fillmode": "overlay",
              "size": 10,
              "solidity": 0.2
             }
            },
            "type": "barpolar"
           }
          ],
          "carpet": [
           {
            "aaxis": {
             "endlinecolor": "#2a3f5f",
             "gridcolor": "white",
             "linecolor": "white",
             "minorgridcolor": "white",
             "startlinecolor": "#2a3f5f"
            },
            "baxis": {
             "endlinecolor": "#2a3f5f",
             "gridcolor": "white",
             "linecolor": "white",
             "minorgridcolor": "white",
             "startlinecolor": "#2a3f5f"
            },
            "type": "carpet"
           }
          ],
          "choropleth": [
           {
            "colorbar": {
             "outlinewidth": 0,
             "ticks": ""
            },
            "type": "choropleth"
           }
          ],
          "contour": [
           {
            "colorbar": {
             "outlinewidth": 0,
             "ticks": ""
            },
            "colorscale": [
             [
              0,
              "#0d0887"
             ],
             [
              0.1111111111111111,
              "#46039f"
             ],
             [
              0.2222222222222222,
              "#7201a8"
             ],
             [
              0.3333333333333333,
              "#9c179e"
             ],
             [
              0.4444444444444444,
              "#bd3786"
             ],
             [
              0.5555555555555556,
              "#d8576b"
             ],
             [
              0.6666666666666666,
              "#ed7953"
             ],
             [
              0.7777777777777778,
              "#fb9f3a"
             ],
             [
              0.8888888888888888,
              "#fdca26"
             ],
             [
              1,
              "#f0f921"
             ]
            ],
            "type": "contour"
           }
          ],
          "contourcarpet": [
           {
            "colorbar": {
             "outlinewidth": 0,
             "ticks": ""
            },
            "type": "contourcarpet"
           }
          ],
          "heatmap": [
           {
            "colorbar": {
             "outlinewidth": 0,
             "ticks": ""
            },
            "colorscale": [
             [
              0,
              "#0d0887"
             ],
             [
              0.1111111111111111,
              "#46039f"
             ],
             [
              0.2222222222222222,
              "#7201a8"
             ],
             [
              0.3333333333333333,
              "#9c179e"
             ],
             [
              0.4444444444444444,
              "#bd3786"
             ],
             [
              0.5555555555555556,
              "#d8576b"
             ],
             [
              0.6666666666666666,
              "#ed7953"
             ],
             [
              0.7777777777777778,
              "#fb9f3a"
             ],
             [
              0.8888888888888888,
              "#fdca26"
             ],
             [
              1,
              "#f0f921"
             ]
            ],
            "type": "heatmap"
           }
          ],
          "heatmapgl": [
           {
            "colorbar": {
             "outlinewidth": 0,
             "ticks": ""
            },
            "colorscale": [
             [
              0,
              "#0d0887"
             ],
             [
              0.1111111111111111,
              "#46039f"
             ],
             [
              0.2222222222222222,
              "#7201a8"
             ],
             [
              0.3333333333333333,
              "#9c179e"
             ],
             [
              0.4444444444444444,
              "#bd3786"
             ],
             [
              0.5555555555555556,
              "#d8576b"
             ],
             [
              0.6666666666666666,
              "#ed7953"
             ],
             [
              0.7777777777777778,
              "#fb9f3a"
             ],
             [
              0.8888888888888888,
              "#fdca26"
             ],
             [
              1,
              "#f0f921"
             ]
            ],
            "type": "heatmapgl"
           }
          ],
          "histogram": [
           {
            "marker": {
             "pattern": {
              "fillmode": "overlay",
              "size": 10,
              "solidity": 0.2
             }
            },
            "type": "histogram"
           }
          ],
          "histogram2d": [
           {
            "colorbar": {
             "outlinewidth": 0,
             "ticks": ""
            },
            "colorscale": [
             [
              0,
              "#0d0887"
             ],
             [
              0.1111111111111111,
              "#46039f"
             ],
             [
              0.2222222222222222,
              "#7201a8"
             ],
             [
              0.3333333333333333,
              "#9c179e"
             ],
             [
              0.4444444444444444,
              "#bd3786"
             ],
             [
              0.5555555555555556,
              "#d8576b"
             ],
             [
              0.6666666666666666,
              "#ed7953"
             ],
             [
              0.7777777777777778,
              "#fb9f3a"
             ],
             [
              0.8888888888888888,
              "#fdca26"
             ],
             [
              1,
              "#f0f921"
             ]
            ],
            "type": "histogram2d"
           }
          ],
          "histogram2dcontour": [
           {
            "colorbar": {
             "outlinewidth": 0,
             "ticks": ""
            },
            "colorscale": [
             [
              0,
              "#0d0887"
             ],
             [
              0.1111111111111111,
              "#46039f"
             ],
             [
              0.2222222222222222,
              "#7201a8"
             ],
             [
              0.3333333333333333,
              "#9c179e"
             ],
             [
              0.4444444444444444,
              "#bd3786"
             ],
             [
              0.5555555555555556,
              "#d8576b"
             ],
             [
              0.6666666666666666,
              "#ed7953"
             ],
             [
              0.7777777777777778,
              "#fb9f3a"
             ],
             [
              0.8888888888888888,
              "#fdca26"
             ],
             [
              1,
              "#f0f921"
             ]
            ],
            "type": "histogram2dcontour"
           }
          ],
          "mesh3d": [
           {
            "colorbar": {
             "outlinewidth": 0,
             "ticks": ""
            },
            "type": "mesh3d"
           }
          ],
          "parcoords": [
           {
            "line": {
             "colorbar": {
              "outlinewidth": 0,
              "ticks": ""
             }
            },
            "type": "parcoords"
           }
          ],
          "pie": [
           {
            "automargin": true,
            "type": "pie"
           }
          ],
          "scatter": [
           {
            "fillpattern": {
             "fillmode": "overlay",
             "size": 10,
             "solidity": 0.2
            },
            "type": "scatter"
           }
          ],
          "scatter3d": [
           {
            "line": {
             "colorbar": {
              "outlinewidth": 0,
              "ticks": ""
             }
            },
            "marker": {
             "colorbar": {
              "outlinewidth": 0,
              "ticks": ""
             }
            },
            "type": "scatter3d"
           }
          ],
          "scattercarpet": [
           {
            "marker": {
             "colorbar": {
              "outlinewidth": 0,
              "ticks": ""
             }
            },
            "type": "scattercarpet"
           }
          ],
          "scattergeo": [
           {
            "marker": {
             "colorbar": {
              "outlinewidth": 0,
              "ticks": ""
             }
            },
            "type": "scattergeo"
           }
          ],
          "scattergl": [
           {
            "marker": {
             "colorbar": {
              "outlinewidth": 0,
              "ticks": ""
             }
            },
            "type": "scattergl"
           }
          ],
          "scattermapbox": [
           {
            "marker": {
             "colorbar": {
              "outlinewidth": 0,
              "ticks": ""
             }
            },
            "type": "scattermapbox"
           }
          ],
          "scatterpolar": [
           {
            "marker": {
             "colorbar": {
              "outlinewidth": 0,
              "ticks": ""
             }
            },
            "type": "scatterpolar"
           }
          ],
          "scatterpolargl": [
           {
            "marker": {
             "colorbar": {
              "outlinewidth": 0,
              "ticks": ""
             }
            },
            "type": "scatterpolargl"
           }
          ],
          "scatterternary": [
           {
            "marker": {
             "colorbar": {
              "outlinewidth": 0,
              "ticks": ""
             }
            },
            "type": "scatterternary"
           }
          ],
          "surface": [
           {
            "colorbar": {
             "outlinewidth": 0,
             "ticks": ""
            },
            "colorscale": [
             [
              0,
              "#0d0887"
             ],
             [
              0.1111111111111111,
              "#46039f"
             ],
             [
              0.2222222222222222,
              "#7201a8"
             ],
             [
              0.3333333333333333,
              "#9c179e"
             ],
             [
              0.4444444444444444,
              "#bd3786"
             ],
             [
              0.5555555555555556,
              "#d8576b"
             ],
             [
              0.6666666666666666,
              "#ed7953"
             ],
             [
              0.7777777777777778,
              "#fb9f3a"
             ],
             [
              0.8888888888888888,
              "#fdca26"
             ],
             [
              1,
              "#f0f921"
             ]
            ],
            "type": "surface"
           }
          ],
          "table": [
           {
            "cells": {
             "fill": {
              "color": "#EBF0F8"
             },
             "line": {
              "color": "white"
             }
            },
            "header": {
             "fill": {
              "color": "#C8D4E3"
             },
             "line": {
              "color": "white"
             }
            },
            "type": "table"
           }
          ]
         },
         "layout": {
          "annotationdefaults": {
           "arrowcolor": "#2a3f5f",
           "arrowhead": 0,
           "arrowwidth": 1
          },
          "autotypenumbers": "strict",
          "coloraxis": {
           "colorbar": {
            "outlinewidth": 0,
            "ticks": ""
           }
          },
          "colorscale": {
           "diverging": [
            [
             0,
             "#8e0152"
            ],
            [
             0.1,
             "#c51b7d"
            ],
            [
             0.2,
             "#de77ae"
            ],
            [
             0.3,
             "#f1b6da"
            ],
            [
             0.4,
             "#fde0ef"
            ],
            [
             0.5,
             "#f7f7f7"
            ],
            [
             0.6,
             "#e6f5d0"
            ],
            [
             0.7,
             "#b8e186"
            ],
            [
             0.8,
             "#7fbc41"
            ],
            [
             0.9,
             "#4d9221"
            ],
            [
             1,
             "#276419"
            ]
           ],
           "sequential": [
            [
             0,
             "#0d0887"
            ],
            [
             0.1111111111111111,
             "#46039f"
            ],
            [
             0.2222222222222222,
             "#7201a8"
            ],
            [
             0.3333333333333333,
             "#9c179e"
            ],
            [
             0.4444444444444444,
             "#bd3786"
            ],
            [
             0.5555555555555556,
             "#d8576b"
            ],
            [
             0.6666666666666666,
             "#ed7953"
            ],
            [
             0.7777777777777778,
             "#fb9f3a"
            ],
            [
             0.8888888888888888,
             "#fdca26"
            ],
            [
             1,
             "#f0f921"
            ]
           ],
           "sequentialminus": [
            [
             0,
             "#0d0887"
            ],
            [
             0.1111111111111111,
             "#46039f"
            ],
            [
             0.2222222222222222,
             "#7201a8"
            ],
            [
             0.3333333333333333,
             "#9c179e"
            ],
            [
             0.4444444444444444,
             "#bd3786"
            ],
            [
             0.5555555555555556,
             "#d8576b"
            ],
            [
             0.6666666666666666,
             "#ed7953"
            ],
            [
             0.7777777777777778,
             "#fb9f3a"
            ],
            [
             0.8888888888888888,
             "#fdca26"
            ],
            [
             1,
             "#f0f921"
            ]
           ]
          },
          "colorway": [
           "#636efa",
           "#EF553B",
           "#00cc96",
           "#ab63fa",
           "#FFA15A",
           "#19d3f3",
           "#FF6692",
           "#B6E880",
           "#FF97FF",
           "#FECB52"
          ],
          "font": {
           "color": "#2a3f5f"
          },
          "geo": {
           "bgcolor": "white",
           "lakecolor": "white",
           "landcolor": "#E5ECF6",
           "showlakes": true,
           "showland": true,
           "subunitcolor": "white"
          },
          "hoverlabel": {
           "align": "left"
          },
          "hovermode": "closest",
          "mapbox": {
           "style": "light"
          },
          "paper_bgcolor": "white",
          "plot_bgcolor": "#E5ECF6",
          "polar": {
           "angularaxis": {
            "gridcolor": "white",
            "linecolor": "white",
            "ticks": ""
           },
           "bgcolor": "#E5ECF6",
           "radialaxis": {
            "gridcolor": "white",
            "linecolor": "white",
            "ticks": ""
           }
          },
          "scene": {
           "xaxis": {
            "backgroundcolor": "#E5ECF6",
            "gridcolor": "white",
            "gridwidth": 2,
            "linecolor": "white",
            "showbackground": true,
            "ticks": "",
            "zerolinecolor": "white"
           },
           "yaxis": {
            "backgroundcolor": "#E5ECF6",
            "gridcolor": "white",
            "gridwidth": 2,
            "linecolor": "white",
            "showbackground": true,
            "ticks": "",
            "zerolinecolor": "white"
           },
           "zaxis": {
            "backgroundcolor": "#E5ECF6",
            "gridcolor": "white",
            "gridwidth": 2,
            "linecolor": "white",
            "showbackground": true,
            "ticks": "",
            "zerolinecolor": "white"
           }
          },
          "shapedefaults": {
           "line": {
            "color": "#2a3f5f"
           }
          },
          "ternary": {
           "aaxis": {
            "gridcolor": "white",
            "linecolor": "white",
            "ticks": ""
           },
           "baxis": {
            "gridcolor": "white",
            "linecolor": "white",
            "ticks": ""
           },
           "bgcolor": "#E5ECF6",
           "caxis": {
            "gridcolor": "white",
            "linecolor": "white",
            "ticks": ""
           }
          },
          "title": {
           "x": 0.05
          },
          "xaxis": {
           "automargin": true,
           "gridcolor": "white",
           "linecolor": "white",
           "ticks": "",
           "title": {
            "standoff": 15
           },
           "zerolinecolor": "white",
           "zerolinewidth": 2
          },
          "yaxis": {
           "automargin": true,
           "gridcolor": "white",
           "linecolor": "white",
           "ticks": "",
           "title": {
            "standoff": 15
           },
           "zerolinecolor": "white",
           "zerolinewidth": 2
          }
         }
        },
        "title": {
         "text": "Number of Killed, Injured, and Victims in school shootings between 2009 and 2018 by State"
        },
        "xaxis": {
         "anchor": "y",
         "autorange": true,
         "domain": [
          0,
          1
         ],
         "range": [
          -0.5,
          40.5
         ],
         "tickangle": -90,
         "title": {
          "text": "state"
         },
         "type": "category"
        },
        "yaxis": {
         "anchor": "x",
         "autorange": true,
         "domain": [
          0,
          1
         ],
         "range": [
          0,
          107.36842105263158
         ],
         "title": {
          "text": "Number"
         },
         "type": "linear"
        }
       }
      },
      "image/png": "[encoded data removed]",
      "text/html": [
       "<div>                            <div id=\"22a84238-6509-4fcb-8b45-e4aedd802624\" class=\"plotly-graph-div\" style=\"height:525px; width:100%;\"></div>            <script type=\"text/javascript\">                require([\"plotly\"], function(Plotly) {                    window.PLOTLYENV=window.PLOTLYENV || {};                                    if (document.getElementById(\"22a84238-6509-4fcb-8b45-e4aedd802624\")) {                    Plotly.newPlot(                        \"22a84238-6509-4fcb-8b45-e4aedd802624\",                        [{\"alignmentgroup\":\"True\",\"hovertemplate\":\"=Killed\\u003cbr\\u003estate=%{x}\\u003cbr\\u003eNumber=%{y}\\u003cextra\\u003e\\u003c\\u002fextra\\u003e\",\"legendgroup\":\"Killed\",\"marker\":{\"color\":\"#636efa\",\"pattern\":{\"shape\":\"\"}},\"name\":\"Killed\",\"offsetgroup\":\"Killed\",\"orientation\":\"v\",\"showlegend\":true,\"textposition\":\"auto\",\"x\":[\"Alabama\",\"Alaska\",\"Arizona\",\"Arkansas\",\"California\",\"Colorado\",\"Connecticut\",\"Delaware\",\"Florida\",\"Georgia\",\"Hawaii\",\"Illinois\",\"Indiana\",\"Iowa\",\"Kansas\",\"Kentucky\",\"Louisiana\",\"Maryland\",\"Massachusetts\",\"Michigan\",\"Minnesota\",\"Mississippi\",\"Missouri\",\"Nebraska\",\"Nevada\",\"New Jersey\",\"New Mexico\",\"New York\",\"North Carolina\",\"Ohio\",\"Oklahoma\",\"Oregon\",\"Pennsylvania\",\"South Carolina\",\"South Dakota\",\"Tennessee\",\"Texas\",\"Utah\",\"Virginia\",\"Washington\",\"Wisconsin\"],\"xaxis\":\"x\",\"y\":[3,0,1,0,7,1,26,0,22,2,0,2,1,1,0,3,0,2,0,2,0,1,2,1,2,1,2,0,3,3,0,1,2,1,0,1,13,0,1,6,1],\"yaxis\":\"y\",\"type\":\"bar\"},{\"alignmentgroup\":\"True\",\"hovertemplate\":\"=Injured\\u003cbr\\u003estate=%{x}\\u003cbr\\u003eNumber=%{y}\\u003cextra\\u003e\\u003c\\u002fextra\\u003e\",\"legendgroup\":\"Injured\",\"marker\":{\"color\":\"#EF553B\",\"pattern\":{\"shape\":\"\"}},\"name\":\"Injured\",\"offsetgroup\":\"Injured\",\"orientation\":\"v\",\"showlegend\":true,\"textposition\":\"auto\",\"x\":[\"Alabama\",\"Alaska\",\"Arizona\",\"Arkansas\",\"California\",\"Colorado\",\"Connecticut\",\"Delaware\",\"Florida\",\"Georgia\",\"Hawaii\",\"Illinois\",\"Indiana\",\"Iowa\",\"Kansas\",\"Kentucky\",\"Louisiana\",\"Maryland\",\"Massachusetts\",\"Michigan\",\"Minnesota\",\"Mississippi\",\"Missouri\",\"Nebraska\",\"Nevada\",\"New Jersey\",\"New Mexico\",\"New York\",\"North Carolina\",\"Ohio\",\"Oklahoma\",\"Oregon\",\"Pennsylvania\",\"South Carolina\",\"South Dakota\",\"Tennessee\",\"Texas\",\"Utah\",\"Virginia\",\"Washington\",\"Wisconsin\"],\"xaxis\":\"x\",\"y\":[6,1,0,3,22,3,2,1,29,8,1,15,4,1,2,18,4,9,1,10,2,1,4,2,2,0,2,3,7,15,3,1,4,6,1,5,31,2,2,7,2],\"yaxis\":\"y\",\"type\":\"bar\"},{\"alignmentgroup\":\"True\",\"hovertemplate\":\"=Victims\\u003cbr\\u003estate=%{x}\\u003cbr\\u003eNumber=%{y}\\u003cextra\\u003e\\u003c\\u002fextra\\u003e\",\"legendgroup\":\"Victims\",\"marker\":{\"color\":\"#00cc96\",\"pattern\":{\"shape\":\"\"}},\"name\":\"Victims\",\"offsetgroup\":\"Victims\",\"orientation\":\"v\",\"showlegend\":true,\"textposition\":\"auto\",\"x\":[\"Alabama\",\"Alaska\",\"Arizona\",\"Arkansas\",\"California\",\"Colorado\",\"Connecticut\",\"Delaware\",\"Florida\",\"Georgia\",\"Hawaii\",\"Illinois\",\"Indiana\",\"Iowa\",\"Kansas\",\"Kentucky\",\"Louisiana\",\"Maryland\",\"Massachusetts\",\"Michigan\",\"Minnesota\",\"Mississippi\",\"Missouri\",\"Nebraska\",\"Nevada\",\"New Jersey\",\"New Mexico\",\"New York\",\"North Carolina\",\"Ohio\",\"Oklahoma\",\"Oregon\",\"Pennsylvania\",\"South Carolina\",\"South Dakota\",\"Tennessee\",\"Texas\",\"Utah\",\"Virginia\",\"Washington\",\"Wisconsin\"],\"xaxis\":\"x\",\"y\":[9,1,1,3,29,4,28,1,51,10,1,17,5,2,2,21,4,11,1,12,2,2,6,3,4,1,4,3,10,18,3,2,6,7,1,6,44,2,3,13,3],\"yaxis\":\"y\",\"type\":\"bar\"}],                        {\"template\":{\"data\":{\"histogram2dcontour\":[{\"type\":\"histogram2dcontour\",\"colorbar\":{\"outlinewidth\":0,\"ticks\":\"\"},\"colorscale\":[[0.0,\"#0d0887\"],[0.1111111111111111,\"#46039f\"],[0.2222222222222222,\"#7201a8\"],[0.3333333333333333,\"#9c179e\"],[0.4444444444444444,\"#bd3786\"],[0.5555555555555556,\"#d8576b\"],[0.6666666666666666,\"#ed7953\"],[0.7777777777777778,\"#fb9f3a\"],[0.8888888888888888,\"#fdca26\"],[1.0,\"#f0f921\"]]}],\"choropleth\":[{\"type\":\"choropleth\",\"colorbar\":{\"outlinewidth\":0,\"ticks\":\"\"}}],\"histogram2d\":[{\"type\":\"histogram2d\",\"colorbar\":{\"outlinewidth\":0,\"ticks\":\"\"},\"colorscale\":[[0.0,\"#0d0887\"],[0.1111111111111111,\"#46039f\"],[0.2222222222222222,\"#7201a8\"],[0.3333333333333333,\"#9c179e\"],[0.4444444444444444,\"#bd3786\"],[0.5555555555555556,\"#d8576b\"],[0.6666666666666666,\"#ed7953\"],[0.7777777777777778,\"#fb9f3a\"],[0.8888888888888888,\"#fdca26\"],[1.0,\"#f0f921\"]]}],\"heatmap\":[{\"type\":\"heatmap\",\"colorbar\":{\"outlinewidth\":0,\"ticks\":\"\"},\"colorscale\":[[0.0,\"#0d0887\"],[0.1111111111111111,\"#46039f\"],[0.2222222222222222,\"#7201a8\"],[0.3333333333333333,\"#9c179e\"],[0.4444444444444444,\"#bd3786\"],[0.5555555555555556,\"#d8576b\"],[0.6666666666666666,\"#ed7953\"],[0.7777777777777778,\"#fb9f3a\"],[0.8888888888888888,\"#fdca26\"],[1.0,\"#f0f921\"]]}],\"heatmapgl\":[{\"type\":\"heatmapgl\",\"colorbar\":{\"outlinewidth\":0,\"ticks\":\"\"},\"colorscale\":[[0.0,\"#0d0887\"],[0.1111111111111111,\"#46039f\"],[0.2222222222222222,\"#7201a8\"],[0.3333333333333333,\"#9c179e\"],[0.4444444444444444,\"#bd3786\"],[0.5555555555555556,\"#d8576b\"],[0.6666666666666666,\"#ed7953\"],[0.7777777777777778,\"#fb9f3a\"],[0.8888888888888888,\"#fdca26\"],[1.0,\"#f0f921\"]]}],\"contourcarpet\":[{\"type\":\"contourcarpet\",\"colorbar\":{\"outlinewidth\":0,\"ticks\":\"\"}}],\"contour\":[{\"type\":\"contour\",\"colorbar\":{\"outlinewidth\":0,\"ticks\":\"\"},\"colorscale\":[[0.0,\"#0d0887\"],[0.1111111111111111,\"#46039f\"],[0.2222222222222222,\"#7201a8\"],[0.3333333333333333,\"#9c179e\"],[0.4444444444444444,\"#bd3786\"],[0.5555555555555556,\"#d8576b\"],[0.6666666666666666,\"#ed7953\"],[0.7777777777777778,\"#fb9f3a\"],[0.8888888888888888,\"#fdca26\"],[1.0,\"#f0f921\"]]}],\"surface\":[{\"type\":\"surface\",\"colorbar\":{\"outlinewidth\":0,\"ticks\":\"\"},\"colorscale\":[[0.0,\"#0d0887\"],[0.1111111111111111,\"#46039f\"],[0.2222222222222222,\"#7201a8\"],[0.3333333333333333,\"#9c179e\"],[0.4444444444444444,\"#bd3786\"],[0.5555555555555556,\"#d8576b\"],[0.6666666666666666,\"#ed7953\"],[0.7777777777777778,\"#fb9f3a\"],[0.8888888888888888,\"#fdca26\"],[1.0,\"#f0f921\"]]}],\"mesh3d\":[{\"type\":\"mesh3d\",\"colorbar\":{\"outlinewidth\":0,\"ticks\":\"\"}}],\"scatter\":[{\"fillpattern\":{\"fillmode\":\"overlay\",\"size\":10,\"solidity\":0.2},\"type\":\"scatter\"}],\"parcoords\":[{\"type\":\"parcoords\",\"line\":{\"colorbar\":{\"outlinewidth\":0,\"ticks\":\"\"}}}],\"scatterpolargl\":[{\"type\":\"scatterpolargl\",\"marker\":{\"colorbar\":{\"outlinewidth\":0,\"ticks\":\"\"}}}],\"bar\":[{\"error_x\":{\"color\":\"#2a3f5f\"},\"error_y\":{\"color\":\"#2a3f5f\"},\"marker\":{\"line\":{\"color\":\"#E5ECF6\",\"width\":0.5},\"pattern\":{\"fillmode\":\"overlay\",\"size\":10,\"solidity\":0.2}},\"type\":\"bar\"}],\"scattergeo\":[{\"type\":\"scattergeo\",\"marker\":{\"colorbar\":{\"outlinewidth\":0,\"ticks\":\"\"}}}],\"scatterpolar\":[{\"type\":\"scatterpolar\",\"marker\":{\"colorbar\":{\"outlinewidth\":0,\"ticks\":\"\"}}}],\"histogram\":[{\"marker\":{\"pattern\":{\"fillmode\":\"overlay\",\"size\":10,\"solidity\":0.2}},\"type\":\"histogram\"}],\"scattergl\":[{\"type\":\"scattergl\",\"marker\":{\"colorbar\":{\"outlinewidth\":0,\"ticks\":\"\"}}}],\"scatter3d\":[{\"type\":\"scatter3d\",\"line\":{\"colorbar\":{\"outlinewidth\":0,\"ticks\":\"\"}},\"marker\":{\"colorbar\":{\"outlinewidth\":0,\"ticks\":\"\"}}}],\"scattermapbox\":[{\"type\":\"scattermapbox\",\"marker\":{\"colorbar\":{\"outlinewidth\":0,\"ticks\":\"\"}}}],\"scatterternary\":[{\"type\":\"scatterternary\",\"marker\":{\"colorbar\":{\"outlinewidth\":0,\"ticks\":\"\"}}}],\"scattercarpet\":[{\"type\":\"scattercarpet\",\"marker\":{\"colorbar\":{\"outlinewidth\":0,\"ticks\":\"\"}}}],\"carpet\":[{\"aaxis\":{\"endlinecolor\":\"#2a3f5f\",\"gridcolor\":\"white\",\"linecolor\":\"white\",\"minorgridcolor\":\"white\",\"startlinecolor\":\"#2a3f5f\"},\"baxis\":{\"endlinecolor\":\"#2a3f5f\",\"gridcolor\":\"white\",\"linecolor\":\"white\",\"minorgridcolor\":\"white\",\"startlinecolor\":\"#2a3f5f\"},\"type\":\"carpet\"}],\"table\":[{\"cells\":{\"fill\":{\"color\":\"#EBF0F8\"},\"line\":{\"color\":\"white\"}},\"header\":{\"fill\":{\"color\":\"#C8D4E3\"},\"line\":{\"color\":\"white\"}},\"type\":\"table\"}],\"barpolar\":[{\"marker\":{\"line\":{\"color\":\"#E5ECF6\",\"width\":0.5},\"pattern\":{\"fillmode\":\"overlay\",\"size\":10,\"solidity\":0.2}},\"type\":\"barpolar\"}],\"pie\":[{\"automargin\":true,\"type\":\"pie\"}]},\"layout\":{\"autotypenumbers\":\"strict\",\"colorway\":[\"#636efa\",\"#EF553B\",\"#00cc96\",\"#ab63fa\",\"#FFA15A\",\"#19d3f3\",\"#FF6692\",\"#B6E880\",\"#FF97FF\",\"#FECB52\"],\"font\":{\"color\":\"#2a3f5f\"},\"hovermode\":\"closest\",\"hoverlabel\":{\"align\":\"left\"},\"paper_bgcolor\":\"white\",\"plot_bgcolor\":\"#E5ECF6\",\"polar\":{\"bgcolor\":\"#E5ECF6\",\"angularaxis\":{\"gridcolor\":\"white\",\"linecolor\":\"white\",\"ticks\":\"\"},\"radialaxis\":{\"gridcolor\":\"white\",\"linecolor\":\"white\",\"ticks\":\"\"}},\"ternary\":{\"bgcolor\":\"#E5ECF6\",\"aaxis\":{\"gridcolor\":\"white\",\"linecolor\":\"white\",\"ticks\":\"\"},\"baxis\":{\"gridcolor\":\"white\",\"linecolor\":\"white\",\"ticks\":\"\"},\"caxis\":{\"gridcolor\":\"white\",\"linecolor\":\"white\",\"ticks\":\"\"}},\"coloraxis\":{\"colorbar\":{\"outlinewidth\":0,\"ticks\":\"\"}},\"colorscale\":{\"sequential\":[[0.0,\"#0d0887\"],[0.1111111111111111,\"#46039f\"],[0.2222222222222222,\"#7201a8\"],[0.3333333333333333,\"#9c179e\"],[0.4444444444444444,\"#bd3786\"],[0.5555555555555556,\"#d8576b\"],[0.6666666666666666,\"#ed7953\"],[0.7777777777777778,\"#fb9f3a\"],[0.8888888888888888,\"#fdca26\"],[1.0,\"#f0f921\"]],\"sequentialminus\":[[0.0,\"#0d0887\"],[0.1111111111111111,\"#46039f\"],[0.2222222222222222,\"#7201a8\"],[0.3333333333333333,\"#9c179e\"],[0.4444444444444444,\"#bd3786\"],[0.5555555555555556,\"#d8576b\"],[0.6666666666666666,\"#ed7953\"],[0.7777777777777778,\"#fb9f3a\"],[0.8888888888888888,\"#fdca26\"],[1.0,\"#f0f921\"]],\"diverging\":[[0,\"#8e0152\"],[0.1,\"#c51b7d\"],[0.2,\"#de77ae\"],[0.3,\"#f1b6da\"],[0.4,\"#fde0ef\"],[0.5,\"#f7f7f7\"],[0.6,\"#e6f5d0\"],[0.7,\"#b8e186\"],[0.8,\"#7fbc41\"],[0.9,\"#4d9221\"],[1,\"#276419\"]]},\"xaxis\":{\"gridcolor\":\"white\",\"linecolor\":\"white\",\"ticks\":\"\",\"title\":{\"standoff\":15},\"zerolinecolor\":\"white\",\"automargin\":true,\"zerolinewidth\":2},\"yaxis\":{\"gridcolor\":\"white\",\"linecolor\":\"white\",\"ticks\":\"\",\"title\":{\"standoff\":15},\"zerolinecolor\":\"white\",\"automargin\":true,\"zerolinewidth\":2},\"scene\":{\"xaxis\":{\"backgroundcolor\":\"#E5ECF6\",\"gridcolor\":\"white\",\"linecolor\":\"white\",\"showbackground\":true,\"ticks\":\"\",\"zerolinecolor\":\"white\",\"gridwidth\":2},\"yaxis\":{\"backgroundcolor\":\"#E5ECF6\",\"gridcolor\":\"white\",\"linecolor\":\"white\",\"showbackground\":true,\"ticks\":\"\",\"zerolinecolor\":\"white\",\"gridwidth\":2},\"zaxis\":{\"backgroundcolor\":\"#E5ECF6\",\"gridcolor\":\"white\",\"linecolor\":\"white\",\"showbackground\":true,\"ticks\":\"\",\"zerolinecolor\":\"white\",\"gridwidth\":2}},\"shapedefaults\":{\"line\":{\"color\":\"#2a3f5f\"}},\"annotationdefaults\":{\"arrowcolor\":\"#2a3f5f\",\"arrowhead\":0,\"arrowwidth\":1},\"geo\":{\"bgcolor\":\"white\",\"landcolor\":\"#E5ECF6\",\"subunitcolor\":\"white\",\"showland\":true,\"showlakes\":true,\"lakecolor\":\"white\"},\"title\":{\"x\":0.05},\"mapbox\":{\"style\":\"light\"}}},\"xaxis\":{\"anchor\":\"y\",\"domain\":[0.0,1.0],\"title\":{\"text\":\"state\"},\"tickangle\":-90},\"yaxis\":{\"anchor\":\"x\",\"domain\":[0.0,1.0],\"title\":{\"text\":\"Number\"}},\"legend\":{\"title\":{\"text\":\"\"},\"tracegroupgap\":0},\"title\":{\"text\":\"Number of Killed, Injured, and Victims in school shootings between 2009 and 2018 by State\"},\"barmode\":\"relative\"},                        {\"responsive\": true}                    ).then(function(){\n",
       "                            \n",
       "var gd = document.getElementById('22a84238-6509-4fcb-8b45-e4aedd802624');\n",
       "var x = new MutationObserver(function (mutations, observer) {{\n",
       "        var display = window.getComputedStyle(gd).display;\n",
       "        if (!display || display === 'none') {{\n",
       "            console.log([gd, 'removed!']);\n",
       "            Plotly.purge(gd);\n",
       "            observer.disconnect();\n",
       "        }}\n",
       "}});\n",
       "\n",
       "// Listen for the removal of the full notebook cells\n",
       "var notebookContainer = gd.closest('#notebook-container');\n",
       "if (notebookContainer) {{\n",
       "    x.observe(notebookContainer, {childList: true});\n",
       "}}\n",
       "\n",
       "// Listen for the clearing of the current output cell\n",
       "var outputEl = gd.closest('.output');\n",
       "if (outputEl) {{\n",
       "    x.observe(outputEl, {childList: true});\n",
       "}}\n",
       "\n",
       "                        })                };                });            </script>        </div>"
      ]
     },
     "metadata": {},
     "output_type": "display_data"
    }
   ],
   "source": [
    "import pandas as pd\n",
    "import numpy as np\n",
    "import plotly.graph_objs as go\n",
    "import plotly.express as px\n",
    "\n",
    "df = pd.read_csv('school_shootings.csv')\n",
    "df_statepop = pd.read_csv('nst-est2019-alldata.csv')\n",
    "\n",
    "df.columns = df.columns.str.strip()\n",
    "\n",
    "# Remove unnecessary columns\n",
    "columns_to_drop = ['LONCOD', 'LATCOD', 'CDCODE', 'year', 'school', 'city', 'address', 'urbanrural', 'race', 'date', 'type', 'NCESSCH', 'time']\n",
    "df = df.drop(columns=columns_to_drop, errors='ignore')\n",
    "\n",
    "# Rename columns for better readability\n",
    "df.rename(columns={'killed': 'Killed', 'injured': 'Injured', 'victims': 'Victims'}, inplace=True)\n",
    "\n",
    "# Group by state and sum up the killed, injured, and victims\n",
    "df_statewise = df.groupby('state')[['Killed', 'Injured', 'Victims']].sum().reset_index()\n",
    "\n",
    "# Display the processed dataframe\n",
    "df_statewise.head()\n",
    "\n",
    "# Create the box plot for number of Killed, Injured, and Victims by State\n",
    "fig = px.bar(df_statewise.melt(id_vars='state', value_vars=['Killed', 'Injured', 'Victims']),\n",
    "             x='state', y='value', color='variable',\n",
    "             labels={'variable': '', 'value': 'Number'},\n",
    "             title='Number of Killed, Injured, and Victims in school shootings between 2009 and 2018 by State')\n",
    "\n",
    "# Update layout for better visualization\n",
    "fig.update_layout(xaxis_tickangle=-90)\n",
    "\n",
    "fig.show()"
   ]
  },
  {
   "cell_type": "markdown",
   "metadata": {},
   "source": [
    "*Figure 2: This chart represents the number of elementary, middle and high school students of 41 states between 2009 and 218, who have been witnesses of a school shooting. It visualizes the number of students that got killed, injured and victimized. There is missing data for the 9 remaining states.*\n",
    "\n",
    "The chart shows the states Florida and Texas sticking out with the amount of killed, injured and victims. It is known that within these states, gun laws are quite permissive. Although states such as California and Connecticut are quite high, regardless of the strict laws, students are still vulnerable. According to the Stanford Institute for Economic Policy Research, students exposed to shootings are less likely to graduate high school, go to college, and graduate college, and they are less likely to be employed and have lower earnings in their mid-20’s. It also leads to a higher rate of antidepressant and an increase in absenteeism in the years following the gun violence.\n",
    "\n",
    "The homicide rate in the USA is, thanks to the right to bear arms, a lot higher than similar countries with stricter gun laws, such as the Netherlands, Germany, France, and Spain. The visualization is a bar chart where the countries’ murder rate is visualized."
   ]
  },
  {
   "cell_type": "code",
   "execution_count": 6,
   "metadata": {},
   "outputs": [
    {
     "name": "stdout",
     "output_type": "stream",
     "text": [
      "                    Country  Year     VALUE\n",
      "0  United States of America  2019  3.151774\n",
      "1                    Europe  2019  0.344465\n",
      "2             North America  2019  1.285117\n",
      "3  United States of America  2020  4.054271\n",
      "4                    Europe  2020  0.275268\n",
      "5             North America  2020  2.638050\n",
      "6  United States of America  2021  5.528964\n",
      "7                    Europe  2021  0.258776\n",
      "8             North America  2021  3.661326\n"
     ]
    },
    {
     "data": {
      "application/vnd.plotly.v1+json": {
       "config": {
        "plotlyServerURL": "https://plot.ly"
       },
       "data": [
        {
         "marker": {
          "color": "rgb(102,194,165)"
         },
         "name": "2019",
         "type": "bar",
         "x": [
          "United States of America",
          "Europe",
          "North America",
          "United States of America",
          "Europe",
          "North America",
          "United States of America",
          "Europe",
          "North America"
         ],
         "y": [
          3.15177386017468,
          0.3444653534861602,
          1.285116706548714
         ]
        },
        {
         "marker": {
          "color": "rgb(252,141,98)"
         },
         "name": "2020",
         "type": "bar",
         "x": [
          "United States of America",
          "Europe",
          "North America",
          "United States of America",
          "Europe",
          "North America",
          "United States of America",
          "Europe",
          "North America"
         ],
         "y": [
          4.0542712247439,
          0.2752682380484401,
          2.638049962181905
         ]
        },
        {
         "marker": {
          "color": "rgb(141,160,203)"
         },
         "name": "2021",
         "type": "bar",
         "x": [
          "United States of America",
          "Europe",
          "North America",
          "United States of America",
          "Europe",
          "North America",
          "United States of America",
          "Europe",
          "North America"
         ],
         "y": [
          5.52896378318,
          0.25877632499724545,
          3.661325851587833
         ]
        }
       ],
       "layout": {
        "autosize": true,
        "bargap": 0.15,
        "bargroupgap": 0.1,
        "barmode": "group",
        "template": {
         "data": {
          "bar": [
           {
            "error_x": {
             "color": "#2a3f5f"
            },
            "error_y": {
             "color": "#2a3f5f"
            },
            "marker": {
             "line": {
              "color": "#E5ECF6",
              "width": 0.5
             },
             "pattern": {
              "fillmode": "overlay",
              "size": 10,
              "solidity": 0.2
             }
            },
            "type": "bar"
           }
          ],
          "barpolar": [
           {
            "marker": {
             "line": {
              "color": "#E5ECF6",
              "width": 0.5
             },
             "pattern": {
              "fillmode": "overlay",
              "size": 10,
              "solidity": 0.2
             }
            },
            "type": "barpolar"
           }
          ],
          "carpet": [
           {
            "aaxis": {
             "endlinecolor": "#2a3f5f",
             "gridcolor": "white",
             "linecolor": "white",
             "minorgridcolor": "white",
             "startlinecolor": "#2a3f5f"
            },
            "baxis": {
             "endlinecolor": "#2a3f5f",
             "gridcolor": "white",
             "linecolor": "white",
             "minorgridcolor": "white",
             "startlinecolor": "#2a3f5f"
            },
            "type": "carpet"
           }
          ],
          "choropleth": [
           {
            "colorbar": {
             "outlinewidth": 0,
             "ticks": ""
            },
            "type": "choropleth"
           }
          ],
          "contour": [
           {
            "colorbar": {
             "outlinewidth": 0,
             "ticks": ""
            },
            "colorscale": [
             [
              0,
              "#0d0887"
             ],
             [
              0.1111111111111111,
              "#46039f"
             ],
             [
              0.2222222222222222,
              "#7201a8"
             ],
             [
              0.3333333333333333,
              "#9c179e"
             ],
             [
              0.4444444444444444,
              "#bd3786"
             ],
             [
              0.5555555555555556,
              "#d8576b"
             ],
             [
              0.6666666666666666,
              "#ed7953"
             ],
             [
              0.7777777777777778,
              "#fb9f3a"
             ],
             [
              0.8888888888888888,
              "#fdca26"
             ],
             [
              1,
              "#f0f921"
             ]
            ],
            "type": "contour"
           }
          ],
          "contourcarpet": [
           {
            "colorbar": {
             "outlinewidth": 0,
             "ticks": ""
            },
            "type": "contourcarpet"
           }
          ],
          "heatmap": [
           {
            "colorbar": {
             "outlinewidth": 0,
             "ticks": ""
            },
            "colorscale": [
             [
              0,
              "#0d0887"
             ],
             [
              0.1111111111111111,
              "#46039f"
             ],
             [
              0.2222222222222222,
              "#7201a8"
             ],
             [
              0.3333333333333333,
              "#9c179e"
             ],
             [
              0.4444444444444444,
              "#bd3786"
             ],
             [
              0.5555555555555556,
              "#d8576b"
             ],
             [
              0.6666666666666666,
              "#ed7953"
             ],
             [
              0.7777777777777778,
              "#fb9f3a"
             ],
             [
              0.8888888888888888,
              "#fdca26"
             ],
             [
              1,
              "#f0f921"
             ]
            ],
            "type": "heatmap"
           }
          ],
          "heatmapgl": [
           {
            "colorbar": {
             "outlinewidth": 0,
             "ticks": ""
            },
            "colorscale": [
             [
              0,
              "#0d0887"
             ],
             [
              0.1111111111111111,
              "#46039f"
             ],
             [
              0.2222222222222222,
              "#7201a8"
             ],
             [
              0.3333333333333333,
              "#9c179e"
             ],
             [
              0.4444444444444444,
              "#bd3786"
             ],
             [
              0.5555555555555556,
              "#d8576b"
             ],
             [
              0.6666666666666666,
              "#ed7953"
             ],
             [
              0.7777777777777778,
              "#fb9f3a"
             ],
             [
              0.8888888888888888,
              "#fdca26"
             ],
             [
              1,
              "#f0f921"
             ]
            ],
            "type": "heatmapgl"
           }
          ],
          "histogram": [
           {
            "marker": {
             "pattern": {
              "fillmode": "overlay",
              "size": 10,
              "solidity": 0.2
             }
            },
            "type": "histogram"
           }
          ],
          "histogram2d": [
           {
            "colorbar": {
             "outlinewidth": 0,
             "ticks": ""
            },
            "colorscale": [
             [
              0,
              "#0d0887"
             ],
             [
              0.1111111111111111,
              "#46039f"
             ],
             [
              0.2222222222222222,
              "#7201a8"
             ],
             [
              0.3333333333333333,
              "#9c179e"
             ],
             [
              0.4444444444444444,
              "#bd3786"
             ],
             [
              0.5555555555555556,
              "#d8576b"
             ],
             [
              0.6666666666666666,
              "#ed7953"
             ],
             [
              0.7777777777777778,
              "#fb9f3a"
             ],
             [
              0.8888888888888888,
              "#fdca26"
             ],
             [
              1,
              "#f0f921"
             ]
            ],
            "type": "histogram2d"
           }
          ],
          "histogram2dcontour": [
           {
            "colorbar": {
             "outlinewidth": 0,
             "ticks": ""
            },
            "colorscale": [
             [
              0,
              "#0d0887"
             ],
             [
              0.1111111111111111,
              "#46039f"
             ],
             [
              0.2222222222222222,
              "#7201a8"
             ],
             [
              0.3333333333333333,
              "#9c179e"
             ],
             [
              0.4444444444444444,
              "#bd3786"
             ],
             [
              0.5555555555555556,
              "#d8576b"
             ],
             [
              0.6666666666666666,
              "#ed7953"
             ],
             [
              0.7777777777777778,
              "#fb9f3a"
             ],
             [
              0.8888888888888888,
              "#fdca26"
             ],
             [
              1,
              "#f0f921"
             ]
            ],
            "type": "histogram2dcontour"
           }
          ],
          "mesh3d": [
           {
            "colorbar": {
             "outlinewidth": 0,
             "ticks": ""
            },
            "type": "mesh3d"
           }
          ],
          "parcoords": [
           {
            "line": {
             "colorbar": {
              "outlinewidth": 0,
              "ticks": ""
             }
            },
            "type": "parcoords"
           }
          ],
          "pie": [
           {
            "automargin": true,
            "type": "pie"
           }
          ],
          "scatter": [
           {
            "fillpattern": {
             "fillmode": "overlay",
             "size": 10,
             "solidity": 0.2
            },
            "type": "scatter"
           }
          ],
          "scatter3d": [
           {
            "line": {
             "colorbar": {
              "outlinewidth": 0,
              "ticks": ""
             }
            },
            "marker": {
             "colorbar": {
              "outlinewidth": 0,
              "ticks": ""
             }
            },
            "type": "scatter3d"
           }
          ],
          "scattercarpet": [
           {
            "marker": {
             "colorbar": {
              "outlinewidth": 0,
              "ticks": ""
             }
            },
            "type": "scattercarpet"
           }
          ],
          "scattergeo": [
           {
            "marker": {
             "colorbar": {
              "outlinewidth": 0,
              "ticks": ""
             }
            },
            "type": "scattergeo"
           }
          ],
          "scattergl": [
           {
            "marker": {
             "colorbar": {
              "outlinewidth": 0,
              "ticks": ""
             }
            },
            "type": "scattergl"
           }
          ],
          "scattermapbox": [
           {
            "marker": {
             "colorbar": {
              "outlinewidth": 0,
              "ticks": ""
             }
            },
            "type": "scattermapbox"
           }
          ],
          "scatterpolar": [
           {
            "marker": {
             "colorbar": {
              "outlinewidth": 0,
              "ticks": ""
             }
            },
            "type": "scatterpolar"
           }
          ],
          "scatterpolargl": [
           {
            "marker": {
             "colorbar": {
              "outlinewidth": 0,
              "ticks": ""
             }
            },
            "type": "scatterpolargl"
           }
          ],
          "scatterternary": [
           {
            "marker": {
             "colorbar": {
              "outlinewidth": 0,
              "ticks": ""
             }
            },
            "type": "scatterternary"
           }
          ],
          "surface": [
           {
            "colorbar": {
             "outlinewidth": 0,
             "ticks": ""
            },
            "colorscale": [
             [
              0,
              "#0d0887"
             ],
             [
              0.1111111111111111,
              "#46039f"
             ],
             [
              0.2222222222222222,
              "#7201a8"
             ],
             [
              0.3333333333333333,
              "#9c179e"
             ],
             [
              0.4444444444444444,
              "#bd3786"
             ],
             [
              0.5555555555555556,
              "#d8576b"
             ],
             [
              0.6666666666666666,
              "#ed7953"
             ],
             [
              0.7777777777777778,
              "#fb9f3a"
             ],
             [
              0.8888888888888888,
              "#fdca26"
             ],
             [
              1,
              "#f0f921"
             ]
            ],
            "type": "surface"
           }
          ],
          "table": [
           {
            "cells": {
             "fill": {
              "color": "#EBF0F8"
             },
             "line": {
              "color": "white"
             }
            },
            "header": {
             "fill": {
              "color": "#C8D4E3"
             },
             "line": {
              "color": "white"
             }
            },
            "type": "table"
           }
          ]
         },
         "layout": {
          "annotationdefaults": {
           "arrowcolor": "#2a3f5f",
           "arrowhead": 0,
           "arrowwidth": 1
          },
          "autotypenumbers": "strict",
          "coloraxis": {
           "colorbar": {
            "outlinewidth": 0,
            "ticks": ""
           }
          },
          "colorscale": {
           "diverging": [
            [
             0,
             "#8e0152"
            ],
            [
             0.1,
             "#c51b7d"
            ],
            [
             0.2,
             "#de77ae"
            ],
            [
             0.3,
             "#f1b6da"
            ],
            [
             0.4,
             "#fde0ef"
            ],
            [
             0.5,
             "#f7f7f7"
            ],
            [
             0.6,
             "#e6f5d0"
            ],
            [
             0.7,
             "#b8e186"
            ],
            [
             0.8,
             "#7fbc41"
            ],
            [
             0.9,
             "#4d9221"
            ],
            [
             1,
             "#276419"
            ]
           ],
           "sequential": [
            [
             0,
             "#0d0887"
            ],
            [
             0.1111111111111111,
             "#46039f"
            ],
            [
             0.2222222222222222,
             "#7201a8"
            ],
            [
             0.3333333333333333,
             "#9c179e"
            ],
            [
             0.4444444444444444,
             "#bd3786"
            ],
            [
             0.5555555555555556,
             "#d8576b"
            ],
            [
             0.6666666666666666,
             "#ed7953"
            ],
            [
             0.7777777777777778,
             "#fb9f3a"
            ],
            [
             0.8888888888888888,
             "#fdca26"
            ],
            [
             1,
             "#f0f921"
            ]
           ],
           "sequentialminus": [
            [
             0,
             "#0d0887"
            ],
            [
             0.1111111111111111,
             "#46039f"
            ],
            [
             0.2222222222222222,
             "#7201a8"
            ],
            [
             0.3333333333333333,
             "#9c179e"
            ],
            [
             0.4444444444444444,
             "#bd3786"
            ],
            [
             0.5555555555555556,
             "#d8576b"
            ],
            [
             0.6666666666666666,
             "#ed7953"
            ],
            [
             0.7777777777777778,
             "#fb9f3a"
            ],
            [
             0.8888888888888888,
             "#fdca26"
            ],
            [
             1,
             "#f0f921"
            ]
           ]
          },
          "colorway": [
           "#636efa",
           "#EF553B",
           "#00cc96",
           "#ab63fa",
           "#FFA15A",
           "#19d3f3",
           "#FF6692",
           "#B6E880",
           "#FF97FF",
           "#FECB52"
          ],
          "font": {
           "color": "#2a3f5f"
          },
          "geo": {
           "bgcolor": "white",
           "lakecolor": "white",
           "landcolor": "#E5ECF6",
           "showlakes": true,
           "showland": true,
           "subunitcolor": "white"
          },
          "hoverlabel": {
           "align": "left"
          },
          "hovermode": "closest",
          "mapbox": {
           "style": "light"
          },
          "paper_bgcolor": "white",
          "plot_bgcolor": "#E5ECF6",
          "polar": {
           "angularaxis": {
            "gridcolor": "white",
            "linecolor": "white",
            "ticks": ""
           },
           "bgcolor": "#E5ECF6",
           "radialaxis": {
            "gridcolor": "white",
            "linecolor": "white",
            "ticks": ""
           }
          },
          "scene": {
           "xaxis": {
            "backgroundcolor": "#E5ECF6",
            "gridcolor": "white",
            "gridwidth": 2,
            "linecolor": "white",
            "showbackground": true,
            "ticks": "",
            "zerolinecolor": "white"
           },
           "yaxis": {
            "backgroundcolor": "#E5ECF6",
            "gridcolor": "white",
            "gridwidth": 2,
            "linecolor": "white",
            "showbackground": true,
            "ticks": "",
            "zerolinecolor": "white"
           },
           "zaxis": {
            "backgroundcolor": "#E5ECF6",
            "gridcolor": "white",
            "gridwidth": 2,
            "linecolor": "white",
            "showbackground": true,
            "ticks": "",
            "zerolinecolor": "white"
           }
          },
          "shapedefaults": {
           "line": {
            "color": "#2a3f5f"
           }
          },
          "ternary": {
           "aaxis": {
            "gridcolor": "white",
            "linecolor": "white",
            "ticks": ""
           },
           "baxis": {
            "gridcolor": "white",
            "linecolor": "white",
            "ticks": ""
           },
           "bgcolor": "#E5ECF6",
           "caxis": {
            "gridcolor": "white",
            "linecolor": "white",
            "ticks": ""
           }
          },
          "title": {
           "x": 0.05
          },
          "xaxis": {
           "automargin": true,
           "gridcolor": "white",
           "linecolor": "white",
           "ticks": "",
           "title": {
            "standoff": 15
           },
           "zerolinecolor": "white",
           "zerolinewidth": 2
          },
          "yaxis": {
           "automargin": true,
           "gridcolor": "white",
           "linecolor": "white",
           "ticks": "",
           "title": {
            "standoff": 15
           },
           "zerolinecolor": "white",
           "zerolinewidth": 2
          }
         }
        },
        "title": {
         "text": "Murders by firearms per 100,000 people"
        },
        "xaxis": {
         "autorange": true,
         "categoryorder": "category ascending",
         "range": [
          -0.5,
          2.5
         ],
         "title": {
          "text": "Region"
         },
         "type": "category"
        },
        "yaxis": {
         "autorange": true,
         "range": [
          0,
          5.819961877031579
         ],
         "title": {
          "text": "Murders by firearms per 100,000 people"
         },
         "type": "linear"
        }
       }
      },
      "image/png": "[encoded data removed]",
      "text/html": [
       "<div>                            <div id=\"ada26fe0-0f5f-48a2-9494-54e4e0a27445\" class=\"plotly-graph-div\" style=\"height:400px; width:100%;\"></div>            <script type=\"text/javascript\">                require([\"plotly\"], function(Plotly) {                    window.PLOTLYENV=window.PLOTLYENV || {};                                    if (document.getElementById(\"ada26fe0-0f5f-48a2-9494-54e4e0a27445\")) {                    Plotly.newPlot(                        \"ada26fe0-0f5f-48a2-9494-54e4e0a27445\",                        [{\"marker\":{\"color\":\"rgb(102,194,165)\"},\"name\":\"2019\",\"x\":[\"United States of America\",\"Europe\",\"North America\",\"United States of America\",\"Europe\",\"North America\",\"United States of America\",\"Europe\",\"North America\"],\"y\":[3.15177386017468,0.3444653534861602,1.285116706548714],\"type\":\"bar\"},{\"marker\":{\"color\":\"rgb(252,141,98)\"},\"name\":\"2020\",\"x\":[\"United States of America\",\"Europe\",\"North America\",\"United States of America\",\"Europe\",\"North America\",\"United States of America\",\"Europe\",\"North America\"],\"y\":[4.0542712247439,0.2752682380484401,2.638049962181905],\"type\":\"bar\"},{\"marker\":{\"color\":\"rgb(141,160,203)\"},\"name\":\"2021\",\"x\":[\"United States of America\",\"Europe\",\"North America\",\"United States of America\",\"Europe\",\"North America\",\"United States of America\",\"Europe\",\"North America\"],\"y\":[5.52896378318,0.25877632499724545,3.661325851587833],\"type\":\"bar\"}],                        {\"template\":{\"data\":{\"histogram2dcontour\":[{\"type\":\"histogram2dcontour\",\"colorbar\":{\"outlinewidth\":0,\"ticks\":\"\"},\"colorscale\":[[0.0,\"#0d0887\"],[0.1111111111111111,\"#46039f\"],[0.2222222222222222,\"#7201a8\"],[0.3333333333333333,\"#9c179e\"],[0.4444444444444444,\"#bd3786\"],[0.5555555555555556,\"#d8576b\"],[0.6666666666666666,\"#ed7953\"],[0.7777777777777778,\"#fb9f3a\"],[0.8888888888888888,\"#fdca26\"],[1.0,\"#f0f921\"]]}],\"choropleth\":[{\"type\":\"choropleth\",\"colorbar\":{\"outlinewidth\":0,\"ticks\":\"\"}}],\"histogram2d\":[{\"type\":\"histogram2d\",\"colorbar\":{\"outlinewidth\":0,\"ticks\":\"\"},\"colorscale\":[[0.0,\"#0d0887\"],[0.1111111111111111,\"#46039f\"],[0.2222222222222222,\"#7201a8\"],[0.3333333333333333,\"#9c179e\"],[0.4444444444444444,\"#bd3786\"],[0.5555555555555556,\"#d8576b\"],[0.6666666666666666,\"#ed7953\"],[0.7777777777777778,\"#fb9f3a\"],[0.8888888888888888,\"#fdca26\"],[1.0,\"#f0f921\"]]}],\"heatmap\":[{\"type\":\"heatmap\",\"colorbar\":{\"outlinewidth\":0,\"ticks\":\"\"},\"colorscale\":[[0.0,\"#0d0887\"],[0.1111111111111111,\"#46039f\"],[0.2222222222222222,\"#7201a8\"],[0.3333333333333333,\"#9c179e\"],[0.4444444444444444,\"#bd3786\"],[0.5555555555555556,\"#d8576b\"],[0.6666666666666666,\"#ed7953\"],[0.7777777777777778,\"#fb9f3a\"],[0.8888888888888888,\"#fdca26\"],[1.0,\"#f0f921\"]]}],\"heatmapgl\":[{\"type\":\"heatmapgl\",\"colorbar\":{\"outlinewidth\":0,\"ticks\":\"\"},\"colorscale\":[[0.0,\"#0d0887\"],[0.1111111111111111,\"#46039f\"],[0.2222222222222222,\"#7201a8\"],[0.3333333333333333,\"#9c179e\"],[0.4444444444444444,\"#bd3786\"],[0.5555555555555556,\"#d8576b\"],[0.6666666666666666,\"#ed7953\"],[0.7777777777777778,\"#fb9f3a\"],[0.8888888888888888,\"#fdca26\"],[1.0,\"#f0f921\"]]}],\"contourcarpet\":[{\"type\":\"contourcarpet\",\"colorbar\":{\"outlinewidth\":0,\"ticks\":\"\"}}],\"contour\":[{\"type\":\"contour\",\"colorbar\":{\"outlinewidth\":0,\"ticks\":\"\"},\"colorscale\":[[0.0,\"#0d0887\"],[0.1111111111111111,\"#46039f\"],[0.2222222222222222,\"#7201a8\"],[0.3333333333333333,\"#9c179e\"],[0.4444444444444444,\"#bd3786\"],[0.5555555555555556,\"#d8576b\"],[0.6666666666666666,\"#ed7953\"],[0.7777777777777778,\"#fb9f3a\"],[0.8888888888888888,\"#fdca26\"],[1.0,\"#f0f921\"]]}],\"surface\":[{\"type\":\"surface\",\"colorbar\":{\"outlinewidth\":0,\"ticks\":\"\"},\"colorscale\":[[0.0,\"#0d0887\"],[0.1111111111111111,\"#46039f\"],[0.2222222222222222,\"#7201a8\"],[0.3333333333333333,\"#9c179e\"],[0.4444444444444444,\"#bd3786\"],[0.5555555555555556,\"#d8576b\"],[0.6666666666666666,\"#ed7953\"],[0.7777777777777778,\"#fb9f3a\"],[0.8888888888888888,\"#fdca26\"],[1.0,\"#f0f921\"]]}],\"mesh3d\":[{\"type\":\"mesh3d\",\"colorbar\":{\"outlinewidth\":0,\"ticks\":\"\"}}],\"scatter\":[{\"fillpattern\":{\"fillmode\":\"overlay\",\"size\":10,\"solidity\":0.2},\"type\":\"scatter\"}],\"parcoords\":[{\"type\":\"parcoords\",\"line\":{\"colorbar\":{\"outlinewidth\":0,\"ticks\":\"\"}}}],\"scatterpolargl\":[{\"type\":\"scatterpolargl\",\"marker\":{\"colorbar\":{\"outlinewidth\":0,\"ticks\":\"\"}}}],\"bar\":[{\"error_x\":{\"color\":\"#2a3f5f\"},\"error_y\":{\"color\":\"#2a3f5f\"},\"marker\":{\"line\":{\"color\":\"#E5ECF6\",\"width\":0.5},\"pattern\":{\"fillmode\":\"overlay\",\"size\":10,\"solidity\":0.2}},\"type\":\"bar\"}],\"scattergeo\":[{\"type\":\"scattergeo\",\"marker\":{\"colorbar\":{\"outlinewidth\":0,\"ticks\":\"\"}}}],\"scatterpolar\":[{\"type\":\"scatterpolar\",\"marker\":{\"colorbar\":{\"outlinewidth\":0,\"ticks\":\"\"}}}],\"histogram\":[{\"marker\":{\"pattern\":{\"fillmode\":\"overlay\",\"size\":10,\"solidity\":0.2}},\"type\":\"histogram\"}],\"scattergl\":[{\"type\":\"scattergl\",\"marker\":{\"colorbar\":{\"outlinewidth\":0,\"ticks\":\"\"}}}],\"scatter3d\":[{\"type\":\"scatter3d\",\"line\":{\"colorbar\":{\"outlinewidth\":0,\"ticks\":\"\"}},\"marker\":{\"colorbar\":{\"outlinewidth\":0,\"ticks\":\"\"}}}],\"scattermapbox\":[{\"type\":\"scattermapbox\",\"marker\":{\"colorbar\":{\"outlinewidth\":0,\"ticks\":\"\"}}}],\"scatterternary\":[{\"type\":\"scatterternary\",\"marker\":{\"colorbar\":{\"outlinewidth\":0,\"ticks\":\"\"}}}],\"scattercarpet\":[{\"type\":\"scattercarpet\",\"marker\":{\"colorbar\":{\"outlinewidth\":0,\"ticks\":\"\"}}}],\"carpet\":[{\"aaxis\":{\"endlinecolor\":\"#2a3f5f\",\"gridcolor\":\"white\",\"linecolor\":\"white\",\"minorgridcolor\":\"white\",\"startlinecolor\":\"#2a3f5f\"},\"baxis\":{\"endlinecolor\":\"#2a3f5f\",\"gridcolor\":\"white\",\"linecolor\":\"white\",\"minorgridcolor\":\"white\",\"startlinecolor\":\"#2a3f5f\"},\"type\":\"carpet\"}],\"table\":[{\"cells\":{\"fill\":{\"color\":\"#EBF0F8\"},\"line\":{\"color\":\"white\"}},\"header\":{\"fill\":{\"color\":\"#C8D4E3\"},\"line\":{\"color\":\"white\"}},\"type\":\"table\"}],\"barpolar\":[{\"marker\":{\"line\":{\"color\":\"#E5ECF6\",\"width\":0.5},\"pattern\":{\"fillmode\":\"overlay\",\"size\":10,\"solidity\":0.2}},\"type\":\"barpolar\"}],\"pie\":[{\"automargin\":true,\"type\":\"pie\"}]},\"layout\":{\"autotypenumbers\":\"strict\",\"colorway\":[\"#636efa\",\"#EF553B\",\"#00cc96\",\"#ab63fa\",\"#FFA15A\",\"#19d3f3\",\"#FF6692\",\"#B6E880\",\"#FF97FF\",\"#FECB52\"],\"font\":{\"color\":\"#2a3f5f\"},\"hovermode\":\"closest\",\"hoverlabel\":{\"align\":\"left\"},\"paper_bgcolor\":\"white\",\"plot_bgcolor\":\"#E5ECF6\",\"polar\":{\"bgcolor\":\"#E5ECF6\",\"angularaxis\":{\"gridcolor\":\"white\",\"linecolor\":\"white\",\"ticks\":\"\"},\"radialaxis\":{\"gridcolor\":\"white\",\"linecolor\":\"white\",\"ticks\":\"\"}},\"ternary\":{\"bgcolor\":\"#E5ECF6\",\"aaxis\":{\"gridcolor\":\"white\",\"linecolor\":\"white\",\"ticks\":\"\"},\"baxis\":{\"gridcolor\":\"white\",\"linecolor\":\"white\",\"ticks\":\"\"},\"caxis\":{\"gridcolor\":\"white\",\"linecolor\":\"white\",\"ticks\":\"\"}},\"coloraxis\":{\"colorbar\":{\"outlinewidth\":0,\"ticks\":\"\"}},\"colorscale\":{\"sequential\":[[0.0,\"#0d0887\"],[0.1111111111111111,\"#46039f\"],[0.2222222222222222,\"#7201a8\"],[0.3333333333333333,\"#9c179e\"],[0.4444444444444444,\"#bd3786\"],[0.5555555555555556,\"#d8576b\"],[0.6666666666666666,\"#ed7953\"],[0.7777777777777778,\"#fb9f3a\"],[0.8888888888888888,\"#fdca26\"],[1.0,\"#f0f921\"]],\"sequentialminus\":[[0.0,\"#0d0887\"],[0.1111111111111111,\"#46039f\"],[0.2222222222222222,\"#7201a8\"],[0.3333333333333333,\"#9c179e\"],[0.4444444444444444,\"#bd3786\"],[0.5555555555555556,\"#d8576b\"],[0.6666666666666666,\"#ed7953\"],[0.7777777777777778,\"#fb9f3a\"],[0.8888888888888888,\"#fdca26\"],[1.0,\"#f0f921\"]],\"diverging\":[[0,\"#8e0152\"],[0.1,\"#c51b7d\"],[0.2,\"#de77ae\"],[0.3,\"#f1b6da\"],[0.4,\"#fde0ef\"],[0.5,\"#f7f7f7\"],[0.6,\"#e6f5d0\"],[0.7,\"#b8e186\"],[0.8,\"#7fbc41\"],[0.9,\"#4d9221\"],[1,\"#276419\"]]},\"xaxis\":{\"gridcolor\":\"white\",\"linecolor\":\"white\",\"ticks\":\"\",\"title\":{\"standoff\":15},\"zerolinecolor\":\"white\",\"automargin\":true,\"zerolinewidth\":2},\"yaxis\":{\"gridcolor\":\"white\",\"linecolor\":\"white\",\"ticks\":\"\",\"title\":{\"standoff\":15},\"zerolinecolor\":\"white\",\"automargin\":true,\"zerolinewidth\":2},\"scene\":{\"xaxis\":{\"backgroundcolor\":\"#E5ECF6\",\"gridcolor\":\"white\",\"linecolor\":\"white\",\"showbackground\":true,\"ticks\":\"\",\"zerolinecolor\":\"white\",\"gridwidth\":2},\"yaxis\":{\"backgroundcolor\":\"#E5ECF6\",\"gridcolor\":\"white\",\"linecolor\":\"white\",\"showbackground\":true,\"ticks\":\"\",\"zerolinecolor\":\"white\",\"gridwidth\":2},\"zaxis\":{\"backgroundcolor\":\"#E5ECF6\",\"gridcolor\":\"white\",\"linecolor\":\"white\",\"showbackground\":true,\"ticks\":\"\",\"zerolinecolor\":\"white\",\"gridwidth\":2}},\"shapedefaults\":{\"line\":{\"color\":\"#2a3f5f\"}},\"annotationdefaults\":{\"arrowcolor\":\"#2a3f5f\",\"arrowhead\":0,\"arrowwidth\":1},\"geo\":{\"bgcolor\":\"white\",\"landcolor\":\"#E5ECF6\",\"subunitcolor\":\"white\",\"showland\":true,\"showlakes\":true,\"lakecolor\":\"white\"},\"title\":{\"x\":0.05},\"mapbox\":{\"style\":\"light\"}}},\"xaxis\":{\"title\":{\"text\":\"Region\"},\"type\":\"category\",\"categoryorder\":\"category ascending\"},\"title\":{\"text\":\"Murders by firearms per 100,000 people\"},\"yaxis\":{\"title\":{\"text\":\"Murders by firearms per 100,000 people\"}},\"barmode\":\"group\",\"bargap\":0.15,\"bargroupgap\":0.1,\"height\":400},                        {\"responsive\": true}                    ).then(function(){\n",
       "                            \n",
       "var gd = document.getElementById('ada26fe0-0f5f-48a2-9494-54e4e0a27445');\n",
       "var x = new MutationObserver(function (mutations, observer) {{\n",
       "        var display = window.getComputedStyle(gd).display;\n",
       "        if (!display || display === 'none') {{\n",
       "            console.log([gd, 'removed!']);\n",
       "            Plotly.purge(gd);\n",
       "            observer.disconnect();\n",
       "        }}\n",
       "}});\n",
       "\n",
       "// Listen for the removal of the full notebook cells\n",
       "var notebookContainer = gd.closest('#notebook-container');\n",
       "if (notebookContainer) {{\n",
       "    x.observe(notebookContainer, {childList: true});\n",
       "}}\n",
       "\n",
       "// Listen for the clearing of the current output cell\n",
       "var outputEl = gd.closest('.output');\n",
       "if (outputEl) {{\n",
       "    x.observe(outputEl, {childList: true});\n",
       "}}\n",
       "\n",
       "                        })                };                });            </script>        </div>"
      ]
     },
     "metadata": {},
     "output_type": "display_data"
    }
   ],
   "source": [
    "import pandas as pd\n",
    "import plotly.graph_objs as go\n",
    "import plotly.express as px\n",
    "from plotly.offline import init_notebook_mode\n",
    "\n",
    "df = pd.read_csv('Murder_rate_test.csv')\n",
    "\n",
    "df = df.filter(['Country', 'Region', 'Subregion', 'Year','VALUE'])\n",
    "\n",
    "europe_df = df[df['Region'] == 'Europe']\n",
    "\n",
    "europe_2019 = europe_df[europe_df['Year'] == 2019]['VALUE'].mean()\n",
    "europe_2020 = europe_df[europe_df['Year'] == 2020]['VALUE'].mean()\n",
    "europe_2021 = europe_df[europe_df['Year'] == 2021]['VALUE'].mean()\n",
    "\n",
    "north_america_df = df[df['Subregion'] == 'Northern America']\n",
    "\n",
    "north_america_2019 = north_america_df[north_america_df['Year'] == 2019]['VALUE'].mean()\n",
    "north_america_2020 = north_america_df[north_america_df['Year'] == 2020]['VALUE'].mean()\n",
    "north_america_2021 = north_america_df[north_america_df['Year'] == 2021]['VALUE'].mean()\n",
    "\n",
    "\n",
    "\n",
    "countries_to_keep = [\"United States of America\"]\n",
    "df = df[df['Country'].isin(countries_to_keep)]\n",
    "\n",
    "df = df.filter(['Country', 'Year', 'VALUE'])\n",
    "\n",
    "d_europe = {'Country': [\"Europe\", \"Europe\", \"Europe\"], 'Year': [2019, 2020, 2021], 'VALUE': [europe_2019, europe_2020, europe_2021]}\n",
    "d_north_america = {'Country': [\"North America\", \"North America\", \"North America\"], 'Year': [2019, 2020, 2021], 'VALUE': [north_america_2019, north_america_2020, north_america_2021]}\n",
    "\n",
    "df_europe = pd.DataFrame(data=d_europe)\n",
    "df_north_america = pd.DataFrame(data=d_north_america)\n",
    "\n",
    "df = pd.concat([df, df_europe, df_north_america])\n",
    "df = df.sort_values(by='Year', ascending=True)\n",
    "df = df.reset_index(drop=True)\n",
    "\n",
    "df_2019 = df[df['Year'] == 2019]\n",
    "df_2020 = df[df['Year'] == 2020]\n",
    "df_2021 = df[df['Year'] == 2021]\n",
    "\n",
    "print(df)\n",
    "\n",
    "# Create a figure\n",
    "fig = go.Figure()\n",
    "values = [df_2019['VALUE'], df_2020['VALUE'], df_2021['VALUE']]\n",
    "titles = ['2019', '2020', '2021']\n",
    "colors = ['rgb(102,194,165)', 'rgb(252,141,98)', 'rgb(141,160,203)']\n",
    "\n",
    "for i in range(3):\n",
    "    fig.add_trace(go.Bar(x=df['Country'],\n",
    "                  y = values[i],\n",
    "                  name=f\"{titles[i]}\",\n",
    "                  marker_color=colors[i]))\n",
    "\n",
    "fig.update_layout(\n",
    "    title='Murders by firearms per 100,000 people',\n",
    "    xaxis=dict(\n",
    "        title='Region',\n",
    "        type='category',\n",
    "        categoryorder='category ascending'\n",
    "    ),\n",
    "    yaxis=dict(\n",
    "        title='Murders by firearms per 100,000 people',\n",
    "    ),\n",
    "    barmode='group',\n",
    "    bargap=0.15,\n",
    "    bargroupgap=0.1,\n",
    "    height=400\n",
    ")\n",
    "\n",
    "# Show the figure\n",
    "fig.show()"
   ]
  },
  {
   "cell_type": "markdown",
   "metadata": {},
   "source": [
    "*Figure 3: This bar graph compares the average murders by firearms per 100.000 people between Europe, North America and the United States in 3 years between 2019 and 2021.*\n",
    "\n",
    "This graph shows that the United States has significantly more gun deaths on average when compared to the whole of North America and Europe. This further supports our argument that stricter gun laws should be implemented to lessen the deaths caused by gun violence. Europe had between 2019 and 2021 on average 15x less gun violence. This shows that gun usage and violence in America is extremely lethal and has a massive impact on the day to day lives of citizens compared to the whole of Europe.\n",
    "\n",
    "## It's not as simple as taking away the guns\n",
    "\n",
    "We are going to explore one argument against the notion that the right to bear arms is the main cause for gun related violence. We have made multiple visualizations to illustrate this point, and hope to explain that just taking the guns away without eradicating the root cause of all the gun violence is not gonna solve the problem. People will find things to substitute for the guns and the violence will continue. Those who are living paycheck to paycheck and are barely scraping by, are driven to crime and in turn, gun violence. Those who don't have stable employment and can't legally provide for themselves get into similar troubles.  \n",
    "\n",
    "From the graphs we can see that in states with higher rates of poverty need to fight impoverishment and other socio-economic factors that might encourage a life of crime."
   ]
  },
  {
   "cell_type": "code",
   "execution_count": 7,
   "metadata": {},
   "outputs": [
    {
     "data": {
      "application/vnd.plotly.v1+json": {
       "config": {
        "plotlyServerURL": "https://plot.ly"
       },
       "data": [
        {
         "colorbar": {
          "title": {
           "text": "Poverty Rate (%)"
          }
         },
         "colorscale": [
          [
           0,
           "rgb(247,252,245)"
          ],
          [
           0.125,
           "rgb(229,245,224)"
          ],
          [
           0.25,
           "rgb(199,233,192)"
          ],
          [
           0.375,
           "rgb(161,217,155)"
          ],
          [
           0.5,
           "rgb(116,196,118)"
          ],
          [
           0.625,
           "rgb(65,171,93)"
          ],
          [
           0.75,
           "rgb(35,139,69)"
          ],
          [
           0.875,
           "rgb(0,109,44)"
          ],
          [
           1,
           "rgb(0,68,27)"
          ]
         ],
         "locationmode": "USA-states",
         "locations": [
          "AL",
          "AK",
          "AZ",
          "AR",
          "CA",
          "CO",
          "CT",
          "DE",
          "DC",
          "FL",
          "GA",
          "HI",
          "ID",
          "IL",
          "IN",
          "IA",
          "KS",
          "KY",
          "LA",
          "ME",
          "MD",
          "MA",
          "MI",
          "MN",
          "MS",
          "MO",
          "MT",
          "NE",
          "NV",
          "NH",
          "NJ",
          "NM",
          "NY",
          "NC",
          "ND",
          "OH",
          "OK",
          "OR",
          "PA",
          "RI",
          "SC",
          "SD",
          "TN",
          "TX",
          "UT",
          "VT",
          "VA",
          "WA",
          "WV",
          "WI",
          "WY",
          "AL",
          "AK",
          "AZ",
          "AR",
          "CA",
          "CO",
          "CT",
          "DE",
          "DC",
          "FL",
          "GA",
          "HI",
          "ID",
          "IL",
          "IN",
          "IA",
          "KS",
          "KY",
          "LA",
          "ME",
          "MD",
          "MA",
          "MI",
          "MN",
          "MS",
          "MO",
          "MT",
          "NE",
          "NV",
          "NH",
          "NJ",
          "NM",
          "NY",
          "NC",
          "ND",
          "OH",
          "OK",
          "OR",
          "PA",
          "RI",
          "SC",
          "SD",
          "TN",
          "TX",
          "UT",
          "VT",
          "VA",
          "WA",
          "WV",
          "WI",
          "WY",
          "AL",
          "AK",
          "AZ",
          "AR",
          "CA",
          "CO",
          "CT",
          "DE",
          "DC",
          "FL",
          "GA",
          "HI",
          "ID",
          "IL",
          "IN",
          "IA",
          "KS",
          "KY",
          "LA",
          "ME",
          "MD",
          "MA",
          "MI",
          "MN",
          "MS",
          "MO",
          "MT",
          "NE",
          "NV",
          "NH",
          "NJ",
          "NM",
          "NY",
          "NC",
          "ND",
          "OH",
          "OK",
          "OR",
          "PA",
          "RI",
          "SC",
          "SD",
          "TN",
          "TX",
          "UT",
          "VT",
          "VA",
          "WA",
          "WV",
          "WI",
          "WY",
          "AL",
          "AK",
          "AZ",
          "AR",
          "CA",
          "CO",
          "CT",
          "DE",
          "DC",
          "FL",
          "GA",
          "HI",
          "ID",
          "IL",
          "IN",
          "IA",
          "KS",
          "KY",
          "LA",
          "ME",
          "MD",
          "MA",
          "MI",
          "MN",
          "MS",
          "MO",
          "MT",
          "NE",
          "NV",
          "NH",
          "NJ",
          "NM",
          "NY",
          "NC",
          "ND",
          "OH",
          "OK",
          "OR",
          "PA",
          "RI",
          "SC",
          "SD",
          "TN",
          "TX",
          "UT",
          "VT",
          "VA",
          "WA",
          "WV",
          "WI",
          "WY",
          "AL",
          "AK",
          "AZ",
          "AR",
          "CA",
          "CO",
          "CT",
          "DE",
          "DC",
          "FL",
          "GA",
          "HI",
          "ID",
          "IL",
          "IN",
          "IA",
          "KS",
          "KY",
          "LA",
          "ME",
          "MD",
          "MA",
          "MI",
          "MN",
          "MS",
          "MO",
          "MT",
          "NE",
          "NV",
          "NH",
          "NJ",
          "NM",
          "NY",
          "NC",
          "ND",
          "OH",
          "OK",
          "OR",
          "PA",
          "RI",
          "SC",
          "SD",
          "TN",
          "TX",
          "UT",
          "VT",
          "VA",
          "WA",
          "WV",
          "WI",
          "WY",
          "AL",
          "AK",
          "AZ",
          "AR",
          "CA",
          "CO",
          "CT",
          "DE",
          "DC",
          "FL",
          "GA",
          "HI",
          "ID",
          "IL",
          "IN",
          "IA",
          "KS",
          "KY",
          "LA",
          "ME",
          "MD",
          "MA",
          "MI",
          "MN",
          "MS",
          "MO",
          "MT",
          "NE",
          "NV",
          "NH",
          "NJ",
          "NM",
          "NY",
          "NC",
          "ND",
          "OH",
          "OK",
          "OR",
          "PA",
          "RI",
          "SC",
          "SD",
          "TN",
          "TX",
          "UT",
          "VT",
          "VA",
          "WA",
          "WV",
          "WI",
          "WY",
          "AL",
          "AK",
          "AZ",
          "AR",
          "CA",
          "CO",
          "CT",
          "DE",
          "DC",
          "FL",
          "GA",
          "HI",
          "ID",
          "IL",
          "IN",
          "IA",
          "KS",
          "KY",
          "LA",
          "ME",
          "MD",
          "MA",
          "MI",
          "MN",
          "MS",
          "MO",
          "MT",
          "NE",
          "NV",
          "NH",
          "NJ",
          "NM",
          "NY",
          "NC",
          "ND",
          "OH",
          "OK",
          "OR",
          "PA",
          "RI",
          "SC",
          "SD",
          "TN",
          "TX",
          "UT",
          "VT",
          "VA",
          "WA",
          "WV",
          "WI",
          "WY",
          "AL",
          "AK",
          "AZ",
          "AR",
          "CA",
          "CO",
          "CT",
          "DE",
          "DC",
          "FL",
          "GA",
          "HI",
          "ID",
          "IL",
          "IN",
          "IA",
          "KS",
          "KY",
          "LA",
          "ME",
          "MD",
          "MA",
          "MI",
          "MN",
          "MS",
          "MO",
          "MT",
          "NE",
          "NV",
          "NH",
          "NJ",
          "NM",
          "NY",
          "NC",
          "ND",
          "OH",
          "OK",
          "OR",
          "PA",
          "RI",
          "SC",
          "SD",
          "TN",
          "TX",
          "UT",
          "VT",
          "VA",
          "WA",
          "WV",
          "WI",
          "WY",
          "AL",
          "AK",
          "AZ",
          "AR",
          "CA",
          "CO",
          "CT",
          "DE",
          "DC",
          "FL",
          "GA",
          "HI",
          "ID",
          "IL",
          "IN",
          "IA",
          "KS",
          "KY",
          "LA",
          "ME",
          "MD",
          "MA",
          "MI",
          "MN",
          "MS",
          "MO",
          "MT",
          "NE",
          "NV",
          "NH",
          "NJ",
          "NM",
          "NY",
          "NC",
          "ND",
          "OH",
          "OK",
          "OR",
          "PA",
          "RI",
          "SC",
          "SD",
          "TN",
          "TX",
          "UT",
          "VT",
          "VA",
          "WA",
          "WV",
          "WI",
          "WY",
          "AL",
          "AK",
          "AZ",
          "AR",
          "CA",
          "CO",
          "CT",
          "DE",
          "DC",
          "FL",
          "GA",
          "HI",
          "ID",
          "IL",
          "IN",
          "IA",
          "KS",
          "KY",
          "LA",
          "ME",
          "MD",
          "MA",
          "MI",
          "MN",
          "MS",
          "MO",
          "MT",
          "NE",
          "NV",
          "NH",
          "NJ",
          "NM",
          "NY",
          "NC",
          "ND",
          "OH",
          "OK",
          "OR",
          "PA",
          "RI",
          "SC",
          "SD",
          "TN",
          "TX",
          "UT",
          "VT",
          "VA",
          "WA",
          "WV",
          "WI",
          "WY",
          "AL",
          "AK",
          "AZ",
          "AR",
          "CA",
          "CO",
          "CT",
          "DE",
          "DC",
          "FL",
          "GA",
          "HI",
          "ID",
          "IL",
          "IN",
          "IA",
          "KS",
          "KY",
          "LA",
          "ME",
          "MD",
          "MA",
          "MI",
          "MN",
          "MS",
          "MO",
          "MT",
          "NE",
          "NV",
          "NH",
          "NJ",
          "NM",
          "NY",
          "NC",
          "ND",
          "OH",
          "OK",
          "OR",
          "PA",
          "RI",
          "SC",
          "SD",
          "TN",
          "TX",
          "UT",
          "VT",
          "VA",
          "WA",
          "WV",
          "WI",
          "WY"
         ],
         "type": "choropleth",
         "visible": true,
         "z": [
          19.1,
          10.8,
          19,
          19.3,
          16.6,
          13.4,
          10.8,
          12.6,
          19.1,
          17,
          19.2,
          12.1,
          16.5,
          14.9,
          15.8,
          12.7,
          13.8,
          19.1,
          20.5,
          14.2,
          10.2,
          11.6,
          17.5,
          11.8,
          22.8,
          15.8,
          15.2,
          12.9,
          15.8,
          9,
          10.4,
          20.9,
          16.1,
          17.8,
          12,
          16.3,
          17.3,
          17.3,
          13.7,
          14.7,
          18.8,
          14.1,
          18.4,
          18.5,
          13.6,
          11.9,
          11.6,
          13.9,
          18.7,
          13.1,
          11.3,
          19,
          10.8,
          18.7,
          19.6,
          17,
          13.6,
          10.6,
          12.7,
          18.8,
          17.2,
          19.2,
          11.8,
          16,
          14.7,
          15.5,
          12.7,
          14,
          19.3,
          20.1,
          14.4,
          10.4,
          11.9,
          17.4,
          11.4,
          23.8,
          16.2,
          15.6,
          12.8,
          16.2,
          9.7,
          10.7,
          20.6,
          15.9,
          18,
          11.2,
          16.2,
          17.2,
          17,
          13.7,
          14.2,
          18.3,
          13.6,
          18,
          17.9,
          13,
          11.9,
          11.8,
          13.6,
          18,
          13.2,
          11.9,
          18.9,
          10.1,
          18.6,
          19.4,
          16.8,
          12.9,
          10.7,
          12.9,
          18.8,
          17.1,
          19,
          11.2,
          15.6,
          14.6,
          15.8,
          12.6,
          13.9,
          18.8,
          20,
          14,
          10.2,
          11.9,
          17,
          11.2,
          23.9,
          15.8,
          16.1,
          12.9,
          15.8,
          9,
          11.4,
          21.4,
          16,
          17.8,
          11.6,
          15.9,
          16.7,
          16.5,
          13.7,
          14.7,
          18.5,
          14,
          17.8,
          17.5,
          12.6,
          12.3,
          11.7,
          14.1,
          18.4,
          13.5,
          10.9,
          19.2,
          11.4,
          18.2,
          18.7,
          16.4,
          12.1,
          10.8,
          13,
          18.4,
          16.6,
          18.4,
          11.5,
          14.8,
          14.3,
          15.2,
          12.3,
          13.5,
          19,
          19.9,
          14,
          10.4,
          11.7,
          16.2,
          11.4,
          21.9,
          15.5,
          15.2,
          12.3,
          15.4,
          9.2,
          11.1,
          20.6,
          16,
          17.2,
          11.1,
          15.8,
          16.6,
          16.4,
          13.6,
          14.8,
          17.9,
          14.1,
          18.2,
          17.2,
          11.8,
          12,
          11.8,
          13.2,
          18.3,
          13.2,
          11.2,
          18.5,
          10.4,
          17.4,
          18.7,
          15.4,
          11.5,
          10.6,
          12.6,
          17.7,
          15.8,
          17.2,
          10.7,
          14.7,
          13.6,
          14.4,
          12.1,
          12.9,
          18.3,
          19.5,
          13.2,
          9.9,
          11.5,
          15.7,
          10.2,
          22.1,
          14.8,
          14.4,
          12.2,
          14.9,
          8.4,
          10.8,
          19.8,
          15.5,
          16.4,
          10.7,
          14.8,
          16,
          15.2,
          13.1,
          14.1,
          16.8,
          13.5,
          16.7,
          15.9,
          11.2,
          10.4,
          11.2,
          12.2,
          18,
          12.1,
          10.6,
          17.2,
          9.9,
          16.4,
          17.2,
          14.4,
          11,
          9.9,
          11.8,
          18.5,
          14.8,
          16.1,
          9.5,
          13.8,
          13,
          14,
          11.7,
          12.2,
          18.2,
          20.1,
          12.3,
          9.7,
          10.5,
          14.9,
          9.9,
          21,
          14,
          13.4,
          11.3,
          14.1,
          7.6,
          10.4,
          19.1,
          14.8,
          15.4,
          10.5,
          14.5,
          16.1,
          13.4,
          12.9,
          13.3,
          15.3,
          12.9,
          15.8,
          15.6,
          10.2,
          11.3,
          11,
          11.3,
          17.9,
          11.8,
          10.9,
          16.9,
          11,
          14.9,
          16.3,
          13.3,
          10.3,
          9.7,
          13,
          16.6,
          14.1,
          15.1,
          9.5,
          12.6,
          12.5,
          13.3,
          10.8,
          11.9,
          17.1,
          19.6,
          11.3,
          9.4,
          10.5,
          14.1,
          9.5,
          19.9,
          13.4,
          12.7,
          10.7,
          13.3,
          7.7,
          10,
          19,
          14.1,
          14.7,
          10.2,
          13.9,
          15.8,
          13.2,
          12.5,
          12.3,
          15.4,
          12.8,
          15,
          14.7,
          9.7,
          10.8,
          10.7,
          11,
          18.5,
          11.3,
          10.8,
          16.8,
          11.1,
          14.1,
          16.8,
          12.8,
          9.7,
          10.3,
          12.2,
          16.1,
          13.7,
          14.5,
          9,
          11.7,
          12.1,
          13,
          11.2,
          11.9,
          16.7,
          18.7,
          11.6,
          9.1,
          10,
          14,
          9.6,
          19.8,
          13.2,
          12.9,
          11,
          13.1,
          7.6,
          9.5,
          18.8,
          13.7,
          14.1,
          10.6,
          13.8,
          15.5,
          12.5,
          12.2,
          12.8,
          15.2,
          12.9,
          15.2,
          14.9,
          9.1,
          10.7,
          10.7,
          10.3,
          17.4,
          11.1,
          10.7,
          15.6,
          10.2,
          13.5,
          16,
          11.8,
          9.4,
          9.9,
          11.2,
          14.1,
          12.7,
          13.5,
          9,
          11,
          11.4,
          11.9,
          11,
          11.3,
          16,
          18.8,
          10.9,
          9.1,
          9.5,
          12.9,
          8.9,
          19.5,
          12.9,
          12.6,
          9.9,
          12.7,
          7.5,
          9.1,
          17.5,
          13.1,
          13.6,
          10.5,
          13,
          15.1,
          11.5,
          12,
          11.6,
          13.9,
          11.9,
          13.8,
          13.6,
          8.8,
          10.1,
          9.9,
          9.8,
          16.2,
          10.4,
          9.9,
          14.9,
          9.6,
          12.8,
          15.2,
          11.5,
          9,
          9.7,
          10.9,
          15,
          12.4,
          14,
          8.9,
          10.1,
          11,
          11.6,
          10.2,
          10.6,
          14.9,
          17.8,
          10.6,
          9,
          9.4,
          12.6,
          8.3,
          18.7,
          12.1,
          12.4,
          9.2,
          12.5,
          7,
          9.4,
          16.8,
          12.7,
          12.9,
          10.2,
          12.6,
          14.3,
          11,
          10.9,
          10.6,
          13.8,
          11.6,
          13.6,
          13.4,
          7.3,
          9.4,
          9.2,
          9.5,
          15.8,
          10,
          9.2,
          16.3,
          10.8,
          12.9,
          16,
          12.3,
          9.7,
          10.1,
          11.5,
          16.8,
          13.2,
          14.2,
          10.9,
          10.8,
          12.1,
          12.1,
          11,
          11.6,
          16.3,
          19.5,
          11.2,
          10.3,
          10.4,
          13,
          9.3,
          19.2,
          12.8,
          12,
          10.5,
          14,
          7.4,
          10.2,
          17.7,
          14,
          13.5,
          10.9,
          13.3,
          15.4,
          12.2,
          12,
          12.1,
          14.5,
          11.9,
          13.7,
          14.2,
          8.7,
          10.2,
          10.3,
          9.9,
          16.8,
          10.8,
          10.6
         ]
        },
        {
         "colorbar": {
          "title": {
           "text": "Gun Deaths Per Capita"
          }
         },
         "colorscale": [
          [
           0,
           "rgb(255,245,240)"
          ],
          [
           0.125,
           "rgb(254,224,210)"
          ],
          [
           0.25,
           "rgb(252,187,161)"
          ],
          [
           0.375,
           "rgb(252,146,114)"
          ],
          [
           0.5,
           "rgb(251,106,74)"
          ],
          [
           0.625,
           "rgb(239,59,44)"
          ],
          [
           0.75,
           "rgb(203,24,29)"
          ],
          [
           0.875,
           "rgb(165,15,21)"
          ],
          [
           1,
           "rgb(103,0,13)"
          ]
         ],
         "locationmode": "USA-states",
         "locations": [
          "AL",
          "AK",
          "AZ",
          "AR",
          "CA",
          "CO",
          "CT",
          "DE",
          "DC",
          "FL",
          "GA",
          "HI",
          "ID",
          "IL",
          "IN",
          "IA",
          "KS",
          "KY",
          "LA",
          "ME",
          "MD",
          "MA",
          "MI",
          "MN",
          "MS",
          "MO",
          "MT",
          "NE",
          "NV",
          "NH",
          "NJ",
          "NM",
          "NY",
          "NC",
          "ND",
          "OH",
          "OK",
          "OR",
          "PA",
          "RI",
          "SC",
          "SD",
          "TN",
          "TX",
          "UT",
          "VT",
          "VA",
          "WA",
          "WV",
          "WI",
          "WY",
          "AL",
          "AK",
          "AZ",
          "AR",
          "CA",
          "CO",
          "CT",
          "DE",
          "DC",
          "FL",
          "GA",
          "HI",
          "ID",
          "IL",
          "IN",
          "IA",
          "KS",
          "KY",
          "LA",
          "ME",
          "MD",
          "MA",
          "MI",
          "MN",
          "MS",
          "MO",
          "MT",
          "NE",
          "NV",
          "NH",
          "NJ",
          "NM",
          "NY",
          "NC",
          "ND",
          "OH",
          "OK",
          "OR",
          "PA",
          "RI",
          "SC",
          "SD",
          "TN",
          "TX",
          "UT",
          "VT",
          "VA",
          "WA",
          "WV",
          "WI",
          "WY",
          "AL",
          "AK",
          "AZ",
          "AR",
          "CA",
          "CO",
          "CT",
          "DE",
          "DC",
          "FL",
          "GA",
          "HI",
          "ID",
          "IL",
          "IN",
          "IA",
          "KS",
          "KY",
          "LA",
          "ME",
          "MD",
          "MA",
          "MI",
          "MN",
          "MS",
          "MO",
          "MT",
          "NE",
          "NV",
          "NH",
          "NJ",
          "NM",
          "NY",
          "NC",
          "ND",
          "OH",
          "OK",
          "OR",
          "PA",
          "RI",
          "SC",
          "SD",
          "TN",
          "TX",
          "UT",
          "VT",
          "VA",
          "WA",
          "WV",
          "WI",
          "WY",
          "AL",
          "AK",
          "AZ",
          "AR",
          "CA",
          "CO",
          "CT",
          "DE",
          "DC",
          "FL",
          "GA",
          "HI",
          "ID",
          "IL",
          "IN",
          "IA",
          "KS",
          "KY",
          "LA",
          "ME",
          "MD",
          "MA",
          "MI",
          "MN",
          "MS",
          "MO",
          "MT",
          "NE",
          "NV",
          "NH",
          "NJ",
          "NM",
          "NY",
          "NC",
          "ND",
          "OH",
          "OK",
          "OR",
          "PA",
          "RI",
          "SC",
          "SD",
          "TN",
          "TX",
          "UT",
          "VT",
          "VA",
          "WA",
          "WV",
          "WI",
          "WY",
          "AL",
          "AK",
          "AZ",
          "AR",
          "CA",
          "CO",
          "CT",
          "DE",
          "DC",
          "FL",
          "GA",
          "HI",
          "ID",
          "IL",
          "IN",
          "IA",
          "KS",
          "KY",
          "LA",
          "ME",
          "MD",
          "MA",
          "MI",
          "MN",
          "MS",
          "MO",
          "MT",
          "NE",
          "NV",
          "NH",
          "NJ",
          "NM",
          "NY",
          "NC",
          "ND",
          "OH",
          "OK",
          "OR",
          "PA",
          "RI",
          "SC",
          "SD",
          "TN",
          "TX",
          "UT",
          "VT",
          "VA",
          "WA",
          "WV",
          "WI",
          "WY",
          "AL",
          "AK",
          "AZ",
          "AR",
          "CA",
          "CO",
          "CT",
          "DE",
          "DC",
          "FL",
          "GA",
          "HI",
          "ID",
          "IL",
          "IN",
          "IA",
          "KS",
          "KY",
          "LA",
          "ME",
          "MD",
          "MA",
          "MI",
          "MN",
          "MS",
          "MO",
          "MT",
          "NE",
          "NV",
          "NH",
          "NJ",
          "NM",
          "NY",
          "NC",
          "ND",
          "OH",
          "OK",
          "OR",
          "PA",
          "RI",
          "SC",
          "SD",
          "TN",
          "TX",
          "UT",
          "VT",
          "VA",
          "WA",
          "WV",
          "WI",
          "WY",
          "AL",
          "AK",
          "AZ",
          "AR",
          "CA",
          "CO",
          "CT",
          "DE",
          "DC",
          "FL",
          "GA",
          "HI",
          "ID",
          "IL",
          "IN",
          "IA",
          "KS",
          "KY",
          "LA",
          "ME",
          "MD",
          "MA",
          "MI",
          "MN",
          "MS",
          "MO",
          "MT",
          "NE",
          "NV",
          "NH",
          "NJ",
          "NM",
          "NY",
          "NC",
          "ND",
          "OH",
          "OK",
          "OR",
          "PA",
          "RI",
          "SC",
          "SD",
          "TN",
          "TX",
          "UT",
          "VT",
          "VA",
          "WA",
          "WV",
          "WI",
          "WY",
          "AL",
          "AK",
          "AZ",
          "AR",
          "CA",
          "CO",
          "CT",
          "DE",
          "DC",
          "FL",
          "GA",
          "HI",
          "ID",
          "IL",
          "IN",
          "IA",
          "KS",
          "KY",
          "LA",
          "ME",
          "MD",
          "MA",
          "MI",
          "MN",
          "MS",
          "MO",
          "MT",
          "NE",
          "NV",
          "NH",
          "NJ",
          "NM",
          "NY",
          "NC",
          "ND",
          "OH",
          "OK",
          "OR",
          "PA",
          "RI",
          "SC",
          "SD",
          "TN",
          "TX",
          "UT",
          "VT",
          "VA",
          "WA",
          "WV",
          "WI",
          "WY",
          "AL",
          "AK",
          "AZ",
          "AR",
          "CA",
          "CO",
          "CT",
          "DE",
          "DC",
          "FL",
          "GA",
          "HI",
          "ID",
          "IL",
          "IN",
          "IA",
          "KS",
          "KY",
          "LA",
          "ME",
          "MD",
          "MA",
          "MI",
          "MN",
          "MS",
          "MO",
          "MT",
          "NE",
          "NV",
          "NH",
          "NJ",
          "NM",
          "NY",
          "NC",
          "ND",
          "OH",
          "OK",
          "OR",
          "PA",
          "RI",
          "SC",
          "SD",
          "TN",
          "TX",
          "UT",
          "VT",
          "VA",
          "WA",
          "WV",
          "WI",
          "WY",
          "AL",
          "AK",
          "AZ",
          "AR",
          "CA",
          "CO",
          "CT",
          "DE",
          "DC",
          "FL",
          "GA",
          "HI",
          "ID",
          "IL",
          "IN",
          "IA",
          "KS",
          "KY",
          "LA",
          "ME",
          "MD",
          "MA",
          "MI",
          "MN",
          "MS",
          "MO",
          "MT",
          "NE",
          "NV",
          "NH",
          "NJ",
          "NM",
          "NY",
          "NC",
          "ND",
          "OH",
          "OK",
          "OR",
          "PA",
          "RI",
          "SC",
          "SD",
          "TN",
          "TX",
          "UT",
          "VT",
          "VA",
          "WA",
          "WV",
          "WI",
          "WY",
          "AL",
          "AK",
          "AZ",
          "AR",
          "CA",
          "CO",
          "CT",
          "DE",
          "DC",
          "FL",
          "GA",
          "HI",
          "ID",
          "IL",
          "IN",
          "IA",
          "KS",
          "KY",
          "LA",
          "ME",
          "MD",
          "MA",
          "MI",
          "MN",
          "MS",
          "MO",
          "MT",
          "NE",
          "NV",
          "NH",
          "NJ",
          "NM",
          "NY",
          "NC",
          "ND",
          "OH",
          "OK",
          "OR",
          "PA",
          "RI",
          "SC",
          "SD",
          "TN",
          "TX",
          "UT",
          "VT",
          "VA",
          "WA",
          "WV",
          "WI",
          "WY"
         ],
         "type": "choropleth",
         "visible": false,
         "z": [
          2.7620460500593228e-05,
          1.4963156627522142e-05,
          1.1874785555343207e-05,
          1.4286981602687015e-05,
          7.703694032789558e-06,
          1.0718138094248277e-05,
          4.759878147119434e-06,
          8.286042472182203e-06,
          3.563553119035503e-05,
          1.2568067027054812e-05,
          1.217756680988944e-05,
          7.039313863999049e-07,
          7.997550464543432e-06,
          1.2968567101449014e-05,
          1.4337994625342974e-05,
          3.1759965800868828e-06,
          1.3052323674270332e-05,
          1.7260111903806033e-05,
          2.7684245089265595e-05,
          5.974353593611026e-06,
          1.3088567186266216e-05,
          3.1964501967633037e-06,
          1.2219463160922717e-05,
          4.637681986654535e-06,
          3.555829883731072e-05,
          2.0909487565634146e-05,
          4.714023749251649e-06,
          5.712463660941393e-06,
          2.0149695723078438e-05,
          7.388443735153846e-07,
          6.414566693206467e-06,
          1.7680162045852783e-05,
          3.430557904463673e-06,
          1.0403005698053723e-05,
          3.957365977205572e-06,
          1.1904414233876863e-05,
          1.1166846647471535e-05,
          7.412923259983653e-06,
          1.0624234723092602e-05,
          4.7246162902879845e-06,
          1.750536372212025e-05,
          7.966332004852634e-06,
          1.447214120202356e-05,
          1.08283075432156e-05,
          3.1710294747189677e-06,
          6.406580839838682e-06,
          8.46930687898278e-06,
          7.177158453981589e-06,
          1.2747389417782387e-05,
          7.920920286957722e-06,
          1.731298941656957e-05,
          2.7620460500593228e-05,
          1.4963156627522142e-05,
          1.1874785555343207e-05,
          1.4286981602687015e-05,
          7.703694032789558e-06,
          1.0718138094248277e-05,
          4.759878147119434e-06,
          8.286042472182203e-06,
          3.563553119035503e-05,
          1.2568067027054812e-05,
          1.217756680988944e-05,
          7.039313863999049e-07,
          7.997550464543432e-06,
          1.2968567101449014e-05,
          1.4337994625342974e-05,
          3.1759965800868828e-06,
          1.3052323674270332e-05,
          1.7260111903806033e-05,
          2.7684245089265595e-05,
          5.974353593611026e-06,
          1.3088567186266216e-05,
          3.1964501967633037e-06,
          1.2219463160922717e-05,
          4.637681986654535e-06,
          3.555829883731072e-05,
          2.0909487565634146e-05,
          4.714023749251649e-06,
          5.712463660941393e-06,
          2.0149695723078438e-05,
          7.388443735153846e-07,
          6.414566693206467e-06,
          1.7680162045852783e-05,
          3.430557904463673e-06,
          1.0403005698053723e-05,
          3.957365977205572e-06,
          1.1904414233876863e-05,
          1.1166846647471535e-05,
          7.412923259983653e-06,
          1.0624234723092602e-05,
          4.7246162902879845e-06,
          1.750536372212025e-05,
          7.966332004852634e-06,
          1.447214120202356e-05,
          1.08283075432156e-05,
          3.1710294747189677e-06,
          6.406580839838682e-06,
          8.46930687898278e-06,
          7.177158453981589e-06,
          1.2747389417782387e-05,
          7.920920286957722e-06,
          1.731298941656957e-05,
          2.7620460500593228e-05,
          1.4963156627522142e-05,
          1.1874785555343207e-05,
          1.4286981602687015e-05,
          7.703694032789558e-06,
          1.0718138094248277e-05,
          4.759878147119434e-06,
          8.286042472182203e-06,
          3.563553119035503e-05,
          1.2568067027054812e-05,
          1.217756680988944e-05,
          7.039313863999049e-07,
          7.997550464543432e-06,
          1.2968567101449014e-05,
          1.4337994625342974e-05,
          3.1759965800868828e-06,
          1.3052323674270332e-05,
          1.7260111903806033e-05,
          2.7684245089265595e-05,
          5.974353593611026e-06,
          1.3088567186266216e-05,
          3.1964501967633037e-06,
          1.2219463160922717e-05,
          4.637681986654535e-06,
          3.555829883731072e-05,
          2.0909487565634146e-05,
          4.714023749251649e-06,
          5.712463660941393e-06,
          2.0149695723078438e-05,
          7.388443735153846e-07,
          6.414566693206467e-06,
          1.7680162045852783e-05,
          3.430557904463673e-06,
          1.0403005698053723e-05,
          3.957365977205572e-06,
          1.1904414233876863e-05,
          1.1166846647471535e-05,
          7.412923259983653e-06,
          1.0624234723092602e-05,
          4.7246162902879845e-06,
          1.750536372212025e-05,
          7.966332004852634e-06,
          1.447214120202356e-05,
          1.08283075432156e-05,
          3.1710294747189677e-06,
          6.406580839838682e-06,
          8.46930687898278e-06,
          7.177158453981589e-06,
          1.2747389417782387e-05,
          7.920920286957722e-06,
          1.731298941656957e-05,
          2.7620460500593228e-05,
          1.4963156627522142e-05,
          1.1874785555343207e-05,
          1.4286981602687015e-05,
          7.703694032789558e-06,
          1.0718138094248277e-05,
          4.759878147119434e-06,
          8.286042472182203e-06,
          3.563553119035503e-05,
          1.2568067027054812e-05,
          1.217756680988944e-05,
          7.039313863999049e-07,
          7.997550464543432e-06,
          1.2968567101449014e-05,
          1.4337994625342974e-05,
          3.1759965800868828e-06,
          1.3052323674270332e-05,
          1.7260111903806033e-05,
          2.7684245089265595e-05,
          5.974353593611026e-06,
          1.3088567186266216e-05,
          3.1964501967633037e-06,
          1.2219463160922717e-05,
          4.637681986654535e-06,
          3.555829883731072e-05,
          2.0909487565634146e-05,
          4.714023749251649e-06,
          5.712463660941393e-06,
          2.0149695723078438e-05,
          7.388443735153846e-07,
          6.414566693206467e-06,
          1.7680162045852783e-05,
          3.430557904463673e-06,
          1.0403005698053723e-05,
          3.957365977205572e-06,
          1.1904414233876863e-05,
          1.1166846647471535e-05,
          7.412923259983653e-06,
          1.0624234723092602e-05,
          4.7246162902879845e-06,
          1.750536372212025e-05,
          7.966332004852634e-06,
          1.447214120202356e-05,
          1.08283075432156e-05,
          3.1710294747189677e-06,
          6.406580839838682e-06,
          8.46930687898278e-06,
          7.177158453981589e-06,
          1.2747389417782387e-05,
          7.920920286957722e-06,
          1.731298941656957e-05,
          2.7620460500593228e-05,
          1.4963156627522142e-05,
          1.1874785555343207e-05,
          1.4286981602687015e-05,
          7.703694032789558e-06,
          1.0718138094248277e-05,
          4.759878147119434e-06,
          8.286042472182203e-06,
          3.563553119035503e-05,
          1.2568067027054812e-05,
          1.217756680988944e-05,
          7.039313863999049e-07,
          7.997550464543432e-06,
          1.2968567101449014e-05,
          1.4337994625342974e-05,
          3.1759965800868828e-06,
          1.3052323674270332e-05,
          1.7260111903806033e-05,
          2.7684245089265595e-05,
          5.974353593611026e-06,
          1.3088567186266216e-05,
          3.1964501967633037e-06,
          1.2219463160922717e-05,
          4.637681986654535e-06,
          3.555829883731072e-05,
          2.0909487565634146e-05,
          4.714023749251649e-06,
          5.712463660941393e-06,
          2.0149695723078438e-05,
          7.388443735153846e-07,
          6.414566693206467e-06,
          1.7680162045852783e-05,
          3.430557904463673e-06,
          1.0403005698053723e-05,
          3.957365977205572e-06,
          1.1904414233876863e-05,
          1.1166846647471535e-05,
          7.412923259983653e-06,
          1.0624234723092602e-05,
          4.7246162902879845e-06,
          1.750536372212025e-05,
          7.966332004852634e-06,
          1.447214120202356e-05,
          1.08283075432156e-05,
          3.1710294747189677e-06,
          6.406580839838682e-06,
          8.46930687898278e-06,
          7.177158453981589e-06,
          1.2747389417782387e-05,
          7.920920286957722e-06,
          1.731298941656957e-05,
          2.7620460500593228e-05,
          1.4963156627522142e-05,
          1.1874785555343207e-05,
          1.4286981602687015e-05,
          7.703694032789558e-06,
          1.0718138094248277e-05,
          4.759878147119434e-06,
          8.286042472182203e-06,
          3.563553119035503e-05,
          1.2568067027054812e-05,
          1.217756680988944e-05,
          7.039313863999049e-07,
          7.997550464543432e-06,
          1.2968567101449014e-05,
          1.4337994625342974e-05,
          3.1759965800868828e-06,
          1.3052323674270332e-05,
          1.7260111903806033e-05,
          2.7684245089265595e-05,
          5.974353593611026e-06,
          1.3088567186266216e-05,
          3.1964501967633037e-06,
          1.2219463160922717e-05,
          4.637681986654535e-06,
          3.555829883731072e-05,
          2.0909487565634146e-05,
          4.714023749251649e-06,
          5.712463660941393e-06,
          2.0149695723078438e-05,
          7.388443735153846e-07,
          6.414566693206467e-06,
          1.7680162045852783e-05,
          3.430557904463673e-06,
          1.0403005698053723e-05,
          3.957365977205572e-06,
          1.1904414233876863e-05,
          1.1166846647471535e-05,
          7.412923259983653e-06,
          1.0624234723092602e-05,
          4.7246162902879845e-06,
          1.750536372212025e-05,
          7.966332004852634e-06,
          1.447214120202356e-05,
          1.08283075432156e-05,
          3.1710294747189677e-06,
          6.406580839838682e-06,
          8.46930687898278e-06,
          7.177158453981589e-06,
          1.2747389417782387e-05,
          7.920920286957722e-06,
          1.731298941656957e-05,
          2.7620460500593228e-05,
          1.4963156627522142e-05,
          1.1874785555343207e-05,
          1.4286981602687015e-05,
          7.703694032789558e-06,
          1.0718138094248277e-05,
          4.759878147119434e-06,
          8.286042472182203e-06,
          3.563553119035503e-05,
          1.2568067027054812e-05,
          1.217756680988944e-05,
          7.039313863999049e-07,
          7.997550464543432e-06,
          1.2968567101449014e-05,
          1.4337994625342974e-05,
          3.1759965800868828e-06,
          1.3052323674270332e-05,
          1.7260111903806033e-05,
          2.7684245089265595e-05,
          5.974353593611026e-06,
          1.3088567186266216e-05,
          3.1964501967633037e-06,
          1.2219463160922717e-05,
          4.637681986654535e-06,
          3.555829883731072e-05,
          2.0909487565634146e-05,
          4.714023749251649e-06,
          5.712463660941393e-06,
          2.0149695723078438e-05,
          7.388443735153846e-07,
          6.414566693206467e-06,
          1.7680162045852783e-05,
          3.430557904463673e-06,
          1.0403005698053723e-05,
          3.957365977205572e-06,
          1.1904414233876863e-05,
          1.1166846647471535e-05,
          7.412923259983653e-06,
          1.0624234723092602e-05,
          4.7246162902879845e-06,
          1.750536372212025e-05,
          7.966332004852634e-06,
          1.447214120202356e-05,
          1.08283075432156e-05,
          3.1710294747189677e-06,
          6.406580839838682e-06,
          8.46930687898278e-06,
          7.177158453981589e-06,
          1.2747389417782387e-05,
          7.920920286957722e-06,
          1.731298941656957e-05,
          2.7620460500593228e-05,
          1.4963156627522142e-05,
          1.1874785555343207e-05,
          1.4286981602687015e-05,
          7.703694032789558e-06,
          1.0718138094248277e-05,
          4.759878147119434e-06,
          8.286042472182203e-06,
          3.563553119035503e-05,
          1.2568067027054812e-05,
          1.217756680988944e-05,
          7.039313863999049e-07,
          7.997550464543432e-06,
          1.2968567101449014e-05,
          1.4337994625342974e-05,
          3.1759965800868828e-06,
          1.3052323674270332e-05,
          1.7260111903806033e-05,
          2.7684245089265595e-05,
          5.974353593611026e-06,
          1.3088567186266216e-05,
          3.1964501967633037e-06,
          1.2219463160922717e-05,
          4.637681986654535e-06,
          3.555829883731072e-05,
          2.0909487565634146e-05,
          4.714023749251649e-06,
          5.712463660941393e-06,
          2.0149695723078438e-05,
          7.388443735153846e-07,
          6.414566693206467e-06,
          1.7680162045852783e-05,
          3.430557904463673e-06,
          1.0403005698053723e-05,
          3.957365977205572e-06,
          1.1904414233876863e-05,
          1.1166846647471535e-05,
          7.412923259983653e-06,
          1.0624234723092602e-05,
          4.7246162902879845e-06,
          1.750536372212025e-05,
          7.966332004852634e-06,
          1.447214120202356e-05,
          1.08283075432156e-05,
          3.1710294747189677e-06,
          6.406580839838682e-06,
          8.46930687898278e-06,
          7.177158453981589e-06,
          1.2747389417782387e-05,
          7.920920286957722e-06,
          1.731298941656957e-05,
          2.7620460500593228e-05,
          1.4963156627522142e-05,
          1.1874785555343207e-05,
          1.4286981602687015e-05,
          7.703694032789558e-06,
          1.0718138094248277e-05,
          4.759878147119434e-06,
          8.286042472182203e-06,
          3.563553119035503e-05,
          1.2568067027054812e-05,
          1.217756680988944e-05,
          7.039313863999049e-07,
          7.997550464543432e-06,
          1.2968567101449014e-05,
          1.4337994625342974e-05,
          3.1759965800868828e-06,
          1.3052323674270332e-05,
          1.7260111903806033e-05,
          2.7684245089265595e-05,
          5.974353593611026e-06,
          1.3088567186266216e-05,
          3.1964501967633037e-06,
          1.2219463160922717e-05,
          4.637681986654535e-06,
          3.555829883731072e-05,
          2.0909487565634146e-05,
          4.714023749251649e-06,
          5.712463660941393e-06,
          2.0149695723078438e-05,
          7.388443735153846e-07,
          6.414566693206467e-06,
          1.7680162045852783e-05,
          3.430557904463673e-06,
          1.0403005698053723e-05,
          3.957365977205572e-06,
          1.1904414233876863e-05,
          1.1166846647471535e-05,
          7.412923259983653e-06,
          1.0624234723092602e-05,
          4.7246162902879845e-06,
          1.750536372212025e-05,
          7.966332004852634e-06,
          1.447214120202356e-05,
          1.08283075432156e-05,
          3.1710294747189677e-06,
          6.406580839838682e-06,
          8.46930687898278e-06,
          7.177158453981589e-06,
          1.2747389417782387e-05,
          7.920920286957722e-06,
          1.731298941656957e-05,
          2.7620460500593228e-05,
          1.4963156627522142e-05,
          1.1874785555343207e-05,
          1.4286981602687015e-05,
          7.703694032789558e-06,
          1.0718138094248277e-05,
          4.759878147119434e-06,
          8.286042472182203e-06,
          3.563553119035503e-05,
          1.2568067027054812e-05,
          1.217756680988944e-05,
          7.039313863999049e-07,
          7.997550464543432e-06,
          1.2968567101449014e-05,
          1.4337994625342974e-05,
          3.1759965800868828e-06,
          1.3052323674270332e-05,
          1.7260111903806033e-05,
          2.7684245089265595e-05,
          5.974353593611026e-06,
          1.3088567186266216e-05,
          3.1964501967633037e-06,
          1.2219463160922717e-05,
          4.637681986654535e-06,
          3.555829883731072e-05,
          2.0909487565634146e-05,
          4.714023749251649e-06,
          5.712463660941393e-06,
          2.0149695723078438e-05,
          7.388443735153846e-07,
          6.414566693206467e-06,
          1.7680162045852783e-05,
          3.430557904463673e-06,
          1.0403005698053723e-05,
          3.957365977205572e-06,
          1.1904414233876863e-05,
          1.1166846647471535e-05,
          7.412923259983653e-06,
          1.0624234723092602e-05,
          4.7246162902879845e-06,
          1.750536372212025e-05,
          7.966332004852634e-06,
          1.447214120202356e-05,
          1.08283075432156e-05,
          3.1710294747189677e-06,
          6.406580839838682e-06,
          8.46930687898278e-06,
          7.177158453981589e-06,
          1.2747389417782387e-05,
          7.920920286957722e-06,
          1.731298941656957e-05,
          2.7620460500593228e-05,
          1.4963156627522142e-05,
          1.1874785555343207e-05,
          1.4286981602687015e-05,
          7.703694032789558e-06,
          1.0718138094248277e-05,
          4.759878147119434e-06,
          8.286042472182203e-06,
          3.563553119035503e-05,
          1.2568067027054812e-05,
          1.217756680988944e-05,
          7.039313863999049e-07,
          7.997550464543432e-06,
          1.2968567101449014e-05,
          1.4337994625342974e-05,
          3.1759965800868828e-06,
          1.3052323674270332e-05,
          1.7260111903806033e-05,
          2.7684245089265595e-05,
          5.974353593611026e-06,
          1.3088567186266216e-05,
          3.1964501967633037e-06,
          1.2219463160922717e-05,
          4.637681986654535e-06,
          3.555829883731072e-05,
          2.0909487565634146e-05,
          4.714023749251649e-06,
          5.712463660941393e-06,
          2.0149695723078438e-05,
          7.388443735153846e-07,
          6.414566693206467e-06,
          1.7680162045852783e-05,
          3.430557904463673e-06,
          1.0403005698053723e-05,
          3.957365977205572e-06,
          1.1904414233876863e-05,
          1.1166846647471535e-05,
          7.412923259983653e-06,
          1.0624234723092602e-05,
          4.7246162902879845e-06,
          1.750536372212025e-05,
          7.966332004852634e-06,
          1.447214120202356e-05,
          1.08283075432156e-05,
          3.1710294747189677e-06,
          6.406580839838682e-06,
          8.46930687898278e-06,
          7.177158453981589e-06,
          1.2747389417782387e-05,
          7.920920286957722e-06,
          1.731298941656957e-05
         ]
        }
       ],
       "layout": {
        "autosize": true,
        "geo": {
         "center": {
          "lat": 38.670866766482405,
          "lon": -102.84832891483585
         },
         "projection": {
          "scale": 1.7559478514320928,
          "type": "albers usa"
         },
         "scope": "usa"
        },
        "template": {
         "data": {
          "bar": [
           {
            "error_x": {
             "color": "#2a3f5f"
            },
            "error_y": {
             "color": "#2a3f5f"
            },
            "marker": {
             "line": {
              "color": "#E5ECF6",
              "width": 0.5
             },
             "pattern": {
              "fillmode": "overlay",
              "size": 10,
              "solidity": 0.2
             }
            },
            "type": "bar"
           }
          ],
          "barpolar": [
           {
            "marker": {
             "line": {
              "color": "#E5ECF6",
              "width": 0.5
             },
             "pattern": {
              "fillmode": "overlay",
              "size": 10,
              "solidity": 0.2
             }
            },
            "type": "barpolar"
           }
          ],
          "carpet": [
           {
            "aaxis": {
             "endlinecolor": "#2a3f5f",
             "gridcolor": "white",
             "linecolor": "white",
             "minorgridcolor": "white",
             "startlinecolor": "#2a3f5f"
            },
            "baxis": {
             "endlinecolor": "#2a3f5f",
             "gridcolor": "white",
             "linecolor": "white",
             "minorgridcolor": "white",
             "startlinecolor": "#2a3f5f"
            },
            "type": "carpet"
           }
          ],
          "choropleth": [
           {
            "colorbar": {
             "outlinewidth": 0,
             "ticks": ""
            },
            "type": "choropleth"
           }
          ],
          "contour": [
           {
            "colorbar": {
             "outlinewidth": 0,
             "ticks": ""
            },
            "colorscale": [
             [
              0,
              "#0d0887"
             ],
             [
              0.1111111111111111,
              "#46039f"
             ],
             [
              0.2222222222222222,
              "#7201a8"
             ],
             [
              0.3333333333333333,
              "#9c179e"
             ],
             [
              0.4444444444444444,
              "#bd3786"
             ],
             [
              0.5555555555555556,
              "#d8576b"
             ],
             [
              0.6666666666666666,
              "#ed7953"
             ],
             [
              0.7777777777777778,
              "#fb9f3a"
             ],
             [
              0.8888888888888888,
              "#fdca26"
             ],
             [
              1,
              "#f0f921"
             ]
            ],
            "type": "contour"
           }
          ],
          "contourcarpet": [
           {
            "colorbar": {
             "outlinewidth": 0,
             "ticks": ""
            },
            "type": "contourcarpet"
           }
          ],
          "heatmap": [
           {
            "colorbar": {
             "outlinewidth": 0,
             "ticks": ""
            },
            "colorscale": [
             [
              0,
              "#0d0887"
             ],
             [
              0.1111111111111111,
              "#46039f"
             ],
             [
              0.2222222222222222,
              "#7201a8"
             ],
             [
              0.3333333333333333,
              "#9c179e"
             ],
             [
              0.4444444444444444,
              "#bd3786"
             ],
             [
              0.5555555555555556,
              "#d8576b"
             ],
             [
              0.6666666666666666,
              "#ed7953"
             ],
             [
              0.7777777777777778,
              "#fb9f3a"
             ],
             [
              0.8888888888888888,
              "#fdca26"
             ],
             [
              1,
              "#f0f921"
             ]
            ],
            "type": "heatmap"
           }
          ],
          "heatmapgl": [
           {
            "colorbar": {
             "outlinewidth": 0,
             "ticks": ""
            },
            "colorscale": [
             [
              0,
              "#0d0887"
             ],
             [
              0.1111111111111111,
              "#46039f"
             ],
             [
              0.2222222222222222,
              "#7201a8"
             ],
             [
              0.3333333333333333,
              "#9c179e"
             ],
             [
              0.4444444444444444,
              "#bd3786"
             ],
             [
              0.5555555555555556,
              "#d8576b"
             ],
             [
              0.6666666666666666,
              "#ed7953"
             ],
             [
              0.7777777777777778,
              "#fb9f3a"
             ],
             [
              0.8888888888888888,
              "#fdca26"
             ],
             [
              1,
              "#f0f921"
             ]
            ],
            "type": "heatmapgl"
           }
          ],
          "histogram": [
           {
            "marker": {
             "pattern": {
              "fillmode": "overlay",
              "size": 10,
              "solidity": 0.2
             }
            },
            "type": "histogram"
           }
          ],
          "histogram2d": [
           {
            "colorbar": {
             "outlinewidth": 0,
             "ticks": ""
            },
            "colorscale": [
             [
              0,
              "#0d0887"
             ],
             [
              0.1111111111111111,
              "#46039f"
             ],
             [
              0.2222222222222222,
              "#7201a8"
             ],
             [
              0.3333333333333333,
              "#9c179e"
             ],
             [
              0.4444444444444444,
              "#bd3786"
             ],
             [
              0.5555555555555556,
              "#d8576b"
             ],
             [
              0.6666666666666666,
              "#ed7953"
             ],
             [
              0.7777777777777778,
              "#fb9f3a"
             ],
             [
              0.8888888888888888,
              "#fdca26"
             ],
             [
              1,
              "#f0f921"
             ]
            ],
            "type": "histogram2d"
           }
          ],
          "histogram2dcontour": [
           {
            "colorbar": {
             "outlinewidth": 0,
             "ticks": ""
            },
            "colorscale": [
             [
              0,
              "#0d0887"
             ],
             [
              0.1111111111111111,
              "#46039f"
             ],
             [
              0.2222222222222222,
              "#7201a8"
             ],
             [
              0.3333333333333333,
              "#9c179e"
             ],
             [
              0.4444444444444444,
              "#bd3786"
             ],
             [
              0.5555555555555556,
              "#d8576b"
             ],
             [
              0.6666666666666666,
              "#ed7953"
             ],
             [
              0.7777777777777778,
              "#fb9f3a"
             ],
             [
              0.8888888888888888,
              "#fdca26"
             ],
             [
              1,
              "#f0f921"
             ]
            ],
            "type": "histogram2dcontour"
           }
          ],
          "mesh3d": [
           {
            "colorbar": {
             "outlinewidth": 0,
             "ticks": ""
            },
            "type": "mesh3d"
           }
          ],
          "parcoords": [
           {
            "line": {
             "colorbar": {
              "outlinewidth": 0,
              "ticks": ""
             }
            },
            "type": "parcoords"
           }
          ],
          "pie": [
           {
            "automargin": true,
            "type": "pie"
           }
          ],
          "scatter": [
           {
            "fillpattern": {
             "fillmode": "overlay",
             "size": 10,
             "solidity": 0.2
            },
            "type": "scatter"
           }
          ],
          "scatter3d": [
           {
            "line": {
             "colorbar": {
              "outlinewidth": 0,
              "ticks": ""
             }
            },
            "marker": {
             "colorbar": {
              "outlinewidth": 0,
              "ticks": ""
             }
            },
            "type": "scatter3d"
           }
          ],
          "scattercarpet": [
           {
            "marker": {
             "colorbar": {
              "outlinewidth": 0,
              "ticks": ""
             }
            },
            "type": "scattercarpet"
           }
          ],
          "scattergeo": [
           {
            "marker": {
             "colorbar": {
              "outlinewidth": 0,
              "ticks": ""
             }
            },
            "type": "scattergeo"
           }
          ],
          "scattergl": [
           {
            "marker": {
             "colorbar": {
              "outlinewidth": 0,
              "ticks": ""
             }
            },
            "type": "scattergl"
           }
          ],
          "scattermapbox": [
           {
            "marker": {
             "colorbar": {
              "outlinewidth": 0,
              "ticks": ""
             }
            },
            "type": "scattermapbox"
           }
          ],
          "scatterpolar": [
           {
            "marker": {
             "colorbar": {
              "outlinewidth": 0,
              "ticks": ""
             }
            },
            "type": "scatterpolar"
           }
          ],
          "scatterpolargl": [
           {
            "marker": {
             "colorbar": {
              "outlinewidth": 0,
              "ticks": ""
             }
            },
            "type": "scatterpolargl"
           }
          ],
          "scatterternary": [
           {
            "marker": {
             "colorbar": {
              "outlinewidth": 0,
              "ticks": ""
             }
            },
            "type": "scatterternary"
           }
          ],
          "surface": [
           {
            "colorbar": {
             "outlinewidth": 0,
             "ticks": ""
            },
            "colorscale": [
             [
              0,
              "#0d0887"
             ],
             [
              0.1111111111111111,
              "#46039f"
             ],
             [
              0.2222222222222222,
              "#7201a8"
             ],
             [
              0.3333333333333333,
              "#9c179e"
             ],
             [
              0.4444444444444444,
              "#bd3786"
             ],
             [
              0.5555555555555556,
              "#d8576b"
             ],
             [
              0.6666666666666666,
              "#ed7953"
             ],
             [
              0.7777777777777778,
              "#fb9f3a"
             ],
             [
              0.8888888888888888,
              "#fdca26"
             ],
             [
              1,
              "#f0f921"
             ]
            ],
            "type": "surface"
           }
          ],
          "table": [
           {
            "cells": {
             "fill": {
              "color": "#EBF0F8"
             },
             "line": {
              "color": "white"
             }
            },
            "header": {
             "fill": {
              "color": "#C8D4E3"
             },
             "line": {
              "color": "white"
             }
            },
            "type": "table"
           }
          ]
         },
         "layout": {
          "annotationdefaults": {
           "arrowcolor": "#2a3f5f",
           "arrowhead": 0,
           "arrowwidth": 1
          },
          "autotypenumbers": "strict",
          "coloraxis": {
           "colorbar": {
            "outlinewidth": 0,
            "ticks": ""
           }
          },
          "colorscale": {
           "diverging": [
            [
             0,
             "#8e0152"
            ],
            [
             0.1,
             "#c51b7d"
            ],
            [
             0.2,
             "#de77ae"
            ],
            [
             0.3,
             "#f1b6da"
            ],
            [
             0.4,
             "#fde0ef"
            ],
            [
             0.5,
             "#f7f7f7"
            ],
            [
             0.6,
             "#e6f5d0"
            ],
            [
             0.7,
             "#b8e186"
            ],
            [
             0.8,
             "#7fbc41"
            ],
            [
             0.9,
             "#4d9221"
            ],
            [
             1,
             "#276419"
            ]
           ],
           "sequential": [
            [
             0,
             "#0d0887"
            ],
            [
             0.1111111111111111,
             "#46039f"
            ],
            [
             0.2222222222222222,
             "#7201a8"
            ],
            [
             0.3333333333333333,
             "#9c179e"
            ],
            [
             0.4444444444444444,
             "#bd3786"
            ],
            [
             0.5555555555555556,
             "#d8576b"
            ],
            [
             0.6666666666666666,
             "#ed7953"
            ],
            [
             0.7777777777777778,
             "#fb9f3a"
            ],
            [
             0.8888888888888888,
             "#fdca26"
            ],
            [
             1,
             "#f0f921"
            ]
           ],
           "sequentialminus": [
            [
             0,
             "#0d0887"
            ],
            [
             0.1111111111111111,
             "#46039f"
            ],
            [
             0.2222222222222222,
             "#7201a8"
            ],
            [
             0.3333333333333333,
             "#9c179e"
            ],
            [
             0.4444444444444444,
             "#bd3786"
            ],
            [
             0.5555555555555556,
             "#d8576b"
            ],
            [
             0.6666666666666666,
             "#ed7953"
            ],
            [
             0.7777777777777778,
             "#fb9f3a"
            ],
            [
             0.8888888888888888,
             "#fdca26"
            ],
            [
             1,
             "#f0f921"
            ]
           ]
          },
          "colorway": [
           "#636efa",
           "#EF553B",
           "#00cc96",
           "#ab63fa",
           "#FFA15A",
           "#19d3f3",
           "#FF6692",
           "#B6E880",
           "#FF97FF",
           "#FECB52"
          ],
          "font": {
           "color": "#2a3f5f"
          },
          "geo": {
           "bgcolor": "white",
           "lakecolor": "white",
           "landcolor": "#E5ECF6",
           "showlakes": true,
           "showland": true,
           "subunitcolor": "white"
          },
          "hoverlabel": {
           "align": "left"
          },
          "hovermode": "closest",
          "mapbox": {
           "style": "light"
          },
          "paper_bgcolor": "white",
          "plot_bgcolor": "#E5ECF6",
          "polar": {
           "angularaxis": {
            "gridcolor": "white",
            "linecolor": "white",
            "ticks": ""
           },
           "bgcolor": "#E5ECF6",
           "radialaxis": {
            "gridcolor": "white",
            "linecolor": "white",
            "ticks": ""
           }
          },
          "scene": {
           "xaxis": {
            "backgroundcolor": "#E5ECF6",
            "gridcolor": "white",
            "gridwidth": 2,
            "linecolor": "white",
            "showbackground": true,
            "ticks": "",
            "zerolinecolor": "white"
           },
           "yaxis": {
            "backgroundcolor": "#E5ECF6",
            "gridcolor": "white",
            "gridwidth": 2,
            "linecolor": "white",
            "showbackground": true,
            "ticks": "",
            "zerolinecolor": "white"
           },
           "zaxis": {
            "backgroundcolor": "#E5ECF6",
            "gridcolor": "white",
            "gridwidth": 2,
            "linecolor": "white",
            "showbackground": true,
            "ticks": "",
            "zerolinecolor": "white"
           }
          },
          "shapedefaults": {
           "line": {
            "color": "#2a3f5f"
           }
          },
          "ternary": {
           "aaxis": {
            "gridcolor": "white",
            "linecolor": "white",
            "ticks": ""
           },
           "baxis": {
            "gridcolor": "white",
            "linecolor": "white",
            "ticks": ""
           },
           "bgcolor": "#E5ECF6",
           "caxis": {
            "gridcolor": "white",
            "linecolor": "white",
            "ticks": ""
           }
          },
          "title": {
           "x": 0.05
          },
          "xaxis": {
           "automargin": true,
           "gridcolor": "white",
           "linecolor": "white",
           "ticks": "",
           "title": {
            "standoff": 15
           },
           "zerolinecolor": "white",
           "zerolinewidth": 2
          },
          "yaxis": {
           "automargin": true,
           "gridcolor": "white",
           "linecolor": "white",
           "ticks": "",
           "title": {
            "standoff": 15
           },
           "zerolinecolor": "white",
           "zerolinewidth": 2
          }
         }
        },
        "title": {
         "text": "Poverty Rate by State"
        },
        "updatemenus": [
         {
          "active": 0,
          "buttons": [
           {
            "args": [
             {
              "visible": [
               true,
               false
              ]
             },
             {
              "title": "Poverty Rate by State"
             }
            ],
            "label": "Poverty Rate",
            "method": "update"
           },
           {
            "args": [
             {
              "visible": [
               false,
               true
              ]
             },
             {
              "title": "Gun Violence Rate by State"
             }
            ],
            "label": "Gun Violence Rate",
            "method": "update"
           }
          ],
          "direction": "down",
          "showactive": true
         }
        ]
       }
      },
      "image/png": "[encoded data removed]",
      "text/html": [
       "<div>                            <div id=\"0c9e2f08-9296-4ba2-8169-0d5db6eff41d\" class=\"plotly-graph-div\" style=\"height:525px; width:100%;\"></div>            <script type=\"text/javascript\">                require([\"plotly\"], function(Plotly) {                    window.PLOTLYENV=window.PLOTLYENV || {};                                    if (document.getElementById(\"0c9e2f08-9296-4ba2-8169-0d5db6eff41d\")) {                    Plotly.newPlot(                        \"0c9e2f08-9296-4ba2-8169-0d5db6eff41d\",                        [{\"colorbar\":{\"title\":{\"text\":\"Poverty Rate (%)\"}},\"colorscale\":[[0.0,\"rgb(247,252,245)\"],[0.125,\"rgb(229,245,224)\"],[0.25,\"rgb(199,233,192)\"],[0.375,\"rgb(161,217,155)\"],[0.5,\"rgb(116,196,118)\"],[0.625,\"rgb(65,171,93)\"],[0.75,\"rgb(35,139,69)\"],[0.875,\"rgb(0,109,44)\"],[1.0,\"rgb(0,68,27)\"]],\"locationmode\":\"USA-states\",\"locations\":[\"AL\",\"AK\",\"AZ\",\"AR\",\"CA\",\"CO\",\"CT\",\"DE\",\"DC\",\"FL\",\"GA\",\"HI\",\"ID\",\"IL\",\"IN\",\"IA\",\"KS\",\"KY\",\"LA\",\"ME\",\"MD\",\"MA\",\"MI\",\"MN\",\"MS\",\"MO\",\"MT\",\"NE\",\"NV\",\"NH\",\"NJ\",\"NM\",\"NY\",\"NC\",\"ND\",\"OH\",\"OK\",\"OR\",\"PA\",\"RI\",\"SC\",\"SD\",\"TN\",\"TX\",\"UT\",\"VT\",\"VA\",\"WA\",\"WV\",\"WI\",\"WY\",\"AL\",\"AK\",\"AZ\",\"AR\",\"CA\",\"CO\",\"CT\",\"DE\",\"DC\",\"FL\",\"GA\",\"HI\",\"ID\",\"IL\",\"IN\",\"IA\",\"KS\",\"KY\",\"LA\",\"ME\",\"MD\",\"MA\",\"MI\",\"MN\",\"MS\",\"MO\",\"MT\",\"NE\",\"NV\",\"NH\",\"NJ\",\"NM\",\"NY\",\"NC\",\"ND\",\"OH\",\"OK\",\"OR\",\"PA\",\"RI\",\"SC\",\"SD\",\"TN\",\"TX\",\"UT\",\"VT\",\"VA\",\"WA\",\"WV\",\"WI\",\"WY\",\"AL\",\"AK\",\"AZ\",\"AR\",\"CA\",\"CO\",\"CT\",\"DE\",\"DC\",\"FL\",\"GA\",\"HI\",\"ID\",\"IL\",\"IN\",\"IA\",\"KS\",\"KY\",\"LA\",\"ME\",\"MD\",\"MA\",\"MI\",\"MN\",\"MS\",\"MO\",\"MT\",\"NE\",\"NV\",\"NH\",\"NJ\",\"NM\",\"NY\",\"NC\",\"ND\",\"OH\",\"OK\",\"OR\",\"PA\",\"RI\",\"SC\",\"SD\",\"TN\",\"TX\",\"UT\",\"VT\",\"VA\",\"WA\",\"WV\",\"WI\",\"WY\",\"AL\",\"AK\",\"AZ\",\"AR\",\"CA\",\"CO\",\"CT\",\"DE\",\"DC\",\"FL\",\"GA\",\"HI\",\"ID\",\"IL\",\"IN\",\"IA\",\"KS\",\"KY\",\"LA\",\"ME\",\"MD\",\"MA\",\"MI\",\"MN\",\"MS\",\"MO\",\"MT\",\"NE\",\"NV\",\"NH\",\"NJ\",\"NM\",\"NY\",\"NC\",\"ND\",\"OH\",\"OK\",\"OR\",\"PA\",\"RI\",\"SC\",\"SD\",\"TN\",\"TX\",\"UT\",\"VT\",\"VA\",\"WA\",\"WV\",\"WI\",\"WY\",\"AL\",\"AK\",\"AZ\",\"AR\",\"CA\",\"CO\",\"CT\",\"DE\",\"DC\",\"FL\",\"GA\",\"HI\",\"ID\",\"IL\",\"IN\",\"IA\",\"KS\",\"KY\",\"LA\",\"ME\",\"MD\",\"MA\",\"MI\",\"MN\",\"MS\",\"MO\",\"MT\",\"NE\",\"NV\",\"NH\",\"NJ\",\"NM\",\"NY\",\"NC\",\"ND\",\"OH\",\"OK\",\"OR\",\"PA\",\"RI\",\"SC\",\"SD\",\"TN\",\"TX\",\"UT\",\"VT\",\"VA\",\"WA\",\"WV\",\"WI\",\"WY\",\"AL\",\"AK\",\"AZ\",\"AR\",\"CA\",\"CO\",\"CT\",\"DE\",\"DC\",\"FL\",\"GA\",\"HI\",\"ID\",\"IL\",\"IN\",\"IA\",\"KS\",\"KY\",\"LA\",\"ME\",\"MD\",\"MA\",\"MI\",\"MN\",\"MS\",\"MO\",\"MT\",\"NE\",\"NV\",\"NH\",\"NJ\",\"NM\",\"NY\",\"NC\",\"ND\",\"OH\",\"OK\",\"OR\",\"PA\",\"RI\",\"SC\",\"SD\",\"TN\",\"TX\",\"UT\",\"VT\",\"VA\",\"WA\",\"WV\",\"WI\",\"WY\",\"AL\",\"AK\",\"AZ\",\"AR\",\"CA\",\"CO\",\"CT\",\"DE\",\"DC\",\"FL\",\"GA\",\"HI\",\"ID\",\"IL\",\"IN\",\"IA\",\"KS\",\"KY\",\"LA\",\"ME\",\"MD\",\"MA\",\"MI\",\"MN\",\"MS\",\"MO\",\"MT\",\"NE\",\"NV\",\"NH\",\"NJ\",\"NM\",\"NY\",\"NC\",\"ND\",\"OH\",\"OK\",\"OR\",\"PA\",\"RI\",\"SC\",\"SD\",\"TN\",\"TX\",\"UT\",\"VT\",\"VA\",\"WA\",\"WV\",\"WI\",\"WY\",\"AL\",\"AK\",\"AZ\",\"AR\",\"CA\",\"CO\",\"CT\",\"DE\",\"DC\",\"FL\",\"GA\",\"HI\",\"ID\",\"IL\",\"IN\",\"IA\",\"KS\",\"KY\",\"LA\",\"ME\",\"MD\",\"MA\",\"MI\",\"MN\",\"MS\",\"MO\",\"MT\",\"NE\",\"NV\",\"NH\",\"NJ\",\"NM\",\"NY\",\"NC\",\"ND\",\"OH\",\"OK\",\"OR\",\"PA\",\"RI\",\"SC\",\"SD\",\"TN\",\"TX\",\"UT\",\"VT\",\"VA\",\"WA\",\"WV\",\"WI\",\"WY\",\"AL\",\"AK\",\"AZ\",\"AR\",\"CA\",\"CO\",\"CT\",\"DE\",\"DC\",\"FL\",\"GA\",\"HI\",\"ID\",\"IL\",\"IN\",\"IA\",\"KS\",\"KY\",\"LA\",\"ME\",\"MD\",\"MA\",\"MI\",\"MN\",\"MS\",\"MO\",\"MT\",\"NE\",\"NV\",\"NH\",\"NJ\",\"NM\",\"NY\",\"NC\",\"ND\",\"OH\",\"OK\",\"OR\",\"PA\",\"RI\",\"SC\",\"SD\",\"TN\",\"TX\",\"UT\",\"VT\",\"VA\",\"WA\",\"WV\",\"WI\",\"WY\",\"AL\",\"AK\",\"AZ\",\"AR\",\"CA\",\"CO\",\"CT\",\"DE\",\"DC\",\"FL\",\"GA\",\"HI\",\"ID\",\"IL\",\"IN\",\"IA\",\"KS\",\"KY\",\"LA\",\"ME\",\"MD\",\"MA\",\"MI\",\"MN\",\"MS\",\"MO\",\"MT\",\"NE\",\"NV\",\"NH\",\"NJ\",\"NM\",\"NY\",\"NC\",\"ND\",\"OH\",\"OK\",\"OR\",\"PA\",\"RI\",\"SC\",\"SD\",\"TN\",\"TX\",\"UT\",\"VT\",\"VA\",\"WA\",\"WV\",\"WI\",\"WY\",\"AL\",\"AK\",\"AZ\",\"AR\",\"CA\",\"CO\",\"CT\",\"DE\",\"DC\",\"FL\",\"GA\",\"HI\",\"ID\",\"IL\",\"IN\",\"IA\",\"KS\",\"KY\",\"LA\",\"ME\",\"MD\",\"MA\",\"MI\",\"MN\",\"MS\",\"MO\",\"MT\",\"NE\",\"NV\",\"NH\",\"NJ\",\"NM\",\"NY\",\"NC\",\"ND\",\"OH\",\"OK\",\"OR\",\"PA\",\"RI\",\"SC\",\"SD\",\"TN\",\"TX\",\"UT\",\"VT\",\"VA\",\"WA\",\"WV\",\"WI\",\"WY\"],\"visible\":true,\"z\":[19.1,10.8,19.0,19.3,16.6,13.4,10.8,12.6,19.1,17.0,19.2,12.1,16.5,14.9,15.8,12.7,13.8,19.1,20.5,14.2,10.2,11.6,17.5,11.8,22.8,15.8,15.2,12.9,15.8,9.0,10.4,20.9,16.1,17.8,12.0,16.3,17.3,17.3,13.7,14.7,18.8,14.1,18.4,18.5,13.6,11.9,11.6,13.9,18.7,13.1,11.3,19.0,10.8,18.7,19.6,17.0,13.6,10.6,12.7,18.8,17.2,19.2,11.8,16.0,14.7,15.5,12.7,14.0,19.3,20.1,14.4,10.4,11.9,17.4,11.4,23.8,16.2,15.6,12.8,16.2,9.7,10.7,20.6,15.9,18.0,11.2,16.2,17.2,17.0,13.7,14.2,18.3,13.6,18.0,17.9,13.0,11.9,11.8,13.6,18.0,13.2,11.9,18.9,10.1,18.6,19.4,16.8,12.9,10.7,12.9,18.8,17.1,19.0,11.2,15.6,14.6,15.8,12.6,13.9,18.8,20.0,14.0,10.2,11.9,17.0,11.2,23.9,15.8,16.1,12.9,15.8,9.0,11.4,21.4,16.0,17.8,11.6,15.9,16.7,16.5,13.7,14.7,18.5,14.0,17.8,17.5,12.6,12.3,11.7,14.1,18.4,13.5,10.9,19.2,11.4,18.2,18.7,16.4,12.1,10.8,13.0,18.4,16.6,18.4,11.5,14.8,14.3,15.2,12.3,13.5,19.0,19.9,14.0,10.4,11.7,16.2,11.4,21.9,15.5,15.2,12.3,15.4,9.2,11.1,20.6,16.0,17.2,11.1,15.8,16.6,16.4,13.6,14.8,17.9,14.1,18.2,17.2,11.8,12.0,11.8,13.2,18.3,13.2,11.2,18.5,10.4,17.4,18.7,15.4,11.5,10.6,12.6,17.7,15.8,17.2,10.7,14.7,13.6,14.4,12.1,12.9,18.3,19.5,13.2,9.9,11.5,15.7,10.2,22.1,14.8,14.4,12.2,14.9,8.4,10.8,19.8,15.5,16.4,10.7,14.8,16.0,15.2,13.1,14.1,16.8,13.5,16.7,15.9,11.2,10.4,11.2,12.2,18.0,12.1,10.6,17.2,9.9,16.4,17.2,14.4,11.0,9.9,11.8,18.5,14.8,16.1,9.5,13.8,13.0,14.0,11.7,12.2,18.2,20.1,12.3,9.7,10.5,14.9,9.9,21.0,14.0,13.4,11.3,14.1,7.6,10.4,19.1,14.8,15.4,10.5,14.5,16.1,13.4,12.9,13.3,15.3,12.9,15.8,15.6,10.2,11.3,11.0,11.3,17.9,11.8,10.9,16.9,11.0,14.9,16.3,13.3,10.3,9.7,13.0,16.6,14.1,15.1,9.5,12.6,12.5,13.3,10.8,11.9,17.1,19.6,11.3,9.4,10.5,14.1,9.5,19.9,13.4,12.7,10.7,13.3,7.7,10.0,19.0,14.1,14.7,10.2,13.9,15.8,13.2,12.5,12.3,15.4,12.8,15.0,14.7,9.7,10.8,10.7,11.0,18.5,11.3,10.8,16.8,11.1,14.1,16.8,12.8,9.7,10.3,12.2,16.1,13.7,14.5,9.0,11.7,12.1,13.0,11.2,11.9,16.7,18.7,11.6,9.1,10.0,14.0,9.6,19.8,13.2,12.9,11.0,13.1,7.6,9.5,18.8,13.7,14.1,10.6,13.8,15.5,12.5,12.2,12.8,15.2,12.9,15.2,14.9,9.1,10.7,10.7,10.3,17.4,11.1,10.7,15.6,10.2,13.5,16.0,11.8,9.4,9.9,11.2,14.1,12.7,13.5,9.0,11.0,11.4,11.9,11.0,11.3,16.0,18.8,10.9,9.1,9.5,12.9,8.9,19.5,12.9,12.6,9.9,12.7,7.5,9.1,17.5,13.1,13.6,10.5,13.0,15.1,11.5,12.0,11.6,13.9,11.9,13.8,13.6,8.8,10.1,9.9,9.8,16.2,10.4,9.9,14.9,9.6,12.8,15.2,11.5,9.0,9.7,10.9,15.0,12.4,14.0,8.9,10.1,11.0,11.6,10.2,10.6,14.9,17.8,10.6,9.0,9.4,12.6,8.3,18.7,12.1,12.4,9.2,12.5,7.0,9.4,16.8,12.7,12.9,10.2,12.6,14.3,11.0,10.9,10.6,13.8,11.6,13.6,13.4,7.3,9.4,9.2,9.5,15.8,10.0,9.2,16.3,10.8,12.9,16.0,12.3,9.7,10.1,11.5,16.8,13.2,14.2,10.9,10.8,12.1,12.1,11.0,11.6,16.3,19.5,11.2,10.3,10.4,13.0,9.3,19.2,12.8,12.0,10.5,14.0,7.4,10.2,17.7,14.0,13.5,10.9,13.3,15.4,12.2,12.0,12.1,14.5,11.9,13.7,14.2,8.7,10.2,10.3,9.9,16.8,10.8,10.6],\"type\":\"choropleth\"},{\"colorbar\":{\"title\":{\"text\":\"Gun Deaths Per Capita\"}},\"colorscale\":[[0.0,\"rgb(255,245,240)\"],[0.125,\"rgb(254,224,210)\"],[0.25,\"rgb(252,187,161)\"],[0.375,\"rgb(252,146,114)\"],[0.5,\"rgb(251,106,74)\"],[0.625,\"rgb(239,59,44)\"],[0.75,\"rgb(203,24,29)\"],[0.875,\"rgb(165,15,21)\"],[1.0,\"rgb(103,0,13)\"]],\"locationmode\":\"USA-states\",\"locations\":[\"AL\",\"AK\",\"AZ\",\"AR\",\"CA\",\"CO\",\"CT\",\"DE\",\"DC\",\"FL\",\"GA\",\"HI\",\"ID\",\"IL\",\"IN\",\"IA\",\"KS\",\"KY\",\"LA\",\"ME\",\"MD\",\"MA\",\"MI\",\"MN\",\"MS\",\"MO\",\"MT\",\"NE\",\"NV\",\"NH\",\"NJ\",\"NM\",\"NY\",\"NC\",\"ND\",\"OH\",\"OK\",\"OR\",\"PA\",\"RI\",\"SC\",\"SD\",\"TN\",\"TX\",\"UT\",\"VT\",\"VA\",\"WA\",\"WV\",\"WI\",\"WY\",\"AL\",\"AK\",\"AZ\",\"AR\",\"CA\",\"CO\",\"CT\",\"DE\",\"DC\",\"FL\",\"GA\",\"HI\",\"ID\",\"IL\",\"IN\",\"IA\",\"KS\",\"KY\",\"LA\",\"ME\",\"MD\",\"MA\",\"MI\",\"MN\",\"MS\",\"MO\",\"MT\",\"NE\",\"NV\",\"NH\",\"NJ\",\"NM\",\"NY\",\"NC\",\"ND\",\"OH\",\"OK\",\"OR\",\"PA\",\"RI\",\"SC\",\"SD\",\"TN\",\"TX\",\"UT\",\"VT\",\"VA\",\"WA\",\"WV\",\"WI\",\"WY\",\"AL\",\"AK\",\"AZ\",\"AR\",\"CA\",\"CO\",\"CT\",\"DE\",\"DC\",\"FL\",\"GA\",\"HI\",\"ID\",\"IL\",\"IN\",\"IA\",\"KS\",\"KY\",\"LA\",\"ME\",\"MD\",\"MA\",\"MI\",\"MN\",\"MS\",\"MO\",\"MT\",\"NE\",\"NV\",\"NH\",\"NJ\",\"NM\",\"NY\",\"NC\",\"ND\",\"OH\",\"OK\",\"OR\",\"PA\",\"RI\",\"SC\",\"SD\",\"TN\",\"TX\",\"UT\",\"VT\",\"VA\",\"WA\",\"WV\",\"WI\",\"WY\",\"AL\",\"AK\",\"AZ\",\"AR\",\"CA\",\"CO\",\"CT\",\"DE\",\"DC\",\"FL\",\"GA\",\"HI\",\"ID\",\"IL\",\"IN\",\"IA\",\"KS\",\"KY\",\"LA\",\"ME\",\"MD\",\"MA\",\"MI\",\"MN\",\"MS\",\"MO\",\"MT\",\"NE\",\"NV\",\"NH\",\"NJ\",\"NM\",\"NY\",\"NC\",\"ND\",\"OH\",\"OK\",\"OR\",\"PA\",\"RI\",\"SC\",\"SD\",\"TN\",\"TX\",\"UT\",\"VT\",\"VA\",\"WA\",\"WV\",\"WI\",\"WY\",\"AL\",\"AK\",\"AZ\",\"AR\",\"CA\",\"CO\",\"CT\",\"DE\",\"DC\",\"FL\",\"GA\",\"HI\",\"ID\",\"IL\",\"IN\",\"IA\",\"KS\",\"KY\",\"LA\",\"ME\",\"MD\",\"MA\",\"MI\",\"MN\",\"MS\",\"MO\",\"MT\",\"NE\",\"NV\",\"NH\",\"NJ\",\"NM\",\"NY\",\"NC\",\"ND\",\"OH\",\"OK\",\"OR\",\"PA\",\"RI\",\"SC\",\"SD\",\"TN\",\"TX\",\"UT\",\"VT\",\"VA\",\"WA\",\"WV\",\"WI\",\"WY\",\"AL\",\"AK\",\"AZ\",\"AR\",\"CA\",\"CO\",\"CT\",\"DE\",\"DC\",\"FL\",\"GA\",\"HI\",\"ID\",\"IL\",\"IN\",\"IA\",\"KS\",\"KY\",\"LA\",\"ME\",\"MD\",\"MA\",\"MI\",\"MN\",\"MS\",\"MO\",\"MT\",\"NE\",\"NV\",\"NH\",\"NJ\",\"NM\",\"NY\",\"NC\",\"ND\",\"OH\",\"OK\",\"OR\",\"PA\",\"RI\",\"SC\",\"SD\",\"TN\",\"TX\",\"UT\",\"VT\",\"VA\",\"WA\",\"WV\",\"WI\",\"WY\",\"AL\",\"AK\",\"AZ\",\"AR\",\"CA\",\"CO\",\"CT\",\"DE\",\"DC\",\"FL\",\"GA\",\"HI\",\"ID\",\"IL\",\"IN\",\"IA\",\"KS\",\"KY\",\"LA\",\"ME\",\"MD\",\"MA\",\"MI\",\"MN\",\"MS\",\"MO\",\"MT\",\"NE\",\"NV\",\"NH\",\"NJ\",\"NM\",\"NY\",\"NC\",\"ND\",\"OH\",\"OK\",\"OR\",\"PA\",\"RI\",\"SC\",\"SD\",\"TN\",\"TX\",\"UT\",\"VT\",\"VA\",\"WA\",\"WV\",\"WI\",\"WY\",\"AL\",\"AK\",\"AZ\",\"AR\",\"CA\",\"CO\",\"CT\",\"DE\",\"DC\",\"FL\",\"GA\",\"HI\",\"ID\",\"IL\",\"IN\",\"IA\",\"KS\",\"KY\",\"LA\",\"ME\",\"MD\",\"MA\",\"MI\",\"MN\",\"MS\",\"MO\",\"MT\",\"NE\",\"NV\",\"NH\",\"NJ\",\"NM\",\"NY\",\"NC\",\"ND\",\"OH\",\"OK\",\"OR\",\"PA\",\"RI\",\"SC\",\"SD\",\"TN\",\"TX\",\"UT\",\"VT\",\"VA\",\"WA\",\"WV\",\"WI\",\"WY\",\"AL\",\"AK\",\"AZ\",\"AR\",\"CA\",\"CO\",\"CT\",\"DE\",\"DC\",\"FL\",\"GA\",\"HI\",\"ID\",\"IL\",\"IN\",\"IA\",\"KS\",\"KY\",\"LA\",\"ME\",\"MD\",\"MA\",\"MI\",\"MN\",\"MS\",\"MO\",\"MT\",\"NE\",\"NV\",\"NH\",\"NJ\",\"NM\",\"NY\",\"NC\",\"ND\",\"OH\",\"OK\",\"OR\",\"PA\",\"RI\",\"SC\",\"SD\",\"TN\",\"TX\",\"UT\",\"VT\",\"VA\",\"WA\",\"WV\",\"WI\",\"WY\",\"AL\",\"AK\",\"AZ\",\"AR\",\"CA\",\"CO\",\"CT\",\"DE\",\"DC\",\"FL\",\"GA\",\"HI\",\"ID\",\"IL\",\"IN\",\"IA\",\"KS\",\"KY\",\"LA\",\"ME\",\"MD\",\"MA\",\"MI\",\"MN\",\"MS\",\"MO\",\"MT\",\"NE\",\"NV\",\"NH\",\"NJ\",\"NM\",\"NY\",\"NC\",\"ND\",\"OH\",\"OK\",\"OR\",\"PA\",\"RI\",\"SC\",\"SD\",\"TN\",\"TX\",\"UT\",\"VT\",\"VA\",\"WA\",\"WV\",\"WI\",\"WY\",\"AL\",\"AK\",\"AZ\",\"AR\",\"CA\",\"CO\",\"CT\",\"DE\",\"DC\",\"FL\",\"GA\",\"HI\",\"ID\",\"IL\",\"IN\",\"IA\",\"KS\",\"KY\",\"LA\",\"ME\",\"MD\",\"MA\",\"MI\",\"MN\",\"MS\",\"MO\",\"MT\",\"NE\",\"NV\",\"NH\",\"NJ\",\"NM\",\"NY\",\"NC\",\"ND\",\"OH\",\"OK\",\"OR\",\"PA\",\"RI\",\"SC\",\"SD\",\"TN\",\"TX\",\"UT\",\"VT\",\"VA\",\"WA\",\"WV\",\"WI\",\"WY\"],\"visible\":false,\"z\":[2.7620460500593228e-05,1.4963156627522142e-05,1.1874785555343207e-05,1.4286981602687015e-05,7.703694032789558e-06,1.0718138094248277e-05,4.759878147119434e-06,8.286042472182203e-06,3.563553119035503e-05,1.2568067027054812e-05,1.217756680988944e-05,7.039313863999049e-07,7.997550464543432e-06,1.2968567101449014e-05,1.4337994625342974e-05,3.1759965800868828e-06,1.3052323674270332e-05,1.7260111903806033e-05,2.7684245089265595e-05,5.974353593611026e-06,1.3088567186266216e-05,3.1964501967633037e-06,1.2219463160922717e-05,4.637681986654535e-06,3.555829883731072e-05,2.0909487565634146e-05,4.714023749251649e-06,5.712463660941393e-06,2.0149695723078438e-05,7.388443735153846e-07,6.414566693206467e-06,1.7680162045852783e-05,3.430557904463673e-06,1.0403005698053723e-05,3.957365977205572e-06,1.1904414233876863e-05,1.1166846647471535e-05,7.412923259983653e-06,1.0624234723092602e-05,4.7246162902879845e-06,1.750536372212025e-05,7.966332004852634e-06,1.447214120202356e-05,1.08283075432156e-05,3.1710294747189677e-06,6.406580839838682e-06,8.46930687898278e-06,7.177158453981589e-06,1.2747389417782387e-05,7.920920286957722e-06,1.731298941656957e-05,2.7620460500593228e-05,1.4963156627522142e-05,1.1874785555343207e-05,1.4286981602687015e-05,7.703694032789558e-06,1.0718138094248277e-05,4.759878147119434e-06,8.286042472182203e-06,3.563553119035503e-05,1.2568067027054812e-05,1.217756680988944e-05,7.039313863999049e-07,7.997550464543432e-06,1.2968567101449014e-05,1.4337994625342974e-05,3.1759965800868828e-06,1.3052323674270332e-05,1.7260111903806033e-05,2.7684245089265595e-05,5.974353593611026e-06,1.3088567186266216e-05,3.1964501967633037e-06,1.2219463160922717e-05,4.637681986654535e-06,3.555829883731072e-05,2.0909487565634146e-05,4.714023749251649e-06,5.712463660941393e-06,2.0149695723078438e-05,7.388443735153846e-07,6.414566693206467e-06,1.7680162045852783e-05,3.430557904463673e-06,1.0403005698053723e-05,3.957365977205572e-06,1.1904414233876863e-05,1.1166846647471535e-05,7.412923259983653e-06,1.0624234723092602e-05,4.7246162902879845e-06,1.750536372212025e-05,7.966332004852634e-06,1.447214120202356e-05,1.08283075432156e-05,3.1710294747189677e-06,6.406580839838682e-06,8.46930687898278e-06,7.177158453981589e-06,1.2747389417782387e-05,7.920920286957722e-06,1.731298941656957e-05,2.7620460500593228e-05,1.4963156627522142e-05,1.1874785555343207e-05,1.4286981602687015e-05,7.703694032789558e-06,1.0718138094248277e-05,4.759878147119434e-06,8.286042472182203e-06,3.563553119035503e-05,1.2568067027054812e-05,1.217756680988944e-05,7.039313863999049e-07,7.997550464543432e-06,1.2968567101449014e-05,1.4337994625342974e-05,3.1759965800868828e-06,1.3052323674270332e-05,1.7260111903806033e-05,2.7684245089265595e-05,5.974353593611026e-06,1.3088567186266216e-05,3.1964501967633037e-06,1.2219463160922717e-05,4.637681986654535e-06,3.555829883731072e-05,2.0909487565634146e-05,4.714023749251649e-06,5.712463660941393e-06,2.0149695723078438e-05,7.388443735153846e-07,6.414566693206467e-06,1.7680162045852783e-05,3.430557904463673e-06,1.0403005698053723e-05,3.957365977205572e-06,1.1904414233876863e-05,1.1166846647471535e-05,7.412923259983653e-06,1.0624234723092602e-05,4.7246162902879845e-06,1.750536372212025e-05,7.966332004852634e-06,1.447214120202356e-05,1.08283075432156e-05,3.1710294747189677e-06,6.406580839838682e-06,8.46930687898278e-06,7.177158453981589e-06,1.2747389417782387e-05,7.920920286957722e-06,1.731298941656957e-05,2.7620460500593228e-05,1.4963156627522142e-05,1.1874785555343207e-05,1.4286981602687015e-05,7.703694032789558e-06,1.0718138094248277e-05,4.759878147119434e-06,8.286042472182203e-06,3.563553119035503e-05,1.2568067027054812e-05,1.217756680988944e-05,7.039313863999049e-07,7.997550464543432e-06,1.2968567101449014e-05,1.4337994625342974e-05,3.1759965800868828e-06,1.3052323674270332e-05,1.7260111903806033e-05,2.7684245089265595e-05,5.974353593611026e-06,1.3088567186266216e-05,3.1964501967633037e-06,1.2219463160922717e-05,4.637681986654535e-06,3.555829883731072e-05,2.0909487565634146e-05,4.714023749251649e-06,5.712463660941393e-06,2.0149695723078438e-05,7.388443735153846e-07,6.414566693206467e-06,1.7680162045852783e-05,3.430557904463673e-06,1.0403005698053723e-05,3.957365977205572e-06,1.1904414233876863e-05,1.1166846647471535e-05,7.412923259983653e-06,1.0624234723092602e-05,4.7246162902879845e-06,1.750536372212025e-05,7.966332004852634e-06,1.447214120202356e-05,1.08283075432156e-05,3.1710294747189677e-06,6.406580839838682e-06,8.46930687898278e-06,7.177158453981589e-06,1.2747389417782387e-05,7.920920286957722e-06,1.731298941656957e-05,2.7620460500593228e-05,1.4963156627522142e-05,1.1874785555343207e-05,1.4286981602687015e-05,7.703694032789558e-06,1.0718138094248277e-05,4.759878147119434e-06,8.286042472182203e-06,3.563553119035503e-05,1.2568067027054812e-05,1.217756680988944e-05,7.039313863999049e-07,7.997550464543432e-06,1.2968567101449014e-05,1.4337994625342974e-05,3.1759965800868828e-06,1.3052323674270332e-05,1.7260111903806033e-05,2.7684245089265595e-05,5.974353593611026e-06,1.3088567186266216e-05,3.1964501967633037e-06,1.2219463160922717e-05,4.637681986654535e-06,3.555829883731072e-05,2.0909487565634146e-05,4.714023749251649e-06,5.712463660941393e-06,2.0149695723078438e-05,7.388443735153846e-07,6.414566693206467e-06,1.7680162045852783e-05,3.430557904463673e-06,1.0403005698053723e-05,3.957365977205572e-06,1.1904414233876863e-05,1.1166846647471535e-05,7.412923259983653e-06,1.0624234723092602e-05,4.7246162902879845e-06,1.750536372212025e-05,7.966332004852634e-06,1.447214120202356e-05,1.08283075432156e-05,3.1710294747189677e-06,6.406580839838682e-06,8.46930687898278e-06,7.177158453981589e-06,1.2747389417782387e-05,7.920920286957722e-06,1.731298941656957e-05,2.7620460500593228e-05,1.4963156627522142e-05,1.1874785555343207e-05,1.4286981602687015e-05,7.703694032789558e-06,1.0718138094248277e-05,4.759878147119434e-06,8.286042472182203e-06,3.563553119035503e-05,1.2568067027054812e-05,1.217756680988944e-05,7.039313863999049e-07,7.997550464543432e-06,1.2968567101449014e-05,1.4337994625342974e-05,3.1759965800868828e-06,1.3052323674270332e-05,1.7260111903806033e-05,2.7684245089265595e-05,5.974353593611026e-06,1.3088567186266216e-05,3.1964501967633037e-06,1.2219463160922717e-05,4.637681986654535e-06,3.555829883731072e-05,2.0909487565634146e-05,4.714023749251649e-06,5.712463660941393e-06,2.0149695723078438e-05,7.388443735153846e-07,6.414566693206467e-06,1.7680162045852783e-05,3.430557904463673e-06,1.0403005698053723e-05,3.957365977205572e-06,1.1904414233876863e-05,1.1166846647471535e-05,7.412923259983653e-06,1.0624234723092602e-05,4.7246162902879845e-06,1.750536372212025e-05,7.966332004852634e-06,1.447214120202356e-05,1.08283075432156e-05,3.1710294747189677e-06,6.406580839838682e-06,8.46930687898278e-06,7.177158453981589e-06,1.2747389417782387e-05,7.920920286957722e-06,1.731298941656957e-05,2.7620460500593228e-05,1.4963156627522142e-05,1.1874785555343207e-05,1.4286981602687015e-05,7.703694032789558e-06,1.0718138094248277e-05,4.759878147119434e-06,8.286042472182203e-06,3.563553119035503e-05,1.2568067027054812e-05,1.217756680988944e-05,7.039313863999049e-07,7.997550464543432e-06,1.2968567101449014e-05,1.4337994625342974e-05,3.1759965800868828e-06,1.3052323674270332e-05,1.7260111903806033e-05,2.7684245089265595e-05,5.974353593611026e-06,1.3088567186266216e-05,3.1964501967633037e-06,1.2219463160922717e-05,4.637681986654535e-06,3.555829883731072e-05,2.0909487565634146e-05,4.714023749251649e-06,5.712463660941393e-06,2.0149695723078438e-05,7.388443735153846e-07,6.414566693206467e-06,1.7680162045852783e-05,3.430557904463673e-06,1.0403005698053723e-05,3.957365977205572e-06,1.1904414233876863e-05,1.1166846647471535e-05,7.412923259983653e-06,1.0624234723092602e-05,4.7246162902879845e-06,1.750536372212025e-05,7.966332004852634e-06,1.447214120202356e-05,1.08283075432156e-05,3.1710294747189677e-06,6.406580839838682e-06,8.46930687898278e-06,7.177158453981589e-06,1.2747389417782387e-05,7.920920286957722e-06,1.731298941656957e-05,2.7620460500593228e-05,1.4963156627522142e-05,1.1874785555343207e-05,1.4286981602687015e-05,7.703694032789558e-06,1.0718138094248277e-05,4.759878147119434e-06,8.286042472182203e-06,3.563553119035503e-05,1.2568067027054812e-05,1.217756680988944e-05,7.039313863999049e-07,7.997550464543432e-06,1.2968567101449014e-05,1.4337994625342974e-05,3.1759965800868828e-06,1.3052323674270332e-05,1.7260111903806033e-05,2.7684245089265595e-05,5.974353593611026e-06,1.3088567186266216e-05,3.1964501967633037e-06,1.2219463160922717e-05,4.637681986654535e-06,3.555829883731072e-05,2.0909487565634146e-05,4.714023749251649e-06,5.712463660941393e-06,2.0149695723078438e-05,7.388443735153846e-07,6.414566693206467e-06,1.7680162045852783e-05,3.430557904463673e-06,1.0403005698053723e-05,3.957365977205572e-06,1.1904414233876863e-05,1.1166846647471535e-05,7.412923259983653e-06,1.0624234723092602e-05,4.7246162902879845e-06,1.750536372212025e-05,7.966332004852634e-06,1.447214120202356e-05,1.08283075432156e-05,3.1710294747189677e-06,6.406580839838682e-06,8.46930687898278e-06,7.177158453981589e-06,1.2747389417782387e-05,7.920920286957722e-06,1.731298941656957e-05,2.7620460500593228e-05,1.4963156627522142e-05,1.1874785555343207e-05,1.4286981602687015e-05,7.703694032789558e-06,1.0718138094248277e-05,4.759878147119434e-06,8.286042472182203e-06,3.563553119035503e-05,1.2568067027054812e-05,1.217756680988944e-05,7.039313863999049e-07,7.997550464543432e-06,1.2968567101449014e-05,1.4337994625342974e-05,3.1759965800868828e-06,1.3052323674270332e-05,1.7260111903806033e-05,2.7684245089265595e-05,5.974353593611026e-06,1.3088567186266216e-05,3.1964501967633037e-06,1.2219463160922717e-05,4.637681986654535e-06,3.555829883731072e-05,2.0909487565634146e-05,4.714023749251649e-06,5.712463660941393e-06,2.0149695723078438e-05,7.388443735153846e-07,6.414566693206467e-06,1.7680162045852783e-05,3.430557904463673e-06,1.0403005698053723e-05,3.957365977205572e-06,1.1904414233876863e-05,1.1166846647471535e-05,7.412923259983653e-06,1.0624234723092602e-05,4.7246162902879845e-06,1.750536372212025e-05,7.966332004852634e-06,1.447214120202356e-05,1.08283075432156e-05,3.1710294747189677e-06,6.406580839838682e-06,8.46930687898278e-06,7.177158453981589e-06,1.2747389417782387e-05,7.920920286957722e-06,1.731298941656957e-05,2.7620460500593228e-05,1.4963156627522142e-05,1.1874785555343207e-05,1.4286981602687015e-05,7.703694032789558e-06,1.0718138094248277e-05,4.759878147119434e-06,8.286042472182203e-06,3.563553119035503e-05,1.2568067027054812e-05,1.217756680988944e-05,7.039313863999049e-07,7.997550464543432e-06,1.2968567101449014e-05,1.4337994625342974e-05,3.1759965800868828e-06,1.3052323674270332e-05,1.7260111903806033e-05,2.7684245089265595e-05,5.974353593611026e-06,1.3088567186266216e-05,3.1964501967633037e-06,1.2219463160922717e-05,4.637681986654535e-06,3.555829883731072e-05,2.0909487565634146e-05,4.714023749251649e-06,5.712463660941393e-06,2.0149695723078438e-05,7.388443735153846e-07,6.414566693206467e-06,1.7680162045852783e-05,3.430557904463673e-06,1.0403005698053723e-05,3.957365977205572e-06,1.1904414233876863e-05,1.1166846647471535e-05,7.412923259983653e-06,1.0624234723092602e-05,4.7246162902879845e-06,1.750536372212025e-05,7.966332004852634e-06,1.447214120202356e-05,1.08283075432156e-05,3.1710294747189677e-06,6.406580839838682e-06,8.46930687898278e-06,7.177158453981589e-06,1.2747389417782387e-05,7.920920286957722e-06,1.731298941656957e-05,2.7620460500593228e-05,1.4963156627522142e-05,1.1874785555343207e-05,1.4286981602687015e-05,7.703694032789558e-06,1.0718138094248277e-05,4.759878147119434e-06,8.286042472182203e-06,3.563553119035503e-05,1.2568067027054812e-05,1.217756680988944e-05,7.039313863999049e-07,7.997550464543432e-06,1.2968567101449014e-05,1.4337994625342974e-05,3.1759965800868828e-06,1.3052323674270332e-05,1.7260111903806033e-05,2.7684245089265595e-05,5.974353593611026e-06,1.3088567186266216e-05,3.1964501967633037e-06,1.2219463160922717e-05,4.637681986654535e-06,3.555829883731072e-05,2.0909487565634146e-05,4.714023749251649e-06,5.712463660941393e-06,2.0149695723078438e-05,7.388443735153846e-07,6.414566693206467e-06,1.7680162045852783e-05,3.430557904463673e-06,1.0403005698053723e-05,3.957365977205572e-06,1.1904414233876863e-05,1.1166846647471535e-05,7.412923259983653e-06,1.0624234723092602e-05,4.7246162902879845e-06,1.750536372212025e-05,7.966332004852634e-06,1.447214120202356e-05,1.08283075432156e-05,3.1710294747189677e-06,6.406580839838682e-06,8.46930687898278e-06,7.177158453981589e-06,1.2747389417782387e-05,7.920920286957722e-06,1.731298941656957e-05],\"type\":\"choropleth\"}],                        {\"template\":{\"data\":{\"histogram2dcontour\":[{\"type\":\"histogram2dcontour\",\"colorbar\":{\"outlinewidth\":0,\"ticks\":\"\"},\"colorscale\":[[0.0,\"#0d0887\"],[0.1111111111111111,\"#46039f\"],[0.2222222222222222,\"#7201a8\"],[0.3333333333333333,\"#9c179e\"],[0.4444444444444444,\"#bd3786\"],[0.5555555555555556,\"#d8576b\"],[0.6666666666666666,\"#ed7953\"],[0.7777777777777778,\"#fb9f3a\"],[0.8888888888888888,\"#fdca26\"],[1.0,\"#f0f921\"]]}],\"choropleth\":[{\"type\":\"choropleth\",\"colorbar\":{\"outlinewidth\":0,\"ticks\":\"\"}}],\"histogram2d\":[{\"type\":\"histogram2d\",\"colorbar\":{\"outlinewidth\":0,\"ticks\":\"\"},\"colorscale\":[[0.0,\"#0d0887\"],[0.1111111111111111,\"#46039f\"],[0.2222222222222222,\"#7201a8\"],[0.3333333333333333,\"#9c179e\"],[0.4444444444444444,\"#bd3786\"],[0.5555555555555556,\"#d8576b\"],[0.6666666666666666,\"#ed7953\"],[0.7777777777777778,\"#fb9f3a\"],[0.8888888888888888,\"#fdca26\"],[1.0,\"#f0f921\"]]}],\"heatmap\":[{\"type\":\"heatmap\",\"colorbar\":{\"outlinewidth\":0,\"ticks\":\"\"},\"colorscale\":[[0.0,\"#0d0887\"],[0.1111111111111111,\"#46039f\"],[0.2222222222222222,\"#7201a8\"],[0.3333333333333333,\"#9c179e\"],[0.4444444444444444,\"#bd3786\"],[0.5555555555555556,\"#d8576b\"],[0.6666666666666666,\"#ed7953\"],[0.7777777777777778,\"#fb9f3a\"],[0.8888888888888888,\"#fdca26\"],[1.0,\"#f0f921\"]]}],\"heatmapgl\":[{\"type\":\"heatmapgl\",\"colorbar\":{\"outlinewidth\":0,\"ticks\":\"\"},\"colorscale\":[[0.0,\"#0d0887\"],[0.1111111111111111,\"#46039f\"],[0.2222222222222222,\"#7201a8\"],[0.3333333333333333,\"#9c179e\"],[0.4444444444444444,\"#bd3786\"],[0.5555555555555556,\"#d8576b\"],[0.6666666666666666,\"#ed7953\"],[0.7777777777777778,\"#fb9f3a\"],[0.8888888888888888,\"#fdca26\"],[1.0,\"#f0f921\"]]}],\"contourcarpet\":[{\"type\":\"contourcarpet\",\"colorbar\":{\"outlinewidth\":0,\"ticks\":\"\"}}],\"contour\":[{\"type\":\"contour\",\"colorbar\":{\"outlinewidth\":0,\"ticks\":\"\"},\"colorscale\":[[0.0,\"#0d0887\"],[0.1111111111111111,\"#46039f\"],[0.2222222222222222,\"#7201a8\"],[0.3333333333333333,\"#9c179e\"],[0.4444444444444444,\"#bd3786\"],[0.5555555555555556,\"#d8576b\"],[0.6666666666666666,\"#ed7953\"],[0.7777777777777778,\"#fb9f3a\"],[0.8888888888888888,\"#fdca26\"],[1.0,\"#f0f921\"]]}],\"surface\":[{\"type\":\"surface\",\"colorbar\":{\"outlinewidth\":0,\"ticks\":\"\"},\"colorscale\":[[0.0,\"#0d0887\"],[0.1111111111111111,\"#46039f\"],[0.2222222222222222,\"#7201a8\"],[0.3333333333333333,\"#9c179e\"],[0.4444444444444444,\"#bd3786\"],[0.5555555555555556,\"#d8576b\"],[0.6666666666666666,\"#ed7953\"],[0.7777777777777778,\"#fb9f3a\"],[0.8888888888888888,\"#fdca26\"],[1.0,\"#f0f921\"]]}],\"mesh3d\":[{\"type\":\"mesh3d\",\"colorbar\":{\"outlinewidth\":0,\"ticks\":\"\"}}],\"scatter\":[{\"fillpattern\":{\"fillmode\":\"overlay\",\"size\":10,\"solidity\":0.2},\"type\":\"scatter\"}],\"parcoords\":[{\"type\":\"parcoords\",\"line\":{\"colorbar\":{\"outlinewidth\":0,\"ticks\":\"\"}}}],\"scatterpolargl\":[{\"type\":\"scatterpolargl\",\"marker\":{\"colorbar\":{\"outlinewidth\":0,\"ticks\":\"\"}}}],\"bar\":[{\"error_x\":{\"color\":\"#2a3f5f\"},\"error_y\":{\"color\":\"#2a3f5f\"},\"marker\":{\"line\":{\"color\":\"#E5ECF6\",\"width\":0.5},\"pattern\":{\"fillmode\":\"overlay\",\"size\":10,\"solidity\":0.2}},\"type\":\"bar\"}],\"scattergeo\":[{\"type\":\"scattergeo\",\"marker\":{\"colorbar\":{\"outlinewidth\":0,\"ticks\":\"\"}}}],\"scatterpolar\":[{\"type\":\"scatterpolar\",\"marker\":{\"colorbar\":{\"outlinewidth\":0,\"ticks\":\"\"}}}],\"histogram\":[{\"marker\":{\"pattern\":{\"fillmode\":\"overlay\",\"size\":10,\"solidity\":0.2}},\"type\":\"histogram\"}],\"scattergl\":[{\"type\":\"scattergl\",\"marker\":{\"colorbar\":{\"outlinewidth\":0,\"ticks\":\"\"}}}],\"scatter3d\":[{\"type\":\"scatter3d\",\"line\":{\"colorbar\":{\"outlinewidth\":0,\"ticks\":\"\"}},\"marker\":{\"colorbar\":{\"outlinewidth\":0,\"ticks\":\"\"}}}],\"scattermapbox\":[{\"type\":\"scattermapbox\",\"marker\":{\"colorbar\":{\"outlinewidth\":0,\"ticks\":\"\"}}}],\"scatterternary\":[{\"type\":\"scatterternary\",\"marker\":{\"colorbar\":{\"outlinewidth\":0,\"ticks\":\"\"}}}],\"scattercarpet\":[{\"type\":\"scattercarpet\",\"marker\":{\"colorbar\":{\"outlinewidth\":0,\"ticks\":\"\"}}}],\"carpet\":[{\"aaxis\":{\"endlinecolor\":\"#2a3f5f\",\"gridcolor\":\"white\",\"linecolor\":\"white\",\"minorgridcolor\":\"white\",\"startlinecolor\":\"#2a3f5f\"},\"baxis\":{\"endlinecolor\":\"#2a3f5f\",\"gridcolor\":\"white\",\"linecolor\":\"white\",\"minorgridcolor\":\"white\",\"startlinecolor\":\"#2a3f5f\"},\"type\":\"carpet\"}],\"table\":[{\"cells\":{\"fill\":{\"color\":\"#EBF0F8\"},\"line\":{\"color\":\"white\"}},\"header\":{\"fill\":{\"color\":\"#C8D4E3\"},\"line\":{\"color\":\"white\"}},\"type\":\"table\"}],\"barpolar\":[{\"marker\":{\"line\":{\"color\":\"#E5ECF6\",\"width\":0.5},\"pattern\":{\"fillmode\":\"overlay\",\"size\":10,\"solidity\":0.2}},\"type\":\"barpolar\"}],\"pie\":[{\"automargin\":true,\"type\":\"pie\"}]},\"layout\":{\"autotypenumbers\":\"strict\",\"colorway\":[\"#636efa\",\"#EF553B\",\"#00cc96\",\"#ab63fa\",\"#FFA15A\",\"#19d3f3\",\"#FF6692\",\"#B6E880\",\"#FF97FF\",\"#FECB52\"],\"font\":{\"color\":\"#2a3f5f\"},\"hovermode\":\"closest\",\"hoverlabel\":{\"align\":\"left\"},\"paper_bgcolor\":\"white\",\"plot_bgcolor\":\"#E5ECF6\",\"polar\":{\"bgcolor\":\"#E5ECF6\",\"angularaxis\":{\"gridcolor\":\"white\",\"linecolor\":\"white\",\"ticks\":\"\"},\"radialaxis\":{\"gridcolor\":\"white\",\"linecolor\":\"white\",\"ticks\":\"\"}},\"ternary\":{\"bgcolor\":\"#E5ECF6\",\"aaxis\":{\"gridcolor\":\"white\",\"linecolor\":\"white\",\"ticks\":\"\"},\"baxis\":{\"gridcolor\":\"white\",\"linecolor\":\"white\",\"ticks\":\"\"},\"caxis\":{\"gridcolor\":\"white\",\"linecolor\":\"white\",\"ticks\":\"\"}},\"coloraxis\":{\"colorbar\":{\"outlinewidth\":0,\"ticks\":\"\"}},\"colorscale\":{\"sequential\":[[0.0,\"#0d0887\"],[0.1111111111111111,\"#46039f\"],[0.2222222222222222,\"#7201a8\"],[0.3333333333333333,\"#9c179e\"],[0.4444444444444444,\"#bd3786\"],[0.5555555555555556,\"#d8576b\"],[0.6666666666666666,\"#ed7953\"],[0.7777777777777778,\"#fb9f3a\"],[0.8888888888888888,\"#fdca26\"],[1.0,\"#f0f921\"]],\"sequentialminus\":[[0.0,\"#0d0887\"],[0.1111111111111111,\"#46039f\"],[0.2222222222222222,\"#7201a8\"],[0.3333333333333333,\"#9c179e\"],[0.4444444444444444,\"#bd3786\"],[0.5555555555555556,\"#d8576b\"],[0.6666666666666666,\"#ed7953\"],[0.7777777777777778,\"#fb9f3a\"],[0.8888888888888888,\"#fdca26\"],[1.0,\"#f0f921\"]],\"diverging\":[[0,\"#8e0152\"],[0.1,\"#c51b7d\"],[0.2,\"#de77ae\"],[0.3,\"#f1b6da\"],[0.4,\"#fde0ef\"],[0.5,\"#f7f7f7\"],[0.6,\"#e6f5d0\"],[0.7,\"#b8e186\"],[0.8,\"#7fbc41\"],[0.9,\"#4d9221\"],[1,\"#276419\"]]},\"xaxis\":{\"gridcolor\":\"white\",\"linecolor\":\"white\",\"ticks\":\"\",\"title\":{\"standoff\":15},\"zerolinecolor\":\"white\",\"automargin\":true,\"zerolinewidth\":2},\"yaxis\":{\"gridcolor\":\"white\",\"linecolor\":\"white\",\"ticks\":\"\",\"title\":{\"standoff\":15},\"zerolinecolor\":\"white\",\"automargin\":true,\"zerolinewidth\":2},\"scene\":{\"xaxis\":{\"backgroundcolor\":\"#E5ECF6\",\"gridcolor\":\"white\",\"linecolor\":\"white\",\"showbackground\":true,\"ticks\":\"\",\"zerolinecolor\":\"white\",\"gridwidth\":2},\"yaxis\":{\"backgroundcolor\":\"#E5ECF6\",\"gridcolor\":\"white\",\"linecolor\":\"white\",\"showbackground\":true,\"ticks\":\"\",\"zerolinecolor\":\"white\",\"gridwidth\":2},\"zaxis\":{\"backgroundcolor\":\"#E5ECF6\",\"gridcolor\":\"white\",\"linecolor\":\"white\",\"showbackground\":true,\"ticks\":\"\",\"zerolinecolor\":\"white\",\"gridwidth\":2}},\"shapedefaults\":{\"line\":{\"color\":\"#2a3f5f\"}},\"annotationdefaults\":{\"arrowcolor\":\"#2a3f5f\",\"arrowhead\":0,\"arrowwidth\":1},\"geo\":{\"bgcolor\":\"white\",\"landcolor\":\"#E5ECF6\",\"subunitcolor\":\"white\",\"showland\":true,\"showlakes\":true,\"lakecolor\":\"white\"},\"title\":{\"x\":0.05},\"mapbox\":{\"style\":\"light\"}}},\"title\":{\"text\":\"Poverty and Gun Violence Rates by State\"},\"geo\":{\"scope\":\"usa\",\"projection\":{\"type\":\"albers usa\"}},\"updatemenus\":[{\"buttons\":[{\"args\":[{\"visible\":[true,false]},{\"title\":\"Poverty Rate by State\"}],\"label\":\"Poverty Rate\",\"method\":\"update\"},{\"args\":[{\"visible\":[false,true]},{\"title\":\"Gun Violence Rate by State\"}],\"label\":\"Gun Violence Rate\",\"method\":\"update\"}],\"direction\":\"down\",\"showactive\":true}]},                        {\"responsive\": true}                    ).then(function(){\n",
       "                            \n",
       "var gd = document.getElementById('0c9e2f08-9296-4ba2-8169-0d5db6eff41d');\n",
       "var x = new MutationObserver(function (mutations, observer) {{\n",
       "        var display = window.getComputedStyle(gd).display;\n",
       "        if (!display || display === 'none') {{\n",
       "            console.log([gd, 'removed!']);\n",
       "            Plotly.purge(gd);\n",
       "            observer.disconnect();\n",
       "        }}\n",
       "}});\n",
       "\n",
       "// Listen for the removal of the full notebook cells\n",
       "var notebookContainer = gd.closest('#notebook-container');\n",
       "if (notebookContainer) {{\n",
       "    x.observe(notebookContainer, {childList: true});\n",
       "}}\n",
       "\n",
       "// Listen for the clearing of the current output cell\n",
       "var outputEl = gd.closest('.output');\n",
       "if (outputEl) {{\n",
       "    x.observe(outputEl, {childList: true});\n",
       "}}\n",
       "\n",
       "                        })                };                });            </script>        </div>"
      ]
     },
     "metadata": {},
     "output_type": "display_data"
    }
   ],
   "source": [
    "import pandas as pd\n",
    "import plotly.graph_objects as go\n",
    "import plotly.express as px\n",
    "\n",
    "# Load the datasets\n",
    "df_poverty = pd.read_csv('poverty.csv')\n",
    "df_guns = pd.read_csv('gun-violence-data_01-2013_03-2018.csv')\n",
    "df_statepop = pd.read_csv('nst-est2019-alldata.csv')\n",
    "\n",
    "# Map state names to abbreviations\n",
    "us_state_to_abbrev = {\n",
    "'Alabama': 'AL', 'Alaska': 'AK', 'Arizona': 'AZ', 'Arkansas': 'AR', 'California': 'CA',\n",
    "'Colorado': 'CO', 'Connecticut': 'CT', 'Delaware': 'DE', 'Florida': 'FL', 'Georgia': 'GA',\n",
    "'Hawaii': 'HI', 'Idaho': 'ID', 'Illinois': 'IL', 'Indiana': 'IN', 'Iowa': 'IA', 'Kansas': 'KS',\n",
    "'Kentucky': 'KY', 'Louisiana': 'LA', 'Maine': 'ME', 'Maryland': 'MD', 'Massachusetts': 'MA',\n",
    "'Michigan': 'MI', 'Minnesota': 'MN', 'Mississippi': 'MS', 'Missouri': 'MO', 'Montana': 'MT',\n",
    "'Nebraska': 'NE', 'Nevada': 'NV', 'New Hampshire': 'NH', 'New Jersey': 'NJ', 'New Mexico': 'NM',\n",
    "'New York': 'NY', 'North Carolina': 'NC', 'North Dakota': 'ND', 'Ohio': 'OH', 'Oklahoma': 'OK',\n",
    "'Oregon': 'OR', 'Pennsylvania': 'PA', 'Rhode Island': 'RI', 'South Carolina': 'SC', 'South Dakota': 'SD',\n",
    "'Tennessee': 'TN', 'Texas': 'TX', 'Utah': 'UT', 'Vermont': 'VT', 'Virginia': 'VA', 'Washington': 'WA',\n",
    "'West Virginia': 'WV', 'Wisconsin': 'WI', 'Wyoming': 'WY', 'District of Columbia': 'DC'\n",
    "}\n",
    "\n",
    "# Process poverty data\n",
    "df_poverty['state_abbrev'] = df_poverty['Name'].map(us_state_to_abbrev)\n",
    "\n",
    "# Process gun violence data\n",
    "df_guns['date'] = pd.to_datetime(df_guns['date'])\n",
    "df_guns_2018 = df_guns[df_guns['date'].dt.year == 2018]\n",
    "df_guns_aggregated_2018 = df_guns_2018.groupby('state').agg({'n_killed': 'sum'}).reset_index()\n",
    "df_guns_aggregated_2018['state_abbrev'] = df_guns_aggregated_2018['state'].map(us_state_to_abbrev)\n",
    "df_guns_aggregated_2018 = df_guns_aggregated_2018.dropna(subset=['state_abbrev'])\n",
    "\n",
    "state_code_to_abbrev = {\n",
    "1: 'AL', 2: 'AK', 4: 'AZ', 5: 'AR', 6: 'CA', 8: 'CO', 9: 'CT', 10: 'DE',\n",
    "11: 'DC', 12: 'FL', 13: 'GA', 15: 'HI', 16: 'ID', 17: 'IL', 18: 'IN',\n",
    "19: 'IA', 20: 'KS', 21: 'KY', 22: 'LA', 23: 'ME', 24: 'MD', 25: 'MA',\n",
    "26: 'MI', 27: 'MN', 28: 'MS', 29: 'MO', 30: 'MT', 31: 'NE', 32: 'NV',\n",
    "33: 'NH', 34: 'NJ', 35: 'NM', 36: 'NY', 37: 'NC', 38: 'ND', 39: 'OH',\n",
    "40: 'OK', 41: 'OR', 42: 'PA', 44: 'RI', 45: 'SC', 46: 'SD', 47: 'TN',\n",
    "48: 'TX', 49: 'UT', 50: 'VT', 51: 'VA', 53: 'WA', 54: 'WV', 55: 'WI',\n",
    "56: 'WY', 72: 'PR'\n",
    "}\n",
    "\n",
    "df_statepop['state_abbrev'] = df_statepop['STATE'].map(state_code_to_abbrev)\n",
    "df_merged = pd.merge(df_guns_aggregated_2018, df_statepop[['state_abbrev', 'POPESTIMATE2018']], on='state_abbrev', how='inner')\n",
    "df_merged['gun_deaths_per_capita'] = df_merged['n_killed'] / df_merged['POPESTIMATE2018']\n",
    "\n",
    "# Merge poverty and gun violence data\n",
    "df_combined = df_poverty[['state_abbrev', 'Percent in Poverty']].merge(\n",
    "df_merged[['state_abbrev', 'gun_deaths_per_capita']],\n",
    "on='state_abbrev'\n",
    ")\n",
    "\n",
    "# Create the figure\n",
    "fig = go.Figure()\n",
    "\n",
    "# Add choropleth for Poverty\n",
    "fig.add_trace(go.Choropleth(\n",
    "locations=df_combined['state_abbrev'],\n",
    "z=df_combined['Percent in Poverty'],\n",
    "locationmode='USA-states',\n",
    "colorscale='Greens',\n",
    "colorbar_title=\"Poverty Rate (%)\",\n",
    "visible=True\n",
    "))\n",
    "\n",
    "# Add choropleth for Violence (initially hidden)\n",
    "fig.add_trace(go.Choropleth(\n",
    "locations=df_combined['state_abbrev'],\n",
    "z=df_combined['gun_deaths_per_capita'],\n",
    "locationmode='USA-states',\n",
    "colorscale='Reds',\n",
    "colorbar_title=\"Gun Deaths Per Capita\",\n",
    "visible=False\n",
    "))\n",
    "\n",
    "# Update layout to include dropdown menu\n",
    "fig.update_layout(\n",
    "title_text='Poverty and Gun Violence Rates by State',\n",
    "geo=dict(\n",
    "scope='usa',\n",
    "projection=go.layout.geo.Projection(type='albers usa'),\n",
    "),\n",
    "updatemenus=[{\n",
    "'buttons': [\n",
    "{\n",
    "'args': [{'visible': [True, False]}, {'title': 'Poverty Rate by State'}],\n",
    "'label': 'Poverty Rate',\n",
    "'method': 'update'\n",
    "},\n",
    "{\n",
    "'args': [{'visible': [False, True]}, {'title': 'Gun Violence Rate by State'}],\n",
    "'label': 'Gun Violence Rate',\n",
    "'method': 'update'\n",
    "}\n",
    "],\n",
    "'direction': 'down',\n",
    "'showactive': True\n",
    "}]\n",
    ")\n",
    "\n",
    "# Show the figure\n",
    "fig.show()"
   ]
  },
  {
   "cell_type": "markdown",
   "metadata": {},
   "source": [
    "*Figure 4 & figure 5: These choropleth maps show per state the poverty rate and the gun deaths per 100,00 people respectively, where a darker color corresponds to a higher amount. The average poverty rate  is 13.9% between 2011 and 2018. The average number of fatalities in these incidents is 0.25 while the average number of people injured is 0.49.*\n",
    "\n",
    "These two choropleth maps show the correlation between poverty and gun violence per state. The first graph depicts the poverty rate among US states and the second graph shows the amount of gun violence victims per 100.000 residents. \n",
    "The link between poverty and gun violence is illustrated by the fact that states with higher amounts of poverty tend to have higher amounts of gun deaths. This supports the idea that the right to bear arms is not the root of the gun violence problem, but at most a catalyst to other socio-economic factors such as poverty."
   ]
  },
  {
   "cell_type": "code",
   "execution_count": 9,
   "metadata": {},
   "outputs": [
    {
     "data": {
      "application/vnd.plotly.v1+json": {
       "config": {
        "plotlyServerURL": "https://plot.ly"
       },
       "data": [
        {
         "customdata": [
          [
           "Alabama"
          ],
          [
           "Alaska"
          ],
          [
           "Arizona"
          ],
          [
           "Arkansas"
          ],
          [
           "California"
          ],
          [
           "Colorado"
          ],
          [
           "Connecticut"
          ],
          [
           "Delaware"
          ],
          [
           "District of Columbia"
          ],
          [
           "Florida"
          ],
          [
           "Georgia"
          ],
          [
           "Hawaii"
          ],
          [
           "Idaho"
          ],
          [
           "Illinois"
          ],
          [
           "Indiana"
          ],
          [
           "Iowa"
          ],
          [
           "Kansas"
          ],
          [
           "Kentucky"
          ],
          [
           "Louisiana"
          ],
          [
           "Maine"
          ],
          [
           "Maryland"
          ],
          [
           "Massachusetts"
          ],
          [
           "Michigan"
          ],
          [
           "Minnesota"
          ],
          [
           "Mississippi"
          ],
          [
           "Missouri"
          ],
          [
           "Montana"
          ],
          [
           "Nebraska"
          ],
          [
           "Nevada"
          ],
          [
           "New Hampshire"
          ],
          [
           "New Jersey"
          ],
          [
           "New Mexico"
          ],
          [
           "New York"
          ],
          [
           "North Carolina"
          ],
          [
           "North Dakota"
          ],
          [
           "Ohio"
          ],
          [
           "Oklahoma"
          ],
          [
           "Oregon"
          ],
          [
           "Pennsylvania"
          ],
          [
           "Rhode Island"
          ],
          [
           "South Carolina"
          ],
          [
           "South Dakota"
          ],
          [
           "Tennessee"
          ],
          [
           "Texas"
          ],
          [
           "Utah"
          ],
          [
           "Vermont"
          ],
          [
           "Virginia"
          ],
          [
           "Washington"
          ],
          [
           "West Virginia"
          ],
          [
           "Wisconsin"
          ],
          [
           "Wyoming"
          ]
         ],
         "hovertemplate": "Poverty Rate (%)=%{x}<br>Gun Deaths Per Capita=%{y}<br>state=%{customdata[0]}<extra></extra>",
         "legendgroup": "",
         "marker": {
          "color": "#636efa",
          "symbol": "circle"
         },
         "mode": "markers",
         "name": "",
         "orientation": "v",
         "showlegend": false,
         "type": "scatter",
         "x": [
          16.8,
          11.1,
          14.1,
          16.8,
          12.8,
          9.7,
          10.3,
          12.2,
          16.1,
          13.7,
          14.5,
          9,
          11.7,
          12.1,
          13,
          11.2,
          11.9,
          16.7,
          18.7,
          11.6,
          9.1,
          10,
          14,
          9.6,
          19.8,
          13.2,
          12.9,
          11,
          13.1,
          7.6,
          9.5,
          18.8,
          13.7,
          14.1,
          10.6,
          13.8,
          15.5,
          12.5,
          12.2,
          12.8,
          15.2,
          12.9,
          15.2,
          14.9,
          9.1,
          10.7,
          10.7,
          10.3,
          17.4,
          11.1,
          10.7
         ],
         "xaxis": "x",
         "y": [
          2.7620460500593228e-05,
          1.4963156627522142e-05,
          1.1874785555343207e-05,
          1.4286981602687015e-05,
          7.703694032789558e-06,
          1.0718138094248277e-05,
          4.759878147119434e-06,
          8.286042472182203e-06,
          3.563553119035503e-05,
          1.2568067027054812e-05,
          1.217756680988944e-05,
          7.039313863999049e-07,
          7.997550464543432e-06,
          1.2968567101449014e-05,
          1.4337994625342974e-05,
          3.1759965800868828e-06,
          1.3052323674270332e-05,
          1.7260111903806033e-05,
          2.7684245089265595e-05,
          5.974353593611026e-06,
          1.3088567186266216e-05,
          3.1964501967633037e-06,
          1.2219463160922717e-05,
          4.637681986654535e-06,
          3.555829883731072e-05,
          2.0909487565634146e-05,
          4.714023749251649e-06,
          5.712463660941393e-06,
          2.0149695723078438e-05,
          7.388443735153846e-07,
          6.414566693206467e-06,
          1.7680162045852783e-05,
          3.430557904463673e-06,
          1.0403005698053723e-05,
          3.957365977205572e-06,
          1.1904414233876863e-05,
          1.1166846647471535e-05,
          7.412923259983653e-06,
          1.0624234723092602e-05,
          4.7246162902879845e-06,
          1.750536372212025e-05,
          7.966332004852634e-06,
          1.447214120202356e-05,
          1.08283075432156e-05,
          3.1710294747189677e-06,
          6.406580839838682e-06,
          8.46930687898278e-06,
          7.177158453981589e-06,
          1.2747389417782387e-05,
          7.920920286957722e-06,
          1.731298941656957e-05
         ],
         "yaxis": "y"
        },
        {
         "line": {
          "color": "red"
         },
         "mode": "lines",
         "name": "Trendline",
         "type": "scatter",
         "x": [
          16.8,
          11.1,
          14.1,
          16.8,
          12.8,
          9.7,
          10.3,
          12.2,
          16.1,
          13.7,
          14.5,
          9,
          11.7,
          12.1,
          13,
          11.2,
          11.9,
          16.7,
          18.7,
          11.6,
          9.1,
          10,
          14,
          9.6,
          19.8,
          13.2,
          12.9,
          11,
          13.1,
          7.6,
          9.5,
          18.8,
          13.7,
          14.1,
          10.6,
          13.8,
          15.5,
          12.5,
          12.2,
          12.8,
          15.2,
          12.9,
          15.2,
          14.9,
          9.1,
          10.7,
          10.7,
          10.3,
          17.4,
          11.1,
          10.7
         ],
         "y": [
          1.9389554855504953e-05,
          7.964099813748469e-06,
          1.3977497204146619e-05,
          1.9389554855504953e-05,
          1.1371691668307422e-05,
          5.157847698229333e-06,
          6.360527176308966e-06,
          1.0169012190227789e-05,
          1.7986428797745385e-05,
          1.3175710885426863e-05,
          1.4779283522866372e-05,
          3.7547216404697657e-06,
          9.166779291828098e-06,
          9.968565610547851e-06,
          1.1772584827667298e-05,
          8.164546393428407e-06,
          9.567672451187978e-06,
          1.9189108275825015e-05,
          2.319803986942378e-05,
          8.96633271214816e-06,
          3.955168220149704e-06,
          5.759187437269148e-06,
          1.377705062446668e-05,
          4.957401118549395e-06,
          2.54029522459031e-05,
          1.2173477987027171e-05,
          1.157213824798736e-05,
          7.76365323406853e-06,
          1.1973031407347233e-05,
          9.484695249506288e-07,
          4.756954538869457e-06,
          2.3398486449103717e-05,
          1.3175710885426863e-05,
          1.3977497204146619e-05,
          6.961866915348777e-06,
          1.3376157465106804e-05,
          1.6783749319665756e-05,
          1.0770351929267607e-05,
          1.0169012190227789e-05,
          1.1371691668307422e-05,
          1.6182409580625934e-05,
          1.157213824798736e-05,
          1.6182409580625934e-05,
          1.5581069841586126e-05,
          3.955168220149704e-06,
          7.162313495028716e-06,
          7.162313495028716e-06,
          6.360527176308966e-06,
          2.0592234333584582e-05,
          7.964099813748469e-06,
          7.162313495028716e-06
         ]
        }
       ],
       "layout": {
        "annotations": [
         {
          "font": {
           "size": 12
          },
          "showarrow": false,
          "text": "Trendline Coefficient: 0.0000020045, Pearson Correlation: 0.71908",
          "x": 0.5,
          "xref": "paper",
          "y": 1.1,
          "yref": "paper"
         }
        ],
        "autosize": true,
        "legend": {
         "tracegroupgap": 0
        },
        "template": {
         "data": {
          "bar": [
           {
            "error_x": {
             "color": "#2a3f5f"
            },
            "error_y": {
             "color": "#2a3f5f"
            },
            "marker": {
             "line": {
              "color": "#E5ECF6",
              "width": 0.5
             },
             "pattern": {
              "fillmode": "overlay",
              "size": 10,
              "solidity": 0.2
             }
            },
            "type": "bar"
           }
          ],
          "barpolar": [
           {
            "marker": {
             "line": {
              "color": "#E5ECF6",
              "width": 0.5
             },
             "pattern": {
              "fillmode": "overlay",
              "size": 10,
              "solidity": 0.2
             }
            },
            "type": "barpolar"
           }
          ],
          "carpet": [
           {
            "aaxis": {
             "endlinecolor": "#2a3f5f",
             "gridcolor": "white",
             "linecolor": "white",
             "minorgridcolor": "white",
             "startlinecolor": "#2a3f5f"
            },
            "baxis": {
             "endlinecolor": "#2a3f5f",
             "gridcolor": "white",
             "linecolor": "white",
             "minorgridcolor": "white",
             "startlinecolor": "#2a3f5f"
            },
            "type": "carpet"
           }
          ],
          "choropleth": [
           {
            "colorbar": {
             "outlinewidth": 0,
             "ticks": ""
            },
            "type": "choropleth"
           }
          ],
          "contour": [
           {
            "colorbar": {
             "outlinewidth": 0,
             "ticks": ""
            },
            "colorscale": [
             [
              0,
              "#0d0887"
             ],
             [
              0.1111111111111111,
              "#46039f"
             ],
             [
              0.2222222222222222,
              "#7201a8"
             ],
             [
              0.3333333333333333,
              "#9c179e"
             ],
             [
              0.4444444444444444,
              "#bd3786"
             ],
             [
              0.5555555555555556,
              "#d8576b"
             ],
             [
              0.6666666666666666,
              "#ed7953"
             ],
             [
              0.7777777777777778,
              "#fb9f3a"
             ],
             [
              0.8888888888888888,
              "#fdca26"
             ],
             [
              1,
              "#f0f921"
             ]
            ],
            "type": "contour"
           }
          ],
          "contourcarpet": [
           {
            "colorbar": {
             "outlinewidth": 0,
             "ticks": ""
            },
            "type": "contourcarpet"
           }
          ],
          "heatmap": [
           {
            "colorbar": {
             "outlinewidth": 0,
             "ticks": ""
            },
            "colorscale": [
             [
              0,
              "#0d0887"
             ],
             [
              0.1111111111111111,
              "#46039f"
             ],
             [
              0.2222222222222222,
              "#7201a8"
             ],
             [
              0.3333333333333333,
              "#9c179e"
             ],
             [
              0.4444444444444444,
              "#bd3786"
             ],
             [
              0.5555555555555556,
              "#d8576b"
             ],
             [
              0.6666666666666666,
              "#ed7953"
             ],
             [
              0.7777777777777778,
              "#fb9f3a"
             ],
             [
              0.8888888888888888,
              "#fdca26"
             ],
             [
              1,
              "#f0f921"
             ]
            ],
            "type": "heatmap"
           }
          ],
          "heatmapgl": [
           {
            "colorbar": {
             "outlinewidth": 0,
             "ticks": ""
            },
            "colorscale": [
             [
              0,
              "#0d0887"
             ],
             [
              0.1111111111111111,
              "#46039f"
             ],
             [
              0.2222222222222222,
              "#7201a8"
             ],
             [
              0.3333333333333333,
              "#9c179e"
             ],
             [
              0.4444444444444444,
              "#bd3786"
             ],
             [
              0.5555555555555556,
              "#d8576b"
             ],
             [
              0.6666666666666666,
              "#ed7953"
             ],
             [
              0.7777777777777778,
              "#fb9f3a"
             ],
             [
              0.8888888888888888,
              "#fdca26"
             ],
             [
              1,
              "#f0f921"
             ]
            ],
            "type": "heatmapgl"
           }
          ],
          "histogram": [
           {
            "marker": {
             "pattern": {
              "fillmode": "overlay",
              "size": 10,
              "solidity": 0.2
             }
            },
            "type": "histogram"
           }
          ],
          "histogram2d": [
           {
            "colorbar": {
             "outlinewidth": 0,
             "ticks": ""
            },
            "colorscale": [
             [
              0,
              "#0d0887"
             ],
             [
              0.1111111111111111,
              "#46039f"
             ],
             [
              0.2222222222222222,
              "#7201a8"
             ],
             [
              0.3333333333333333,
              "#9c179e"
             ],
             [
              0.4444444444444444,
              "#bd3786"
             ],
             [
              0.5555555555555556,
              "#d8576b"
             ],
             [
              0.6666666666666666,
              "#ed7953"
             ],
             [
              0.7777777777777778,
              "#fb9f3a"
             ],
             [
              0.8888888888888888,
              "#fdca26"
             ],
             [
              1,
              "#f0f921"
             ]
            ],
            "type": "histogram2d"
           }
          ],
          "histogram2dcontour": [
           {
            "colorbar": {
             "outlinewidth": 0,
             "ticks": ""
            },
            "colorscale": [
             [
              0,
              "#0d0887"
             ],
             [
              0.1111111111111111,
              "#46039f"
             ],
             [
              0.2222222222222222,
              "#7201a8"
             ],
             [
              0.3333333333333333,
              "#9c179e"
             ],
             [
              0.4444444444444444,
              "#bd3786"
             ],
             [
              0.5555555555555556,
              "#d8576b"
             ],
             [
              0.6666666666666666,
              "#ed7953"
             ],
             [
              0.7777777777777778,
              "#fb9f3a"
             ],
             [
              0.8888888888888888,
              "#fdca26"
             ],
             [
              1,
              "#f0f921"
             ]
            ],
            "type": "histogram2dcontour"
           }
          ],
          "mesh3d": [
           {
            "colorbar": {
             "outlinewidth": 0,
             "ticks": ""
            },
            "type": "mesh3d"
           }
          ],
          "parcoords": [
           {
            "line": {
             "colorbar": {
              "outlinewidth": 0,
              "ticks": ""
             }
            },
            "type": "parcoords"
           }
          ],
          "pie": [
           {
            "automargin": true,
            "type": "pie"
           }
          ],
          "scatter": [
           {
            "fillpattern": {
             "fillmode": "overlay",
             "size": 10,
             "solidity": 0.2
            },
            "type": "scatter"
           }
          ],
          "scatter3d": [
           {
            "line": {
             "colorbar": {
              "outlinewidth": 0,
              "ticks": ""
             }
            },
            "marker": {
             "colorbar": {
              "outlinewidth": 0,
              "ticks": ""
             }
            },
            "type": "scatter3d"
           }
          ],
          "scattercarpet": [
           {
            "marker": {
             "colorbar": {
              "outlinewidth": 0,
              "ticks": ""
             }
            },
            "type": "scattercarpet"
           }
          ],
          "scattergeo": [
           {
            "marker": {
             "colorbar": {
              "outlinewidth": 0,
              "ticks": ""
             }
            },
            "type": "scattergeo"
           }
          ],
          "scattergl": [
           {
            "marker": {
             "colorbar": {
              "outlinewidth": 0,
              "ticks": ""
             }
            },
            "type": "scattergl"
           }
          ],
          "scattermapbox": [
           {
            "marker": {
             "colorbar": {
              "outlinewidth": 0,
              "ticks": ""
             }
            },
            "type": "scattermapbox"
           }
          ],
          "scatterpolar": [
           {
            "marker": {
             "colorbar": {
              "outlinewidth": 0,
              "ticks": ""
             }
            },
            "type": "scatterpolar"
           }
          ],
          "scatterpolargl": [
           {
            "marker": {
             "colorbar": {
              "outlinewidth": 0,
              "ticks": ""
             }
            },
            "type": "scatterpolargl"
           }
          ],
          "scatterternary": [
           {
            "marker": {
             "colorbar": {
              "outlinewidth": 0,
              "ticks": ""
             }
            },
            "type": "scatterternary"
           }
          ],
          "surface": [
           {
            "colorbar": {
             "outlinewidth": 0,
             "ticks": ""
            },
            "colorscale": [
             [
              0,
              "#0d0887"
             ],
             [
              0.1111111111111111,
              "#46039f"
             ],
             [
              0.2222222222222222,
              "#7201a8"
             ],
             [
              0.3333333333333333,
              "#9c179e"
             ],
             [
              0.4444444444444444,
              "#bd3786"
             ],
             [
              0.5555555555555556,
              "#d8576b"
             ],
             [
              0.6666666666666666,
              "#ed7953"
             ],
             [
              0.7777777777777778,
              "#fb9f3a"
             ],
             [
              0.8888888888888888,
              "#fdca26"
             ],
             [
              1,
              "#f0f921"
             ]
            ],
            "type": "surface"
           }
          ],
          "table": [
           {
            "cells": {
             "fill": {
              "color": "#EBF0F8"
             },
             "line": {
              "color": "white"
             }
            },
            "header": {
             "fill": {
              "color": "#C8D4E3"
             },
             "line": {
              "color": "white"
             }
            },
            "type": "table"
           }
          ]
         },
         "layout": {
          "annotationdefaults": {
           "arrowcolor": "#2a3f5f",
           "arrowhead": 0,
           "arrowwidth": 1
          },
          "autotypenumbers": "strict",
          "coloraxis": {
           "colorbar": {
            "outlinewidth": 0,
            "ticks": ""
           }
          },
          "colorscale": {
           "diverging": [
            [
             0,
             "#8e0152"
            ],
            [
             0.1,
             "#c51b7d"
            ],
            [
             0.2,
             "#de77ae"
            ],
            [
             0.3,
             "#f1b6da"
            ],
            [
             0.4,
             "#fde0ef"
            ],
            [
             0.5,
             "#f7f7f7"
            ],
            [
             0.6,
             "#e6f5d0"
            ],
            [
             0.7,
             "#b8e186"
            ],
            [
             0.8,
             "#7fbc41"
            ],
            [
             0.9,
             "#4d9221"
            ],
            [
             1,
             "#276419"
            ]
           ],
           "sequential": [
            [
             0,
             "#0d0887"
            ],
            [
             0.1111111111111111,
             "#46039f"
            ],
            [
             0.2222222222222222,
             "#7201a8"
            ],
            [
             0.3333333333333333,
             "#9c179e"
            ],
            [
             0.4444444444444444,
             "#bd3786"
            ],
            [
             0.5555555555555556,
             "#d8576b"
            ],
            [
             0.6666666666666666,
             "#ed7953"
            ],
            [
             0.7777777777777778,
             "#fb9f3a"
            ],
            [
             0.8888888888888888,
             "#fdca26"
            ],
            [
             1,
             "#f0f921"
            ]
           ],
           "sequentialminus": [
            [
             0,
             "#0d0887"
            ],
            [
             0.1111111111111111,
             "#46039f"
            ],
            [
             0.2222222222222222,
             "#7201a8"
            ],
            [
             0.3333333333333333,
             "#9c179e"
            ],
            [
             0.4444444444444444,
             "#bd3786"
            ],
            [
             0.5555555555555556,
             "#d8576b"
            ],
            [
             0.6666666666666666,
             "#ed7953"
            ],
            [
             0.7777777777777778,
             "#fb9f3a"
            ],
            [
             0.8888888888888888,
             "#fdca26"
            ],
            [
             1,
             "#f0f921"
            ]
           ]
          },
          "colorway": [
           "#636efa",
           "#EF553B",
           "#00cc96",
           "#ab63fa",
           "#FFA15A",
           "#19d3f3",
           "#FF6692",
           "#B6E880",
           "#FF97FF",
           "#FECB52"
          ],
          "font": {
           "color": "#2a3f5f"
          },
          "geo": {
           "bgcolor": "white",
           "lakecolor": "white",
           "landcolor": "#E5ECF6",
           "showlakes": true,
           "showland": true,
           "subunitcolor": "white"
          },
          "hoverlabel": {
           "align": "left"
          },
          "hovermode": "closest",
          "mapbox": {
           "style": "light"
          },
          "paper_bgcolor": "white",
          "plot_bgcolor": "#E5ECF6",
          "polar": {
           "angularaxis": {
            "gridcolor": "white",
            "linecolor": "white",
            "ticks": ""
           },
           "bgcolor": "#E5ECF6",
           "radialaxis": {
            "gridcolor": "white",
            "linecolor": "white",
            "ticks": ""
           }
          },
          "scene": {
           "xaxis": {
            "backgroundcolor": "#E5ECF6",
            "gridcolor": "white",
            "gridwidth": 2,
            "linecolor": "white",
            "showbackground": true,
            "ticks": "",
            "zerolinecolor": "white"
           },
           "yaxis": {
            "backgroundcolor": "#E5ECF6",
            "gridcolor": "white",
            "gridwidth": 2,
            "linecolor": "white",
            "showbackground": true,
            "ticks": "",
            "zerolinecolor": "white"
           },
           "zaxis": {
            "backgroundcolor": "#E5ECF6",
            "gridcolor": "white",
            "gridwidth": 2,
            "linecolor": "white",
            "showbackground": true,
            "ticks": "",
            "zerolinecolor": "white"
           }
          },
          "shapedefaults": {
           "line": {
            "color": "#2a3f5f"
           }
          },
          "ternary": {
           "aaxis": {
            "gridcolor": "white",
            "linecolor": "white",
            "ticks": ""
           },
           "baxis": {
            "gridcolor": "white",
            "linecolor": "white",
            "ticks": ""
           },
           "bgcolor": "#E5ECF6",
           "caxis": {
            "gridcolor": "white",
            "linecolor": "white",
            "ticks": ""
           }
          },
          "title": {
           "x": 0.05
          },
          "xaxis": {
           "automargin": true,
           "gridcolor": "white",
           "linecolor": "white",
           "ticks": "",
           "title": {
            "standoff": 15
           },
           "zerolinecolor": "white",
           "zerolinewidth": 2
          },
          "yaxis": {
           "automargin": true,
           "gridcolor": "white",
           "linecolor": "white",
           "ticks": "",
           "title": {
            "standoff": 15
           },
           "zerolinecolor": "white",
           "zerolinewidth": 2
          }
         }
        },
        "title": {
         "text": "Correlation between Poverty Rate and Gun Deaths Per Capita in US States (2018)"
        },
        "xaxis": {
         "anchor": "y",
         "autorange": true,
         "domain": [
          0,
          1
         ],
         "range": [
          6.874665544017214,
          20.525334455982787
         ],
         "title": {
          "text": "Poverty Rate (%)"
         },
         "type": "linear"
        },
        "yaxis": {
         "anchor": "x",
         "autorange": true,
         "domain": [
          0,
          1
         ],
         "range": [
          -2.1787734517905665e-06,
          3.8518236028545497e-05
         ],
         "tickformat": ".6f",
         "title": {
          "text": "Gun Deaths Per Capita"
         },
         "type": "linear"
        }
       }
      },
      "image/png": "[encoded data removed]",
      "text/html": [
       "<div>                            <div id=\"54496973-d78a-4a5a-bf17-81927539277a\" class=\"plotly-graph-div\" style=\"height:525px; width:100%;\"></div>            <script type=\"text/javascript\">                require([\"plotly\"], function(Plotly) {                    window.PLOTLYENV=window.PLOTLYENV || {};                                    if (document.getElementById(\"54496973-d78a-4a5a-bf17-81927539277a\")) {                    Plotly.newPlot(                        \"54496973-d78a-4a5a-bf17-81927539277a\",                        [{\"customdata\":[[\"Alabama\"],[\"Alaska\"],[\"Arizona\"],[\"Arkansas\"],[\"California\"],[\"Colorado\"],[\"Connecticut\"],[\"Delaware\"],[\"District of Columbia\"],[\"Florida\"],[\"Georgia\"],[\"Hawaii\"],[\"Idaho\"],[\"Illinois\"],[\"Indiana\"],[\"Iowa\"],[\"Kansas\"],[\"Kentucky\"],[\"Louisiana\"],[\"Maine\"],[\"Maryland\"],[\"Massachusetts\"],[\"Michigan\"],[\"Minnesota\"],[\"Mississippi\"],[\"Missouri\"],[\"Montana\"],[\"Nebraska\"],[\"Nevada\"],[\"New Hampshire\"],[\"New Jersey\"],[\"New Mexico\"],[\"New York\"],[\"North Carolina\"],[\"North Dakota\"],[\"Ohio\"],[\"Oklahoma\"],[\"Oregon\"],[\"Pennsylvania\"],[\"Rhode Island\"],[\"South Carolina\"],[\"South Dakota\"],[\"Tennessee\"],[\"Texas\"],[\"Utah\"],[\"Vermont\"],[\"Virginia\"],[\"Washington\"],[\"West Virginia\"],[\"Wisconsin\"],[\"Wyoming\"]],\"hovertemplate\":\"Poverty Rate (%)=%{x}\\u003cbr\\u003eGun Deaths Per Capita=%{y}\\u003cbr\\u003estate=%{customdata[0]}\\u003cextra\\u003e\\u003c\\u002fextra\\u003e\",\"legendgroup\":\"\",\"marker\":{\"color\":\"#636efa\",\"symbol\":\"circle\"},\"mode\":\"markers\",\"name\":\"\",\"orientation\":\"v\",\"showlegend\":false,\"x\":[16.8,11.1,14.1,16.8,12.8,9.7,10.3,12.2,16.1,13.7,14.5,9.0,11.7,12.1,13.0,11.2,11.9,16.7,18.7,11.6,9.1,10.0,14.0,9.6,19.8,13.2,12.9,11.0,13.1,7.6,9.5,18.8,13.7,14.1,10.6,13.8,15.5,12.5,12.2,12.8,15.2,12.9,15.2,14.9,9.1,10.7,10.7,10.3,17.4,11.1,10.7],\"xaxis\":\"x\",\"y\":[2.7620460500593228e-05,1.4963156627522142e-05,1.1874785555343207e-05,1.4286981602687015e-05,7.703694032789558e-06,1.0718138094248277e-05,4.759878147119434e-06,8.286042472182203e-06,3.563553119035503e-05,1.2568067027054812e-05,1.217756680988944e-05,7.039313863999049e-07,7.997550464543432e-06,1.2968567101449014e-05,1.4337994625342974e-05,3.1759965800868828e-06,1.3052323674270332e-05,1.7260111903806033e-05,2.7684245089265595e-05,5.974353593611026e-06,1.3088567186266216e-05,3.1964501967633037e-06,1.2219463160922717e-05,4.637681986654535e-06,3.555829883731072e-05,2.0909487565634146e-05,4.714023749251649e-06,5.712463660941393e-06,2.0149695723078438e-05,7.388443735153846e-07,6.414566693206467e-06,1.7680162045852783e-05,3.430557904463673e-06,1.0403005698053723e-05,3.957365977205572e-06,1.1904414233876863e-05,1.1166846647471535e-05,7.412923259983653e-06,1.0624234723092602e-05,4.7246162902879845e-06,1.750536372212025e-05,7.966332004852634e-06,1.447214120202356e-05,1.08283075432156e-05,3.1710294747189677e-06,6.406580839838682e-06,8.46930687898278e-06,7.177158453981589e-06,1.2747389417782387e-05,7.920920286957722e-06,1.731298941656957e-05],\"yaxis\":\"y\",\"type\":\"scatter\"},{\"line\":{\"color\":\"red\"},\"mode\":\"lines\",\"name\":\"Trendline\",\"x\":[16.8,11.1,14.1,16.8,12.8,9.7,10.3,12.2,16.1,13.7,14.5,9.0,11.7,12.1,13.0,11.2,11.9,16.7,18.7,11.6,9.1,10.0,14.0,9.6,19.8,13.2,12.9,11.0,13.1,7.6,9.5,18.8,13.7,14.1,10.6,13.8,15.5,12.5,12.2,12.8,15.2,12.9,15.2,14.9,9.1,10.7,10.7,10.3,17.4,11.1,10.7],\"y\":[1.9389554855504953e-05,7.964099813748469e-06,1.3977497204146619e-05,1.9389554855504953e-05,1.1371691668307422e-05,5.157847698229333e-06,6.360527176308966e-06,1.0169012190227789e-05,1.7986428797745385e-05,1.3175710885426863e-05,1.4779283522866372e-05,3.7547216404697657e-06,9.166779291828098e-06,9.968565610547851e-06,1.1772584827667298e-05,8.164546393428407e-06,9.567672451187978e-06,1.9189108275825015e-05,2.319803986942378e-05,8.96633271214816e-06,3.955168220149704e-06,5.759187437269148e-06,1.377705062446668e-05,4.957401118549395e-06,2.54029522459031e-05,1.2173477987027171e-05,1.157213824798736e-05,7.76365323406853e-06,1.1973031407347233e-05,9.484695249506288e-07,4.756954538869457e-06,2.3398486449103717e-05,1.3175710885426863e-05,1.3977497204146619e-05,6.961866915348777e-06,1.3376157465106804e-05,1.6783749319665756e-05,1.0770351929267607e-05,1.0169012190227789e-05,1.1371691668307422e-05,1.6182409580625934e-05,1.157213824798736e-05,1.6182409580625934e-05,1.5581069841586126e-05,3.955168220149704e-06,7.162313495028716e-06,7.162313495028716e-06,6.360527176308966e-06,2.0592234333584582e-05,7.964099813748469e-06,7.162313495028716e-06],\"type\":\"scatter\"}],                        {\"template\":{\"data\":{\"histogram2dcontour\":[{\"type\":\"histogram2dcontour\",\"colorbar\":{\"outlinewidth\":0,\"ticks\":\"\"},\"colorscale\":[[0.0,\"#0d0887\"],[0.1111111111111111,\"#46039f\"],[0.2222222222222222,\"#7201a8\"],[0.3333333333333333,\"#9c179e\"],[0.4444444444444444,\"#bd3786\"],[0.5555555555555556,\"#d8576b\"],[0.6666666666666666,\"#ed7953\"],[0.7777777777777778,\"#fb9f3a\"],[0.8888888888888888,\"#fdca26\"],[1.0,\"#f0f921\"]]}],\"choropleth\":[{\"type\":\"choropleth\",\"colorbar\":{\"outlinewidth\":0,\"ticks\":\"\"}}],\"histogram2d\":[{\"type\":\"histogram2d\",\"colorbar\":{\"outlinewidth\":0,\"ticks\":\"\"},\"colorscale\":[[0.0,\"#0d0887\"],[0.1111111111111111,\"#46039f\"],[0.2222222222222222,\"#7201a8\"],[0.3333333333333333,\"#9c179e\"],[0.4444444444444444,\"#bd3786\"],[0.5555555555555556,\"#d8576b\"],[0.6666666666666666,\"#ed7953\"],[0.7777777777777778,\"#fb9f3a\"],[0.8888888888888888,\"#fdca26\"],[1.0,\"#f0f921\"]]}],\"heatmap\":[{\"type\":\"heatmap\",\"colorbar\":{\"outlinewidth\":0,\"ticks\":\"\"},\"colorscale\":[[0.0,\"#0d0887\"],[0.1111111111111111,\"#46039f\"],[0.2222222222222222,\"#7201a8\"],[0.3333333333333333,\"#9c179e\"],[0.4444444444444444,\"#bd3786\"],[0.5555555555555556,\"#d8576b\"],[0.6666666666666666,\"#ed7953\"],[0.7777777777777778,\"#fb9f3a\"],[0.8888888888888888,\"#fdca26\"],[1.0,\"#f0f921\"]]}],\"heatmapgl\":[{\"type\":\"heatmapgl\",\"colorbar\":{\"outlinewidth\":0,\"ticks\":\"\"},\"colorscale\":[[0.0,\"#0d0887\"],[0.1111111111111111,\"#46039f\"],[0.2222222222222222,\"#7201a8\"],[0.3333333333333333,\"#9c179e\"],[0.4444444444444444,\"#bd3786\"],[0.5555555555555556,\"#d8576b\"],[0.6666666666666666,\"#ed7953\"],[0.7777777777777778,\"#fb9f3a\"],[0.8888888888888888,\"#fdca26\"],[1.0,\"#f0f921\"]]}],\"contourcarpet\":[{\"type\":\"contourcarpet\",\"colorbar\":{\"outlinewidth\":0,\"ticks\":\"\"}}],\"contour\":[{\"type\":\"contour\",\"colorbar\":{\"outlinewidth\":0,\"ticks\":\"\"},\"colorscale\":[[0.0,\"#0d0887\"],[0.1111111111111111,\"#46039f\"],[0.2222222222222222,\"#7201a8\"],[0.3333333333333333,\"#9c179e\"],[0.4444444444444444,\"#bd3786\"],[0.5555555555555556,\"#d8576b\"],[0.6666666666666666,\"#ed7953\"],[0.7777777777777778,\"#fb9f3a\"],[0.8888888888888888,\"#fdca26\"],[1.0,\"#f0f921\"]]}],\"surface\":[{\"type\":\"surface\",\"colorbar\":{\"outlinewidth\":0,\"ticks\":\"\"},\"colorscale\":[[0.0,\"#0d0887\"],[0.1111111111111111,\"#46039f\"],[0.2222222222222222,\"#7201a8\"],[0.3333333333333333,\"#9c179e\"],[0.4444444444444444,\"#bd3786\"],[0.5555555555555556,\"#d8576b\"],[0.6666666666666666,\"#ed7953\"],[0.7777777777777778,\"#fb9f3a\"],[0.8888888888888888,\"#fdca26\"],[1.0,\"#f0f921\"]]}],\"mesh3d\":[{\"type\":\"mesh3d\",\"colorbar\":{\"outlinewidth\":0,\"ticks\":\"\"}}],\"scatter\":[{\"fillpattern\":{\"fillmode\":\"overlay\",\"size\":10,\"solidity\":0.2},\"type\":\"scatter\"}],\"parcoords\":[{\"type\":\"parcoords\",\"line\":{\"colorbar\":{\"outlinewidth\":0,\"ticks\":\"\"}}}],\"scatterpolargl\":[{\"type\":\"scatterpolargl\",\"marker\":{\"colorbar\":{\"outlinewidth\":0,\"ticks\":\"\"}}}],\"bar\":[{\"error_x\":{\"color\":\"#2a3f5f\"},\"error_y\":{\"color\":\"#2a3f5f\"},\"marker\":{\"line\":{\"color\":\"#E5ECF6\",\"width\":0.5},\"pattern\":{\"fillmode\":\"overlay\",\"size\":10,\"solidity\":0.2}},\"type\":\"bar\"}],\"scattergeo\":[{\"type\":\"scattergeo\",\"marker\":{\"colorbar\":{\"outlinewidth\":0,\"ticks\":\"\"}}}],\"scatterpolar\":[{\"type\":\"scatterpolar\",\"marker\":{\"colorbar\":{\"outlinewidth\":0,\"ticks\":\"\"}}}],\"histogram\":[{\"marker\":{\"pattern\":{\"fillmode\":\"overlay\",\"size\":10,\"solidity\":0.2}},\"type\":\"histogram\"}],\"scattergl\":[{\"type\":\"scattergl\",\"marker\":{\"colorbar\":{\"outlinewidth\":0,\"ticks\":\"\"}}}],\"scatter3d\":[{\"type\":\"scatter3d\",\"line\":{\"colorbar\":{\"outlinewidth\":0,\"ticks\":\"\"}},\"marker\":{\"colorbar\":{\"outlinewidth\":0,\"ticks\":\"\"}}}],\"scattermapbox\":[{\"type\":\"scattermapbox\",\"marker\":{\"colorbar\":{\"outlinewidth\":0,\"ticks\":\"\"}}}],\"scatterternary\":[{\"type\":\"scatterternary\",\"marker\":{\"colorbar\":{\"outlinewidth\":0,\"ticks\":\"\"}}}],\"scattercarpet\":[{\"type\":\"scattercarpet\",\"marker\":{\"colorbar\":{\"outlinewidth\":0,\"ticks\":\"\"}}}],\"carpet\":[{\"aaxis\":{\"endlinecolor\":\"#2a3f5f\",\"gridcolor\":\"white\",\"linecolor\":\"white\",\"minorgridcolor\":\"white\",\"startlinecolor\":\"#2a3f5f\"},\"baxis\":{\"endlinecolor\":\"#2a3f5f\",\"gridcolor\":\"white\",\"linecolor\":\"white\",\"minorgridcolor\":\"white\",\"startlinecolor\":\"#2a3f5f\"},\"type\":\"carpet\"}],\"table\":[{\"cells\":{\"fill\":{\"color\":\"#EBF0F8\"},\"line\":{\"color\":\"white\"}},\"header\":{\"fill\":{\"color\":\"#C8D4E3\"},\"line\":{\"color\":\"white\"}},\"type\":\"table\"}],\"barpolar\":[{\"marker\":{\"line\":{\"color\":\"#E5ECF6\",\"width\":0.5},\"pattern\":{\"fillmode\":\"overlay\",\"size\":10,\"solidity\":0.2}},\"type\":\"barpolar\"}],\"pie\":[{\"automargin\":true,\"type\":\"pie\"}]},\"layout\":{\"autotypenumbers\":\"strict\",\"colorway\":[\"#636efa\",\"#EF553B\",\"#00cc96\",\"#ab63fa\",\"#FFA15A\",\"#19d3f3\",\"#FF6692\",\"#B6E880\",\"#FF97FF\",\"#FECB52\"],\"font\":{\"color\":\"#2a3f5f\"},\"hovermode\":\"closest\",\"hoverlabel\":{\"align\":\"left\"},\"paper_bgcolor\":\"white\",\"plot_bgcolor\":\"#E5ECF6\",\"polar\":{\"bgcolor\":\"#E5ECF6\",\"angularaxis\":{\"gridcolor\":\"white\",\"linecolor\":\"white\",\"ticks\":\"\"},\"radialaxis\":{\"gridcolor\":\"white\",\"linecolor\":\"white\",\"ticks\":\"\"}},\"ternary\":{\"bgcolor\":\"#E5ECF6\",\"aaxis\":{\"gridcolor\":\"white\",\"linecolor\":\"white\",\"ticks\":\"\"},\"baxis\":{\"gridcolor\":\"white\",\"linecolor\":\"white\",\"ticks\":\"\"},\"caxis\":{\"gridcolor\":\"white\",\"linecolor\":\"white\",\"ticks\":\"\"}},\"coloraxis\":{\"colorbar\":{\"outlinewidth\":0,\"ticks\":\"\"}},\"colorscale\":{\"sequential\":[[0.0,\"#0d0887\"],[0.1111111111111111,\"#46039f\"],[0.2222222222222222,\"#7201a8\"],[0.3333333333333333,\"#9c179e\"],[0.4444444444444444,\"#bd3786\"],[0.5555555555555556,\"#d8576b\"],[0.6666666666666666,\"#ed7953\"],[0.7777777777777778,\"#fb9f3a\"],[0.8888888888888888,\"#fdca26\"],[1.0,\"#f0f921\"]],\"sequentialminus\":[[0.0,\"#0d0887\"],[0.1111111111111111,\"#46039f\"],[0.2222222222222222,\"#7201a8\"],[0.3333333333333333,\"#9c179e\"],[0.4444444444444444,\"#bd3786\"],[0.5555555555555556,\"#d8576b\"],[0.6666666666666666,\"#ed7953\"],[0.7777777777777778,\"#fb9f3a\"],[0.8888888888888888,\"#fdca26\"],[1.0,\"#f0f921\"]],\"diverging\":[[0,\"#8e0152\"],[0.1,\"#c51b7d\"],[0.2,\"#de77ae\"],[0.3,\"#f1b6da\"],[0.4,\"#fde0ef\"],[0.5,\"#f7f7f7\"],[0.6,\"#e6f5d0\"],[0.7,\"#b8e186\"],[0.8,\"#7fbc41\"],[0.9,\"#4d9221\"],[1,\"#276419\"]]},\"xaxis\":{\"gridcolor\":\"white\",\"linecolor\":\"white\",\"ticks\":\"\",\"title\":{\"standoff\":15},\"zerolinecolor\":\"white\",\"automargin\":true,\"zerolinewidth\":2},\"yaxis\":{\"gridcolor\":\"white\",\"linecolor\":\"white\",\"ticks\":\"\",\"title\":{\"standoff\":15},\"zerolinecolor\":\"white\",\"automargin\":true,\"zerolinewidth\":2},\"scene\":{\"xaxis\":{\"backgroundcolor\":\"#E5ECF6\",\"gridcolor\":\"white\",\"linecolor\":\"white\",\"showbackground\":true,\"ticks\":\"\",\"zerolinecolor\":\"white\",\"gridwidth\":2},\"yaxis\":{\"backgroundcolor\":\"#E5ECF6\",\"gridcolor\":\"white\",\"linecolor\":\"white\",\"showbackground\":true,\"ticks\":\"\",\"zerolinecolor\":\"white\",\"gridwidth\":2},\"zaxis\":{\"backgroundcolor\":\"#E5ECF6\",\"gridcolor\":\"white\",\"linecolor\":\"white\",\"showbackground\":true,\"ticks\":\"\",\"zerolinecolor\":\"white\",\"gridwidth\":2}},\"shapedefaults\":{\"line\":{\"color\":\"#2a3f5f\"}},\"annotationdefaults\":{\"arrowcolor\":\"#2a3f5f\",\"arrowhead\":0,\"arrowwidth\":1},\"geo\":{\"bgcolor\":\"white\",\"landcolor\":\"#E5ECF6\",\"subunitcolor\":\"white\",\"showland\":true,\"showlakes\":true,\"lakecolor\":\"white\"},\"title\":{\"x\":0.05},\"mapbox\":{\"style\":\"light\"}}},\"xaxis\":{\"anchor\":\"y\",\"domain\":[0.0,1.0],\"title\":{\"text\":\"Poverty Rate (%)\"}},\"yaxis\":{\"anchor\":\"x\",\"domain\":[0.0,1.0],\"title\":{\"text\":\"Gun Deaths Per Capita\"},\"tickformat\":\".6f\"},\"legend\":{\"tracegroupgap\":0},\"title\":{\"text\":\"Correlation between Poverty Rate and Gun Deaths Per Capita in US States (2018)\"},\"annotations\":[{\"font\":{\"size\":12},\"showarrow\":false,\"text\":\"Trendline Coefficient: 0.0000020045, Pearson Correlation: 0.71908\",\"x\":0.5,\"xref\":\"paper\",\"y\":1.1,\"yref\":\"paper\"}]},                        {\"responsive\": true}                    ).then(function(){\n",
       "                            \n",
       "var gd = document.getElementById('54496973-d78a-4a5a-bf17-81927539277a');\n",
       "var x = new MutationObserver(function (mutations, observer) {{\n",
       "        var display = window.getComputedStyle(gd).display;\n",
       "        if (!display || display === 'none') {{\n",
       "            console.log([gd, 'removed!']);\n",
       "            Plotly.purge(gd);\n",
       "            observer.disconnect();\n",
       "        }}\n",
       "}});\n",
       "\n",
       "// Listen for the removal of the full notebook cells\n",
       "var notebookContainer = gd.closest('#notebook-container');\n",
       "if (notebookContainer) {{\n",
       "    x.observe(notebookContainer, {childList: true});\n",
       "}}\n",
       "\n",
       "// Listen for the clearing of the current output cell\n",
       "var outputEl = gd.closest('.output');\n",
       "if (outputEl) {{\n",
       "    x.observe(outputEl, {childList: true});\n",
       "}}\n",
       "\n",
       "                        })                };                });            </script>        </div>"
      ]
     },
     "metadata": {},
     "output_type": "display_data"
    }
   ],
   "source": [
    "import pandas as pd\n",
    "import plotly.express as px\n",
    "import plotly.graph_objects as go\n",
    "import numpy as np\n",
    "from scipy.stats import pearsonr\n",
    "\n",
    "# Load the datasets\n",
    "df_poverty = pd.read_csv('poverty.csv')\n",
    "df_guns = pd.read_csv('gun-violence-data_01-2013_03-2018.csv')\n",
    "df_statepop = pd.read_csv('nst-est2019-alldata.csv')\n",
    "\n",
    "# Filter the poverty dataset to include only 2018 data\n",
    "df_poverty_2018 = df_poverty[df_poverty['Year'] == 2018].copy()\n",
    "\n",
    "# Filter the gun violence dataset to include only 2018 data\n",
    "df_guns['date'] = pd.to_datetime(df_guns['date'])\n",
    "df_guns_2018 = df_guns[df_guns['date'].dt.year == 2018].copy()\n",
    "\n",
    "# Rename 'Name' column in df_poverty to 'state' for merging\n",
    "df_poverty_2018.rename(columns={'Name': 'state'}, inplace=True)\n",
    "\n",
    "# Group by state and aggregate the gun violence data for 2018\n",
    "df_guns_aggregated_2018 = df_guns_2018.groupby('state').agg({\n",
    "    'n_killed': 'sum',\n",
    "    'n_injured': 'sum'\n",
    "}).reset_index()\n",
    "\n",
    "# Merge the aggregated gun violence data with the poverty data for 2018\n",
    "df_merged_2018 = pd.merge(df_poverty_2018, df_guns_aggregated_2018, on='state')\n",
    "\n",
    "# Check and ensure state names match for the state population data\n",
    "df_statepop['state'] = df_statepop['NAME']  # Assuming 'NAME' is the column with state names in df_statepop\n",
    "\n",
    "# Merge with the state population data\n",
    "df_merged_2018 = pd.merge(df_merged_2018, df_statepop[['state', 'POPESTIMATE2018']], on='state')\n",
    "\n",
    "# Calculate gun deaths per capita using the 2018 population estimate\n",
    "df_merged_2018['gun_deaths_per_capita'] = df_merged_2018['n_killed'] / df_merged_2018['POPESTIMATE2018']\n",
    "\n",
    "# Calculate the Pearson correlation coefficient\n",
    "pearson_corr, _ = pearsonr(df_merged_2018['Percent in Poverty'], df_merged_2018['gun_deaths_per_capita'])\n",
    "\n",
    "# Perform linear regression using numpy\n",
    "X = df_merged_2018['Percent in Poverty']\n",
    "y = df_merged_2018['gun_deaths_per_capita']\n",
    "slope, intercept = np.polyfit(X, y, 1)\n",
    "\n",
    "# Create a scatter plot with a trend line using Plotly\n",
    "fig = px.scatter(df_merged_2018,\n",
    "                 x='Percent in Poverty',\n",
    "                 y='gun_deaths_per_capita',\n",
    "                 hover_data=['state'],\n",
    "                 title='Correlation between Poverty Rate and Gun Deaths Per Capita in US States (2018)',\n",
    "                 labels={\n",
    "                     'Percent in Poverty': 'Poverty Rate (%)',\n",
    "                     'gun_deaths_per_capita': 'Gun Deaths Per Capita'\n",
    "                 })\n",
    "\n",
    "# Add the trend line manually\n",
    "fig.add_trace(go.Scatter(\n",
    "    x=df_merged_2018['Percent in Poverty'],\n",
    "    y=intercept + slope * df_merged_2018['Percent in Poverty'],\n",
    "    mode='lines',\n",
    "    name='Trendline',\n",
    "    line=dict(color='red')\n",
    "))\n",
    "\n",
    "# Update layout to display coefficient\n",
    "fig.update_layout(\n",
    "    annotations=[\n",
    "        dict(\n",
    "            x=0.5,\n",
    "            y=1.1,\n",
    "            xref='paper',\n",
    "            yref='paper',\n",
    "            text=f'Trendline Coefficient: {slope:.10f}, Pearson Correlation: {pearson_corr:.5f}',\n",
    "            showarrow=False,\n",
    "            font=dict(size=12)\n",
    "        )\n",
    "    ],\n",
    "    yaxis_tickformat='.6f',  # Ensure ticks on y-axis are formatted to 6 decimal places\n",
    "    yaxis_title='Gun Deaths Per Capita',  # Explicitly set the y-axis title\n",
    "    xaxis_title='Poverty Rate (%)'  # Explicitly set the x-axis title\n",
    ")\n",
    "\n",
    "# Show the plot\n",
    "fig.show()"
   ]
  },
  {
   "cell_type": "markdown",
   "metadata": {},
   "source": [
    "*Figure 6: This scatter plot has the poverty rate as its x-value and the gun deaths per capita as its y-value, each dot represents a state and the trend line displays the correlation between the two variables. The mean of the “Total Unemployment in State/Area“ is 170k and the standard deviation is 215k.*\n",
    "\n",
    "This scatter plot also shows the correlation between poverty rate and gun deaths per state, where the trend line clearly implies a positive correlation between these two variables, where a higher rate of poverty generally correlates to a higher amount of gun deaths per capita. The coefficient of the graph is 0.0000020045 and the Pearson correlation is 0.71908 which tells us that between these datasets there is a significant correlation between the data in the two sets."
   ]
  },
  {
   "cell_type": "code",
   "execution_count": 11,
   "metadata": {},
   "outputs": [
    {
     "name": "stdout",
     "output_type": "stream",
     "text": [
      "Pearson Correlation Coefficient: 0.58\n"
     ]
    },
    {
     "name": "stderr",
     "output_type": "stream",
     "text": [
      "/tmp/ipykernel_19684/3118721721.py:37: SettingWithCopyWarning:\n",
      "\n",
      "\n",
      "A value is trying to be set on a copy of a slice from a DataFrame.\n",
      "Try using .loc[row_indexer,col_indexer] = value instead\n",
      "\n",
      "See the caveats in the documentation: https://pandas.pydata.org/pandas-docs/stable/user_guide/indexing.html#returning-a-view-versus-a-copy\n",
      "\n"
     ]
    },
    {
     "data": {
      "application/vnd.plotly.v1+json": {
       "config": {
        "plotlyServerURL": "https://plot.ly"
       },
       "data": [
        {
         "marker": {
          "color": "blue"
         },
         "name": "Unemployment Rate (%)",
         "opacity": 0.75,
         "type": "bar",
         "x": [
          "Alabama",
          "Alaska",
          "Arizona",
          "Arkansas",
          "California",
          "Colorado",
          "Connecticut",
          "Delaware",
          "District of Columbia",
          "Florida",
          "Georgia",
          "Hawaii",
          "Idaho",
          "Illinois",
          "Indiana",
          "Iowa",
          "Kansas",
          "Kentucky",
          "Louisiana",
          "Maine",
          "Maryland",
          "Massachusetts",
          "Michigan",
          "Minnesota",
          "Mississippi",
          "Missouri",
          "Montana",
          "Nebraska",
          "Nevada",
          "New Hampshire",
          "New Jersey",
          "New Mexico",
          "New York",
          "North Carolina",
          "North Dakota",
          "Ohio",
          "Oklahoma",
          "Oregon",
          "Pennsylvania",
          "Rhode Island",
          "South Carolina",
          "South Dakota",
          "Tennessee",
          "Texas",
          "Utah",
          "Vermont",
          "Virginia",
          "Washington",
          "West Virginia",
          "Wisconsin",
          "Wyoming",
          "Alabama",
          "Alaska",
          "Arizona",
          "Arkansas",
          "California",
          "Colorado",
          "Connecticut",
          "Delaware",
          "District of Columbia",
          "Florida",
          "Georgia",
          "Hawaii",
          "Idaho",
          "Illinois",
          "Indiana",
          "Iowa",
          "Kansas",
          "Kentucky",
          "Louisiana",
          "Maine",
          "Maryland",
          "Massachusetts",
          "Michigan",
          "Minnesota",
          "Mississippi",
          "Missouri",
          "Montana",
          "Nebraska",
          "Nevada",
          "New Hampshire",
          "New Jersey",
          "New Mexico",
          "New York",
          "North Carolina",
          "North Dakota",
          "Ohio",
          "Oklahoma",
          "Oregon",
          "Pennsylvania",
          "Rhode Island",
          "South Carolina",
          "South Dakota",
          "Tennessee",
          "Texas",
          "Utah",
          "Vermont",
          "Virginia",
          "Washington",
          "West Virginia",
          "Wisconsin",
          "Wyoming",
          "Alabama",
          "Alaska",
          "Arizona",
          "Arkansas",
          "California",
          "Colorado",
          "Connecticut",
          "Delaware",
          "District of Columbia",
          "Florida",
          "Georgia",
          "Hawaii",
          "Idaho",
          "Illinois",
          "Indiana",
          "Iowa",
          "Kansas",
          "Kentucky",
          "Louisiana",
          "Maine",
          "Maryland",
          "Massachusetts",
          "Michigan",
          "Minnesota",
          "Mississippi",
          "Missouri",
          "Montana",
          "Nebraska",
          "Nevada",
          "New Hampshire",
          "New Jersey",
          "New Mexico",
          "New York",
          "North Carolina",
          "North Dakota",
          "Ohio",
          "Oklahoma",
          "Oregon",
          "Pennsylvania",
          "Rhode Island",
          "South Carolina",
          "South Dakota",
          "Tennessee",
          "Texas",
          "Utah",
          "Vermont",
          "Virginia",
          "Washington",
          "West Virginia",
          "Wisconsin",
          "Wyoming",
          "Alabama",
          "Alaska",
          "Arizona",
          "Arkansas",
          "California",
          "Colorado",
          "Connecticut",
          "Delaware",
          "District of Columbia",
          "Florida",
          "Georgia",
          "Hawaii",
          "Idaho",
          "Illinois",
          "Indiana",
          "Iowa",
          "Kansas",
          "Kentucky",
          "Louisiana",
          "Maine",
          "Maryland",
          "Massachusetts",
          "Michigan",
          "Minnesota",
          "Mississippi",
          "Missouri",
          "Montana",
          "Nebraska",
          "Nevada",
          "New Hampshire",
          "New Jersey",
          "New Mexico",
          "New York",
          "North Carolina",
          "North Dakota",
          "Ohio",
          "Oklahoma",
          "Oregon",
          "Pennsylvania",
          "Rhode Island",
          "South Carolina",
          "South Dakota",
          "Tennessee",
          "Texas",
          "Utah",
          "Vermont",
          "Virginia",
          "Washington",
          "West Virginia",
          "Wisconsin",
          "Wyoming",
          "Alabama",
          "Alaska",
          "Arizona",
          "Arkansas",
          "California",
          "Colorado",
          "Connecticut",
          "Delaware",
          "District of Columbia",
          "Florida",
          "Georgia",
          "Hawaii",
          "Idaho",
          "Illinois",
          "Indiana",
          "Iowa",
          "Kansas",
          "Kentucky",
          "Louisiana",
          "Maine",
          "Maryland",
          "Massachusetts",
          "Michigan",
          "Minnesota",
          "Mississippi",
          "Missouri",
          "Montana",
          "Nebraska",
          "Nevada",
          "New Hampshire",
          "New Jersey",
          "New Mexico",
          "New York",
          "North Carolina",
          "North Dakota",
          "Ohio",
          "Oklahoma",
          "Oregon",
          "Pennsylvania",
          "Rhode Island",
          "South Carolina",
          "South Dakota",
          "Tennessee",
          "Texas",
          "Utah",
          "Vermont",
          "Virginia",
          "Washington",
          "West Virginia",
          "Wisconsin",
          "Wyoming",
          "Alabama",
          "Alaska",
          "Arizona",
          "Arkansas",
          "California",
          "Colorado",
          "Connecticut",
          "Delaware",
          "District of Columbia",
          "Florida",
          "Georgia",
          "Hawaii",
          "Idaho",
          "Illinois",
          "Indiana",
          "Iowa",
          "Kansas",
          "Kentucky",
          "Louisiana",
          "Maine",
          "Maryland",
          "Massachusetts",
          "Michigan",
          "Minnesota",
          "Mississippi",
          "Missouri",
          "Montana",
          "Nebraska",
          "Nevada",
          "New Hampshire",
          "New Jersey",
          "New Mexico",
          "New York",
          "North Carolina",
          "North Dakota",
          "Ohio",
          "Oklahoma",
          "Oregon",
          "Pennsylvania",
          "Rhode Island",
          "South Carolina",
          "South Dakota",
          "Tennessee",
          "Texas",
          "Utah",
          "Vermont",
          "Virginia",
          "Washington",
          "West Virginia",
          "Wisconsin",
          "Wyoming",
          "Alabama",
          "Alaska",
          "Arizona",
          "Arkansas",
          "California",
          "Colorado",
          "Connecticut",
          "Delaware",
          "District of Columbia",
          "Florida",
          "Georgia",
          "Hawaii",
          "Idaho",
          "Illinois",
          "Indiana",
          "Iowa",
          "Kansas",
          "Kentucky",
          "Louisiana",
          "Maine",
          "Maryland",
          "Massachusetts",
          "Michigan",
          "Minnesota",
          "Mississippi",
          "Missouri",
          "Montana",
          "Nebraska",
          "Nevada",
          "New Hampshire",
          "New Jersey",
          "New Mexico",
          "New York",
          "North Carolina",
          "North Dakota",
          "Ohio",
          "Oklahoma",
          "Oregon",
          "Pennsylvania",
          "Rhode Island",
          "South Carolina",
          "South Dakota",
          "Tennessee",
          "Texas",
          "Utah",
          "Vermont",
          "Virginia",
          "Washington",
          "West Virginia",
          "Wisconsin",
          "Wyoming",
          "Alabama",
          "Alaska",
          "Arizona",
          "Arkansas",
          "California",
          "Colorado",
          "Connecticut",
          "Delaware",
          "District of Columbia",
          "Florida",
          "Georgia",
          "Hawaii",
          "Idaho",
          "Illinois",
          "Indiana",
          "Iowa",
          "Kansas",
          "Kentucky",
          "Louisiana",
          "Maine",
          "Maryland",
          "Massachusetts",
          "Michigan",
          "Minnesota",
          "Mississippi",
          "Missouri",
          "Montana",
          "Nebraska",
          "Nevada",
          "New Hampshire",
          "New Jersey",
          "New Mexico",
          "New York",
          "North Carolina",
          "North Dakota",
          "Ohio",
          "Oklahoma",
          "Oregon",
          "Pennsylvania",
          "Rhode Island",
          "South Carolina",
          "South Dakota",
          "Tennessee",
          "Texas",
          "Utah",
          "Vermont",
          "Virginia",
          "Washington",
          "West Virginia",
          "Wisconsin",
          "Wyoming",
          "Alabama",
          "Alaska",
          "Arizona",
          "Arkansas",
          "California",
          "Colorado",
          "Connecticut",
          "Delaware",
          "District of Columbia",
          "Florida",
          "Georgia",
          "Hawaii",
          "Idaho",
          "Illinois",
          "Indiana",
          "Iowa",
          "Kansas",
          "Kentucky",
          "Louisiana",
          "Maine",
          "Maryland",
          "Massachusetts",
          "Michigan",
          "Minnesota",
          "Mississippi",
          "Missouri",
          "Montana",
          "Nebraska",
          "Nevada",
          "New Hampshire",
          "New Jersey",
          "New Mexico",
          "New York",
          "North Carolina",
          "North Dakota",
          "Ohio",
          "Oklahoma",
          "Oregon",
          "Pennsylvania",
          "Rhode Island",
          "South Carolina",
          "South Dakota",
          "Tennessee",
          "Texas",
          "Utah",
          "Vermont",
          "Virginia",
          "Washington",
          "West Virginia",
          "Wisconsin",
          "Wyoming",
          "Alabama",
          "Alaska",
          "Arizona",
          "Arkansas",
          "California",
          "Colorado",
          "Connecticut",
          "Delaware",
          "District of Columbia",
          "Florida",
          "Georgia",
          "Hawaii",
          "Idaho",
          "Illinois",
          "Indiana",
          "Iowa",
          "Kansas",
          "Kentucky",
          "Louisiana",
          "Maine",
          "Maryland",
          "Massachusetts",
          "Michigan",
          "Minnesota",
          "Mississippi",
          "Missouri",
          "Montana",
          "Nebraska",
          "Nevada",
          "New Hampshire",
          "New Jersey",
          "New Mexico",
          "New York",
          "North Carolina",
          "North Dakota",
          "Ohio",
          "Oklahoma",
          "Oregon",
          "Pennsylvania",
          "Rhode Island",
          "South Carolina",
          "South Dakota",
          "Tennessee",
          "Texas",
          "Utah",
          "Vermont",
          "Virginia",
          "Washington",
          "West Virginia",
          "Wisconsin",
          "Wyoming",
          "Alabama",
          "Alaska",
          "Arizona",
          "Arkansas",
          "California",
          "Colorado",
          "Connecticut",
          "Delaware",
          "District of Columbia",
          "Florida",
          "Georgia",
          "Hawaii",
          "Idaho",
          "Illinois",
          "Indiana",
          "Iowa",
          "Kansas",
          "Kentucky",
          "Louisiana",
          "Maine",
          "Maryland",
          "Massachusetts",
          "Michigan",
          "Minnesota",
          "Mississippi",
          "Missouri",
          "Montana",
          "Nebraska",
          "Nevada",
          "New Hampshire",
          "New Jersey",
          "New Mexico",
          "New York",
          "North Carolina",
          "North Dakota",
          "Ohio",
          "Oklahoma",
          "Oregon",
          "Pennsylvania",
          "Rhode Island",
          "South Carolina",
          "South Dakota",
          "Tennessee",
          "Texas",
          "Utah",
          "Vermont",
          "Virginia",
          "Washington",
          "West Virginia",
          "Wisconsin",
          "Wyoming",
          "Alabama",
          "Alaska",
          "Arizona",
          "Arkansas",
          "California",
          "Colorado",
          "Connecticut",
          "Delaware",
          "District of Columbia",
          "Florida",
          "Georgia",
          "Hawaii",
          "Idaho",
          "Illinois",
          "Indiana",
          "Iowa",
          "Kansas",
          "Kentucky",
          "Louisiana",
          "Maine",
          "Maryland",
          "Massachusetts",
          "Michigan",
          "Minnesota",
          "Mississippi",
          "Missouri",
          "Montana",
          "Nebraska",
          "Nevada",
          "New Hampshire",
          "New Jersey",
          "New Mexico",
          "New York",
          "North Carolina",
          "North Dakota",
          "Ohio",
          "Oklahoma",
          "Oregon",
          "Pennsylvania",
          "Rhode Island",
          "South Carolina",
          "South Dakota",
          "Tennessee",
          "Texas",
          "Utah",
          "Vermont",
          "Virginia",
          "Washington",
          "West Virginia",
          "Wisconsin",
          "Wyoming"
         ],
         "y": [
          4,
          6.4,
          4.9,
          3.8,
          4.4,
          2.9,
          4.2,
          4.1,
          5.9,
          3.9,
          4.3,
          2.1,
          3,
          4.6,
          3.3,
          2.8,
          3.5,
          4.2,
          4.7,
          3.1,
          4.1,
          3.7,
          4.5,
          3.1,
          4.9,
          3.6,
          4,
          2.9,
          4.7,
          2.7,
          4.4,
          5.2,
          4.5,
          4.2,
          2.6,
          4.6,
          3.7,
          4.1,
          4.8,
          4.5,
          3.9,
          3,
          3.5,
          4.1,
          3,
          2.8,
          3.4,
          4.6,
          5.4,
          2.9,
          4.2,
          4,
          6.3,
          4.8,
          3.8,
          4.3,
          2.9,
          4.1,
          4,
          5.8,
          3.9,
          4.2,
          2.1,
          2.9,
          4.5,
          3.3,
          2.7,
          3.4,
          4.2,
          4.7,
          3,
          4,
          3.7,
          4.4,
          3.1,
          4.9,
          3.5,
          3.9,
          2.9,
          4.6,
          2.7,
          4.4,
          5.1,
          4.4,
          4.1,
          2.6,
          4.6,
          3.6,
          4,
          4.7,
          4.4,
          3.7,
          2.9,
          3.5,
          4,
          3,
          2.7,
          3.3,
          4.6,
          5.4,
          2.9,
          4.2,
          4,
          6.2,
          4.8,
          3.7,
          4.3,
          2.9,
          4.1,
          3.9,
          5.8,
          3.8,
          4.1,
          2.2,
          2.9,
          4.4,
          3.3,
          2.6,
          3.4,
          4.2,
          4.8,
          3,
          4,
          3.6,
          4.3,
          3,
          4.9,
          3.4,
          3.8,
          2.9,
          4.6,
          2.7,
          4.3,
          4.9,
          4.3,
          4,
          2.6,
          4.6,
          3.5,
          4,
          4.6,
          4.2,
          3.5,
          2.9,
          3.5,
          4,
          3,
          2.7,
          3.2,
          4.5,
          5.3,
          2.9,
          4.1,
          4,
          6.1,
          4.7,
          3.7,
          4.2,
          3,
          4,
          3.8,
          5.8,
          3.8,
          4.1,
          2.2,
          2.8,
          4.3,
          3.4,
          2.6,
          3.4,
          4.2,
          4.9,
          3,
          3.9,
          3.6,
          4.1,
          3,
          4.9,
          3.3,
          3.8,
          2.9,
          4.5,
          2.7,
          4.2,
          4.8,
          4.2,
          4,
          2.5,
          4.5,
          3.4,
          3.9,
          4.5,
          4.1,
          3.3,
          2.8,
          3.5,
          4,
          2.9,
          2.6,
          3.1,
          4.4,
          5.3,
          3,
          4,
          4,
          6,
          4.7,
          3.6,
          4.2,
          3,
          3.9,
          3.8,
          5.7,
          3.7,
          4,
          2.3,
          2.8,
          4.3,
          3.4,
          2.5,
          3.3,
          4.2,
          4.9,
          3.1,
          3.8,
          3.5,
          4,
          2.9,
          4.9,
          3.2,
          3.7,
          2.8,
          4.4,
          2.7,
          4.1,
          4.7,
          4.1,
          3.9,
          2.4,
          4.5,
          3.3,
          3.9,
          4.4,
          4,
          3.2,
          2.8,
          3.5,
          3.9,
          2.9,
          2.5,
          2.9,
          4.3,
          5.2,
          3,
          4,
          4,
          5.9,
          4.7,
          3.6,
          4.2,
          3.1,
          3.9,
          3.7,
          5.6,
          3.6,
          3.9,
          2.4,
          2.8,
          4.2,
          3.4,
          2.5,
          3.3,
          4.2,
          4.9,
          3.2,
          3.8,
          3.5,
          4,
          2.9,
          4.8,
          3.1,
          3.7,
          2.9,
          4.3,
          2.6,
          4,
          4.7,
          4,
          3.9,
          2.3,
          4.5,
          3.2,
          3.8,
          4.3,
          3.9,
          3.2,
          2.8,
          3.5,
          3.9,
          2.9,
          2.4,
          2.8,
          4.3,
          5.1,
          3,
          4,
          4,
          5.9,
          4.7,
          3.5,
          4.2,
          3.1,
          3.8,
          3.6,
          5.5,
          3.6,
          3.9,
          2.4,
          2.8,
          4.3,
          3.4,
          2.5,
          3.3,
          4.2,
          4.9,
          3.3,
          3.7,
          3.4,
          4,
          2.9,
          4.8,
          3.1,
          3.7,
          2.9,
          4.2,
          2.6,
          4,
          4.7,
          3.9,
          3.9,
          2.3,
          4.4,
          3.1,
          3.9,
          4.3,
          3.9,
          3.3,
          2.7,
          3.5,
          3.9,
          2.9,
          2.4,
          2.8,
          4.3,
          5.1,
          3,
          4,
          3.9,
          5.9,
          4.7,
          3.5,
          4.2,
          3.1,
          3.8,
          3.6,
          5.5,
          3.5,
          3.9,
          2.5,
          2.8,
          4.3,
          3.5,
          2.5,
          3.3,
          4.2,
          4.9,
          3.3,
          3.7,
          3.4,
          4,
          2.9,
          4.9,
          3,
          3.7,
          2.9,
          4.2,
          2.6,
          3.9,
          4.8,
          3.9,
          3.9,
          2.3,
          4.4,
          3.1,
          4,
          4.3,
          3.9,
          3.3,
          2.7,
          3.5,
          3.8,
          2.9,
          2.3,
          2.8,
          4.3,
          5,
          3,
          4.1,
          3.9,
          5.9,
          4.8,
          3.6,
          4.2,
          3.2,
          3.7,
          3.5,
          5.5,
          3.5,
          3.9,
          2.6,
          2.8,
          4.4,
          3.5,
          2.5,
          3.3,
          4.2,
          4.8,
          3.3,
          3.7,
          3.4,
          4.1,
          3,
          4.9,
          3.1,
          3.7,
          2.9,
          4.2,
          2.5,
          3.8,
          4.9,
          3.9,
          4,
          2.3,
          4.4,
          3.1,
          4.1,
          4.2,
          3.9,
          3.3,
          2.7,
          3.5,
          3.8,
          2.9,
          2.3,
          2.8,
          4.3,
          5,
          3,
          4.1,
          3.9,
          5.9,
          4.9,
          3.7,
          4.3,
          3.2,
          3.7,
          3.5,
          5.6,
          3.5,
          3.9,
          2.6,
          2.9,
          4.4,
          3.5,
          2.5,
          3.3,
          4.2,
          4.8,
          3.3,
          3.7,
          3.3,
          4.1,
          3.1,
          5.1,
          3.1,
          3.7,
          3,
          4.3,
          2.5,
          3.7,
          5,
          4,
          4,
          2.3,
          4.5,
          3.1,
          4.2,
          4.3,
          3.9,
          3.3,
          2.7,
          3.5,
          3.8,
          2.9,
          2.4,
          2.9,
          4.4,
          5,
          3,
          4.1,
          3.8,
          6,
          5,
          3.7,
          4.3,
          3.1,
          3.7,
          3.5,
          5.7,
          3.5,
          3.9,
          2.7,
          3,
          4.5,
          3.6,
          2.6,
          3.4,
          4.2,
          4.8,
          3.3,
          3.7,
          3.3,
          4.2,
          3.2,
          5.2,
          3.2,
          3.7,
          3,
          4.3,
          2.6,
          3.7,
          5.1,
          4,
          4,
          2.3,
          4.5,
          3.2,
          4.3,
          4.3,
          3.9,
          3.3,
          2.7,
          3.5,
          3.8,
          2.9,
          2.4,
          3,
          4.5,
          5.1,
          3,
          4,
          3.8,
          6,
          5,
          3.7,
          4.3,
          3.1,
          3.7,
          3.5,
          5.8,
          3.5,
          3.9,
          2.8,
          3,
          4.6,
          3.6,
          2.6,
          3.4,
          4.2,
          4.8,
          3.2,
          3.7,
          3.3,
          4.2,
          3.2,
          5.3,
          3.3,
          3.6,
          3.1,
          4.3,
          2.6,
          3.6,
          5.2,
          4,
          4,
          2.4,
          4.5,
          3.2,
          4.3,
          4.3,
          3.8,
          3.2,
          2.8,
          3.5,
          3.8,
          2.8,
          2.3,
          3.1,
          4.6,
          5.1,
          3,
          3.9
         ],
         "yaxis": "y"
        },
        {
         "marker": {
          "color": "orange"
         },
         "mode": "lines+markers",
         "name": "Gun Violence per 100,000 People",
         "type": "scatter",
         "x": [
          "Alabama",
          "Alaska",
          "Arizona",
          "Arkansas",
          "California",
          "Colorado",
          "Connecticut",
          "Delaware",
          "District of Columbia",
          "Florida",
          "Georgia",
          "Hawaii",
          "Idaho",
          "Illinois",
          "Indiana",
          "Iowa",
          "Kansas",
          "Kentucky",
          "Louisiana",
          "Maine",
          "Maryland",
          "Massachusetts",
          "Michigan",
          "Minnesota",
          "Mississippi",
          "Missouri",
          "Montana",
          "Nebraska",
          "Nevada",
          "New Hampshire",
          "New Jersey",
          "New Mexico",
          "New York",
          "North Carolina",
          "North Dakota",
          "Ohio",
          "Oklahoma",
          "Oregon",
          "Pennsylvania",
          "Rhode Island",
          "South Carolina",
          "South Dakota",
          "Tennessee",
          "Texas",
          "Utah",
          "Vermont",
          "Virginia",
          "Washington",
          "West Virginia",
          "Wisconsin",
          "Wyoming",
          "Alabama",
          "Alaska",
          "Arizona",
          "Arkansas",
          "California",
          "Colorado",
          "Connecticut",
          "Delaware",
          "District of Columbia",
          "Florida",
          "Georgia",
          "Hawaii",
          "Idaho",
          "Illinois",
          "Indiana",
          "Iowa",
          "Kansas",
          "Kentucky",
          "Louisiana",
          "Maine",
          "Maryland",
          "Massachusetts",
          "Michigan",
          "Minnesota",
          "Mississippi",
          "Missouri",
          "Montana",
          "Nebraska",
          "Nevada",
          "New Hampshire",
          "New Jersey",
          "New Mexico",
          "New York",
          "North Carolina",
          "North Dakota",
          "Ohio",
          "Oklahoma",
          "Oregon",
          "Pennsylvania",
          "Rhode Island",
          "South Carolina",
          "South Dakota",
          "Tennessee",
          "Texas",
          "Utah",
          "Vermont",
          "Virginia",
          "Washington",
          "West Virginia",
          "Wisconsin",
          "Wyoming",
          "Alabama",
          "Alaska",
          "Arizona",
          "Arkansas",
          "California",
          "Colorado",
          "Connecticut",
          "Delaware",
          "District of Columbia",
          "Florida",
          "Georgia",
          "Hawaii",
          "Idaho",
          "Illinois",
          "Indiana",
          "Iowa",
          "Kansas",
          "Kentucky",
          "Louisiana",
          "Maine",
          "Maryland",
          "Massachusetts",
          "Michigan",
          "Minnesota",
          "Mississippi",
          "Missouri",
          "Montana",
          "Nebraska",
          "Nevada",
          "New Hampshire",
          "New Jersey",
          "New Mexico",
          "New York",
          "North Carolina",
          "North Dakota",
          "Ohio",
          "Oklahoma",
          "Oregon",
          "Pennsylvania",
          "Rhode Island",
          "South Carolina",
          "South Dakota",
          "Tennessee",
          "Texas",
          "Utah",
          "Vermont",
          "Virginia",
          "Washington",
          "West Virginia",
          "Wisconsin",
          "Wyoming",
          "Alabama",
          "Alaska",
          "Arizona",
          "Arkansas",
          "California",
          "Colorado",
          "Connecticut",
          "Delaware",
          "District of Columbia",
          "Florida",
          "Georgia",
          "Hawaii",
          "Idaho",
          "Illinois",
          "Indiana",
          "Iowa",
          "Kansas",
          "Kentucky",
          "Louisiana",
          "Maine",
          "Maryland",
          "Massachusetts",
          "Michigan",
          "Minnesota",
          "Mississippi",
          "Missouri",
          "Montana",
          "Nebraska",
          "Nevada",
          "New Hampshire",
          "New Jersey",
          "New Mexico",
          "New York",
          "North Carolina",
          "North Dakota",
          "Ohio",
          "Oklahoma",
          "Oregon",
          "Pennsylvania",
          "Rhode Island",
          "South Carolina",
          "South Dakota",
          "Tennessee",
          "Texas",
          "Utah",
          "Vermont",
          "Virginia",
          "Washington",
          "West Virginia",
          "Wisconsin",
          "Wyoming",
          "Alabama",
          "Alaska",
          "Arizona",
          "Arkansas",
          "California",
          "Colorado",
          "Connecticut",
          "Delaware",
          "District of Columbia",
          "Florida",
          "Georgia",
          "Hawaii",
          "Idaho",
          "Illinois",
          "Indiana",
          "Iowa",
          "Kansas",
          "Kentucky",
          "Louisiana",
          "Maine",
          "Maryland",
          "Massachusetts",
          "Michigan",
          "Minnesota",
          "Mississippi",
          "Missouri",
          "Montana",
          "Nebraska",
          "Nevada",
          "New Hampshire",
          "New Jersey",
          "New Mexico",
          "New York",
          "North Carolina",
          "North Dakota",
          "Ohio",
          "Oklahoma",
          "Oregon",
          "Pennsylvania",
          "Rhode Island",
          "South Carolina",
          "South Dakota",
          "Tennessee",
          "Texas",
          "Utah",
          "Vermont",
          "Virginia",
          "Washington",
          "West Virginia",
          "Wisconsin",
          "Wyoming",
          "Alabama",
          "Alaska",
          "Arizona",
          "Arkansas",
          "California",
          "Colorado",
          "Connecticut",
          "Delaware",
          "District of Columbia",
          "Florida",
          "Georgia",
          "Hawaii",
          "Idaho",
          "Illinois",
          "Indiana",
          "Iowa",
          "Kansas",
          "Kentucky",
          "Louisiana",
          "Maine",
          "Maryland",
          "Massachusetts",
          "Michigan",
          "Minnesota",
          "Mississippi",
          "Missouri",
          "Montana",
          "Nebraska",
          "Nevada",
          "New Hampshire",
          "New Jersey",
          "New Mexico",
          "New York",
          "North Carolina",
          "North Dakota",
          "Ohio",
          "Oklahoma",
          "Oregon",
          "Pennsylvania",
          "Rhode Island",
          "South Carolina",
          "South Dakota",
          "Tennessee",
          "Texas",
          "Utah",
          "Vermont",
          "Virginia",
          "Washington",
          "West Virginia",
          "Wisconsin",
          "Wyoming",
          "Alabama",
          "Alaska",
          "Arizona",
          "Arkansas",
          "California",
          "Colorado",
          "Connecticut",
          "Delaware",
          "District of Columbia",
          "Florida",
          "Georgia",
          "Hawaii",
          "Idaho",
          "Illinois",
          "Indiana",
          "Iowa",
          "Kansas",
          "Kentucky",
          "Louisiana",
          "Maine",
          "Maryland",
          "Massachusetts",
          "Michigan",
          "Minnesota",
          "Mississippi",
          "Missouri",
          "Montana",
          "Nebraska",
          "Nevada",
          "New Hampshire",
          "New Jersey",
          "New Mexico",
          "New York",
          "North Carolina",
          "North Dakota",
          "Ohio",
          "Oklahoma",
          "Oregon",
          "Pennsylvania",
          "Rhode Island",
          "South Carolina",
          "South Dakota",
          "Tennessee",
          "Texas",
          "Utah",
          "Vermont",
          "Virginia",
          "Washington",
          "West Virginia",
          "Wisconsin",
          "Wyoming",
          "Alabama",
          "Alaska",
          "Arizona",
          "Arkansas",
          "California",
          "Colorado",
          "Connecticut",
          "Delaware",
          "District of Columbia",
          "Florida",
          "Georgia",
          "Hawaii",
          "Idaho",
          "Illinois",
          "Indiana",
          "Iowa",
          "Kansas",
          "Kentucky",
          "Louisiana",
          "Maine",
          "Maryland",
          "Massachusetts",
          "Michigan",
          "Minnesota",
          "Mississippi",
          "Missouri",
          "Montana",
          "Nebraska",
          "Nevada",
          "New Hampshire",
          "New Jersey",
          "New Mexico",
          "New York",
          "North Carolina",
          "North Dakota",
          "Ohio",
          "Oklahoma",
          "Oregon",
          "Pennsylvania",
          "Rhode Island",
          "South Carolina",
          "South Dakota",
          "Tennessee",
          "Texas",
          "Utah",
          "Vermont",
          "Virginia",
          "Washington",
          "West Virginia",
          "Wisconsin",
          "Wyoming",
          "Alabama",
          "Alaska",
          "Arizona",
          "Arkansas",
          "California",
          "Colorado",
          "Connecticut",
          "Delaware",
          "District of Columbia",
          "Florida",
          "Georgia",
          "Hawaii",
          "Idaho",
          "Illinois",
          "Indiana",
          "Iowa",
          "Kansas",
          "Kentucky",
          "Louisiana",
          "Maine",
          "Maryland",
          "Massachusetts",
          "Michigan",
          "Minnesota",
          "Mississippi",
          "Missouri",
          "Montana",
          "Nebraska",
          "Nevada",
          "New Hampshire",
          "New Jersey",
          "New Mexico",
          "New York",
          "North Carolina",
          "North Dakota",
          "Ohio",
          "Oklahoma",
          "Oregon",
          "Pennsylvania",
          "Rhode Island",
          "South Carolina",
          "South Dakota",
          "Tennessee",
          "Texas",
          "Utah",
          "Vermont",
          "Virginia",
          "Washington",
          "West Virginia",
          "Wisconsin",
          "Wyoming",
          "Alabama",
          "Alaska",
          "Arizona",
          "Arkansas",
          "California",
          "Colorado",
          "Connecticut",
          "Delaware",
          "District of Columbia",
          "Florida",
          "Georgia",
          "Hawaii",
          "Idaho",
          "Illinois",
          "Indiana",
          "Iowa",
          "Kansas",
          "Kentucky",
          "Louisiana",
          "Maine",
          "Maryland",
          "Massachusetts",
          "Michigan",
          "Minnesota",
          "Mississippi",
          "Missouri",
          "Montana",
          "Nebraska",
          "Nevada",
          "New Hampshire",
          "New Jersey",
          "New Mexico",
          "New York",
          "North Carolina",
          "North Dakota",
          "Ohio",
          "Oklahoma",
          "Oregon",
          "Pennsylvania",
          "Rhode Island",
          "South Carolina",
          "South Dakota",
          "Tennessee",
          "Texas",
          "Utah",
          "Vermont",
          "Virginia",
          "Washington",
          "West Virginia",
          "Wisconsin",
          "Wyoming",
          "Alabama",
          "Alaska",
          "Arizona",
          "Arkansas",
          "California",
          "Colorado",
          "Connecticut",
          "Delaware",
          "District of Columbia",
          "Florida",
          "Georgia",
          "Hawaii",
          "Idaho",
          "Illinois",
          "Indiana",
          "Iowa",
          "Kansas",
          "Kentucky",
          "Louisiana",
          "Maine",
          "Maryland",
          "Massachusetts",
          "Michigan",
          "Minnesota",
          "Mississippi",
          "Missouri",
          "Montana",
          "Nebraska",
          "Nevada",
          "New Hampshire",
          "New Jersey",
          "New Mexico",
          "New York",
          "North Carolina",
          "North Dakota",
          "Ohio",
          "Oklahoma",
          "Oregon",
          "Pennsylvania",
          "Rhode Island",
          "South Carolina",
          "South Dakota",
          "Tennessee",
          "Texas",
          "Utah",
          "Vermont",
          "Virginia",
          "Washington",
          "West Virginia",
          "Wisconsin",
          "Wyoming",
          "Alabama",
          "Alaska",
          "Arizona",
          "Arkansas",
          "California",
          "Colorado",
          "Connecticut",
          "Delaware",
          "District of Columbia",
          "Florida",
          "Georgia",
          "Hawaii",
          "Idaho",
          "Illinois",
          "Indiana",
          "Iowa",
          "Kansas",
          "Kentucky",
          "Louisiana",
          "Maine",
          "Maryland",
          "Massachusetts",
          "Michigan",
          "Minnesota",
          "Mississippi",
          "Missouri",
          "Montana",
          "Nebraska",
          "Nevada",
          "New Hampshire",
          "New Jersey",
          "New Mexico",
          "New York",
          "North Carolina",
          "North Dakota",
          "Ohio",
          "Oklahoma",
          "Oregon",
          "Pennsylvania",
          "Rhode Island",
          "South Carolina",
          "South Dakota",
          "Tennessee",
          "Texas",
          "Utah",
          "Vermont",
          "Virginia",
          "Washington",
          "West Virginia",
          "Wisconsin",
          "Wyoming"
         ],
         "y": [
          2.7620460500593227,
          1.4963156627522143,
          1.1874785555343208,
          1.4286981602687014,
          0.7703694032789558,
          1.0718138094248277,
          0.47598781471194335,
          0.8286042472182202,
          3.563553119035503,
          1.2568067027054812,
          1.217756680988944,
          0.07039313863999049,
          0.7997550464543431,
          1.2968567101449013,
          1.4337994625342974,
          0.3175996580086883,
          1.3052323674270332,
          1.7260111903806032,
          2.7684245089265596,
          0.5974353593611026,
          1.3088567186266216,
          0.31964501967633036,
          1.2219463160922717,
          0.4637681986654535,
          3.555829883731072,
          2.0909487565634146,
          0.4714023749251649,
          0.5712463660941393,
          2.014969572307844,
          0.07388443735153846,
          0.6414566693206467,
          1.7680162045852783,
          0.3430557904463673,
          1.0403005698053724,
          0.3957365977205572,
          1.1904414233876863,
          1.1166846647471536,
          0.7412923259983653,
          1.0624234723092603,
          0.47246162902879846,
          1.7505363722120248,
          0.7966332004852634,
          1.447214120202356,
          1.08283075432156,
          0.31710294747189677,
          0.6406580839838683,
          0.846930687898278,
          0.7177158453981589,
          1.2747389417782387,
          0.7920920286957722,
          1.7312989416569569,
          2.7620460500593227,
          1.4963156627522143,
          1.1874785555343208,
          1.4286981602687014,
          0.7703694032789558,
          1.0718138094248277,
          0.47598781471194335,
          0.8286042472182202,
          3.563553119035503,
          1.2568067027054812,
          1.217756680988944,
          0.07039313863999049,
          0.7997550464543431,
          1.2968567101449013,
          1.4337994625342974,
          0.3175996580086883,
          1.3052323674270332,
          1.7260111903806032,
          2.7684245089265596,
          0.5974353593611026,
          1.3088567186266216,
          0.31964501967633036,
          1.2219463160922717,
          0.4637681986654535,
          3.555829883731072,
          2.0909487565634146,
          0.4714023749251649,
          0.5712463660941393,
          2.014969572307844,
          0.07388443735153846,
          0.6414566693206467,
          1.7680162045852783,
          0.3430557904463673,
          1.0403005698053724,
          0.3957365977205572,
          1.1904414233876863,
          1.1166846647471536,
          0.7412923259983653,
          1.0624234723092603,
          0.47246162902879846,
          1.7505363722120248,
          0.7966332004852634,
          1.447214120202356,
          1.08283075432156,
          0.31710294747189677,
          0.6406580839838683,
          0.846930687898278,
          0.7177158453981589,
          1.2747389417782387,
          0.7920920286957722,
          1.7312989416569569,
          2.7620460500593227,
          1.4963156627522143,
          1.1874785555343208,
          1.4286981602687014,
          0.7703694032789558,
          1.0718138094248277,
          0.47598781471194335,
          0.8286042472182202,
          3.563553119035503,
          1.2568067027054812,
          1.217756680988944,
          0.07039313863999049,
          0.7997550464543431,
          1.2968567101449013,
          1.4337994625342974,
          0.3175996580086883,
          1.3052323674270332,
          1.7260111903806032,
          2.7684245089265596,
          0.5974353593611026,
          1.3088567186266216,
          0.31964501967633036,
          1.2219463160922717,
          0.4637681986654535,
          3.555829883731072,
          2.0909487565634146,
          0.4714023749251649,
          0.5712463660941393,
          2.014969572307844,
          0.07388443735153846,
          0.6414566693206467,
          1.7680162045852783,
          0.3430557904463673,
          1.0403005698053724,
          0.3957365977205572,
          1.1904414233876863,
          1.1166846647471536,
          0.7412923259983653,
          1.0624234723092603,
          0.47246162902879846,
          1.7505363722120248,
          0.7966332004852634,
          1.447214120202356,
          1.08283075432156,
          0.31710294747189677,
          0.6406580839838683,
          0.846930687898278,
          0.7177158453981589,
          1.2747389417782387,
          0.7920920286957722,
          1.7312989416569569,
          2.7620460500593227,
          1.4963156627522143,
          1.1874785555343208,
          1.4286981602687014,
          0.7703694032789558,
          1.0718138094248277,
          0.47598781471194335,
          0.8286042472182202,
          3.563553119035503,
          1.2568067027054812,
          1.217756680988944,
          0.07039313863999049,
          0.7997550464543431,
          1.2968567101449013,
          1.4337994625342974,
          0.3175996580086883,
          1.3052323674270332,
          1.7260111903806032,
          2.7684245089265596,
          0.5974353593611026,
          1.3088567186266216,
          0.31964501967633036,
          1.2219463160922717,
          0.4637681986654535,
          3.555829883731072,
          2.0909487565634146,
          0.4714023749251649,
          0.5712463660941393,
          2.014969572307844,
          0.07388443735153846,
          0.6414566693206467,
          1.7680162045852783,
          0.3430557904463673,
          1.0403005698053724,
          0.3957365977205572,
          1.1904414233876863,
          1.1166846647471536,
          0.7412923259983653,
          1.0624234723092603,
          0.47246162902879846,
          1.7505363722120248,
          0.7966332004852634,
          1.447214120202356,
          1.08283075432156,
          0.31710294747189677,
          0.6406580839838683,
          0.846930687898278,
          0.7177158453981589,
          1.2747389417782387,
          0.7920920286957722,
          1.7312989416569569,
          2.7620460500593227,
          1.4963156627522143,
          1.1874785555343208,
          1.4286981602687014,
          0.7703694032789558,
          1.0718138094248277,
          0.47598781471194335,
          0.8286042472182202,
          3.563553119035503,
          1.2568067027054812,
          1.217756680988944,
          0.07039313863999049,
          0.7997550464543431,
          1.2968567101449013,
          1.4337994625342974,
          0.3175996580086883,
          1.3052323674270332,
          1.7260111903806032,
          2.7684245089265596,
          0.5974353593611026,
          1.3088567186266216,
          0.31964501967633036,
          1.2219463160922717,
          0.4637681986654535,
          3.555829883731072,
          2.0909487565634146,
          0.4714023749251649,
          0.5712463660941393,
          2.014969572307844,
          0.07388443735153846,
          0.6414566693206467,
          1.7680162045852783,
          0.3430557904463673,
          1.0403005698053724,
          0.3957365977205572,
          1.1904414233876863,
          1.1166846647471536,
          0.7412923259983653,
          1.0624234723092603,
          0.47246162902879846,
          1.7505363722120248,
          0.7966332004852634,
          1.447214120202356,
          1.08283075432156,
          0.31710294747189677,
          0.6406580839838683,
          0.846930687898278,
          0.7177158453981589,
          1.2747389417782387,
          0.7920920286957722,
          1.7312989416569569,
          2.7620460500593227,
          1.4963156627522143,
          1.1874785555343208,
          1.4286981602687014,
          0.7703694032789558,
          1.0718138094248277,
          0.47598781471194335,
          0.8286042472182202,
          3.563553119035503,
          1.2568067027054812,
          1.217756680988944,
          0.07039313863999049,
          0.7997550464543431,
          1.2968567101449013,
          1.4337994625342974,
          0.3175996580086883,
          1.3052323674270332,
          1.7260111903806032,
          2.7684245089265596,
          0.5974353593611026,
          1.3088567186266216,
          0.31964501967633036,
          1.2219463160922717,
          0.4637681986654535,
          3.555829883731072,
          2.0909487565634146,
          0.4714023749251649,
          0.5712463660941393,
          2.014969572307844,
          0.07388443735153846,
          0.6414566693206467,
          1.7680162045852783,
          0.3430557904463673,
          1.0403005698053724,
          0.3957365977205572,
          1.1904414233876863,
          1.1166846647471536,
          0.7412923259983653,
          1.0624234723092603,
          0.47246162902879846,
          1.7505363722120248,
          0.7966332004852634,
          1.447214120202356,
          1.08283075432156,
          0.31710294747189677,
          0.6406580839838683,
          0.846930687898278,
          0.7177158453981589,
          1.2747389417782387,
          0.7920920286957722,
          1.7312989416569569,
          2.7620460500593227,
          1.4963156627522143,
          1.1874785555343208,
          1.4286981602687014,
          0.7703694032789558,
          1.0718138094248277,
          0.47598781471194335,
          0.8286042472182202,
          3.563553119035503,
          1.2568067027054812,
          1.217756680988944,
          0.07039313863999049,
          0.7997550464543431,
          1.2968567101449013,
          1.4337994625342974,
          0.3175996580086883,
          1.3052323674270332,
          1.7260111903806032,
          2.7684245089265596,
          0.5974353593611026,
          1.3088567186266216,
          0.31964501967633036,
          1.2219463160922717,
          0.4637681986654535,
          3.555829883731072,
          2.0909487565634146,
          0.4714023749251649,
          0.5712463660941393,
          2.014969572307844,
          0.07388443735153846,
          0.6414566693206467,
          1.7680162045852783,
          0.3430557904463673,
          1.0403005698053724,
          0.3957365977205572,
          1.1904414233876863,
          1.1166846647471536,
          0.7412923259983653,
          1.0624234723092603,
          0.47246162902879846,
          1.7505363722120248,
          0.7966332004852634,
          1.447214120202356,
          1.08283075432156,
          0.31710294747189677,
          0.6406580839838683,
          0.846930687898278,
          0.7177158453981589,
          1.2747389417782387,
          0.7920920286957722,
          1.7312989416569569,
          2.7620460500593227,
          1.4963156627522143,
          1.1874785555343208,
          1.4286981602687014,
          0.7703694032789558,
          1.0718138094248277,
          0.47598781471194335,
          0.8286042472182202,
          3.563553119035503,
          1.2568067027054812,
          1.217756680988944,
          0.07039313863999049,
          0.7997550464543431,
          1.2968567101449013,
          1.4337994625342974,
          0.3175996580086883,
          1.3052323674270332,
          1.7260111903806032,
          2.7684245089265596,
          0.5974353593611026,
          1.3088567186266216,
          0.31964501967633036,
          1.2219463160922717,
          0.4637681986654535,
          3.555829883731072,
          2.0909487565634146,
          0.4714023749251649,
          0.5712463660941393,
          2.014969572307844,
          0.07388443735153846,
          0.6414566693206467,
          1.7680162045852783,
          0.3430557904463673,
          1.0403005698053724,
          0.3957365977205572,
          1.1904414233876863,
          1.1166846647471536,
          0.7412923259983653,
          1.0624234723092603,
          0.47246162902879846,
          1.7505363722120248,
          0.7966332004852634,
          1.447214120202356,
          1.08283075432156,
          0.31710294747189677,
          0.6406580839838683,
          0.846930687898278,
          0.7177158453981589,
          1.2747389417782387,
          0.7920920286957722,
          1.7312989416569569,
          2.7620460500593227,
          1.4963156627522143,
          1.1874785555343208,
          1.4286981602687014,
          0.7703694032789558,
          1.0718138094248277,
          0.47598781471194335,
          0.8286042472182202,
          3.563553119035503,
          1.2568067027054812,
          1.217756680988944,
          0.07039313863999049,
          0.7997550464543431,
          1.2968567101449013,
          1.4337994625342974,
          0.3175996580086883,
          1.3052323674270332,
          1.7260111903806032,
          2.7684245089265596,
          0.5974353593611026,
          1.3088567186266216,
          0.31964501967633036,
          1.2219463160922717,
          0.4637681986654535,
          3.555829883731072,
          2.0909487565634146,
          0.4714023749251649,
          0.5712463660941393,
          2.014969572307844,
          0.07388443735153846,
          0.6414566693206467,
          1.7680162045852783,
          0.3430557904463673,
          1.0403005698053724,
          0.3957365977205572,
          1.1904414233876863,
          1.1166846647471536,
          0.7412923259983653,
          1.0624234723092603,
          0.47246162902879846,
          1.7505363722120248,
          0.7966332004852634,
          1.447214120202356,
          1.08283075432156,
          0.31710294747189677,
          0.6406580839838683,
          0.846930687898278,
          0.7177158453981589,
          1.2747389417782387,
          0.7920920286957722,
          1.7312989416569569,
          2.7620460500593227,
          1.4963156627522143,
          1.1874785555343208,
          1.4286981602687014,
          0.7703694032789558,
          1.0718138094248277,
          0.47598781471194335,
          0.8286042472182202,
          3.563553119035503,
          1.2568067027054812,
          1.217756680988944,
          0.07039313863999049,
          0.7997550464543431,
          1.2968567101449013,
          1.4337994625342974,
          0.3175996580086883,
          1.3052323674270332,
          1.7260111903806032,
          2.7684245089265596,
          0.5974353593611026,
          1.3088567186266216,
          0.31964501967633036,
          1.2219463160922717,
          0.4637681986654535,
          3.555829883731072,
          2.0909487565634146,
          0.4714023749251649,
          0.5712463660941393,
          2.014969572307844,
          0.07388443735153846,
          0.6414566693206467,
          1.7680162045852783,
          0.3430557904463673,
          1.0403005698053724,
          0.3957365977205572,
          1.1904414233876863,
          1.1166846647471536,
          0.7412923259983653,
          1.0624234723092603,
          0.47246162902879846,
          1.7505363722120248,
          0.7966332004852634,
          1.447214120202356,
          1.08283075432156,
          0.31710294747189677,
          0.6406580839838683,
          0.846930687898278,
          0.7177158453981589,
          1.2747389417782387,
          0.7920920286957722,
          1.7312989416569569,
          2.7620460500593227,
          1.4963156627522143,
          1.1874785555343208,
          1.4286981602687014,
          0.7703694032789558,
          1.0718138094248277,
          0.47598781471194335,
          0.8286042472182202,
          3.563553119035503,
          1.2568067027054812,
          1.217756680988944,
          0.07039313863999049,
          0.7997550464543431,
          1.2968567101449013,
          1.4337994625342974,
          0.3175996580086883,
          1.3052323674270332,
          1.7260111903806032,
          2.7684245089265596,
          0.5974353593611026,
          1.3088567186266216,
          0.31964501967633036,
          1.2219463160922717,
          0.4637681986654535,
          3.555829883731072,
          2.0909487565634146,
          0.4714023749251649,
          0.5712463660941393,
          2.014969572307844,
          0.07388443735153846,
          0.6414566693206467,
          1.7680162045852783,
          0.3430557904463673,
          1.0403005698053724,
          0.3957365977205572,
          1.1904414233876863,
          1.1166846647471536,
          0.7412923259983653,
          1.0624234723092603,
          0.47246162902879846,
          1.7505363722120248,
          0.7966332004852634,
          1.447214120202356,
          1.08283075432156,
          0.31710294747189677,
          0.6406580839838683,
          0.846930687898278,
          0.7177158453981589,
          1.2747389417782387,
          0.7920920286957722,
          1.7312989416569569,
          2.7620460500593227,
          1.4963156627522143,
          1.1874785555343208,
          1.4286981602687014,
          0.7703694032789558,
          1.0718138094248277,
          0.47598781471194335,
          0.8286042472182202,
          3.563553119035503,
          1.2568067027054812,
          1.217756680988944,
          0.07039313863999049,
          0.7997550464543431,
          1.2968567101449013,
          1.4337994625342974,
          0.3175996580086883,
          1.3052323674270332,
          1.7260111903806032,
          2.7684245089265596,
          0.5974353593611026,
          1.3088567186266216,
          0.31964501967633036,
          1.2219463160922717,
          0.4637681986654535,
          3.555829883731072,
          2.0909487565634146,
          0.4714023749251649,
          0.5712463660941393,
          2.014969572307844,
          0.07388443735153846,
          0.6414566693206467,
          1.7680162045852783,
          0.3430557904463673,
          1.0403005698053724,
          0.3957365977205572,
          1.1904414233876863,
          1.1166846647471536,
          0.7412923259983653,
          1.0624234723092603,
          0.47246162902879846,
          1.7505363722120248,
          0.7966332004852634,
          1.447214120202356,
          1.08283075432156,
          0.31710294747189677,
          0.6406580839838683,
          0.846930687898278,
          0.7177158453981589,
          1.2747389417782387,
          0.7920920286957722,
          1.7312989416569569
         ],
         "yaxis": "y2"
        }
       ],
       "layout": {
        "autosize": true,
        "barmode": "overlay",
        "legend": {
         "x": 0.1,
         "y": 0.9
        },
        "template": {
         "data": {
          "bar": [
           {
            "error_x": {
             "color": "#2a3f5f"
            },
            "error_y": {
             "color": "#2a3f5f"
            },
            "marker": {
             "line": {
              "color": "#E5ECF6",
              "width": 0.5
             },
             "pattern": {
              "fillmode": "overlay",
              "size": 10,
              "solidity": 0.2
             }
            },
            "type": "bar"
           }
          ],
          "barpolar": [
           {
            "marker": {
             "line": {
              "color": "#E5ECF6",
              "width": 0.5
             },
             "pattern": {
              "fillmode": "overlay",
              "size": 10,
              "solidity": 0.2
             }
            },
            "type": "barpolar"
           }
          ],
          "carpet": [
           {
            "aaxis": {
             "endlinecolor": "#2a3f5f",
             "gridcolor": "white",
             "linecolor": "white",
             "minorgridcolor": "white",
             "startlinecolor": "#2a3f5f"
            },
            "baxis": {
             "endlinecolor": "#2a3f5f",
             "gridcolor": "white",
             "linecolor": "white",
             "minorgridcolor": "white",
             "startlinecolor": "#2a3f5f"
            },
            "type": "carpet"
           }
          ],
          "choropleth": [
           {
            "colorbar": {
             "outlinewidth": 0,
             "ticks": ""
            },
            "type": "choropleth"
           }
          ],
          "contour": [
           {
            "colorbar": {
             "outlinewidth": 0,
             "ticks": ""
            },
            "colorscale": [
             [
              0,
              "#0d0887"
             ],
             [
              0.1111111111111111,
              "#46039f"
             ],
             [
              0.2222222222222222,
              "#7201a8"
             ],
             [
              0.3333333333333333,
              "#9c179e"
             ],
             [
              0.4444444444444444,
              "#bd3786"
             ],
             [
              0.5555555555555556,
              "#d8576b"
             ],
             [
              0.6666666666666666,
              "#ed7953"
             ],
             [
              0.7777777777777778,
              "#fb9f3a"
             ],
             [
              0.8888888888888888,
              "#fdca26"
             ],
             [
              1,
              "#f0f921"
             ]
            ],
            "type": "contour"
           }
          ],
          "contourcarpet": [
           {
            "colorbar": {
             "outlinewidth": 0,
             "ticks": ""
            },
            "type": "contourcarpet"
           }
          ],
          "heatmap": [
           {
            "colorbar": {
             "outlinewidth": 0,
             "ticks": ""
            },
            "colorscale": [
             [
              0,
              "#0d0887"
             ],
             [
              0.1111111111111111,
              "#46039f"
             ],
             [
              0.2222222222222222,
              "#7201a8"
             ],
             [
              0.3333333333333333,
              "#9c179e"
             ],
             [
              0.4444444444444444,
              "#bd3786"
             ],
             [
              0.5555555555555556,
              "#d8576b"
             ],
             [
              0.6666666666666666,
              "#ed7953"
             ],
             [
              0.7777777777777778,
              "#fb9f3a"
             ],
             [
              0.8888888888888888,
              "#fdca26"
             ],
             [
              1,
              "#f0f921"
             ]
            ],
            "type": "heatmap"
           }
          ],
          "heatmapgl": [
           {
            "colorbar": {
             "outlinewidth": 0,
             "ticks": ""
            },
            "colorscale": [
             [
              0,
              "#0d0887"
             ],
             [
              0.1111111111111111,
              "#46039f"
             ],
             [
              0.2222222222222222,
              "#7201a8"
             ],
             [
              0.3333333333333333,
              "#9c179e"
             ],
             [
              0.4444444444444444,
              "#bd3786"
             ],
             [
              0.5555555555555556,
              "#d8576b"
             ],
             [
              0.6666666666666666,
              "#ed7953"
             ],
             [
              0.7777777777777778,
              "#fb9f3a"
             ],
             [
              0.8888888888888888,
              "#fdca26"
             ],
             [
              1,
              "#f0f921"
             ]
            ],
            "type": "heatmapgl"
           }
          ],
          "histogram": [
           {
            "marker": {
             "pattern": {
              "fillmode": "overlay",
              "size": 10,
              "solidity": 0.2
             }
            },
            "type": "histogram"
           }
          ],
          "histogram2d": [
           {
            "colorbar": {
             "outlinewidth": 0,
             "ticks": ""
            },
            "colorscale": [
             [
              0,
              "#0d0887"
             ],
             [
              0.1111111111111111,
              "#46039f"
             ],
             [
              0.2222222222222222,
              "#7201a8"
             ],
             [
              0.3333333333333333,
              "#9c179e"
             ],
             [
              0.4444444444444444,
              "#bd3786"
             ],
             [
              0.5555555555555556,
              "#d8576b"
             ],
             [
              0.6666666666666666,
              "#ed7953"
             ],
             [
              0.7777777777777778,
              "#fb9f3a"
             ],
             [
              0.8888888888888888,
              "#fdca26"
             ],
             [
              1,
              "#f0f921"
             ]
            ],
            "type": "histogram2d"
           }
          ],
          "histogram2dcontour": [
           {
            "colorbar": {
             "outlinewidth": 0,
             "ticks": ""
            },
            "colorscale": [
             [
              0,
              "#0d0887"
             ],
             [
              0.1111111111111111,
              "#46039f"
             ],
             [
              0.2222222222222222,
              "#7201a8"
             ],
             [
              0.3333333333333333,
              "#9c179e"
             ],
             [
              0.4444444444444444,
              "#bd3786"
             ],
             [
              0.5555555555555556,
              "#d8576b"
             ],
             [
              0.6666666666666666,
              "#ed7953"
             ],
             [
              0.7777777777777778,
              "#fb9f3a"
             ],
             [
              0.8888888888888888,
              "#fdca26"
             ],
             [
              1,
              "#f0f921"
             ]
            ],
            "type": "histogram2dcontour"
           }
          ],
          "mesh3d": [
           {
            "colorbar": {
             "outlinewidth": 0,
             "ticks": ""
            },
            "type": "mesh3d"
           }
          ],
          "parcoords": [
           {
            "line": {
             "colorbar": {
              "outlinewidth": 0,
              "ticks": ""
             }
            },
            "type": "parcoords"
           }
          ],
          "pie": [
           {
            "automargin": true,
            "type": "pie"
           }
          ],
          "scatter": [
           {
            "fillpattern": {
             "fillmode": "overlay",
             "size": 10,
             "solidity": 0.2
            },
            "type": "scatter"
           }
          ],
          "scatter3d": [
           {
            "line": {
             "colorbar": {
              "outlinewidth": 0,
              "ticks": ""
             }
            },
            "marker": {
             "colorbar": {
              "outlinewidth": 0,
              "ticks": ""
             }
            },
            "type": "scatter3d"
           }
          ],
          "scattercarpet": [
           {
            "marker": {
             "colorbar": {
              "outlinewidth": 0,
              "ticks": ""
             }
            },
            "type": "scattercarpet"
           }
          ],
          "scattergeo": [
           {
            "marker": {
             "colorbar": {
              "outlinewidth": 0,
              "ticks": ""
             }
            },
            "type": "scattergeo"
           }
          ],
          "scattergl": [
           {
            "marker": {
             "colorbar": {
              "outlinewidth": 0,
              "ticks": ""
             }
            },
            "type": "scattergl"
           }
          ],
          "scattermapbox": [
           {
            "marker": {
             "colorbar": {
              "outlinewidth": 0,
              "ticks": ""
             }
            },
            "type": "scattermapbox"
           }
          ],
          "scatterpolar": [
           {
            "marker": {
             "colorbar": {
              "outlinewidth": 0,
              "ticks": ""
             }
            },
            "type": "scatterpolar"
           }
          ],
          "scatterpolargl": [
           {
            "marker": {
             "colorbar": {
              "outlinewidth": 0,
              "ticks": ""
             }
            },
            "type": "scatterpolargl"
           }
          ],
          "scatterternary": [
           {
            "marker": {
             "colorbar": {
              "outlinewidth": 0,
              "ticks": ""
             }
            },
            "type": "scatterternary"
           }
          ],
          "surface": [
           {
            "colorbar": {
             "outlinewidth": 0,
             "ticks": ""
            },
            "colorscale": [
             [
              0,
              "#0d0887"
             ],
             [
              0.1111111111111111,
              "#46039f"
             ],
             [
              0.2222222222222222,
              "#7201a8"
             ],
             [
              0.3333333333333333,
              "#9c179e"
             ],
             [
              0.4444444444444444,
              "#bd3786"
             ],
             [
              0.5555555555555556,
              "#d8576b"
             ],
             [
              0.6666666666666666,
              "#ed7953"
             ],
             [
              0.7777777777777778,
              "#fb9f3a"
             ],
             [
              0.8888888888888888,
              "#fdca26"
             ],
             [
              1,
              "#f0f921"
             ]
            ],
            "type": "surface"
           }
          ],
          "table": [
           {
            "cells": {
             "fill": {
              "color": "#EBF0F8"
             },
             "line": {
              "color": "white"
             }
            },
            "header": {
             "fill": {
              "color": "#C8D4E3"
             },
             "line": {
              "color": "white"
             }
            },
            "type": "table"
           }
          ]
         },
         "layout": {
          "annotationdefaults": {
           "arrowcolor": "#2a3f5f",
           "arrowhead": 0,
           "arrowwidth": 1
          },
          "autotypenumbers": "strict",
          "coloraxis": {
           "colorbar": {
            "outlinewidth": 0,
            "ticks": ""
           }
          },
          "colorscale": {
           "diverging": [
            [
             0,
             "#8e0152"
            ],
            [
             0.1,
             "#c51b7d"
            ],
            [
             0.2,
             "#de77ae"
            ],
            [
             0.3,
             "#f1b6da"
            ],
            [
             0.4,
             "#fde0ef"
            ],
            [
             0.5,
             "#f7f7f7"
            ],
            [
             0.6,
             "#e6f5d0"
            ],
            [
             0.7,
             "#b8e186"
            ],
            [
             0.8,
             "#7fbc41"
            ],
            [
             0.9,
             "#4d9221"
            ],
            [
             1,
             "#276419"
            ]
           ],
           "sequential": [
            [
             0,
             "#0d0887"
            ],
            [
             0.1111111111111111,
             "#46039f"
            ],
            [
             0.2222222222222222,
             "#7201a8"
            ],
            [
             0.3333333333333333,
             "#9c179e"
            ],
            [
             0.4444444444444444,
             "#bd3786"
            ],
            [
             0.5555555555555556,
             "#d8576b"
            ],
            [
             0.6666666666666666,
             "#ed7953"
            ],
            [
             0.7777777777777778,
             "#fb9f3a"
            ],
            [
             0.8888888888888888,
             "#fdca26"
            ],
            [
             1,
             "#f0f921"
            ]
           ],
           "sequentialminus": [
            [
             0,
             "#0d0887"
            ],
            [
             0.1111111111111111,
             "#46039f"
            ],
            [
             0.2222222222222222,
             "#7201a8"
            ],
            [
             0.3333333333333333,
             "#9c179e"
            ],
            [
             0.4444444444444444,
             "#bd3786"
            ],
            [
             0.5555555555555556,
             "#d8576b"
            ],
            [
             0.6666666666666666,
             "#ed7953"
            ],
            [
             0.7777777777777778,
             "#fb9f3a"
            ],
            [
             0.8888888888888888,
             "#fdca26"
            ],
            [
             1,
             "#f0f921"
            ]
           ]
          },
          "colorway": [
           "#636efa",
           "#EF553B",
           "#00cc96",
           "#ab63fa",
           "#FFA15A",
           "#19d3f3",
           "#FF6692",
           "#B6E880",
           "#FF97FF",
           "#FECB52"
          ],
          "font": {
           "color": "#2a3f5f"
          },
          "geo": {
           "bgcolor": "white",
           "lakecolor": "white",
           "landcolor": "#E5ECF6",
           "showlakes": true,
           "showland": true,
           "subunitcolor": "white"
          },
          "hoverlabel": {
           "align": "left"
          },
          "hovermode": "closest",
          "mapbox": {
           "style": "light"
          },
          "paper_bgcolor": "white",
          "plot_bgcolor": "#E5ECF6",
          "polar": {
           "angularaxis": {
            "gridcolor": "white",
            "linecolor": "white",
            "ticks": ""
           },
           "bgcolor": "#E5ECF6",
           "radialaxis": {
            "gridcolor": "white",
            "linecolor": "white",
            "ticks": ""
           }
          },
          "scene": {
           "xaxis": {
            "backgroundcolor": "#E5ECF6",
            "gridcolor": "white",
            "gridwidth": 2,
            "linecolor": "white",
            "showbackground": true,
            "ticks": "",
            "zerolinecolor": "white"
           },
           "yaxis": {
            "backgroundcolor": "#E5ECF6",
            "gridcolor": "white",
            "gridwidth": 2,
            "linecolor": "white",
            "showbackground": true,
            "ticks": "",
            "zerolinecolor": "white"
           },
           "zaxis": {
            "backgroundcolor": "#E5ECF6",
            "gridcolor": "white",
            "gridwidth": 2,
            "linecolor": "white",
            "showbackground": true,
            "ticks": "",
            "zerolinecolor": "white"
           }
          },
          "shapedefaults": {
           "line": {
            "color": "#2a3f5f"
           }
          },
          "ternary": {
           "aaxis": {
            "gridcolor": "white",
            "linecolor": "white",
            "ticks": ""
           },
           "baxis": {
            "gridcolor": "white",
            "linecolor": "white",
            "ticks": ""
           },
           "bgcolor": "#E5ECF6",
           "caxis": {
            "gridcolor": "white",
            "linecolor": "white",
            "ticks": ""
           }
          },
          "title": {
           "x": 0.05
          },
          "xaxis": {
           "automargin": true,
           "gridcolor": "white",
           "linecolor": "white",
           "ticks": "",
           "title": {
            "standoff": 15
           },
           "zerolinecolor": "white",
           "zerolinewidth": 2
          },
          "yaxis": {
           "automargin": true,
           "gridcolor": "white",
           "linecolor": "white",
           "ticks": "",
           "title": {
            "standoff": 15
           },
           "zerolinecolor": "white",
           "zerolinewidth": 2
          }
         }
        },
        "title": {
         "text": "Comparison of Unemployment Rate and Gun Violence per Capita per US State in 2018"
        },
        "xaxis": {
         "autorange": true,
         "range": [
          -2.9630123588512496,
          52.96301235885125
         ],
         "title": {
          "text": "State"
         },
         "type": "category"
        },
        "yaxis": {
         "autorange": true,
         "range": [
          0,
          6.736842105263158
         ],
         "tickfont": {
          "color": "#1f77b4"
         },
         "title": {
          "font": {
           "color": "#1f77b4"
          },
          "text": "Unemployment Rate (%)"
         },
         "type": "linear"
        },
        "yaxis2": {
         "autorange": true,
         "overlaying": "y",
         "range": [
          -0.28119114510111637,
          3.91513740277661
         ],
         "side": "right",
         "tickfont": {
          "color": "#ff7f0e"
         },
         "title": {
          "font": {
           "color": "#ff7f0e"
          },
          "text": "Gun Violence per 100,000 People"
         },
         "type": "linear"
        }
       }
      },
      "image/png": "[encoded data removed]",
      "text/html": [
       "<div>                            <div id=\"ffc3ef9e-43c2-4794-901f-576513dceb10\" class=\"plotly-graph-div\" style=\"height:525px; width:100%;\"></div>            <script type=\"text/javascript\">                require([\"plotly\"], function(Plotly) {                    window.PLOTLYENV=window.PLOTLYENV || {};                                    if (document.getElementById(\"ffc3ef9e-43c2-4794-901f-576513dceb10\")) {                    Plotly.newPlot(                        \"ffc3ef9e-43c2-4794-901f-576513dceb10\",                        [{\"marker\":{\"color\":\"blue\"},\"name\":\"Unemployment Rate (%)\",\"opacity\":0.75,\"x\":[\"Alabama\",\"Alaska\",\"Arizona\",\"Arkansas\",\"California\",\"Colorado\",\"Connecticut\",\"Delaware\",\"District of Columbia\",\"Florida\",\"Georgia\",\"Hawaii\",\"Idaho\",\"Illinois\",\"Indiana\",\"Iowa\",\"Kansas\",\"Kentucky\",\"Louisiana\",\"Maine\",\"Maryland\",\"Massachusetts\",\"Michigan\",\"Minnesota\",\"Mississippi\",\"Missouri\",\"Montana\",\"Nebraska\",\"Nevada\",\"New Hampshire\",\"New Jersey\",\"New Mexico\",\"New York\",\"North Carolina\",\"North Dakota\",\"Ohio\",\"Oklahoma\",\"Oregon\",\"Pennsylvania\",\"Rhode Island\",\"South Carolina\",\"South Dakota\",\"Tennessee\",\"Texas\",\"Utah\",\"Vermont\",\"Virginia\",\"Washington\",\"West Virginia\",\"Wisconsin\",\"Wyoming\",\"Alabama\",\"Alaska\",\"Arizona\",\"Arkansas\",\"California\",\"Colorado\",\"Connecticut\",\"Delaware\",\"District of Columbia\",\"Florida\",\"Georgia\",\"Hawaii\",\"Idaho\",\"Illinois\",\"Indiana\",\"Iowa\",\"Kansas\",\"Kentucky\",\"Louisiana\",\"Maine\",\"Maryland\",\"Massachusetts\",\"Michigan\",\"Minnesota\",\"Mississippi\",\"Missouri\",\"Montana\",\"Nebraska\",\"Nevada\",\"New Hampshire\",\"New Jersey\",\"New Mexico\",\"New York\",\"North Carolina\",\"North Dakota\",\"Ohio\",\"Oklahoma\",\"Oregon\",\"Pennsylvania\",\"Rhode Island\",\"South Carolina\",\"South Dakota\",\"Tennessee\",\"Texas\",\"Utah\",\"Vermont\",\"Virginia\",\"Washington\",\"West Virginia\",\"Wisconsin\",\"Wyoming\",\"Alabama\",\"Alaska\",\"Arizona\",\"Arkansas\",\"California\",\"Colorado\",\"Connecticut\",\"Delaware\",\"District of Columbia\",\"Florida\",\"Georgia\",\"Hawaii\",\"Idaho\",\"Illinois\",\"Indiana\",\"Iowa\",\"Kansas\",\"Kentucky\",\"Louisiana\",\"Maine\",\"Maryland\",\"Massachusetts\",\"Michigan\",\"Minnesota\",\"Mississippi\",\"Missouri\",\"Montana\",\"Nebraska\",\"Nevada\",\"New Hampshire\",\"New Jersey\",\"New Mexico\",\"New York\",\"North Carolina\",\"North Dakota\",\"Ohio\",\"Oklahoma\",\"Oregon\",\"Pennsylvania\",\"Rhode Island\",\"South Carolina\",\"South Dakota\",\"Tennessee\",\"Texas\",\"Utah\",\"Vermont\",\"Virginia\",\"Washington\",\"West Virginia\",\"Wisconsin\",\"Wyoming\",\"Alabama\",\"Alaska\",\"Arizona\",\"Arkansas\",\"California\",\"Colorado\",\"Connecticut\",\"Delaware\",\"District of Columbia\",\"Florida\",\"Georgia\",\"Hawaii\",\"Idaho\",\"Illinois\",\"Indiana\",\"Iowa\",\"Kansas\",\"Kentucky\",\"Louisiana\",\"Maine\",\"Maryland\",\"Massachusetts\",\"Michigan\",\"Minnesota\",\"Mississippi\",\"Missouri\",\"Montana\",\"Nebraska\",\"Nevada\",\"New Hampshire\",\"New Jersey\",\"New Mexico\",\"New York\",\"North Carolina\",\"North Dakota\",\"Ohio\",\"Oklahoma\",\"Oregon\",\"Pennsylvania\",\"Rhode Island\",\"South Carolina\",\"South Dakota\",\"Tennessee\",\"Texas\",\"Utah\",\"Vermont\",\"Virginia\",\"Washington\",\"West Virginia\",\"Wisconsin\",\"Wyoming\",\"Alabama\",\"Alaska\",\"Arizona\",\"Arkansas\",\"California\",\"Colorado\",\"Connecticut\",\"Delaware\",\"District of Columbia\",\"Florida\",\"Georgia\",\"Hawaii\",\"Idaho\",\"Illinois\",\"Indiana\",\"Iowa\",\"Kansas\",\"Kentucky\",\"Louisiana\",\"Maine\",\"Maryland\",\"Massachusetts\",\"Michigan\",\"Minnesota\",\"Mississippi\",\"Missouri\",\"Montana\",\"Nebraska\",\"Nevada\",\"New Hampshire\",\"New Jersey\",\"New Mexico\",\"New York\",\"North Carolina\",\"North Dakota\",\"Ohio\",\"Oklahoma\",\"Oregon\",\"Pennsylvania\",\"Rhode Island\",\"South Carolina\",\"South Dakota\",\"Tennessee\",\"Texas\",\"Utah\",\"Vermont\",\"Virginia\",\"Washington\",\"West Virginia\",\"Wisconsin\",\"Wyoming\",\"Alabama\",\"Alaska\",\"Arizona\",\"Arkansas\",\"California\",\"Colorado\",\"Connecticut\",\"Delaware\",\"District of Columbia\",\"Florida\",\"Georgia\",\"Hawaii\",\"Idaho\",\"Illinois\",\"Indiana\",\"Iowa\",\"Kansas\",\"Kentucky\",\"Louisiana\",\"Maine\",\"Maryland\",\"Massachusetts\",\"Michigan\",\"Minnesota\",\"Mississippi\",\"Missouri\",\"Montana\",\"Nebraska\",\"Nevada\",\"New Hampshire\",\"New Jersey\",\"New Mexico\",\"New York\",\"North Carolina\",\"North Dakota\",\"Ohio\",\"Oklahoma\",\"Oregon\",\"Pennsylvania\",\"Rhode Island\",\"South Carolina\",\"South Dakota\",\"Tennessee\",\"Texas\",\"Utah\",\"Vermont\",\"Virginia\",\"Washington\",\"West Virginia\",\"Wisconsin\",\"Wyoming\",\"Alabama\",\"Alaska\",\"Arizona\",\"Arkansas\",\"California\",\"Colorado\",\"Connecticut\",\"Delaware\",\"District of Columbia\",\"Florida\",\"Georgia\",\"Hawaii\",\"Idaho\",\"Illinois\",\"Indiana\",\"Iowa\",\"Kansas\",\"Kentucky\",\"Louisiana\",\"Maine\",\"Maryland\",\"Massachusetts\",\"Michigan\",\"Minnesota\",\"Mississippi\",\"Missouri\",\"Montana\",\"Nebraska\",\"Nevada\",\"New Hampshire\",\"New Jersey\",\"New Mexico\",\"New York\",\"North Carolina\",\"North Dakota\",\"Ohio\",\"Oklahoma\",\"Oregon\",\"Pennsylvania\",\"Rhode Island\",\"South Carolina\",\"South Dakota\",\"Tennessee\",\"Texas\",\"Utah\",\"Vermont\",\"Virginia\",\"Washington\",\"West Virginia\",\"Wisconsin\",\"Wyoming\",\"Alabama\",\"Alaska\",\"Arizona\",\"Arkansas\",\"California\",\"Colorado\",\"Connecticut\",\"Delaware\",\"District of Columbia\",\"Florida\",\"Georgia\",\"Hawaii\",\"Idaho\",\"Illinois\",\"Indiana\",\"Iowa\",\"Kansas\",\"Kentucky\",\"Louisiana\",\"Maine\",\"Maryland\",\"Massachusetts\",\"Michigan\",\"Minnesota\",\"Mississippi\",\"Missouri\",\"Montana\",\"Nebraska\",\"Nevada\",\"New Hampshire\",\"New Jersey\",\"New Mexico\",\"New York\",\"North Carolina\",\"North Dakota\",\"Ohio\",\"Oklahoma\",\"Oregon\",\"Pennsylvania\",\"Rhode Island\",\"South Carolina\",\"South Dakota\",\"Tennessee\",\"Texas\",\"Utah\",\"Vermont\",\"Virginia\",\"Washington\",\"West Virginia\",\"Wisconsin\",\"Wyoming\",\"Alabama\",\"Alaska\",\"Arizona\",\"Arkansas\",\"California\",\"Colorado\",\"Connecticut\",\"Delaware\",\"District of Columbia\",\"Florida\",\"Georgia\",\"Hawaii\",\"Idaho\",\"Illinois\",\"Indiana\",\"Iowa\",\"Kansas\",\"Kentucky\",\"Louisiana\",\"Maine\",\"Maryland\",\"Massachusetts\",\"Michigan\",\"Minnesota\",\"Mississippi\",\"Missouri\",\"Montana\",\"Nebraska\",\"Nevada\",\"New Hampshire\",\"New Jersey\",\"New Mexico\",\"New York\",\"North Carolina\",\"North Dakota\",\"Ohio\",\"Oklahoma\",\"Oregon\",\"Pennsylvania\",\"Rhode Island\",\"South Carolina\",\"South Dakota\",\"Tennessee\",\"Texas\",\"Utah\",\"Vermont\",\"Virginia\",\"Washington\",\"West Virginia\",\"Wisconsin\",\"Wyoming\",\"Alabama\",\"Alaska\",\"Arizona\",\"Arkansas\",\"California\",\"Colorado\",\"Connecticut\",\"Delaware\",\"District of Columbia\",\"Florida\",\"Georgia\",\"Hawaii\",\"Idaho\",\"Illinois\",\"Indiana\",\"Iowa\",\"Kansas\",\"Kentucky\",\"Louisiana\",\"Maine\",\"Maryland\",\"Massachusetts\",\"Michigan\",\"Minnesota\",\"Mississippi\",\"Missouri\",\"Montana\",\"Nebraska\",\"Nevada\",\"New Hampshire\",\"New Jersey\",\"New Mexico\",\"New York\",\"North Carolina\",\"North Dakota\",\"Ohio\",\"Oklahoma\",\"Oregon\",\"Pennsylvania\",\"Rhode Island\",\"South Carolina\",\"South Dakota\",\"Tennessee\",\"Texas\",\"Utah\",\"Vermont\",\"Virginia\",\"Washington\",\"West Virginia\",\"Wisconsin\",\"Wyoming\",\"Alabama\",\"Alaska\",\"Arizona\",\"Arkansas\",\"California\",\"Colorado\",\"Connecticut\",\"Delaware\",\"District of Columbia\",\"Florida\",\"Georgia\",\"Hawaii\",\"Idaho\",\"Illinois\",\"Indiana\",\"Iowa\",\"Kansas\",\"Kentucky\",\"Louisiana\",\"Maine\",\"Maryland\",\"Massachusetts\",\"Michigan\",\"Minnesota\",\"Mississippi\",\"Missouri\",\"Montana\",\"Nebraska\",\"Nevada\",\"New Hampshire\",\"New Jersey\",\"New Mexico\",\"New York\",\"North Carolina\",\"North Dakota\",\"Ohio\",\"Oklahoma\",\"Oregon\",\"Pennsylvania\",\"Rhode Island\",\"South Carolina\",\"South Dakota\",\"Tennessee\",\"Texas\",\"Utah\",\"Vermont\",\"Virginia\",\"Washington\",\"West Virginia\",\"Wisconsin\",\"Wyoming\",\"Alabama\",\"Alaska\",\"Arizona\",\"Arkansas\",\"California\",\"Colorado\",\"Connecticut\",\"Delaware\",\"District of Columbia\",\"Florida\",\"Georgia\",\"Hawaii\",\"Idaho\",\"Illinois\",\"Indiana\",\"Iowa\",\"Kansas\",\"Kentucky\",\"Louisiana\",\"Maine\",\"Maryland\",\"Massachusetts\",\"Michigan\",\"Minnesota\",\"Mississippi\",\"Missouri\",\"Montana\",\"Nebraska\",\"Nevada\",\"New Hampshire\",\"New Jersey\",\"New Mexico\",\"New York\",\"North Carolina\",\"North Dakota\",\"Ohio\",\"Oklahoma\",\"Oregon\",\"Pennsylvania\",\"Rhode Island\",\"South Carolina\",\"South Dakota\",\"Tennessee\",\"Texas\",\"Utah\",\"Vermont\",\"Virginia\",\"Washington\",\"West Virginia\",\"Wisconsin\",\"Wyoming\"],\"y\":[4.0,6.4,4.9,3.8,4.4,2.9,4.2,4.1,5.9,3.9,4.3,2.1,3.0,4.6,3.3,2.8,3.5,4.2,4.7,3.1,4.1,3.7,4.5,3.1,4.9,3.6,4.0,2.9,4.7,2.7,4.4,5.2,4.5,4.2,2.6,4.6,3.7,4.1,4.8,4.5,3.9,3.0,3.5,4.1,3.0,2.8,3.4,4.6,5.4,2.9,4.2,4.0,6.3,4.8,3.8,4.3,2.9,4.1,4.0,5.8,3.9,4.2,2.1,2.9,4.5,3.3,2.7,3.4,4.2,4.7,3.0,4.0,3.7,4.4,3.1,4.9,3.5,3.9,2.9,4.6,2.7,4.4,5.1,4.4,4.1,2.6,4.6,3.6,4.0,4.7,4.4,3.7,2.9,3.5,4.0,3.0,2.7,3.3,4.6,5.4,2.9,4.2,4.0,6.2,4.8,3.7,4.3,2.9,4.1,3.9,5.8,3.8,4.1,2.2,2.9,4.4,3.3,2.6,3.4,4.2,4.8,3.0,4.0,3.6,4.3,3.0,4.9,3.4,3.8,2.9,4.6,2.7,4.3,4.9,4.3,4.0,2.6,4.6,3.5,4.0,4.6,4.2,3.5,2.9,3.5,4.0,3.0,2.7,3.2,4.5,5.3,2.9,4.1,4.0,6.1,4.7,3.7,4.2,3.0,4.0,3.8,5.8,3.8,4.1,2.2,2.8,4.3,3.4,2.6,3.4,4.2,4.9,3.0,3.9,3.6,4.1,3.0,4.9,3.3,3.8,2.9,4.5,2.7,4.2,4.8,4.2,4.0,2.5,4.5,3.4,3.9,4.5,4.1,3.3,2.8,3.5,4.0,2.9,2.6,3.1,4.4,5.3,3.0,4.0,4.0,6.0,4.7,3.6,4.2,3.0,3.9,3.8,5.7,3.7,4.0,2.3,2.8,4.3,3.4,2.5,3.3,4.2,4.9,3.1,3.8,3.5,4.0,2.9,4.9,3.2,3.7,2.8,4.4,2.7,4.1,4.7,4.1,3.9,2.4,4.5,3.3,3.9,4.4,4.0,3.2,2.8,3.5,3.9,2.9,2.5,2.9,4.3,5.2,3.0,4.0,4.0,5.9,4.7,3.6,4.2,3.1,3.9,3.7,5.6,3.6,3.9,2.4,2.8,4.2,3.4,2.5,3.3,4.2,4.9,3.2,3.8,3.5,4.0,2.9,4.8,3.1,3.7,2.9,4.3,2.6,4.0,4.7,4.0,3.9,2.3,4.5,3.2,3.8,4.3,3.9,3.2,2.8,3.5,3.9,2.9,2.4,2.8,4.3,5.1,3.0,4.0,4.0,5.9,4.7,3.5,4.2,3.1,3.8,3.6,5.5,3.6,3.9,2.4,2.8,4.3,3.4,2.5,3.3,4.2,4.9,3.3,3.7,3.4,4.0,2.9,4.8,3.1,3.7,2.9,4.2,2.6,4.0,4.7,3.9,3.9,2.3,4.4,3.1,3.9,4.3,3.9,3.3,2.7,3.5,3.9,2.9,2.4,2.8,4.3,5.1,3.0,4.0,3.9,5.9,4.7,3.5,4.2,3.1,3.8,3.6,5.5,3.5,3.9,2.5,2.8,4.3,3.5,2.5,3.3,4.2,4.9,3.3,3.7,3.4,4.0,2.9,4.9,3.0,3.7,2.9,4.2,2.6,3.9,4.8,3.9,3.9,2.3,4.4,3.1,4.0,4.3,3.9,3.3,2.7,3.5,3.8,2.9,2.3,2.8,4.3,5.0,3.0,4.1,3.9,5.9,4.8,3.6,4.2,3.2,3.7,3.5,5.5,3.5,3.9,2.6,2.8,4.4,3.5,2.5,3.3,4.2,4.8,3.3,3.7,3.4,4.1,3.0,4.9,3.1,3.7,2.9,4.2,2.5,3.8,4.9,3.9,4.0,2.3,4.4,3.1,4.1,4.2,3.9,3.3,2.7,3.5,3.8,2.9,2.3,2.8,4.3,5.0,3.0,4.1,3.9,5.9,4.9,3.7,4.3,3.2,3.7,3.5,5.6,3.5,3.9,2.6,2.9,4.4,3.5,2.5,3.3,4.2,4.8,3.3,3.7,3.3,4.1,3.1,5.1,3.1,3.7,3.0,4.3,2.5,3.7,5.0,4.0,4.0,2.3,4.5,3.1,4.2,4.3,3.9,3.3,2.7,3.5,3.8,2.9,2.4,2.9,4.4,5.0,3.0,4.1,3.8,6.0,5.0,3.7,4.3,3.1,3.7,3.5,5.7,3.5,3.9,2.7,3.0,4.5,3.6,2.6,3.4,4.2,4.8,3.3,3.7,3.3,4.2,3.2,5.2,3.2,3.7,3.0,4.3,2.6,3.7,5.1,4.0,4.0,2.3,4.5,3.2,4.3,4.3,3.9,3.3,2.7,3.5,3.8,2.9,2.4,3.0,4.5,5.1,3.0,4.0,3.8,6.0,5.0,3.7,4.3,3.1,3.7,3.5,5.8,3.5,3.9,2.8,3.0,4.6,3.6,2.6,3.4,4.2,4.8,3.2,3.7,3.3,4.2,3.2,5.3,3.3,3.6,3.1,4.3,2.6,3.6,5.2,4.0,4.0,2.4,4.5,3.2,4.3,4.3,3.8,3.2,2.8,3.5,3.8,2.8,2.3,3.1,4.6,5.1,3.0,3.9],\"yaxis\":\"y\",\"type\":\"bar\"},{\"marker\":{\"color\":\"orange\"},\"mode\":\"lines+markers\",\"name\":\"Gun Violence per 100,000 People\",\"x\":[\"Alabama\",\"Alaska\",\"Arizona\",\"Arkansas\",\"California\",\"Colorado\",\"Connecticut\",\"Delaware\",\"District of Columbia\",\"Florida\",\"Georgia\",\"Hawaii\",\"Idaho\",\"Illinois\",\"Indiana\",\"Iowa\",\"Kansas\",\"Kentucky\",\"Louisiana\",\"Maine\",\"Maryland\",\"Massachusetts\",\"Michigan\",\"Minnesota\",\"Mississippi\",\"Missouri\",\"Montana\",\"Nebraska\",\"Nevada\",\"New Hampshire\",\"New Jersey\",\"New Mexico\",\"New York\",\"North Carolina\",\"North Dakota\",\"Ohio\",\"Oklahoma\",\"Oregon\",\"Pennsylvania\",\"Rhode Island\",\"South Carolina\",\"South Dakota\",\"Tennessee\",\"Texas\",\"Utah\",\"Vermont\",\"Virginia\",\"Washington\",\"West Virginia\",\"Wisconsin\",\"Wyoming\",\"Alabama\",\"Alaska\",\"Arizona\",\"Arkansas\",\"California\",\"Colorado\",\"Connecticut\",\"Delaware\",\"District of Columbia\",\"Florida\",\"Georgia\",\"Hawaii\",\"Idaho\",\"Illinois\",\"Indiana\",\"Iowa\",\"Kansas\",\"Kentucky\",\"Louisiana\",\"Maine\",\"Maryland\",\"Massachusetts\",\"Michigan\",\"Minnesota\",\"Mississippi\",\"Missouri\",\"Montana\",\"Nebraska\",\"Nevada\",\"New Hampshire\",\"New Jersey\",\"New Mexico\",\"New York\",\"North Carolina\",\"North Dakota\",\"Ohio\",\"Oklahoma\",\"Oregon\",\"Pennsylvania\",\"Rhode Island\",\"South Carolina\",\"South Dakota\",\"Tennessee\",\"Texas\",\"Utah\",\"Vermont\",\"Virginia\",\"Washington\",\"West Virginia\",\"Wisconsin\",\"Wyoming\",\"Alabama\",\"Alaska\",\"Arizona\",\"Arkansas\",\"California\",\"Colorado\",\"Connecticut\",\"Delaware\",\"District of Columbia\",\"Florida\",\"Georgia\",\"Hawaii\",\"Idaho\",\"Illinois\",\"Indiana\",\"Iowa\",\"Kansas\",\"Kentucky\",\"Louisiana\",\"Maine\",\"Maryland\",\"Massachusetts\",\"Michigan\",\"Minnesota\",\"Mississippi\",\"Missouri\",\"Montana\",\"Nebraska\",\"Nevada\",\"New Hampshire\",\"New Jersey\",\"New Mexico\",\"New York\",\"North Carolina\",\"North Dakota\",\"Ohio\",\"Oklahoma\",\"Oregon\",\"Pennsylvania\",\"Rhode Island\",\"South Carolina\",\"South Dakota\",\"Tennessee\",\"Texas\",\"Utah\",\"Vermont\",\"Virginia\",\"Washington\",\"West Virginia\",\"Wisconsin\",\"Wyoming\",\"Alabama\",\"Alaska\",\"Arizona\",\"Arkansas\",\"California\",\"Colorado\",\"Connecticut\",\"Delaware\",\"District of Columbia\",\"Florida\",\"Georgia\",\"Hawaii\",\"Idaho\",\"Illinois\",\"Indiana\",\"Iowa\",\"Kansas\",\"Kentucky\",\"Louisiana\",\"Maine\",\"Maryland\",\"Massachusetts\",\"Michigan\",\"Minnesota\",\"Mississippi\",\"Missouri\",\"Montana\",\"Nebraska\",\"Nevada\",\"New Hampshire\",\"New Jersey\",\"New Mexico\",\"New York\",\"North Carolina\",\"North Dakota\",\"Ohio\",\"Oklahoma\",\"Oregon\",\"Pennsylvania\",\"Rhode Island\",\"South Carolina\",\"South Dakota\",\"Tennessee\",\"Texas\",\"Utah\",\"Vermont\",\"Virginia\",\"Washington\",\"West Virginia\",\"Wisconsin\",\"Wyoming\",\"Alabama\",\"Alaska\",\"Arizona\",\"Arkansas\",\"California\",\"Colorado\",\"Connecticut\",\"Delaware\",\"District of Columbia\",\"Florida\",\"Georgia\",\"Hawaii\",\"Idaho\",\"Illinois\",\"Indiana\",\"Iowa\",\"Kansas\",\"Kentucky\",\"Louisiana\",\"Maine\",\"Maryland\",\"Massachusetts\",\"Michigan\",\"Minnesota\",\"Mississippi\",\"Missouri\",\"Montana\",\"Nebraska\",\"Nevada\",\"New Hampshire\",\"New Jersey\",\"New Mexico\",\"New York\",\"North Carolina\",\"North Dakota\",\"Ohio\",\"Oklahoma\",\"Oregon\",\"Pennsylvania\",\"Rhode Island\",\"South Carolina\",\"South Dakota\",\"Tennessee\",\"Texas\",\"Utah\",\"Vermont\",\"Virginia\",\"Washington\",\"West Virginia\",\"Wisconsin\",\"Wyoming\",\"Alabama\",\"Alaska\",\"Arizona\",\"Arkansas\",\"California\",\"Colorado\",\"Connecticut\",\"Delaware\",\"District of Columbia\",\"Florida\",\"Georgia\",\"Hawaii\",\"Idaho\",\"Illinois\",\"Indiana\",\"Iowa\",\"Kansas\",\"Kentucky\",\"Louisiana\",\"Maine\",\"Maryland\",\"Massachusetts\",\"Michigan\",\"Minnesota\",\"Mississippi\",\"Missouri\",\"Montana\",\"Nebraska\",\"Nevada\",\"New Hampshire\",\"New Jersey\",\"New Mexico\",\"New York\",\"North Carolina\",\"North Dakota\",\"Ohio\",\"Oklahoma\",\"Oregon\",\"Pennsylvania\",\"Rhode Island\",\"South Carolina\",\"South Dakota\",\"Tennessee\",\"Texas\",\"Utah\",\"Vermont\",\"Virginia\",\"Washington\",\"West Virginia\",\"Wisconsin\",\"Wyoming\",\"Alabama\",\"Alaska\",\"Arizona\",\"Arkansas\",\"California\",\"Colorado\",\"Connecticut\",\"Delaware\",\"District of Columbia\",\"Florida\",\"Georgia\",\"Hawaii\",\"Idaho\",\"Illinois\",\"Indiana\",\"Iowa\",\"Kansas\",\"Kentucky\",\"Louisiana\",\"Maine\",\"Maryland\",\"Massachusetts\",\"Michigan\",\"Minnesota\",\"Mississippi\",\"Missouri\",\"Montana\",\"Nebraska\",\"Nevada\",\"New Hampshire\",\"New Jersey\",\"New Mexico\",\"New York\",\"North Carolina\",\"North Dakota\",\"Ohio\",\"Oklahoma\",\"Oregon\",\"Pennsylvania\",\"Rhode Island\",\"South Carolina\",\"South Dakota\",\"Tennessee\",\"Texas\",\"Utah\",\"Vermont\",\"Virginia\",\"Washington\",\"West Virginia\",\"Wisconsin\",\"Wyoming\",\"Alabama\",\"Alaska\",\"Arizona\",\"Arkansas\",\"California\",\"Colorado\",\"Connecticut\",\"Delaware\",\"District of Columbia\",\"Florida\",\"Georgia\",\"Hawaii\",\"Idaho\",\"Illinois\",\"Indiana\",\"Iowa\",\"Kansas\",\"Kentucky\",\"Louisiana\",\"Maine\",\"Maryland\",\"Massachusetts\",\"Michigan\",\"Minnesota\",\"Mississippi\",\"Missouri\",\"Montana\",\"Nebraska\",\"Nevada\",\"New Hampshire\",\"New Jersey\",\"New Mexico\",\"New York\",\"North Carolina\",\"North Dakota\",\"Ohio\",\"Oklahoma\",\"Oregon\",\"Pennsylvania\",\"Rhode Island\",\"South Carolina\",\"South Dakota\",\"Tennessee\",\"Texas\",\"Utah\",\"Vermont\",\"Virginia\",\"Washington\",\"West Virginia\",\"Wisconsin\",\"Wyoming\",\"Alabama\",\"Alaska\",\"Arizona\",\"Arkansas\",\"California\",\"Colorado\",\"Connecticut\",\"Delaware\",\"District of Columbia\",\"Florida\",\"Georgia\",\"Hawaii\",\"Idaho\",\"Illinois\",\"Indiana\",\"Iowa\",\"Kansas\",\"Kentucky\",\"Louisiana\",\"Maine\",\"Maryland\",\"Massachusetts\",\"Michigan\",\"Minnesota\",\"Mississippi\",\"Missouri\",\"Montana\",\"Nebraska\",\"Nevada\",\"New Hampshire\",\"New Jersey\",\"New Mexico\",\"New York\",\"North Carolina\",\"North Dakota\",\"Ohio\",\"Oklahoma\",\"Oregon\",\"Pennsylvania\",\"Rhode Island\",\"South Carolina\",\"South Dakota\",\"Tennessee\",\"Texas\",\"Utah\",\"Vermont\",\"Virginia\",\"Washington\",\"West Virginia\",\"Wisconsin\",\"Wyoming\",\"Alabama\",\"Alaska\",\"Arizona\",\"Arkansas\",\"California\",\"Colorado\",\"Connecticut\",\"Delaware\",\"District of Columbia\",\"Florida\",\"Georgia\",\"Hawaii\",\"Idaho\",\"Illinois\",\"Indiana\",\"Iowa\",\"Kansas\",\"Kentucky\",\"Louisiana\",\"Maine\",\"Maryland\",\"Massachusetts\",\"Michigan\",\"Minnesota\",\"Mississippi\",\"Missouri\",\"Montana\",\"Nebraska\",\"Nevada\",\"New Hampshire\",\"New Jersey\",\"New Mexico\",\"New York\",\"North Carolina\",\"North Dakota\",\"Ohio\",\"Oklahoma\",\"Oregon\",\"Pennsylvania\",\"Rhode Island\",\"South Carolina\",\"South Dakota\",\"Tennessee\",\"Texas\",\"Utah\",\"Vermont\",\"Virginia\",\"Washington\",\"West Virginia\",\"Wisconsin\",\"Wyoming\",\"Alabama\",\"Alaska\",\"Arizona\",\"Arkansas\",\"California\",\"Colorado\",\"Connecticut\",\"Delaware\",\"District of Columbia\",\"Florida\",\"Georgia\",\"Hawaii\",\"Idaho\",\"Illinois\",\"Indiana\",\"Iowa\",\"Kansas\",\"Kentucky\",\"Louisiana\",\"Maine\",\"Maryland\",\"Massachusetts\",\"Michigan\",\"Minnesota\",\"Mississippi\",\"Missouri\",\"Montana\",\"Nebraska\",\"Nevada\",\"New Hampshire\",\"New Jersey\",\"New Mexico\",\"New York\",\"North Carolina\",\"North Dakota\",\"Ohio\",\"Oklahoma\",\"Oregon\",\"Pennsylvania\",\"Rhode Island\",\"South Carolina\",\"South Dakota\",\"Tennessee\",\"Texas\",\"Utah\",\"Vermont\",\"Virginia\",\"Washington\",\"West Virginia\",\"Wisconsin\",\"Wyoming\",\"Alabama\",\"Alaska\",\"Arizona\",\"Arkansas\",\"California\",\"Colorado\",\"Connecticut\",\"Delaware\",\"District of Columbia\",\"Florida\",\"Georgia\",\"Hawaii\",\"Idaho\",\"Illinois\",\"Indiana\",\"Iowa\",\"Kansas\",\"Kentucky\",\"Louisiana\",\"Maine\",\"Maryland\",\"Massachusetts\",\"Michigan\",\"Minnesota\",\"Mississippi\",\"Missouri\",\"Montana\",\"Nebraska\",\"Nevada\",\"New Hampshire\",\"New Jersey\",\"New Mexico\",\"New York\",\"North Carolina\",\"North Dakota\",\"Ohio\",\"Oklahoma\",\"Oregon\",\"Pennsylvania\",\"Rhode Island\",\"South Carolina\",\"South Dakota\",\"Tennessee\",\"Texas\",\"Utah\",\"Vermont\",\"Virginia\",\"Washington\",\"West Virginia\",\"Wisconsin\",\"Wyoming\"],\"y\":[2.7620460500593227,1.4963156627522143,1.1874785555343208,1.4286981602687014,0.7703694032789558,1.0718138094248277,0.47598781471194335,0.8286042472182202,3.563553119035503,1.2568067027054812,1.217756680988944,0.07039313863999049,0.7997550464543431,1.2968567101449013,1.4337994625342974,0.3175996580086883,1.3052323674270332,1.7260111903806032,2.7684245089265596,0.5974353593611026,1.3088567186266216,0.31964501967633036,1.2219463160922717,0.4637681986654535,3.555829883731072,2.0909487565634146,0.4714023749251649,0.5712463660941393,2.014969572307844,0.07388443735153846,0.6414566693206467,1.7680162045852783,0.3430557904463673,1.0403005698053724,0.3957365977205572,1.1904414233876863,1.1166846647471536,0.7412923259983653,1.0624234723092603,0.47246162902879846,1.7505363722120248,0.7966332004852634,1.447214120202356,1.08283075432156,0.31710294747189677,0.6406580839838683,0.846930687898278,0.7177158453981589,1.2747389417782387,0.7920920286957722,1.7312989416569569,2.7620460500593227,1.4963156627522143,1.1874785555343208,1.4286981602687014,0.7703694032789558,1.0718138094248277,0.47598781471194335,0.8286042472182202,3.563553119035503,1.2568067027054812,1.217756680988944,0.07039313863999049,0.7997550464543431,1.2968567101449013,1.4337994625342974,0.3175996580086883,1.3052323674270332,1.7260111903806032,2.7684245089265596,0.5974353593611026,1.3088567186266216,0.31964501967633036,1.2219463160922717,0.4637681986654535,3.555829883731072,2.0909487565634146,0.4714023749251649,0.5712463660941393,2.014969572307844,0.07388443735153846,0.6414566693206467,1.7680162045852783,0.3430557904463673,1.0403005698053724,0.3957365977205572,1.1904414233876863,1.1166846647471536,0.7412923259983653,1.0624234723092603,0.47246162902879846,1.7505363722120248,0.7966332004852634,1.447214120202356,1.08283075432156,0.31710294747189677,0.6406580839838683,0.846930687898278,0.7177158453981589,1.2747389417782387,0.7920920286957722,1.7312989416569569,2.7620460500593227,1.4963156627522143,1.1874785555343208,1.4286981602687014,0.7703694032789558,1.0718138094248277,0.47598781471194335,0.8286042472182202,3.563553119035503,1.2568067027054812,1.217756680988944,0.07039313863999049,0.7997550464543431,1.2968567101449013,1.4337994625342974,0.3175996580086883,1.3052323674270332,1.7260111903806032,2.7684245089265596,0.5974353593611026,1.3088567186266216,0.31964501967633036,1.2219463160922717,0.4637681986654535,3.555829883731072,2.0909487565634146,0.4714023749251649,0.5712463660941393,2.014969572307844,0.07388443735153846,0.6414566693206467,1.7680162045852783,0.3430557904463673,1.0403005698053724,0.3957365977205572,1.1904414233876863,1.1166846647471536,0.7412923259983653,1.0624234723092603,0.47246162902879846,1.7505363722120248,0.7966332004852634,1.447214120202356,1.08283075432156,0.31710294747189677,0.6406580839838683,0.846930687898278,0.7177158453981589,1.2747389417782387,0.7920920286957722,1.7312989416569569,2.7620460500593227,1.4963156627522143,1.1874785555343208,1.4286981602687014,0.7703694032789558,1.0718138094248277,0.47598781471194335,0.8286042472182202,3.563553119035503,1.2568067027054812,1.217756680988944,0.07039313863999049,0.7997550464543431,1.2968567101449013,1.4337994625342974,0.3175996580086883,1.3052323674270332,1.7260111903806032,2.7684245089265596,0.5974353593611026,1.3088567186266216,0.31964501967633036,1.2219463160922717,0.4637681986654535,3.555829883731072,2.0909487565634146,0.4714023749251649,0.5712463660941393,2.014969572307844,0.07388443735153846,0.6414566693206467,1.7680162045852783,0.3430557904463673,1.0403005698053724,0.3957365977205572,1.1904414233876863,1.1166846647471536,0.7412923259983653,1.0624234723092603,0.47246162902879846,1.7505363722120248,0.7966332004852634,1.447214120202356,1.08283075432156,0.31710294747189677,0.6406580839838683,0.846930687898278,0.7177158453981589,1.2747389417782387,0.7920920286957722,1.7312989416569569,2.7620460500593227,1.4963156627522143,1.1874785555343208,1.4286981602687014,0.7703694032789558,1.0718138094248277,0.47598781471194335,0.8286042472182202,3.563553119035503,1.2568067027054812,1.217756680988944,0.07039313863999049,0.7997550464543431,1.2968567101449013,1.4337994625342974,0.3175996580086883,1.3052323674270332,1.7260111903806032,2.7684245089265596,0.5974353593611026,1.3088567186266216,0.31964501967633036,1.2219463160922717,0.4637681986654535,3.555829883731072,2.0909487565634146,0.4714023749251649,0.5712463660941393,2.014969572307844,0.07388443735153846,0.6414566693206467,1.7680162045852783,0.3430557904463673,1.0403005698053724,0.3957365977205572,1.1904414233876863,1.1166846647471536,0.7412923259983653,1.0624234723092603,0.47246162902879846,1.7505363722120248,0.7966332004852634,1.447214120202356,1.08283075432156,0.31710294747189677,0.6406580839838683,0.846930687898278,0.7177158453981589,1.2747389417782387,0.7920920286957722,1.7312989416569569,2.7620460500593227,1.4963156627522143,1.1874785555343208,1.4286981602687014,0.7703694032789558,1.0718138094248277,0.47598781471194335,0.8286042472182202,3.563553119035503,1.2568067027054812,1.217756680988944,0.07039313863999049,0.7997550464543431,1.2968567101449013,1.4337994625342974,0.3175996580086883,1.3052323674270332,1.7260111903806032,2.7684245089265596,0.5974353593611026,1.3088567186266216,0.31964501967633036,1.2219463160922717,0.4637681986654535,3.555829883731072,2.0909487565634146,0.4714023749251649,0.5712463660941393,2.014969572307844,0.07388443735153846,0.6414566693206467,1.7680162045852783,0.3430557904463673,1.0403005698053724,0.3957365977205572,1.1904414233876863,1.1166846647471536,0.7412923259983653,1.0624234723092603,0.47246162902879846,1.7505363722120248,0.7966332004852634,1.447214120202356,1.08283075432156,0.31710294747189677,0.6406580839838683,0.846930687898278,0.7177158453981589,1.2747389417782387,0.7920920286957722,1.7312989416569569,2.7620460500593227,1.4963156627522143,1.1874785555343208,1.4286981602687014,0.7703694032789558,1.0718138094248277,0.47598781471194335,0.8286042472182202,3.563553119035503,1.2568067027054812,1.217756680988944,0.07039313863999049,0.7997550464543431,1.2968567101449013,1.4337994625342974,0.3175996580086883,1.3052323674270332,1.7260111903806032,2.7684245089265596,0.5974353593611026,1.3088567186266216,0.31964501967633036,1.2219463160922717,0.4637681986654535,3.555829883731072,2.0909487565634146,0.4714023749251649,0.5712463660941393,2.014969572307844,0.07388443735153846,0.6414566693206467,1.7680162045852783,0.3430557904463673,1.0403005698053724,0.3957365977205572,1.1904414233876863,1.1166846647471536,0.7412923259983653,1.0624234723092603,0.47246162902879846,1.7505363722120248,0.7966332004852634,1.447214120202356,1.08283075432156,0.31710294747189677,0.6406580839838683,0.846930687898278,0.7177158453981589,1.2747389417782387,0.7920920286957722,1.7312989416569569,2.7620460500593227,1.4963156627522143,1.1874785555343208,1.4286981602687014,0.7703694032789558,1.0718138094248277,0.47598781471194335,0.8286042472182202,3.563553119035503,1.2568067027054812,1.217756680988944,0.07039313863999049,0.7997550464543431,1.2968567101449013,1.4337994625342974,0.3175996580086883,1.3052323674270332,1.7260111903806032,2.7684245089265596,0.5974353593611026,1.3088567186266216,0.31964501967633036,1.2219463160922717,0.4637681986654535,3.555829883731072,2.0909487565634146,0.4714023749251649,0.5712463660941393,2.014969572307844,0.07388443735153846,0.6414566693206467,1.7680162045852783,0.3430557904463673,1.0403005698053724,0.3957365977205572,1.1904414233876863,1.1166846647471536,0.7412923259983653,1.0624234723092603,0.47246162902879846,1.7505363722120248,0.7966332004852634,1.447214120202356,1.08283075432156,0.31710294747189677,0.6406580839838683,0.846930687898278,0.7177158453981589,1.2747389417782387,0.7920920286957722,1.7312989416569569,2.7620460500593227,1.4963156627522143,1.1874785555343208,1.4286981602687014,0.7703694032789558,1.0718138094248277,0.47598781471194335,0.8286042472182202,3.563553119035503,1.2568067027054812,1.217756680988944,0.07039313863999049,0.7997550464543431,1.2968567101449013,1.4337994625342974,0.3175996580086883,1.3052323674270332,1.7260111903806032,2.7684245089265596,0.5974353593611026,1.3088567186266216,0.31964501967633036,1.2219463160922717,0.4637681986654535,3.555829883731072,2.0909487565634146,0.4714023749251649,0.5712463660941393,2.014969572307844,0.07388443735153846,0.6414566693206467,1.7680162045852783,0.3430557904463673,1.0403005698053724,0.3957365977205572,1.1904414233876863,1.1166846647471536,0.7412923259983653,1.0624234723092603,0.47246162902879846,1.7505363722120248,0.7966332004852634,1.447214120202356,1.08283075432156,0.31710294747189677,0.6406580839838683,0.846930687898278,0.7177158453981589,1.2747389417782387,0.7920920286957722,1.7312989416569569,2.7620460500593227,1.4963156627522143,1.1874785555343208,1.4286981602687014,0.7703694032789558,1.0718138094248277,0.47598781471194335,0.8286042472182202,3.563553119035503,1.2568067027054812,1.217756680988944,0.07039313863999049,0.7997550464543431,1.2968567101449013,1.4337994625342974,0.3175996580086883,1.3052323674270332,1.7260111903806032,2.7684245089265596,0.5974353593611026,1.3088567186266216,0.31964501967633036,1.2219463160922717,0.4637681986654535,3.555829883731072,2.0909487565634146,0.4714023749251649,0.5712463660941393,2.014969572307844,0.07388443735153846,0.6414566693206467,1.7680162045852783,0.3430557904463673,1.0403005698053724,0.3957365977205572,1.1904414233876863,1.1166846647471536,0.7412923259983653,1.0624234723092603,0.47246162902879846,1.7505363722120248,0.7966332004852634,1.447214120202356,1.08283075432156,0.31710294747189677,0.6406580839838683,0.846930687898278,0.7177158453981589,1.2747389417782387,0.7920920286957722,1.7312989416569569,2.7620460500593227,1.4963156627522143,1.1874785555343208,1.4286981602687014,0.7703694032789558,1.0718138094248277,0.47598781471194335,0.8286042472182202,3.563553119035503,1.2568067027054812,1.217756680988944,0.07039313863999049,0.7997550464543431,1.2968567101449013,1.4337994625342974,0.3175996580086883,1.3052323674270332,1.7260111903806032,2.7684245089265596,0.5974353593611026,1.3088567186266216,0.31964501967633036,1.2219463160922717,0.4637681986654535,3.555829883731072,2.0909487565634146,0.4714023749251649,0.5712463660941393,2.014969572307844,0.07388443735153846,0.6414566693206467,1.7680162045852783,0.3430557904463673,1.0403005698053724,0.3957365977205572,1.1904414233876863,1.1166846647471536,0.7412923259983653,1.0624234723092603,0.47246162902879846,1.7505363722120248,0.7966332004852634,1.447214120202356,1.08283075432156,0.31710294747189677,0.6406580839838683,0.846930687898278,0.7177158453981589,1.2747389417782387,0.7920920286957722,1.7312989416569569,2.7620460500593227,1.4963156627522143,1.1874785555343208,1.4286981602687014,0.7703694032789558,1.0718138094248277,0.47598781471194335,0.8286042472182202,3.563553119035503,1.2568067027054812,1.217756680988944,0.07039313863999049,0.7997550464543431,1.2968567101449013,1.4337994625342974,0.3175996580086883,1.3052323674270332,1.7260111903806032,2.7684245089265596,0.5974353593611026,1.3088567186266216,0.31964501967633036,1.2219463160922717,0.4637681986654535,3.555829883731072,2.0909487565634146,0.4714023749251649,0.5712463660941393,2.014969572307844,0.07388443735153846,0.6414566693206467,1.7680162045852783,0.3430557904463673,1.0403005698053724,0.3957365977205572,1.1904414233876863,1.1166846647471536,0.7412923259983653,1.0624234723092603,0.47246162902879846,1.7505363722120248,0.7966332004852634,1.447214120202356,1.08283075432156,0.31710294747189677,0.6406580839838683,0.846930687898278,0.7177158453981589,1.2747389417782387,0.7920920286957722,1.7312989416569569],\"yaxis\":\"y2\",\"type\":\"scatter\"}],                        {\"template\":{\"data\":{\"histogram2dcontour\":[{\"type\":\"histogram2dcontour\",\"colorbar\":{\"outlinewidth\":0,\"ticks\":\"\"},\"colorscale\":[[0.0,\"#0d0887\"],[0.1111111111111111,\"#46039f\"],[0.2222222222222222,\"#7201a8\"],[0.3333333333333333,\"#9c179e\"],[0.4444444444444444,\"#bd3786\"],[0.5555555555555556,\"#d8576b\"],[0.6666666666666666,\"#ed7953\"],[0.7777777777777778,\"#fb9f3a\"],[0.8888888888888888,\"#fdca26\"],[1.0,\"#f0f921\"]]}],\"choropleth\":[{\"type\":\"choropleth\",\"colorbar\":{\"outlinewidth\":0,\"ticks\":\"\"}}],\"histogram2d\":[{\"type\":\"histogram2d\",\"colorbar\":{\"outlinewidth\":0,\"ticks\":\"\"},\"colorscale\":[[0.0,\"#0d0887\"],[0.1111111111111111,\"#46039f\"],[0.2222222222222222,\"#7201a8\"],[0.3333333333333333,\"#9c179e\"],[0.4444444444444444,\"#bd3786\"],[0.5555555555555556,\"#d8576b\"],[0.6666666666666666,\"#ed7953\"],[0.7777777777777778,\"#fb9f3a\"],[0.8888888888888888,\"#fdca26\"],[1.0,\"#f0f921\"]]}],\"heatmap\":[{\"type\":\"heatmap\",\"colorbar\":{\"outlinewidth\":0,\"ticks\":\"\"},\"colorscale\":[[0.0,\"#0d0887\"],[0.1111111111111111,\"#46039f\"],[0.2222222222222222,\"#7201a8\"],[0.3333333333333333,\"#9c179e\"],[0.4444444444444444,\"#bd3786\"],[0.5555555555555556,\"#d8576b\"],[0.6666666666666666,\"#ed7953\"],[0.7777777777777778,\"#fb9f3a\"],[0.8888888888888888,\"#fdca26\"],[1.0,\"#f0f921\"]]}],\"heatmapgl\":[{\"type\":\"heatmapgl\",\"colorbar\":{\"outlinewidth\":0,\"ticks\":\"\"},\"colorscale\":[[0.0,\"#0d0887\"],[0.1111111111111111,\"#46039f\"],[0.2222222222222222,\"#7201a8\"],[0.3333333333333333,\"#9c179e\"],[0.4444444444444444,\"#bd3786\"],[0.5555555555555556,\"#d8576b\"],[0.6666666666666666,\"#ed7953\"],[0.7777777777777778,\"#fb9f3a\"],[0.8888888888888888,\"#fdca26\"],[1.0,\"#f0f921\"]]}],\"contourcarpet\":[{\"type\":\"contourcarpet\",\"colorbar\":{\"outlinewidth\":0,\"ticks\":\"\"}}],\"contour\":[{\"type\":\"contour\",\"colorbar\":{\"outlinewidth\":0,\"ticks\":\"\"},\"colorscale\":[[0.0,\"#0d0887\"],[0.1111111111111111,\"#46039f\"],[0.2222222222222222,\"#7201a8\"],[0.3333333333333333,\"#9c179e\"],[0.4444444444444444,\"#bd3786\"],[0.5555555555555556,\"#d8576b\"],[0.6666666666666666,\"#ed7953\"],[0.7777777777777778,\"#fb9f3a\"],[0.8888888888888888,\"#fdca26\"],[1.0,\"#f0f921\"]]}],\"surface\":[{\"type\":\"surface\",\"colorbar\":{\"outlinewidth\":0,\"ticks\":\"\"},\"colorscale\":[[0.0,\"#0d0887\"],[0.1111111111111111,\"#46039f\"],[0.2222222222222222,\"#7201a8\"],[0.3333333333333333,\"#9c179e\"],[0.4444444444444444,\"#bd3786\"],[0.5555555555555556,\"#d8576b\"],[0.6666666666666666,\"#ed7953\"],[0.7777777777777778,\"#fb9f3a\"],[0.8888888888888888,\"#fdca26\"],[1.0,\"#f0f921\"]]}],\"mesh3d\":[{\"type\":\"mesh3d\",\"colorbar\":{\"outlinewidth\":0,\"ticks\":\"\"}}],\"scatter\":[{\"fillpattern\":{\"fillmode\":\"overlay\",\"size\":10,\"solidity\":0.2},\"type\":\"scatter\"}],\"parcoords\":[{\"type\":\"parcoords\",\"line\":{\"colorbar\":{\"outlinewidth\":0,\"ticks\":\"\"}}}],\"scatterpolargl\":[{\"type\":\"scatterpolargl\",\"marker\":{\"colorbar\":{\"outlinewidth\":0,\"ticks\":\"\"}}}],\"bar\":[{\"error_x\":{\"color\":\"#2a3f5f\"},\"error_y\":{\"color\":\"#2a3f5f\"},\"marker\":{\"line\":{\"color\":\"#E5ECF6\",\"width\":0.5},\"pattern\":{\"fillmode\":\"overlay\",\"size\":10,\"solidity\":0.2}},\"type\":\"bar\"}],\"scattergeo\":[{\"type\":\"scattergeo\",\"marker\":{\"colorbar\":{\"outlinewidth\":0,\"ticks\":\"\"}}}],\"scatterpolar\":[{\"type\":\"scatterpolar\",\"marker\":{\"colorbar\":{\"outlinewidth\":0,\"ticks\":\"\"}}}],\"histogram\":[{\"marker\":{\"pattern\":{\"fillmode\":\"overlay\",\"size\":10,\"solidity\":0.2}},\"type\":\"histogram\"}],\"scattergl\":[{\"type\":\"scattergl\",\"marker\":{\"colorbar\":{\"outlinewidth\":0,\"ticks\":\"\"}}}],\"scatter3d\":[{\"type\":\"scatter3d\",\"line\":{\"colorbar\":{\"outlinewidth\":0,\"ticks\":\"\"}},\"marker\":{\"colorbar\":{\"outlinewidth\":0,\"ticks\":\"\"}}}],\"scattermapbox\":[{\"type\":\"scattermapbox\",\"marker\":{\"colorbar\":{\"outlinewidth\":0,\"ticks\":\"\"}}}],\"scatterternary\":[{\"type\":\"scatterternary\",\"marker\":{\"colorbar\":{\"outlinewidth\":0,\"ticks\":\"\"}}}],\"scattercarpet\":[{\"type\":\"scattercarpet\",\"marker\":{\"colorbar\":{\"outlinewidth\":0,\"ticks\":\"\"}}}],\"carpet\":[{\"aaxis\":{\"endlinecolor\":\"#2a3f5f\",\"gridcolor\":\"white\",\"linecolor\":\"white\",\"minorgridcolor\":\"white\",\"startlinecolor\":\"#2a3f5f\"},\"baxis\":{\"endlinecolor\":\"#2a3f5f\",\"gridcolor\":\"white\",\"linecolor\":\"white\",\"minorgridcolor\":\"white\",\"startlinecolor\":\"#2a3f5f\"},\"type\":\"carpet\"}],\"table\":[{\"cells\":{\"fill\":{\"color\":\"#EBF0F8\"},\"line\":{\"color\":\"white\"}},\"header\":{\"fill\":{\"color\":\"#C8D4E3\"},\"line\":{\"color\":\"white\"}},\"type\":\"table\"}],\"barpolar\":[{\"marker\":{\"line\":{\"color\":\"#E5ECF6\",\"width\":0.5},\"pattern\":{\"fillmode\":\"overlay\",\"size\":10,\"solidity\":0.2}},\"type\":\"barpolar\"}],\"pie\":[{\"automargin\":true,\"type\":\"pie\"}]},\"layout\":{\"autotypenumbers\":\"strict\",\"colorway\":[\"#636efa\",\"#EF553B\",\"#00cc96\",\"#ab63fa\",\"#FFA15A\",\"#19d3f3\",\"#FF6692\",\"#B6E880\",\"#FF97FF\",\"#FECB52\"],\"font\":{\"color\":\"#2a3f5f\"},\"hovermode\":\"closest\",\"hoverlabel\":{\"align\":\"left\"},\"paper_bgcolor\":\"white\",\"plot_bgcolor\":\"#E5ECF6\",\"polar\":{\"bgcolor\":\"#E5ECF6\",\"angularaxis\":{\"gridcolor\":\"white\",\"linecolor\":\"white\",\"ticks\":\"\"},\"radialaxis\":{\"gridcolor\":\"white\",\"linecolor\":\"white\",\"ticks\":\"\"}},\"ternary\":{\"bgcolor\":\"#E5ECF6\",\"aaxis\":{\"gridcolor\":\"white\",\"linecolor\":\"white\",\"ticks\":\"\"},\"baxis\":{\"gridcolor\":\"white\",\"linecolor\":\"white\",\"ticks\":\"\"},\"caxis\":{\"gridcolor\":\"white\",\"linecolor\":\"white\",\"ticks\":\"\"}},\"coloraxis\":{\"colorbar\":{\"outlinewidth\":0,\"ticks\":\"\"}},\"colorscale\":{\"sequential\":[[0.0,\"#0d0887\"],[0.1111111111111111,\"#46039f\"],[0.2222222222222222,\"#7201a8\"],[0.3333333333333333,\"#9c179e\"],[0.4444444444444444,\"#bd3786\"],[0.5555555555555556,\"#d8576b\"],[0.6666666666666666,\"#ed7953\"],[0.7777777777777778,\"#fb9f3a\"],[0.8888888888888888,\"#fdca26\"],[1.0,\"#f0f921\"]],\"sequentialminus\":[[0.0,\"#0d0887\"],[0.1111111111111111,\"#46039f\"],[0.2222222222222222,\"#7201a8\"],[0.3333333333333333,\"#9c179e\"],[0.4444444444444444,\"#bd3786\"],[0.5555555555555556,\"#d8576b\"],[0.6666666666666666,\"#ed7953\"],[0.7777777777777778,\"#fb9f3a\"],[0.8888888888888888,\"#fdca26\"],[1.0,\"#f0f921\"]],\"diverging\":[[0,\"#8e0152\"],[0.1,\"#c51b7d\"],[0.2,\"#de77ae\"],[0.3,\"#f1b6da\"],[0.4,\"#fde0ef\"],[0.5,\"#f7f7f7\"],[0.6,\"#e6f5d0\"],[0.7,\"#b8e186\"],[0.8,\"#7fbc41\"],[0.9,\"#4d9221\"],[1,\"#276419\"]]},\"xaxis\":{\"gridcolor\":\"white\",\"linecolor\":\"white\",\"ticks\":\"\",\"title\":{\"standoff\":15},\"zerolinecolor\":\"white\",\"automargin\":true,\"zerolinewidth\":2},\"yaxis\":{\"gridcolor\":\"white\",\"linecolor\":\"white\",\"ticks\":\"\",\"title\":{\"standoff\":15},\"zerolinecolor\":\"white\",\"automargin\":true,\"zerolinewidth\":2},\"scene\":{\"xaxis\":{\"backgroundcolor\":\"#E5ECF6\",\"gridcolor\":\"white\",\"linecolor\":\"white\",\"showbackground\":true,\"ticks\":\"\",\"zerolinecolor\":\"white\",\"gridwidth\":2},\"yaxis\":{\"backgroundcolor\":\"#E5ECF6\",\"gridcolor\":\"white\",\"linecolor\":\"white\",\"showbackground\":true,\"ticks\":\"\",\"zerolinecolor\":\"white\",\"gridwidth\":2},\"zaxis\":{\"backgroundcolor\":\"#E5ECF6\",\"gridcolor\":\"white\",\"linecolor\":\"white\",\"showbackground\":true,\"ticks\":\"\",\"zerolinecolor\":\"white\",\"gridwidth\":2}},\"shapedefaults\":{\"line\":{\"color\":\"#2a3f5f\"}},\"annotationdefaults\":{\"arrowcolor\":\"#2a3f5f\",\"arrowhead\":0,\"arrowwidth\":1},\"geo\":{\"bgcolor\":\"white\",\"landcolor\":\"#E5ECF6\",\"subunitcolor\":\"white\",\"showland\":true,\"showlakes\":true,\"lakecolor\":\"white\"},\"title\":{\"x\":0.05},\"mapbox\":{\"style\":\"light\"}}},\"yaxis\":{\"title\":{\"text\":\"Unemployment Rate (%)\",\"font\":{\"color\":\"#1f77b4\"}},\"tickfont\":{\"color\":\"#1f77b4\"}},\"yaxis2\":{\"title\":{\"text\":\"Gun Violence per 100,000 People\",\"font\":{\"color\":\"#ff7f0e\"}},\"tickfont\":{\"color\":\"#ff7f0e\"},\"overlaying\":\"y\",\"side\":\"right\"},\"legend\":{\"x\":0.1,\"y\":0.9},\"title\":{\"text\":\"Comparison of Unemployment Rate and Gun Violence per Capita per US State in 2018\"},\"xaxis\":{\"title\":{\"text\":\"State\"}},\"barmode\":\"overlay\"},                        {\"responsive\": true}                    ).then(function(){\n",
       "                            \n",
       "var gd = document.getElementById('ffc3ef9e-43c2-4794-901f-576513dceb10');\n",
       "var x = new MutationObserver(function (mutations, observer) {{\n",
       "        var display = window.getComputedStyle(gd).display;\n",
       "        if (!display || display === 'none') {{\n",
       "            console.log([gd, 'removed!']);\n",
       "            Plotly.purge(gd);\n",
       "            observer.disconnect();\n",
       "        }}\n",
       "}});\n",
       "\n",
       "// Listen for the removal of the full notebook cells\n",
       "var notebookContainer = gd.closest('#notebook-container');\n",
       "if (notebookContainer) {{\n",
       "    x.observe(notebookContainer, {childList: true});\n",
       "}}\n",
       "\n",
       "// Listen for the clearing of the current output cell\n",
       "var outputEl = gd.closest('.output');\n",
       "if (outputEl) {{\n",
       "    x.observe(outputEl, {childList: true});\n",
       "}}\n",
       "\n",
       "                        })                };                });            </script>        </div>"
      ]
     },
     "metadata": {},
     "output_type": "display_data"
    }
   ],
   "source": [
    "import pandas as pd\n",
    "import plotly.graph_objects as go\n",
    "from scipy.stats import pearsonr\n",
    "\n",
    "# Load the datasets\n",
    "df_guns = pd.read_csv('gun-violence-data_01-2013_03-2018.csv')\n",
    "df_unemployment = pd.read_csv('Unemployment in America Per US State.csv')\n",
    "df_statepop = pd.read_csv('nst-est2019-alldata.csv')\n",
    "\n",
    "# Convert date column to datetime\n",
    "df_guns['date'] = pd.to_datetime(df_guns['date'])\n",
    "\n",
    "# Filter data for 2018\n",
    "df_guns_2018 = df_guns[df_guns['date'].dt.year == 2018]\n",
    "\n",
    "# Aggregate gun violence data by state\n",
    "df_guns_agg = df_guns_2018.groupby('state')['n_killed'].sum().reset_index()\n",
    "\n",
    "# Filter unemployment data for 2018\n",
    "df_unemployment_2018 = df_unemployment[df_unemployment['Year'] == 2018]\n",
    "\n",
    "# Select relevant columns from population dataset\n",
    "df_statepop_2018 = df_statepop[['STATE', 'POPESTIMATE2018']]\n",
    "\n",
    "# Replace state codes with state names in the population dataset\n",
    "state_codes = {\n",
    "    1: 'Alabama', 2: 'Alaska', 4: 'Arizona', 5: 'Arkansas', 6: 'California', 8: 'Colorado', 9: 'Connecticut',\n",
    "    10: 'Delaware', 11: 'District of Columbia', 12: 'Florida', 13: 'Georgia', 15: 'Hawaii', 16: 'Idaho',\n",
    "    17: 'Illinois', 18: 'Indiana', 19: 'Iowa', 20: 'Kansas', 21: 'Kentucky', 22: 'Louisiana', 23: 'Maine',\n",
    "    24: 'Maryland', 25: 'Massachusetts', 26: 'Michigan', 27: 'Minnesota', 28: 'Mississippi', 29: 'Missouri',\n",
    "    30: 'Montana', 31: 'Nebraska', 32: 'Nevada', 33: 'New Hampshire', 34: 'New Jersey', 35: 'New Mexico',\n",
    "    36: 'New York', 37: 'North Carolina', 38: 'North Dakota', 39: 'Ohio', 40: 'Oklahoma', 41: 'Oregon',\n",
    "    42: 'Pennsylvania', 44: 'Rhode Island', 45: 'South Carolina', 46: 'South Dakota', 47: 'Tennessee',\n",
    "    48: 'Texas', 49: 'Utah', 50: 'Vermont', 51: 'Virginia', 53: 'Washington', 54: 'West Virginia',\n",
    "    55: 'Wisconsin', 56: 'Wyoming'\n",
    "}\n",
    "df_statepop_2018['state'] = df_statepop_2018['STATE'].map(state_codes)\n",
    "\n",
    "# Merge the datasets on the state\n",
    "df_merged = pd.merge(df_unemployment_2018, df_guns_agg, left_on='State/Area', right_on='state')\n",
    "df_merged = pd.merge(df_merged, df_statepop_2018[['state', 'POPESTIMATE2018']], on='state')\n",
    "\n",
    "# Calculate gun violence per capita\n",
    "df_merged['n_killed_per_capita'] = df_merged['n_killed'] / df_merged['POPESTIMATE2018'] * 100000  # per 100,000 people\n",
    "\n",
    "# Calculate Pearson correlation\n",
    "pearson_corr, _ = pearsonr(df_merged['Percent (%) of Labor Force Unemployed in State/Area'], df_merged['n_killed_per_capita'])\n",
    "print(f\"Pearson Correlation Coefficient: {pearson_corr:.2f}\")\n",
    "\n",
    "# Create Dual Axis plot\n",
    "fig = go.Figure()\n",
    "\n",
    "# Add unemployment data to the plot\n",
    "fig.add_trace(\n",
    "    go.Bar(x=df_merged['State/Area'], y=df_merged['Percent (%) of Labor Force Unemployed in State/Area'], name='Unemployment Rate (%)', yaxis='y1', marker_color='blue', opacity=0.75)\n",
    ")\n",
    "\n",
    "# Add gun violence per capita data to the plot\n",
    "fig.add_trace(\n",
    "    go.Scatter(x=df_merged['State/Area'], y=df_merged['n_killed_per_capita'], name='Gun Violence per 100,000 People', yaxis='y2', mode='lines+markers', marker=dict(color='orange'))\n",
    ")\n",
    "\n",
    "# Create axis objects\n",
    "fig.update_layout(\n",
    "    title='Comparison of Unemployment Rate and Gun Violence per Capita per US State in 2018',\n",
    "    xaxis=dict(title='State'),\n",
    "    yaxis=dict(title='Unemployment Rate (%)', titlefont=dict(color='#1f77b4'), tickfont=dict(color='#1f77b4')),\n",
    "    yaxis2=dict(title='Gun Violence per 100,000 People', titlefont=dict(color='#ff7f0e'), tickfont=dict(color='#ff7f0e'), overlaying='y', side='right'),\n",
    "    legend=dict(x=0.1, y=0.9),\n",
    "    barmode='overlay'\n",
    ")\n",
    "\n",
    "fig.show()\n"
   ]
  },
  {
   "cell_type": "markdown",
   "metadata": {},
   "source": [
    "*Figure 7: Here we have combined a bar graph with a graph chart, the x-axis showing the states and the y-axis showing both the unemployment rate for the bar graph and the gun violence per 100,000 people for the line graph.*\n",
    "\n",
    "This graph illustrates the relation between the unemployment rate per state, displayed as a bar graph, on the one hand and the amount of gun violence per 100.000 people, displayed as a line graph, on the other hand. When comparing the two values, one can clearly see a correlation. This correlation cements our arguments that it's not merely the right to own and carry guns, but socio-economic factors like unemployment can drive people to commit gun violence. The Pearson correlation between these two graphs is 0.58, which is quite high and insinuates a strong correlation between the two datasets used in this graph."
   ]
  },
  {
   "cell_type": "code",
   "execution_count": null,
   "metadata": {},
   "outputs": [],
   "source": []
  }
 ],
 "metadata": {
  "colab": {
   "provenance": []
  },
  "kernelspec": {
   "display_name": "Python 3 (ipykernel)",
   "language": "python",
   "name": "python3"
  },
  "language_info": {
   "codemirror_mode": {
    "name": "ipython",
    "version": 3
   },
   "file_extension": ".py",
   "mimetype": "text/x-python",
   "name": "python",
   "nbconvert_exporter": "python",
   "pygments_lexer": "ipython3",
   "version": "3.10.14"
  }
 },
 "nbformat": 4,
 "nbformat_minor": 4
}
