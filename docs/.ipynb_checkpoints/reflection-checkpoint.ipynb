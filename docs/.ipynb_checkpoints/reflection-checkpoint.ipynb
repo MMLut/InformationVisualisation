{
 "cells": [
  {
   "cell_type": "markdown",
   "metadata": {
    "id": "_1dQlK16R0DZ"
   },
   "source": [
    "## Summary\n",
    "Gun violence is an issue that has been plaguing the United States for decades now, and during that time it has claimed many innocent lives. When comparing the United States with other developed countries with stricter gun laws, the United States has noticeably more homicides. To gain insight into why this is, we have created and substantiated two perspectives on the issue. In doing this we have found that there is a strong correlation between poverty and unemployment in the United States and the rate of gun violence occurring in these poorer states. On the other hand, we found that states with lighter gun restrictions tend to have higher rates of gun related deaths. School shootings are still a massive problem and with all the data we can still conclude that America is way too violent compared to Europe, where guns are illegal.\n",
    "\n",
    "## Reflection\n",
    "\n",
    "The feedback we received from our TA’s on our draft was that some of our graphs weren’t very readable. We were also told to disperse the graph descriptions throughout the entire notebook, instead of putting all the text at the top and all the graphs at the bottom. Our peers suggested we present the coefficients of the trendlines in our scatter plot graphs. These were the things we took into account when creating the final version. We didn’t get a lot of feedback, but the feedback we got was very useful in transforming the draft into the final version.\n",
    "\n",
    "## Work Distribution\n",
    "\n",
    "As a group of four we divided both the group and the subject into two duos so that every duo gets to work on their respective perspective. Aaron and Gurnoor took on the pro side, why the right to own guns is in itself not the main cause of gun violence. Shiraaz and Max took on the anti side, why this right is the biggest problem and cause of violence. We all brainstormed about the arguments and types of plots so that Aaron, with his experience, could make the majority of the visualizations, with Shiraaz and Max making more specific graphs for their arguments. Gurnoor was tasked to write the introduction. As a group we wote text for the datasets and preprocessing as well for the specific graphs we worked on.\n",
    "Max made sure to make the Github complete and to transfer the text and code properly into a notebook."
   ]
  },
  {
   "cell_type": "code",
   "execution_count": null,
   "metadata": {},
   "outputs": [],
   "source": []
  }
 ],
 "metadata": {
  "colab": {
   "provenance": []
  },
  "kernelspec": {
   "display_name": "Python 3 (ipykernel)",
   "language": "python",
   "name": "python3"
  },
  "language_info": {
   "codemirror_mode": {
    "name": "ipython",
    "version": 3
   },
   "file_extension": ".py",
   "mimetype": "text/x-python",
   "name": "python",
   "nbconvert_exporter": "python",
   "pygments_lexer": "ipython3",
   "version": "3.10.14"
  }
 },
 "nbformat": 4,
 "nbformat_minor": 4
}
