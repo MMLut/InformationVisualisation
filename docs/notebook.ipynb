{
 "cells": [
  {
   "cell_type": "code",
   "execution_count": null,
   "metadata": {},
   "outputs": [],
   "source": [
    "import pandas as pd\n",
    "import plotly.graph_objs as go\n",
    "import plotly.express as px\n",
    "from plotly.offline import init_notebook_mode\n",
    "\n",
    "df = pd.read_csv('Murder_rate.csv')\n",
    "\n",
    "df = df.filter(['Country Name', '2015', '2016', '2017'])\n",
    "\n",
    "countries_to_keep = [\"United States\", \"Netherlands\", \"France\", \"Spain\", \"Germany\"]\n",
    "df = df[df['Country Name'].isin(countries_to_keep)]\n",
    "\n",
    "print(df)\n",
    "\n",
    "# Create a figure\n",
    "fig = go.Figure()\n",
    "incomes = [df['2015'], df['2016'], df['2016']]\n",
    "titles = ['2015', '2016', '2017']\n",
    "colors = ['rgb(102,194,165)', 'rgb(252,141,98)', 'rgb(141,160,203)']\n",
    "\n",
    "for i in range(3):\n",
    "    fig.add_trace(go.Bar(x=df['Country Name'], \n",
    "                  y = incomes[i], \n",
    "                  name=f\"{titles[i]}\", \n",
    "                  marker_color=colors[i]))\n",
    "\n",
    "fig.update_layout(\n",
    "    title='Murders',\n",
    "    xaxis=dict(\n",
    "        title='Country',\n",
    "        type='category',\n",
    "        categoryorder='category ascending'\n",
    "    ),\n",
    "    yaxis=dict(\n",
    "        title='Murders per 100,000 people',\n",
    "    ),\n",
    "    barmode='group',\n",
    "    bargap=0.15,\n",
    "    bargroupgap=0.1,\n",
    "    height=400\n",
    ")\n",
    "\n",
    "# Show the figure\n",
    "fig.show()"
   ]
  },
  {
   "cell_type": "code",
   "execution_count": null,
   "metadata": {},
   "outputs": [],
   "source": []
  }
 ],
 "metadata": {
  "language_info": {
   "name": "python"
  }
 },
 "nbformat": 4,
 "nbformat_minor": 2
}
