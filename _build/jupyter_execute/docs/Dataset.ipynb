{
 "cells": [
  {
   "cell_type": "markdown",
   "metadata": {
    "id": "_1dQlK16R0DZ"
   },
   "source": [
    "# Dataset and Preprocessing\n",
    "\n",
    "## Pro Guns\n",
    "1) Gun-violence-data_01-2013_03-2018.csvz \\\n",
    "The first dataset will show detailed information about gun violence incidents in the U.S. between January 2013 and March 2018. It includes information like the exact location of the incident and the amount of people who were injured or killed. This dataset provides an opportunity to analyze the spread of gun related incidents across the United States. This dataset was acquired from kaggle.com in the form of a CSV file posted by user ‘James Ko’.\n",
    "\n",
    "2) Poverty.csv \\\n",
    "The second dataset provides poverty estimates for various regions within the United States. The data includes information on poverty rates, population, median household income, and other relevant socio-economic factors. The comprehensive overview of poverty levels across different states which this dataset provides can aid us in analyzing the correlation between poverty and gun violence. This dataset was also sourced from kaggle.com as a CSV file by kaggle user ‘Maryna Shut’.\n",
    "\n",
    "3) Unemployment in America Per US State.csv \\\n",
    "This dataset comes from Kaggle user ‘The Data Wrangler’ and contains a plethora of useful information about employment related statistics per state. Using this dataset, we were able to compare the amount of gun deaths and the unemployment of US states to find a correlation between the two variables.\n",
    "\n",
    "## Anti guns\n",
    "1) Murder_rate.csv \\\n",
    "The third dataset provides the amount of intentional homicides per 100,000 people in different countries, it is a simple dataset only providing the amount of intentional homicides per 100,000 people in a country in each year between 1960 and 2021, however there is a lot of missing data in the earlier years about the homicide rate in the earlier years. It comes from the website of the United Nations.\n",
    "\n",
    "2) School_shootings.csv \\\n",
    "The fourth dataset is about School shootings per state of America 2009 - 2018. This dataset was acquired from Kaggle published by ‘Chris X’. It provides data about the amount of college students from elementary, middle and high school that got killed, injured and victimized. The dataset for the chart will be based on those killed, injured and victimized per state.\n",
    "\n",
    "3) Raw_data.csv \\\n",
    "This dataset provides us with information about the strictness of the gun laws in each state in the United States, each of these laws is given a 1 or a 0, by the end, all of the laws are tallied up and the resulting number of laws represents the strictness of the gun laws in each states. This dataset was acquired from Kaggle user ‘Jacob Boysen’\n",
    "\n",
    "## Pro + Anti guns\n",
    "1) Nst-est2019-alldata.csv \\\n",
    "This dataset comes from the U.S. Census Bureau and contains information about the amount of people residing in each U.S. state per year. This allows us to take a variable from another dataset (e.g. amount of deaths by gun violence per state) and get the per capita value, by dividing this value by the amount of people in that state.\n",
    "Preprocessing: merged"
   ]
  }
 ],
 "metadata": {
  "colab": {
   "provenance": []
  },
  "kernelspec": {
   "display_name": "Python 3 (ipykernel)",
   "language": "python",
   "name": "python3"
  },
  "language_info": {
   "codemirror_mode": {
    "name": "ipython",
    "version": 3
   },
   "file_extension": ".py",
   "mimetype": "text/x-python",
   "name": "python",
   "nbconvert_exporter": "python",
   "pygments_lexer": "ipython3",
   "version": "3.10.14"
  }
 },
 "nbformat": 4,
 "nbformat_minor": 4
}