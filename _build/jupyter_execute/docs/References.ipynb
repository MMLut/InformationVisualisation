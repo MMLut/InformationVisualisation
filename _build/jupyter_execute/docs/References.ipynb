{
 "cells": [
  {
   "cell_type": "markdown",
   "id": "261aa73c-b0bd-4f96-88d7-c14c739215ce",
   "metadata": {},
   "source": [
    "# References\n",
    "*Gun violence data*. (2018, 15 april). Kaggle. \\\n",
    "&nbsp;        https://www.kaggle.com/datasets/jameslko/gun-violence-data \\\n",
    "Docxian. (2023, 7 maart). *School shootings*. Kaggle. \\\n",
    "&nbsp;        https://www.kaggle.com/code/docxian/school-shootings \\\n",
    "*Firearms provisions in US states*. (2017, 30 augustus). Kaggle. \\\n",
    "&nbsp;        https://www.kaggle.com/datasets/jboysen/state-firearms \\\n",
    "*Victims of intentional homicide*. (z.d.). United Nations Office On Drugs And Crime. \\\n",
    "&nbsp;        https://dataunodc.un.org/dp-intentional-homicide-victims \\\n",
    "US Census Bureau. (2021, 28 oktober). 2019 *National and State Population Estimates*. Census.gov. \\\n",
    "&nbsp;        https://www.census.gov/newsroom/press-kits/2019/national-state-estimates.html \\\n",
    "*Poverty estimates*. (2022, 22 december). Kaggle. \\\n",
    "&nbsp;        https://www.kaggle.com/datasets/marshuu/poverty-estimates \\\n",
    "*Unemployment in America, per US state*. (2023, 2 maart). Kaggle. \\\n",
    "&nbsp;        https://www.kaggle.com/datasets/justin2028/unemployment-in-america-per-us-state \\"
   ]
  },
  {
   "cell_type": "code",
   "execution_count": null,
   "id": "d9cf0cf8-12c2-4b62-9b31-c8c7ff334225",
   "metadata": {},
   "outputs": [],
   "source": []
  }
 ],
 "metadata": {
  "kernelspec": {
   "display_name": "Python 3 (ipykernel)",
   "language": "python",
   "name": "python3"
  },
  "language_info": {
   "codemirror_mode": {
    "name": "ipython",
    "version": 3
   },
   "file_extension": ".py",
   "mimetype": "text/x-python",
   "name": "python",
   "nbconvert_exporter": "python",
   "pygments_lexer": "ipython3",
   "version": "3.10.14"
  }
 },
 "nbformat": 4,
 "nbformat_minor": 5
}