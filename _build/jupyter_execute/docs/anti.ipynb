{
 "cells": [
  {
   "cell_type": "markdown",
   "metadata": {},
   "source": [
    "# Why Guns are the main problem in America\n",
    "\n",
    "To explain the perspective that guns should be banned in America, we have substantiated 3 arguments with 3 visualizations to go with them. While it may not be possible to completely abolish the Second Amendment in the entirety of the United States, the government should nationally enforce heavy restrictions on the Second Amendment.\n",
    "\n",
    "The first visualization as a line-dot chart supports our argument that having less restrictions and more freedom on rights to own and use a gun indeed leads to more gun violence in states where thus gun usage is more allowed. \n",
    "93 WOORDEN\n",
    "\n",
    "Figure 1: This chart shows the correlation between the gun law strictness and the gun death per 100,000 per people. Every dot on the chart represents a state. The trend line shows that the more of strictness on gun laws there is, which is the case for 6 states, the gun deaths relatively shows a decrease with respect to the gun deaths of states with none to a few restrictions\n",
    "\n",
    "The chart supports our argument, because it shows that citizens of the few states with heavy restrictions, respect those restrictions on the Second Amendment. Although the Second Amendment cannot be fully undone, restrictions will make citizens of the states live day to day more safe in comparison to the other states \n",
    "\n",
    "Second of all, America is known for mass school shootings. Kids and college students in multiple states live day to day with possible fear of dying. Students should not be vulnerable, because they are of importance contributing to society and are responsible for the future of America. Our second visualization will be represented as a stacked bar chart.\n",
    "Pearosn correltatn : -0.31\n",
    "\n",
    "\n",
    "Figure 2: This chart represents the number of elementary, middle and high school students of 41 states between 2009 and 218, who have been witnesses of a school shooting. It visualizes the number of students that got killed, injured and victimized. There is missing data for the 9 remaining states.\n",
    "\n",
    "The chart shows the states Florida and Texas sticking out with the amount of killed, injured and victims. It is known that within these states, gun laws are quite permissive. Although states such as California and Connecticut are quite high, regardless of the strict laws, students are still vulnerable. According to the Stanford Institute for Economic Policy Research, students exposed to shootings are less likely to graduate high school, go to college, and graduate college, and they are less likely to be employed and have lower earnings in their mid-20’s. It also leads to a higher rate of antidepressant and an increase in absenteeism in the years following the gun violence.\n",
    "161 WOORDEN\n",
    "\n",
    "The homicide rate in the USA is, thanks to the right to bear arms, a lot higher than similar countries with stricter gun laws, such as the Netherlands, Germany, France, and Spain. The visualization is a bar chart where the countries’ murder rate is visualized.\n",
    "\n",
    "45 WOORDEN\n",
    "\n",
    "\n",
    "Figure 3: This bar graph compares the average murders by firearms per 100.000 people between Europe, North America and the United States in 3 years between 2019 and 2021. \n",
    "\n",
    "This graph shows that the United States has significantly more gun deaths than even when compared to the whole of North America and Europe.\n"
   ]
  },
  {
   "cell_type": "code",
   "execution_count": null,
   "metadata": {},
   "outputs": [],
   "source": []
  }
 ],
 "metadata": {
  "colab": {
   "provenance": []
  },
  "kernelspec": {
   "display_name": "Python 3 (ipykernel)",
   "language": "python",
   "name": "python3"
  },
  "language_info": {
   "codemirror_mode": {
    "name": "ipython",
    "version": 3
   },
   "file_extension": ".py",
   "mimetype": "text/x-python",
   "name": "python",
   "nbconvert_exporter": "python",
   "pygments_lexer": "ipython3",
   "version": "3.10.14"
  }
 },
 "nbformat": 4,
 "nbformat_minor": 4
}