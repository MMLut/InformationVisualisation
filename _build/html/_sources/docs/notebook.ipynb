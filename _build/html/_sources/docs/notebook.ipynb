{
 "cells": [
  {
   "cell_type": "markdown",
   "metadata": {
    "id": "_1dQlK16R0DZ"
   },
   "source": [
    "# Introduction\n",
    "Gun violence is a critical issue in the United States, frequently making headlines through instances of gang violence, home invasions, and school shootings. The debate often centers on whether the Second Amendment's right to bear arms is the primary cause, or if socio-economic factors like poverty and unemployment play a more significant role. This data story aims to explore these perspectives in detail, using extensive datasets to uncover patterns and correlations that highlight the complex nature of gun violence.\n",
    "\n",
    "Our data story substantiates two main perspectives. One argues that the Second Amendment, which guarantees the right to keep and bear arms, is the underlying cause of the high rate of gun-related crimes. To address this, proponents suggest enforcing much stricter gun laws or abolishing the right to own guns entirely. A significant part of this argument focuses on school shootings, a tragic manifestation of violence in educational settings. These incidents cause immense pain and suffering to victims, their families, and communities, disrupting the educational environment. By analyzing the frequency and impact of school shootings, and comparing gun violence in the U.S. to Europe, where stricter gun laws prevail, we would argue that the Second Amendment makes Americans live less safe lives.\n",
    "\n",
    "The other perspective contends that removing guns won’t resolve the issue of violence, as desperate individuals may find other means to perpetrate violence. Thus, the focus should be on addressing socio-economic factors like poverty and education.\n",
    "\n",
    "We will utilize a dataset of nearly 240,000 recorded gun violence incidents from January 2013 to March 2018, providing detailed information on each event. Analyzing this dataset, we aim to identify geographic patterns of gun violence across the United States, examining factors such as the severity and frequency of incidents in relation to state-level gun laws. Additionally, we will explore socio-economic datasets to investigate the relationship between poverty rates, unemployment, and the incidence of gun violence per state, seeking to understand whether economic hardship correlates with higher levels of gun-related crimes.\n",
    "\n",
    "To visualize the results, we will include choropleth maps highlighting states with varying levels of gun violence and poverty. We will also use scatter plots to illustrate the correlation between these variables. These visual tools aim to present a clear picture of the landscape of gun violence in the U.S., providing insights into the potential causes and contributing factors behind this pressing issue.\n",
    "\n",
    "By the end of this data story, we hope to offer a nuanced understanding of gun violence in America. Our analysis will highlight the complex relationship between constitutional rights and socio-economic conditions, providing a foundation for informed discussions."
   ]
  }
 ],
 "metadata": {
  "colab": {
   "provenance": []
  },
  "kernelspec": {
   "display_name": "Python 3 (ipykernel)",
   "language": "python",
   "name": "python3"
  },
  "language_info": {
   "codemirror_mode": {
    "name": "ipython",
    "version": 3
   },
   "file_extension": ".py",
   "mimetype": "text/x-python",
   "name": "python",
   "nbconvert_exporter": "python",
   "pygments_lexer": "ipython3",
   "version": "3.10.14"
  }
 },
 "nbformat": 4,
 "nbformat_minor": 4
}
